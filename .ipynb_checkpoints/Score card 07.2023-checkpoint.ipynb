{
 "cells": [
  {
   "cell_type": "markdown",
   "id": "7a315581",
   "metadata": {},
   "source": [
    "# Цель"
   ]
  },
  {
   "cell_type": "markdown",
   "id": "cdbfdf36",
   "metadata": {},
   "source": [
    "<div class=\"alert alert-block alert-warning\">\n",
    "Разработать модель, предсказывающую таргет.  \n",
    "    \n",
    "Описание полей:  \n",
    "PARTNER – наименование партнера (банка, мфо)  \n",
    "APPID – идентификатор заявки  \n",
    "APPDATE – дата заявки  \n",
    "DOCSERNUM – номер паспорта   \n",
    "MOBILEPHONE – номер мобильного   \n",
    "EMAIL – электронный адрес  \n",
    "LIM – сумма кредита  \n",
    "PRODUCTTYPE – тип кредита  \n",
    "CHANNEL – канал поступления заявки  \n",
    "MODEL – наименование товара  \n",
    "TARGET – факт выхода в просрочку  \n",
    "<div>"
   ]
  },
  {
   "cell_type": "code",
   "execution_count": 1,
   "id": "544ec6fa",
   "metadata": {
    "ExecuteTime": {
     "end_time": "2023-07-30T18:34:42.852606Z",
     "start_time": "2023-07-30T18:34:41.932718Z"
    }
   },
   "outputs": [],
   "source": [
    "# Импорты библиотек\n",
    "import pandas as pd\n",
    "import matplotlib.pyplot as plt\n",
    "import numpy as np\n",
    "from sklearn.model_selection import train_test_split\n",
    "from sklearn.linear_model import LogisticRegression\n",
    "from sklearn.metrics import (classification_report, roc_auc_score, roc_curve, confusion_matrix)\n",
    "import seaborn as sns\n",
    "from sklearn import metrics"
   ]
  },
  {
   "cell_type": "code",
   "execution_count": 104,
   "id": "ca40fa3a",
   "metadata": {
    "ExecuteTime": {
     "end_time": "2023-07-30T18:52:29.060595Z",
     "start_time": "2023-07-30T18:52:29.043640Z"
    }
   },
   "outputs": [
    {
     "data": {
      "text/html": [
       "<style>.container { width:85% !important; }</style>"
      ],
      "text/plain": [
       "<IPython.core.display.HTML object>"
      ]
     },
     "metadata": {},
     "output_type": "display_data"
    }
   ],
   "source": [
    "pd.set_option('display.float_format',  '{:.3f}'.format)\n",
    "pd.set_option('max_columns', None)\n",
    "pd.set_option('max_rows', 100)\n",
    "pd.set_option('max_colwidth', None)\n",
    "\n",
    "from IPython.display import display, HTML\n",
    "display(HTML(\"<style>.container { width:85% !important; }</style>\"))"
   ]
  },
  {
   "cell_type": "code",
   "execution_count": 68,
   "id": "0cc0586d",
   "metadata": {
    "ExecuteTime": {
     "end_time": "2023-07-30T18:43:27.232282Z",
     "start_time": "2023-07-30T18:43:27.220271Z"
    }
   },
   "outputs": [],
   "source": [
    "# Функции для графиков\n",
    "\n",
    "def plt_dist(value_to_plot):\n",
    "    plt.hist(data[value_to_plot])\n",
    "    plt.title(value_to_plot)\n",
    "    plt.ylabel('Frequency')\n",
    "    plt.show()"
   ]
  },
  {
   "cell_type": "code",
   "execution_count": 69,
   "id": "7eaed566",
   "metadata": {
    "ExecuteTime": {
     "end_time": "2023-07-30T18:43:27.435204Z",
     "start_time": "2023-07-30T18:43:27.430217Z"
    }
   },
   "outputs": [],
   "source": [
    "sns.set(rc={'figure.figsize':(9.36,6.62)})\n",
    "sns.set(style='darkgrid')\n",
    "\n",
    "def sns_dist(value_to_plot):\n",
    "    sns.countplot(y = value_to_plot,\n",
    "                  data = data_df,\n",
    "                  palette = 'hls',\n",
    "                  order = data_df[value_to_plot].value_counts().index\n",
    "                 ).set(title=value_to_plot)\n",
    "    plt.show()\n",
    "    \n",
    "    "
   ]
  },
  {
   "cell_type": "markdown",
   "id": "26d9158b",
   "metadata": {},
   "source": [
    "# Загружаем данные"
   ]
  },
  {
   "cell_type": "code",
   "execution_count": 70,
   "id": "ef0e435c",
   "metadata": {
    "ExecuteTime": {
     "end_time": "2023-07-30T18:43:29.701766Z",
     "start_time": "2023-07-30T18:43:28.364624Z"
    }
   },
   "outputs": [],
   "source": [
    "data_df = pd.read_csv('sample_BKI.csv', sep = ';')"
   ]
  },
  {
   "cell_type": "code",
   "execution_count": 71,
   "id": "2775e13f",
   "metadata": {
    "ExecuteTime": {
     "end_time": "2023-07-30T18:43:29.871436Z",
     "start_time": "2023-07-30T18:43:29.734628Z"
    }
   },
   "outputs": [
    {
     "name": "stdout",
     "output_type": "stream",
     "text": [
      "<class 'pandas.core.frame.DataFrame'>\n",
      "RangeIndex: 567391 entries, 0 to 567390\n",
      "Data columns (total 11 columns):\n",
      " #   Column       Non-Null Count   Dtype \n",
      "---  ------       --------------   ----- \n",
      " 0   PARTNER      567391 non-null  object\n",
      " 1   APPID        567391 non-null  object\n",
      " 2   APPDATE      567391 non-null  object\n",
      " 3   DOCSERNUM    567391 non-null  object\n",
      " 4   MOBILEPHONE  567391 non-null  object\n",
      " 5   EMAIL        567391 non-null  object\n",
      " 6   LIM          567391 non-null  object\n",
      " 7   PRODUCTTYPE  567391 non-null  object\n",
      " 8   CHANNEL      567391 non-null  object\n",
      " 9   MODEL        422661 non-null  object\n",
      " 10  TARGET       567391 non-null  int64 \n",
      "dtypes: int64(1), object(10)\n",
      "memory usage: 47.6+ MB\n"
     ]
    }
   ],
   "source": [
    "# размерность исходной выборки\n",
    "data_df.info()"
   ]
  },
  {
   "cell_type": "code",
   "execution_count": 72,
   "id": "e9f5eaa9",
   "metadata": {
    "ExecuteTime": {
     "end_time": "2023-07-30T18:43:29.918258Z",
     "start_time": "2023-07-30T18:43:29.903299Z"
    }
   },
   "outputs": [
    {
     "data": {
      "text/plain": [
       "(567391, 11)"
      ]
     },
     "execution_count": 72,
     "metadata": {},
     "output_type": "execute_result"
    }
   ],
   "source": [
    "# размерность исходной выборки\n",
    "data_df.shape"
   ]
  },
  {
   "cell_type": "code",
   "execution_count": 73,
   "id": "1b2789cf",
   "metadata": {
    "ExecuteTime": {
     "end_time": "2023-07-30T18:43:29.966266Z",
     "start_time": "2023-07-30T18:43:29.951302Z"
    }
   },
   "outputs": [
    {
     "data": {
      "text/plain": [
       "PARTNER        object\n",
       "APPID          object\n",
       "APPDATE        object\n",
       "DOCSERNUM      object\n",
       "MOBILEPHONE    object\n",
       "EMAIL          object\n",
       "LIM            object\n",
       "PRODUCTTYPE    object\n",
       "CHANNEL        object\n",
       "MODEL          object\n",
       "TARGET          int64\n",
       "dtype: object"
      ]
     },
     "execution_count": 73,
     "metadata": {},
     "output_type": "execute_result"
    }
   ],
   "source": [
    "data_df.dtypes"
   ]
  },
  {
   "cell_type": "code",
   "execution_count": 74,
   "id": "f4bbdb9d",
   "metadata": {
    "ExecuteTime": {
     "end_time": "2023-07-30T18:43:30.013191Z",
     "start_time": "2023-07-30T18:43:29.998232Z"
    }
   },
   "outputs": [
    {
     "data": {
      "text/html": [
       "<div>\n",
       "<style scoped>\n",
       "    .dataframe tbody tr th:only-of-type {\n",
       "        vertical-align: middle;\n",
       "    }\n",
       "\n",
       "    .dataframe tbody tr th {\n",
       "        vertical-align: top;\n",
       "    }\n",
       "\n",
       "    .dataframe thead th {\n",
       "        text-align: right;\n",
       "    }\n",
       "</style>\n",
       "<table border=\"1\" class=\"dataframe\">\n",
       "  <thead>\n",
       "    <tr style=\"text-align: right;\">\n",
       "      <th></th>\n",
       "      <th>PARTNER</th>\n",
       "      <th>APPID</th>\n",
       "      <th>APPDATE</th>\n",
       "      <th>DOCSERNUM</th>\n",
       "      <th>MOBILEPHONE</th>\n",
       "      <th>EMAIL</th>\n",
       "      <th>LIM</th>\n",
       "      <th>PRODUCTTYPE</th>\n",
       "      <th>CHANNEL</th>\n",
       "      <th>MODEL</th>\n",
       "      <th>TARGET</th>\n",
       "    </tr>\n",
       "  </thead>\n",
       "  <tbody>\n",
       "    <tr>\n",
       "      <th>0</th>\n",
       "      <td>PARTNER28</td>\n",
       "      <td>APPLICATID1015331</td>\n",
       "      <td>07.06.2021 11:30:14</td>\n",
       "      <td>DOCSERNUM1</td>\n",
       "      <td>MOBILEPHONE43681</td>\n",
       "      <td>EMAIL158187</td>\n",
       "      <td>0</td>\n",
       "      <td>Другой тип кредита</td>\n",
       "      <td>Значение не передается</td>\n",
       "      <td>0</td>\n",
       "      <td>0</td>\n",
       "    </tr>\n",
       "    <tr>\n",
       "      <th>1</th>\n",
       "      <td>PARTNER6</td>\n",
       "      <td>APPLICATID503939</td>\n",
       "      <td>29.07.2021 17:46:03</td>\n",
       "      <td>DOCSERNUM2</td>\n",
       "      <td>MOBILEPHONE407081</td>\n",
       "      <td>EMAIL143461</td>\n",
       "      <td>0</td>\n",
       "      <td>Другой тип кредита</td>\n",
       "      <td>Точка продаж</td>\n",
       "      <td>EMPTY</td>\n",
       "      <td>0</td>\n",
       "    </tr>\n",
       "    <tr>\n",
       "      <th>2</th>\n",
       "      <td>PARTNER6</td>\n",
       "      <td>APPLICATID503936</td>\n",
       "      <td>29.07.2021 17:45:43</td>\n",
       "      <td>DOCSERNUM2</td>\n",
       "      <td>MOBILEPHONE407081</td>\n",
       "      <td>EMAIL143461</td>\n",
       "      <td>32374,1</td>\n",
       "      <td>POS кредит (потребительский кредит, кредит на товар)</td>\n",
       "      <td>Точка продаж</td>\n",
       "      <td>15.6\" Ноутбук HP Laptop 15-gw0040ur (FHD/IPS) Athlon 3150u/4096/SSD 256/AMD R620 2Gb/Win10/Gray HP</td>\n",
       "      <td>0</td>\n",
       "    </tr>\n",
       "  </tbody>\n",
       "</table>\n",
       "</div>"
      ],
      "text/plain": [
       "     PARTNER              APPID              APPDATE   DOCSERNUM  \\\n",
       "0  PARTNER28  APPLICATID1015331  07.06.2021 11:30:14  DOCSERNUM1   \n",
       "1   PARTNER6   APPLICATID503939  29.07.2021 17:46:03  DOCSERNUM2   \n",
       "2   PARTNER6   APPLICATID503936  29.07.2021 17:45:43  DOCSERNUM2   \n",
       "\n",
       "         MOBILEPHONE        EMAIL      LIM  \\\n",
       "0   MOBILEPHONE43681  EMAIL158187        0   \n",
       "1  MOBILEPHONE407081  EMAIL143461        0   \n",
       "2  MOBILEPHONE407081  EMAIL143461  32374,1   \n",
       "\n",
       "                                            PRODUCTTYPE  \\\n",
       "0                                    Другой тип кредита   \n",
       "1                                    Другой тип кредита   \n",
       "2  POS кредит (потребительский кредит, кредит на товар)   \n",
       "\n",
       "                  CHANNEL  \\\n",
       "0  Значение не передается   \n",
       "1            Точка продаж   \n",
       "2            Точка продаж   \n",
       "\n",
       "                                                                                                MODEL  \\\n",
       "0                                                                                                   0   \n",
       "1                                                                                               EMPTY   \n",
       "2  15.6\" Ноутбук HP Laptop 15-gw0040ur (FHD/IPS) Athlon 3150u/4096/SSD 256/AMD R620 2Gb/Win10/Gray HP   \n",
       "\n",
       "   TARGET  \n",
       "0       0  \n",
       "1       0  \n",
       "2       0  "
      ]
     },
     "execution_count": 74,
     "metadata": {},
     "output_type": "execute_result"
    }
   ],
   "source": [
    "data_df.head(3)"
   ]
  },
  {
   "cell_type": "markdown",
   "id": "735344c9",
   "metadata": {},
   "source": [
    "## Меняем типы данных"
   ]
  },
  {
   "cell_type": "code",
   "execution_count": 75,
   "id": "eed32d12",
   "metadata": {
    "ExecuteTime": {
     "end_time": "2023-07-30T18:43:30.870678Z",
     "start_time": "2023-07-30T18:43:30.834773Z"
    }
   },
   "outputs": [
    {
     "data": {
      "text/html": [
       "<div>\n",
       "<style scoped>\n",
       "    .dataframe tbody tr th:only-of-type {\n",
       "        vertical-align: middle;\n",
       "    }\n",
       "\n",
       "    .dataframe tbody tr th {\n",
       "        vertical-align: top;\n",
       "    }\n",
       "\n",
       "    .dataframe thead th {\n",
       "        text-align: right;\n",
       "    }\n",
       "</style>\n",
       "<table border=\"1\" class=\"dataframe\">\n",
       "  <thead>\n",
       "    <tr style=\"text-align: right;\">\n",
       "      <th></th>\n",
       "      <th>PARTNER</th>\n",
       "      <th>APPID</th>\n",
       "      <th>APPDATE</th>\n",
       "      <th>DOCSERNUM</th>\n",
       "      <th>MOBILEPHONE</th>\n",
       "      <th>EMAIL</th>\n",
       "      <th>LIM</th>\n",
       "      <th>PRODUCTTYPE</th>\n",
       "      <th>CHANNEL</th>\n",
       "      <th>MODEL</th>\n",
       "      <th>TARGET</th>\n",
       "    </tr>\n",
       "  </thead>\n",
       "  <tbody>\n",
       "    <tr>\n",
       "      <th>233</th>\n",
       "      <td>PARTNER43</td>\n",
       "      <td>APPLICATID235026</td>\n",
       "      <td>24.12.2021</td>\n",
       "      <td>DOCSERNUM100</td>\n",
       "      <td>MOBILEPHONE375880</td>\n",
       "      <td>EMAIL143461</td>\n",
       "      <td>1705000</td>\n",
       "      <td>Кредит на автомобиль</td>\n",
       "      <td>Брокер (оффлайн)</td>\n",
       "      <td>Toyota RAV4</td>\n",
       "      <td>0</td>\n",
       "    </tr>\n",
       "  </tbody>\n",
       "</table>\n",
       "</div>"
      ],
      "text/plain": [
       "       PARTNER             APPID     APPDATE     DOCSERNUM        MOBILEPHONE  \\\n",
       "233  PARTNER43  APPLICATID235026  24.12.2021  DOCSERNUM100  MOBILEPHONE375880   \n",
       "\n",
       "           EMAIL      LIM           PRODUCTTYPE           CHANNEL  \\\n",
       "233  EMAIL143461  1705000  Кредит на автомобиль  Брокер (оффлайн)   \n",
       "\n",
       "           MODEL  TARGET  \n",
       "233  Toyota RAV4       0  "
      ]
     },
     "execution_count": 75,
     "metadata": {},
     "output_type": "execute_result"
    }
   ],
   "source": [
    "# data_df['DateTime'] = pd.to_datetime(data_df['APPDATE'], format='%d.%m.%Y %H:%M:%S')\n",
    "data_df[data_df['APPID']  == 'APPLICATID235026']"
   ]
  },
  {
   "cell_type": "markdown",
   "id": "454ee9b3",
   "metadata": {
    "ExecuteTime": {
     "end_time": "2023-07-30T17:49:38.869145Z",
     "start_time": "2023-07-30T17:49:38.856180Z"
    }
   },
   "source": [
    "<div class=\"alert alert-block alert-danger\">\n",
    "В исходном файле в поле APPDATE содержатся разные типы данных: DATE и DATETIME  \n",
    "    \n",
    "Например, APPLICATID235026 - DATE  \n",
    "APPLICATID636881 - DATETIME  \n",
    "</div>"
   ]
  },
  {
   "cell_type": "code",
   "execution_count": 76,
   "id": "792f6b37",
   "metadata": {
    "ExecuteTime": {
     "end_time": "2023-07-30T18:43:32.559939Z",
     "start_time": "2023-07-30T18:43:31.962757Z"
    }
   },
   "outputs": [
    {
     "name": "stdout",
     "output_type": "stream",
     "text": [
      "Wall time: 581 ms\n"
     ]
    }
   ],
   "source": [
    "%%time\n",
    "data_df['APPDT'] = data_df['APPDATE'].str.split(' ').str[0]"
   ]
  },
  {
   "cell_type": "code",
   "execution_count": 77,
   "id": "d5a24909",
   "metadata": {
    "ExecuteTime": {
     "end_time": "2023-07-30T18:43:32.729481Z",
     "start_time": "2023-07-30T18:43:32.591352Z"
    }
   },
   "outputs": [],
   "source": [
    "data_df['APPDT'] = pd.to_datetime(data_df['APPDT'], format='%d.%m.%Y')\n",
    "data_df['APPMONTH'] = data_df['APPDT'].to_numpy().astype('datetime64[M]')"
   ]
  },
  {
   "cell_type": "code",
   "execution_count": 78,
   "id": "817f5bf4",
   "metadata": {
    "ExecuteTime": {
     "end_time": "2023-07-30T18:43:32.790051Z",
     "start_time": "2023-07-30T18:43:32.761129Z"
    }
   },
   "outputs": [
    {
     "data": {
      "text/html": [
       "<div>\n",
       "<style scoped>\n",
       "    .dataframe tbody tr th:only-of-type {\n",
       "        vertical-align: middle;\n",
       "    }\n",
       "\n",
       "    .dataframe tbody tr th {\n",
       "        vertical-align: top;\n",
       "    }\n",
       "\n",
       "    .dataframe thead th {\n",
       "        text-align: right;\n",
       "    }\n",
       "</style>\n",
       "<table border=\"1\" class=\"dataframe\">\n",
       "  <thead>\n",
       "    <tr style=\"text-align: right;\">\n",
       "      <th></th>\n",
       "      <th>APPDATE</th>\n",
       "      <th>APPDT</th>\n",
       "      <th>APPMONTH</th>\n",
       "    </tr>\n",
       "  </thead>\n",
       "  <tbody>\n",
       "    <tr>\n",
       "      <th>0</th>\n",
       "      <td>07.06.2021 11:30:14</td>\n",
       "      <td>2021-06-07</td>\n",
       "      <td>2021-06-01</td>\n",
       "    </tr>\n",
       "    <tr>\n",
       "      <th>1</th>\n",
       "      <td>29.07.2021 17:46:03</td>\n",
       "      <td>2021-07-29</td>\n",
       "      <td>2021-07-01</td>\n",
       "    </tr>\n",
       "    <tr>\n",
       "      <th>2</th>\n",
       "      <td>29.07.2021 17:45:43</td>\n",
       "      <td>2021-07-29</td>\n",
       "      <td>2021-07-01</td>\n",
       "    </tr>\n",
       "  </tbody>\n",
       "</table>\n",
       "</div>"
      ],
      "text/plain": [
       "               APPDATE      APPDT   APPMONTH\n",
       "0  07.06.2021 11:30:14 2021-06-07 2021-06-01\n",
       "1  29.07.2021 17:46:03 2021-07-29 2021-07-01\n",
       "2  29.07.2021 17:45:43 2021-07-29 2021-07-01"
      ]
     },
     "execution_count": 78,
     "metadata": {},
     "output_type": "execute_result"
    }
   ],
   "source": [
    "data_df[['APPDATE', 'APPDT', 'APPMONTH']].head(3)"
   ]
  },
  {
   "cell_type": "code",
   "execution_count": 79,
   "id": "b016b120",
   "metadata": {
    "ExecuteTime": {
     "end_time": "2023-07-30T18:43:32.994503Z",
     "start_time": "2023-07-30T18:43:32.820969Z"
    }
   },
   "outputs": [],
   "source": [
    "# преобразуем лимит в число\n",
    "data_df['LIMIT'] = data_df['LIM'].str.replace(',', '.')\n",
    "data_df['LIMIT'] = data_df['LIMIT'].astype('float')"
   ]
  },
  {
   "cell_type": "code",
   "execution_count": 105,
   "id": "19948822",
   "metadata": {
    "ExecuteTime": {
     "end_time": "2023-07-30T18:52:38.247800Z",
     "start_time": "2023-07-30T18:52:38.233836Z"
    }
   },
   "outputs": [
    {
     "data": {
      "text/html": [
       "<div>\n",
       "<style scoped>\n",
       "    .dataframe tbody tr th:only-of-type {\n",
       "        vertical-align: middle;\n",
       "    }\n",
       "\n",
       "    .dataframe tbody tr th {\n",
       "        vertical-align: top;\n",
       "    }\n",
       "\n",
       "    .dataframe thead th {\n",
       "        text-align: right;\n",
       "    }\n",
       "</style>\n",
       "<table border=\"1\" class=\"dataframe\">\n",
       "  <thead>\n",
       "    <tr style=\"text-align: right;\">\n",
       "      <th></th>\n",
       "      <th>LIM</th>\n",
       "      <th>LIMIT</th>\n",
       "    </tr>\n",
       "  </thead>\n",
       "  <tbody>\n",
       "    <tr>\n",
       "      <th>0</th>\n",
       "      <td>0</td>\n",
       "      <td>0.000</td>\n",
       "    </tr>\n",
       "    <tr>\n",
       "      <th>1</th>\n",
       "      <td>0</td>\n",
       "      <td>0.000</td>\n",
       "    </tr>\n",
       "    <tr>\n",
       "      <th>2</th>\n",
       "      <td>32374,1</td>\n",
       "      <td>32374.100</td>\n",
       "    </tr>\n",
       "    <tr>\n",
       "      <th>3</th>\n",
       "      <td>30524,1</td>\n",
       "      <td>30524.100</td>\n",
       "    </tr>\n",
       "    <tr>\n",
       "      <th>4</th>\n",
       "      <td>0</td>\n",
       "      <td>0.000</td>\n",
       "    </tr>\n",
       "    <tr>\n",
       "      <th>5</th>\n",
       "      <td>588529</td>\n",
       "      <td>588529.000</td>\n",
       "    </tr>\n",
       "    <tr>\n",
       "      <th>6</th>\n",
       "      <td>80000</td>\n",
       "      <td>80000.000</td>\n",
       "    </tr>\n",
       "  </tbody>\n",
       "</table>\n",
       "</div>"
      ],
      "text/plain": [
       "       LIM      LIMIT\n",
       "0        0      0.000\n",
       "1        0      0.000\n",
       "2  32374,1  32374.100\n",
       "3  30524,1  30524.100\n",
       "4        0      0.000\n",
       "5   588529 588529.000\n",
       "6    80000  80000.000"
      ]
     },
     "execution_count": 105,
     "metadata": {},
     "output_type": "execute_result"
    }
   ],
   "source": [
    "data_df[['LIM', 'LIMIT']].head(7)"
   ]
  },
  {
   "cell_type": "code",
   "execution_count": 191,
   "id": "2d08228d",
   "metadata": {
    "ExecuteTime": {
     "end_time": "2023-07-30T19:19:07.849386Z",
     "start_time": "2023-07-30T19:19:07.801201Z"
    }
   },
   "outputs": [],
   "source": [
    "# Удаляем лишние колонки\n",
    "\n",
    "data_df = data_df.drop(columns=['APPDATE', 'LIM'])"
   ]
  },
  {
   "cell_type": "code",
   "execution_count": 192,
   "id": "877b75c8",
   "metadata": {
    "ExecuteTime": {
     "end_time": "2023-07-30T19:19:13.528201Z",
     "start_time": "2023-07-30T19:19:13.510249Z"
    }
   },
   "outputs": [
    {
     "data": {
      "text/plain": [
       "PARTNER                object\n",
       "APPID                  object\n",
       "DOCSERNUM              object\n",
       "MOBILEPHONE            object\n",
       "EMAIL                  object\n",
       "PRODUCTTYPE            object\n",
       "CHANNEL                object\n",
       "MODEL                  object\n",
       "TARGET                  int64\n",
       "APPDT          datetime64[ns]\n",
       "APPMONTH       datetime64[ns]\n",
       "LIMIT                 float64\n",
       "dtype: object"
      ]
     },
     "execution_count": 192,
     "metadata": {},
     "output_type": "execute_result"
    }
   ],
   "source": [
    "data_df.dtypes"
   ]
  },
  {
   "cell_type": "markdown",
   "id": "fc6445aa",
   "metadata": {},
   "source": [
    "# Описательные статистики"
   ]
  },
  {
   "cell_type": "code",
   "execution_count": 193,
   "id": "18766c39",
   "metadata": {
    "ExecuteTime": {
     "end_time": "2023-07-30T19:19:17.048224Z",
     "start_time": "2023-07-30T19:19:17.012320Z"
    }
   },
   "outputs": [
    {
     "data": {
      "text/html": [
       "<div>\n",
       "<style scoped>\n",
       "    .dataframe tbody tr th:only-of-type {\n",
       "        vertical-align: middle;\n",
       "    }\n",
       "\n",
       "    .dataframe tbody tr th {\n",
       "        vertical-align: top;\n",
       "    }\n",
       "\n",
       "    .dataframe thead th {\n",
       "        text-align: right;\n",
       "    }\n",
       "</style>\n",
       "<table border=\"1\" class=\"dataframe\">\n",
       "  <thead>\n",
       "    <tr style=\"text-align: right;\">\n",
       "      <th></th>\n",
       "      <th>count</th>\n",
       "      <th>mean</th>\n",
       "      <th>std</th>\n",
       "      <th>min</th>\n",
       "      <th>1%</th>\n",
       "      <th>25%</th>\n",
       "      <th>50%</th>\n",
       "      <th>75%</th>\n",
       "      <th>99%</th>\n",
       "      <th>99.5%</th>\n",
       "      <th>99.9%</th>\n",
       "      <th>max</th>\n",
       "    </tr>\n",
       "  </thead>\n",
       "  <tbody>\n",
       "    <tr>\n",
       "      <th>TARGET</th>\n",
       "      <td>567391.000</td>\n",
       "      <td>0.022</td>\n",
       "      <td>0.145</td>\n",
       "      <td>0.000</td>\n",
       "      <td>0.000</td>\n",
       "      <td>0.000</td>\n",
       "      <td>0.000</td>\n",
       "      <td>0.000</td>\n",
       "      <td>1.000</td>\n",
       "      <td>1.000</td>\n",
       "      <td>1.000</td>\n",
       "      <td>1.000</td>\n",
       "    </tr>\n",
       "    <tr>\n",
       "      <th>LIMIT</th>\n",
       "      <td>567391.000</td>\n",
       "      <td>176886.041</td>\n",
       "      <td>590220.395</td>\n",
       "      <td>0.000</td>\n",
       "      <td>0.000</td>\n",
       "      <td>12281.500</td>\n",
       "      <td>40248.000</td>\n",
       "      <td>99000.000</td>\n",
       "      <td>2311203.100</td>\n",
       "      <td>3000000.000</td>\n",
       "      <td>5507270.000</td>\n",
       "      <td>100000000.000</td>\n",
       "    </tr>\n",
       "  </tbody>\n",
       "</table>\n",
       "</div>"
      ],
      "text/plain": [
       "            count       mean        std   min    1%       25%       50%  \\\n",
       "TARGET 567391.000      0.022      0.145 0.000 0.000     0.000     0.000   \n",
       "LIMIT  567391.000 176886.041 590220.395 0.000 0.000 12281.500 40248.000   \n",
       "\n",
       "             75%         99%       99.5%       99.9%           max  \n",
       "TARGET     0.000       1.000       1.000       1.000         1.000  \n",
       "LIMIT  99000.000 2311203.100 3000000.000 5507270.000 100000000.000  "
      ]
     },
     "execution_count": 193,
     "metadata": {},
     "output_type": "execute_result"
    }
   ],
   "source": [
    "data_df.describe(percentiles = [0.01, 0.25, 0.5, 0.75, 0.99, 0.995, 0.999]).T"
   ]
  },
  {
   "cell_type": "code",
   "execution_count": 194,
   "id": "b3e31a08",
   "metadata": {
    "ExecuteTime": {
     "end_time": "2023-07-30T19:19:18.357781Z",
     "start_time": "2023-07-30T19:19:17.676634Z"
    }
   },
   "outputs": [
    {
     "data": {
      "text/html": [
       "<div>\n",
       "<style scoped>\n",
       "    .dataframe tbody tr th:only-of-type {\n",
       "        vertical-align: middle;\n",
       "    }\n",
       "\n",
       "    .dataframe tbody tr th {\n",
       "        vertical-align: top;\n",
       "    }\n",
       "\n",
       "    .dataframe thead th {\n",
       "        text-align: right;\n",
       "    }\n",
       "</style>\n",
       "<table border=\"1\" class=\"dataframe\">\n",
       "  <thead>\n",
       "    <tr style=\"text-align: right;\">\n",
       "      <th></th>\n",
       "      <th>PARTNER</th>\n",
       "      <th>APPID</th>\n",
       "      <th>DOCSERNUM</th>\n",
       "      <th>MOBILEPHONE</th>\n",
       "      <th>EMAIL</th>\n",
       "      <th>PRODUCTTYPE</th>\n",
       "      <th>CHANNEL</th>\n",
       "      <th>MODEL</th>\n",
       "    </tr>\n",
       "  </thead>\n",
       "  <tbody>\n",
       "    <tr>\n",
       "      <th>count</th>\n",
       "      <td>567391</td>\n",
       "      <td>567391</td>\n",
       "      <td>567391</td>\n",
       "      <td>567391</td>\n",
       "      <td>567391</td>\n",
       "      <td>567391</td>\n",
       "      <td>567391</td>\n",
       "      <td>422661</td>\n",
       "    </tr>\n",
       "    <tr>\n",
       "      <th>unique</th>\n",
       "      <td>46</td>\n",
       "      <td>567391</td>\n",
       "      <td>216566</td>\n",
       "      <td>229061</td>\n",
       "      <td>82358</td>\n",
       "      <td>11</td>\n",
       "      <td>10</td>\n",
       "      <td>74146</td>\n",
       "    </tr>\n",
       "    <tr>\n",
       "      <th>top</th>\n",
       "      <td>PARTNER6</td>\n",
       "      <td>APPLICATID1015331</td>\n",
       "      <td>DOCSERNUM12603</td>\n",
       "      <td>MOBILEPHONE400101</td>\n",
       "      <td>EMAIL143461</td>\n",
       "      <td>POS кредит (потребительский кредит, кредит на товар)</td>\n",
       "      <td>Значение не передается</td>\n",
       "      <td>EMPTY</td>\n",
       "    </tr>\n",
       "    <tr>\n",
       "      <th>freq</th>\n",
       "      <td>127215</td>\n",
       "      <td>1</td>\n",
       "      <td>279</td>\n",
       "      <td>2668</td>\n",
       "      <td>226782</td>\n",
       "      <td>266633</td>\n",
       "      <td>184532</td>\n",
       "      <td>139779</td>\n",
       "    </tr>\n",
       "  </tbody>\n",
       "</table>\n",
       "</div>"
      ],
      "text/plain": [
       "         PARTNER              APPID       DOCSERNUM        MOBILEPHONE  \\\n",
       "count     567391             567391          567391             567391   \n",
       "unique        46             567391          216566             229061   \n",
       "top     PARTNER6  APPLICATID1015331  DOCSERNUM12603  MOBILEPHONE400101   \n",
       "freq      127215                  1             279               2668   \n",
       "\n",
       "              EMAIL                                           PRODUCTTYPE  \\\n",
       "count        567391                                                567391   \n",
       "unique        82358                                                    11   \n",
       "top     EMAIL143461  POS кредит (потребительский кредит, кредит на товар)   \n",
       "freq         226782                                                266633   \n",
       "\n",
       "                       CHANNEL   MODEL  \n",
       "count                   567391  422661  \n",
       "unique                      10   74146  \n",
       "top     Значение не передается   EMPTY  \n",
       "freq                    184532  139779  "
      ]
     },
     "execution_count": 194,
     "metadata": {},
     "output_type": "execute_result"
    }
   ],
   "source": [
    "data_df.describe(include=[object])  "
   ]
  },
  {
   "cell_type": "code",
   "execution_count": 63,
   "id": "d83c8023",
   "metadata": {
    "ExecuteTime": {
     "end_time": "2023-07-30T18:23:44.943636Z",
     "start_time": "2023-07-30T18:23:44.831425Z"
    }
   },
   "outputs": [
    {
     "data": {
      "image/png": "[encoded data removed]",
      "text/plain": [
       "<Figure size 673.92x476.64 with 1 Axes>"
      ]
     },
     "metadata": {},
     "output_type": "display_data"
    }
   ],
   "source": [
    "sns_dist('TARGET')"
   ]
  },
  {
   "cell_type": "markdown",
   "id": "cd627186",
   "metadata": {
    "ExecuteTime": {
     "end_time": "2023-07-30T14:13:34.492647Z",
     "start_time": "2023-07-30T14:13:34.483671Z"
    }
   },
   "source": [
    "<div class=\"alert alert-block alert-info\">\n",
    "Можем заметить, что все наши данные (кроме таргета и суммы кредита) это качественные переменные.  \n",
    "    \n",
    "Наши заявки уникальны, т.к. APPID не имеет дублей.  \n",
    "    \n",
    "Мы работаем с 46 партнерами и с 11 различными кредитными продуктами.  \n",
    "    \n",
    "Всего у нас 10 каналов поступления заявки.\n",
    "<div>"
   ]
  },
  {
   "cell_type": "markdown",
   "id": "3042ba3c",
   "metadata": {
    "ExecuteTime": {
     "end_time": "2023-07-30T18:46:57.382870Z",
     "start_time": "2023-07-30T18:46:57.367871Z"
    }
   },
   "source": [
    "## Кредиты с очень большой суммой (больше чем 99.9 персентиль)"
   ]
  },
  {
   "cell_type": "code",
   "execution_count": 94,
   "id": "24afbb6e",
   "metadata": {
    "ExecuteTime": {
     "end_time": "2023-07-30T18:49:04.028543Z",
     "start_time": "2023-07-30T18:49:03.995599Z"
    }
   },
   "outputs": [],
   "source": [
    "Mortgage_df = data_df[data_df['PRODUCTTYPE'] == 'Ипотека']"
   ]
  },
  {
   "cell_type": "code",
   "execution_count": 97,
   "id": "05c279f8",
   "metadata": {
    "ExecuteTime": {
     "end_time": "2023-07-30T18:49:23.399630Z",
     "start_time": "2023-07-30T18:49:23.383673Z"
    }
   },
   "outputs": [
    {
     "data": {
      "text/html": [
       "<div>\n",
       "<style scoped>\n",
       "    .dataframe tbody tr th:only-of-type {\n",
       "        vertical-align: middle;\n",
       "    }\n",
       "\n",
       "    .dataframe tbody tr th {\n",
       "        vertical-align: top;\n",
       "    }\n",
       "\n",
       "    .dataframe thead th {\n",
       "        text-align: right;\n",
       "    }\n",
       "</style>\n",
       "<table border=\"1\" class=\"dataframe\">\n",
       "  <thead>\n",
       "    <tr style=\"text-align: right;\">\n",
       "      <th></th>\n",
       "      <th>count</th>\n",
       "      <th>mean</th>\n",
       "      <th>std</th>\n",
       "      <th>min</th>\n",
       "      <th>1%</th>\n",
       "      <th>25%</th>\n",
       "      <th>50%</th>\n",
       "      <th>75%</th>\n",
       "      <th>99%</th>\n",
       "      <th>99.5%</th>\n",
       "      <th>99.9%</th>\n",
       "      <th>max</th>\n",
       "    </tr>\n",
       "  </thead>\n",
       "  <tbody>\n",
       "    <tr>\n",
       "      <th>TARGET</th>\n",
       "      <td>789.000</td>\n",
       "      <td>0.001</td>\n",
       "      <td>0.036</td>\n",
       "      <td>0.000</td>\n",
       "      <td>0.000</td>\n",
       "      <td>0.000</td>\n",
       "      <td>0.000</td>\n",
       "      <td>0.000</td>\n",
       "      <td>0.000</td>\n",
       "      <td>0.000</td>\n",
       "      <td>0.212</td>\n",
       "      <td>1.000</td>\n",
       "    </tr>\n",
       "    <tr>\n",
       "      <th>LIMIT</th>\n",
       "      <td>789.000</td>\n",
       "      <td>4561988.260</td>\n",
       "      <td>6173854.827</td>\n",
       "      <td>50000.000</td>\n",
       "      <td>600000.000</td>\n",
       "      <td>2000000.000</td>\n",
       "      <td>3000000.000</td>\n",
       "      <td>5000000.000</td>\n",
       "      <td>50000000.000</td>\n",
       "      <td>50000000.000</td>\n",
       "      <td>50000000.000</td>\n",
       "      <td>50000000.000</td>\n",
       "    </tr>\n",
       "  </tbody>\n",
       "</table>\n",
       "</div>"
      ],
      "text/plain": [
       "         count        mean         std       min         1%         25%  \\\n",
       "TARGET 789.000       0.001       0.036     0.000      0.000       0.000   \n",
       "LIMIT  789.000 4561988.260 6173854.827 50000.000 600000.000 2000000.000   \n",
       "\n",
       "               50%         75%          99%        99.5%        99.9%  \\\n",
       "TARGET       0.000       0.000        0.000        0.000        0.212   \n",
       "LIMIT  3000000.000 5000000.000 50000000.000 50000000.000 50000000.000   \n",
       "\n",
       "                max  \n",
       "TARGET        1.000  \n",
       "LIMIT  50000000.000  "
      ]
     },
     "execution_count": 97,
     "metadata": {},
     "output_type": "execute_result"
    }
   ],
   "source": [
    "Mortgage_df.describe(percentiles = [0.01, 0.25, 0.5, 0.75, 0.99, 0.995, 0.999]).T"
   ]
  },
  {
   "cell_type": "markdown",
   "id": "9312f10e",
   "metadata": {
    "ExecuteTime": {
     "end_time": "2023-07-30T18:54:06.740887Z",
     "start_time": "2023-07-30T18:54:06.734903Z"
    }
   },
   "source": [
    "<div class=\"alert alert-block alert-info\">\n",
    "Для ипотеки лимит в 50 млн рублей - нормально\n",
    "<div>"
   ]
  },
  {
   "cell_type": "code",
   "execution_count": 119,
   "id": "df5d6b10",
   "metadata": {
    "ExecuteTime": {
     "end_time": "2023-07-30T18:57:50.955664Z",
     "start_time": "2023-07-30T18:57:50.904772Z"
    },
    "scrolled": true
   },
   "outputs": [
    {
     "data": {
      "text/html": [
       "<div>\n",
       "<style scoped>\n",
       "    .dataframe tbody tr th:only-of-type {\n",
       "        vertical-align: middle;\n",
       "    }\n",
       "\n",
       "    .dataframe tbody tr th {\n",
       "        vertical-align: top;\n",
       "    }\n",
       "\n",
       "    .dataframe thead th {\n",
       "        text-align: right;\n",
       "    }\n",
       "</style>\n",
       "<table border=\"1\" class=\"dataframe\">\n",
       "  <thead>\n",
       "    <tr style=\"text-align: right;\">\n",
       "      <th></th>\n",
       "      <th>APPID</th>\n",
       "      <th>PARTNER</th>\n",
       "      <th>LIMIT</th>\n",
       "      <th>PRODUCTTYPE</th>\n",
       "      <th>CHANNEL</th>\n",
       "      <th>MODEL</th>\n",
       "      <th>TARGET</th>\n",
       "      <th>APPMONTH</th>\n",
       "    </tr>\n",
       "  </thead>\n",
       "  <tbody>\n",
       "    <tr>\n",
       "      <th>478503</th>\n",
       "      <td>APPLICATID851668</td>\n",
       "      <td>PARTNER9</td>\n",
       "      <td>50000000.000</td>\n",
       "      <td>Ипотека</td>\n",
       "      <td>Интернет</td>\n",
       "      <td>NaN</td>\n",
       "      <td>0</td>\n",
       "      <td>2021-09-01</td>\n",
       "    </tr>\n",
       "    <tr>\n",
       "      <th>162801</th>\n",
       "      <td>APPLICATID851193</td>\n",
       "      <td>PARTNER9</td>\n",
       "      <td>50000000.000</td>\n",
       "      <td>Ипотека</td>\n",
       "      <td>Интернет</td>\n",
       "      <td>NaN</td>\n",
       "      <td>0</td>\n",
       "      <td>2021-11-01</td>\n",
       "    </tr>\n",
       "    <tr>\n",
       "      <th>496913</th>\n",
       "      <td>APPLICATID851199</td>\n",
       "      <td>PARTNER9</td>\n",
       "      <td>50000000.000</td>\n",
       "      <td>Ипотека</td>\n",
       "      <td>Интернет</td>\n",
       "      <td>NaN</td>\n",
       "      <td>0</td>\n",
       "      <td>2021-11-01</td>\n",
       "    </tr>\n",
       "    <tr>\n",
       "      <th>530618</th>\n",
       "      <td>APPLICATID851673</td>\n",
       "      <td>PARTNER9</td>\n",
       "      <td>50000000.000</td>\n",
       "      <td>Ипотека</td>\n",
       "      <td>Интернет</td>\n",
       "      <td>NaN</td>\n",
       "      <td>0</td>\n",
       "      <td>2021-10-01</td>\n",
       "    </tr>\n",
       "    <tr>\n",
       "      <th>295975</th>\n",
       "      <td>APPLICATID1131302</td>\n",
       "      <td>PARTNER9</td>\n",
       "      <td>50000000.000</td>\n",
       "      <td>Ипотека</td>\n",
       "      <td>Интернет</td>\n",
       "      <td>NaN</td>\n",
       "      <td>0</td>\n",
       "      <td>2021-11-01</td>\n",
       "    </tr>\n",
       "    <tr>\n",
       "      <th>273773</th>\n",
       "      <td>APPLICATID851207</td>\n",
       "      <td>PARTNER9</td>\n",
       "      <td>50000000.000</td>\n",
       "      <td>Ипотека</td>\n",
       "      <td>Интернет</td>\n",
       "      <td>NaN</td>\n",
       "      <td>0</td>\n",
       "      <td>2021-11-01</td>\n",
       "    </tr>\n",
       "    <tr>\n",
       "      <th>343546</th>\n",
       "      <td>APPLICATID851677</td>\n",
       "      <td>PARTNER9</td>\n",
       "      <td>50000000.000</td>\n",
       "      <td>Ипотека</td>\n",
       "      <td>Интернет</td>\n",
       "      <td>NaN</td>\n",
       "      <td>0</td>\n",
       "      <td>2021-11-01</td>\n",
       "    </tr>\n",
       "    <tr>\n",
       "      <th>937</th>\n",
       "      <td>APPLICATID851667</td>\n",
       "      <td>PARTNER9</td>\n",
       "      <td>50000000.000</td>\n",
       "      <td>Ипотека</td>\n",
       "      <td>Интернет</td>\n",
       "      <td>NaN</td>\n",
       "      <td>0</td>\n",
       "      <td>2021-09-01</td>\n",
       "    </tr>\n",
       "    <tr>\n",
       "      <th>162802</th>\n",
       "      <td>APPLICATID851202</td>\n",
       "      <td>PARTNER9</td>\n",
       "      <td>50000000.000</td>\n",
       "      <td>Ипотека</td>\n",
       "      <td>Интернет</td>\n",
       "      <td>NaN</td>\n",
       "      <td>0</td>\n",
       "      <td>2021-11-01</td>\n",
       "    </tr>\n",
       "    <tr>\n",
       "      <th>162803</th>\n",
       "      <td>APPLICATID851201</td>\n",
       "      <td>PARTNER9</td>\n",
       "      <td>50000000.000</td>\n",
       "      <td>Ипотека</td>\n",
       "      <td>Интернет</td>\n",
       "      <td>NaN</td>\n",
       "      <td>0</td>\n",
       "      <td>2021-11-01</td>\n",
       "    </tr>\n",
       "    <tr>\n",
       "      <th>507376</th>\n",
       "      <td>APPLICATID851208</td>\n",
       "      <td>PARTNER9</td>\n",
       "      <td>50000000.000</td>\n",
       "      <td>Ипотека</td>\n",
       "      <td>Интернет</td>\n",
       "      <td>NaN</td>\n",
       "      <td>0</td>\n",
       "      <td>2021-11-01</td>\n",
       "    </tr>\n",
       "    <tr>\n",
       "      <th>331960</th>\n",
       "      <td>APPLICATID851664</td>\n",
       "      <td>PARTNER9</td>\n",
       "      <td>25000000.000</td>\n",
       "      <td>Ипотека</td>\n",
       "      <td>Интернет</td>\n",
       "      <td>NaN</td>\n",
       "      <td>0</td>\n",
       "      <td>2021-08-01</td>\n",
       "    </tr>\n",
       "    <tr>\n",
       "      <th>173058</th>\n",
       "      <td>APPLICATID928886</td>\n",
       "      <td>PARTNER9</td>\n",
       "      <td>20000000.000</td>\n",
       "      <td>Ипотека</td>\n",
       "      <td>Интернет</td>\n",
       "      <td>NaN</td>\n",
       "      <td>0</td>\n",
       "      <td>2022-02-01</td>\n",
       "    </tr>\n",
       "    <tr>\n",
       "      <th>173059</th>\n",
       "      <td>APPLICATID928588</td>\n",
       "      <td>PARTNER9</td>\n",
       "      <td>20000000.000</td>\n",
       "      <td>Ипотека</td>\n",
       "      <td>Интернет</td>\n",
       "      <td>NaN</td>\n",
       "      <td>0</td>\n",
       "      <td>2022-01-01</td>\n",
       "    </tr>\n",
       "    <tr>\n",
       "      <th>488527</th>\n",
       "      <td>APPLICATID851211</td>\n",
       "      <td>PARTNER9</td>\n",
       "      <td>15000000.000</td>\n",
       "      <td>Ипотека</td>\n",
       "      <td>Интернет</td>\n",
       "      <td>NaN</td>\n",
       "      <td>0</td>\n",
       "      <td>2021-12-01</td>\n",
       "    </tr>\n",
       "    <tr>\n",
       "      <th>100860</th>\n",
       "      <td>APPLICATID851674</td>\n",
       "      <td>PARTNER9</td>\n",
       "      <td>15000000.000</td>\n",
       "      <td>Ипотека</td>\n",
       "      <td>Интернет</td>\n",
       "      <td>NaN</td>\n",
       "      <td>0</td>\n",
       "      <td>2021-10-01</td>\n",
       "    </tr>\n",
       "    <tr>\n",
       "      <th>302570</th>\n",
       "      <td>APPLICATID1131296</td>\n",
       "      <td>PARTNER9</td>\n",
       "      <td>15000000.000</td>\n",
       "      <td>Ипотека</td>\n",
       "      <td>Интернет</td>\n",
       "      <td>NaN</td>\n",
       "      <td>0</td>\n",
       "      <td>2021-11-01</td>\n",
       "    </tr>\n",
       "    <tr>\n",
       "      <th>382315</th>\n",
       "      <td>APPLICATID851670</td>\n",
       "      <td>PARTNER9</td>\n",
       "      <td>15000000.000</td>\n",
       "      <td>Ипотека</td>\n",
       "      <td>Интернет</td>\n",
       "      <td>NaN</td>\n",
       "      <td>0</td>\n",
       "      <td>2021-10-01</td>\n",
       "    </tr>\n",
       "    <tr>\n",
       "      <th>234714</th>\n",
       "      <td>APPLICATID851206</td>\n",
       "      <td>PARTNER9</td>\n",
       "      <td>15000000.000</td>\n",
       "      <td>Ипотека</td>\n",
       "      <td>Интернет</td>\n",
       "      <td>NaN</td>\n",
       "      <td>0</td>\n",
       "      <td>2021-11-01</td>\n",
       "    </tr>\n",
       "    <tr>\n",
       "      <th>131773</th>\n",
       "      <td>APPLICATID851676</td>\n",
       "      <td>PARTNER9</td>\n",
       "      <td>15000000.000</td>\n",
       "      <td>Ипотека</td>\n",
       "      <td>Интернет</td>\n",
       "      <td>NaN</td>\n",
       "      <td>0</td>\n",
       "      <td>2021-10-01</td>\n",
       "    </tr>\n",
       "  </tbody>\n",
       "</table>\n",
       "</div>"
      ],
      "text/plain": [
       "                    APPID   PARTNER        LIMIT PRODUCTTYPE   CHANNEL MODEL  \\\n",
       "478503   APPLICATID851668  PARTNER9 50000000.000     Ипотека  Интернет   NaN   \n",
       "162801   APPLICATID851193  PARTNER9 50000000.000     Ипотека  Интернет   NaN   \n",
       "496913   APPLICATID851199  PARTNER9 50000000.000     Ипотека  Интернет   NaN   \n",
       "530618   APPLICATID851673  PARTNER9 50000000.000     Ипотека  Интернет   NaN   \n",
       "295975  APPLICATID1131302  PARTNER9 50000000.000     Ипотека  Интернет   NaN   \n",
       "273773   APPLICATID851207  PARTNER9 50000000.000     Ипотека  Интернет   NaN   \n",
       "343546   APPLICATID851677  PARTNER9 50000000.000     Ипотека  Интернет   NaN   \n",
       "937      APPLICATID851667  PARTNER9 50000000.000     Ипотека  Интернет   NaN   \n",
       "162802   APPLICATID851202  PARTNER9 50000000.000     Ипотека  Интернет   NaN   \n",
       "162803   APPLICATID851201  PARTNER9 50000000.000     Ипотека  Интернет   NaN   \n",
       "507376   APPLICATID851208  PARTNER9 50000000.000     Ипотека  Интернет   NaN   \n",
       "331960   APPLICATID851664  PARTNER9 25000000.000     Ипотека  Интернет   NaN   \n",
       "173058   APPLICATID928886  PARTNER9 20000000.000     Ипотека  Интернет   NaN   \n",
       "173059   APPLICATID928588  PARTNER9 20000000.000     Ипотека  Интернет   NaN   \n",
       "488527   APPLICATID851211  PARTNER9 15000000.000     Ипотека  Интернет   NaN   \n",
       "100860   APPLICATID851674  PARTNER9 15000000.000     Ипотека  Интернет   NaN   \n",
       "302570  APPLICATID1131296  PARTNER9 15000000.000     Ипотека  Интернет   NaN   \n",
       "382315   APPLICATID851670  PARTNER9 15000000.000     Ипотека  Интернет   NaN   \n",
       "234714   APPLICATID851206  PARTNER9 15000000.000     Ипотека  Интернет   NaN   \n",
       "131773   APPLICATID851676  PARTNER9 15000000.000     Ипотека  Интернет   NaN   \n",
       "\n",
       "        TARGET   APPMONTH  \n",
       "478503       0 2021-09-01  \n",
       "162801       0 2021-11-01  \n",
       "496913       0 2021-11-01  \n",
       "530618       0 2021-10-01  \n",
       "295975       0 2021-11-01  \n",
       "273773       0 2021-11-01  \n",
       "343546       0 2021-11-01  \n",
       "937          0 2021-09-01  \n",
       "162802       0 2021-11-01  \n",
       "162803       0 2021-11-01  \n",
       "507376       0 2021-11-01  \n",
       "331960       0 2021-08-01  \n",
       "173058       0 2022-02-01  \n",
       "173059       0 2022-01-01  \n",
       "488527       0 2021-12-01  \n",
       "100860       0 2021-10-01  \n",
       "302570       0 2021-11-01  \n",
       "382315       0 2021-10-01  \n",
       "234714       0 2021-11-01  \n",
       "131773       0 2021-10-01  "
      ]
     },
     "execution_count": 119,
     "metadata": {},
     "output_type": "execute_result"
    }
   ],
   "source": [
    "data_df[['APPID', 'PARTNER', 'LIMIT', 'PRODUCTTYPE', 'CHANNEL', 'MODEL', 'TARGET', 'APPMONTH']][data_df['PRODUCTTYPE'] == 'Ипотека'].sort_values('LIMIT', ascending = False).head(20)"
   ]
  },
  {
   "cell_type": "code",
   "execution_count": 118,
   "id": "7a7e0665",
   "metadata": {
    "ExecuteTime": {
     "end_time": "2023-07-30T18:57:46.395709Z",
     "start_time": "2023-07-30T18:57:46.220148Z"
    },
    "scrolled": true
   },
   "outputs": [
    {
     "data": {
      "text/html": [
       "<div>\n",
       "<style scoped>\n",
       "    .dataframe tbody tr th:only-of-type {\n",
       "        vertical-align: middle;\n",
       "    }\n",
       "\n",
       "    .dataframe tbody tr th {\n",
       "        vertical-align: top;\n",
       "    }\n",
       "\n",
       "    .dataframe thead th {\n",
       "        text-align: right;\n",
       "    }\n",
       "</style>\n",
       "<table border=\"1\" class=\"dataframe\">\n",
       "  <thead>\n",
       "    <tr style=\"text-align: right;\">\n",
       "      <th></th>\n",
       "      <th>APPID</th>\n",
       "      <th>PARTNER</th>\n",
       "      <th>LIMIT</th>\n",
       "      <th>PRODUCTTYPE</th>\n",
       "      <th>CHANNEL</th>\n",
       "      <th>MODEL</th>\n",
       "      <th>TARGET</th>\n",
       "      <th>APPMONTH</th>\n",
       "    </tr>\n",
       "  </thead>\n",
       "  <tbody>\n",
       "    <tr>\n",
       "      <th>237591</th>\n",
       "      <td>APPLICATID955664</td>\n",
       "      <td>PARTNER9</td>\n",
       "      <td>100000000.000</td>\n",
       "      <td>Неизвестный тип кредита</td>\n",
       "      <td>Отделение</td>\n",
       "      <td>NaN</td>\n",
       "      <td>0</td>\n",
       "      <td>2022-01-01</td>\n",
       "    </tr>\n",
       "    <tr>\n",
       "      <th>217793</th>\n",
       "      <td>APPLICATID90675</td>\n",
       "      <td>PARTNER40</td>\n",
       "      <td>80000000.000</td>\n",
       "      <td>Неизвестный тип кредита</td>\n",
       "      <td>Отделение</td>\n",
       "      <td>EMPTY</td>\n",
       "      <td>0</td>\n",
       "      <td>2021-12-01</td>\n",
       "    </tr>\n",
       "    <tr>\n",
       "      <th>175152</th>\n",
       "      <td>APPLICATID45657</td>\n",
       "      <td>PARTNER40</td>\n",
       "      <td>60000000.000</td>\n",
       "      <td>Неизвестный тип кредита</td>\n",
       "      <td>Отделение</td>\n",
       "      <td>EMPTY</td>\n",
       "      <td>0</td>\n",
       "      <td>2021-08-01</td>\n",
       "    </tr>\n",
       "    <tr>\n",
       "      <th>199586</th>\n",
       "      <td>APPLICATID767591</td>\n",
       "      <td>PARTNER3</td>\n",
       "      <td>50000000.000</td>\n",
       "      <td>Другой тип кредита</td>\n",
       "      <td>Интернет</td>\n",
       "      <td>NaN</td>\n",
       "      <td>0</td>\n",
       "      <td>2021-08-01</td>\n",
       "    </tr>\n",
       "    <tr>\n",
       "      <th>217794</th>\n",
       "      <td>APPLICATID54536</td>\n",
       "      <td>PARTNER40</td>\n",
       "      <td>30000000.000</td>\n",
       "      <td>Неизвестный тип кредита</td>\n",
       "      <td>Отделение</td>\n",
       "      <td>EMPTY</td>\n",
       "      <td>0</td>\n",
       "      <td>2021-09-01</td>\n",
       "    </tr>\n",
       "    <tr>\n",
       "      <th>455387</th>\n",
       "      <td>APPLICATID217601</td>\n",
       "      <td>PARTNER38</td>\n",
       "      <td>21196600.000</td>\n",
       "      <td>Кредит на автомобиль</td>\n",
       "      <td>Значение не передается</td>\n",
       "      <td>Bentley Bentley Continental</td>\n",
       "      <td>0</td>\n",
       "      <td>2022-02-01</td>\n",
       "    </tr>\n",
       "    <tr>\n",
       "      <th>455385</th>\n",
       "      <td>APPLICATID217596</td>\n",
       "      <td>PARTNER38</td>\n",
       "      <td>21196600.000</td>\n",
       "      <td>Кредит на автомобиль</td>\n",
       "      <td>Значение не передается</td>\n",
       "      <td>Bentley Bentley Continental</td>\n",
       "      <td>0</td>\n",
       "      <td>2022-02-01</td>\n",
       "    </tr>\n",
       "    <tr>\n",
       "      <th>455388</th>\n",
       "      <td>APPLICATID217682</td>\n",
       "      <td>PARTNER38</td>\n",
       "      <td>21196600.000</td>\n",
       "      <td>Кредит на автомобиль</td>\n",
       "      <td>Значение не передается</td>\n",
       "      <td>Bentley Bentley Continental</td>\n",
       "      <td>0</td>\n",
       "      <td>2022-02-01</td>\n",
       "    </tr>\n",
       "    <tr>\n",
       "      <th>455384</th>\n",
       "      <td>APPLICATID217791</td>\n",
       "      <td>PARTNER38</td>\n",
       "      <td>19999950.000</td>\n",
       "      <td>Кредит на автомобиль</td>\n",
       "      <td>Значение не передается</td>\n",
       "      <td>Bentley Bentley Continental</td>\n",
       "      <td>0</td>\n",
       "      <td>2022-02-01</td>\n",
       "    </tr>\n",
       "    <tr>\n",
       "      <th>455386</th>\n",
       "      <td>APPLICATID220109</td>\n",
       "      <td>PARTNER38</td>\n",
       "      <td>19999950.000</td>\n",
       "      <td>Кредит на автомобиль</td>\n",
       "      <td>Значение не передается</td>\n",
       "      <td>Bentley Bentley Continental</td>\n",
       "      <td>0</td>\n",
       "      <td>2022-02-01</td>\n",
       "    </tr>\n",
       "    <tr>\n",
       "      <th>455383</th>\n",
       "      <td>APPLICATID220105</td>\n",
       "      <td>PARTNER38</td>\n",
       "      <td>19999950.000</td>\n",
       "      <td>Кредит на автомобиль</td>\n",
       "      <td>Значение не передается</td>\n",
       "      <td>Bentley Bentley Continental</td>\n",
       "      <td>0</td>\n",
       "      <td>2022-02-01</td>\n",
       "    </tr>\n",
       "    <tr>\n",
       "      <th>455389</th>\n",
       "      <td>APPLICATID217684</td>\n",
       "      <td>PARTNER38</td>\n",
       "      <td>19999950.000</td>\n",
       "      <td>Кредит на автомобиль</td>\n",
       "      <td>Значение не передается</td>\n",
       "      <td>Bentley Bentley Continental</td>\n",
       "      <td>0</td>\n",
       "      <td>2022-02-01</td>\n",
       "    </tr>\n",
       "    <tr>\n",
       "      <th>455390</th>\n",
       "      <td>APPLICATID217705</td>\n",
       "      <td>PARTNER38</td>\n",
       "      <td>19999950.000</td>\n",
       "      <td>Кредит на автомобиль</td>\n",
       "      <td>Значение не передается</td>\n",
       "      <td>Bentley Bentley Continental</td>\n",
       "      <td>0</td>\n",
       "      <td>2022-02-01</td>\n",
       "    </tr>\n",
       "    <tr>\n",
       "      <th>455391</th>\n",
       "      <td>APPLICATID219757</td>\n",
       "      <td>PARTNER38</td>\n",
       "      <td>19999950.000</td>\n",
       "      <td>Кредит на автомобиль</td>\n",
       "      <td>Значение не передается</td>\n",
       "      <td>Bentley Bentley Continental</td>\n",
       "      <td>0</td>\n",
       "      <td>2022-02-01</td>\n",
       "    </tr>\n",
       "    <tr>\n",
       "      <th>316974</th>\n",
       "      <td>APPLICATID425232</td>\n",
       "      <td>PARTNER20</td>\n",
       "      <td>18900000.000</td>\n",
       "      <td>POS кредит (потребительский кредит, кредит на товар)</td>\n",
       "      <td>Интернет</td>\n",
       "      <td>NaN</td>\n",
       "      <td>0</td>\n",
       "      <td>2021-11-01</td>\n",
       "    </tr>\n",
       "    <tr>\n",
       "      <th>275181</th>\n",
       "      <td>APPLICATID103171</td>\n",
       "      <td>PARTNER40</td>\n",
       "      <td>18240000.000</td>\n",
       "      <td>Неизвестный тип кредита</td>\n",
       "      <td>Отделение</td>\n",
       "      <td>EMPTY</td>\n",
       "      <td>0</td>\n",
       "      <td>2022-01-01</td>\n",
       "    </tr>\n",
       "    <tr>\n",
       "      <th>243554</th>\n",
       "      <td>APPLICATID157738</td>\n",
       "      <td>PARTNER40</td>\n",
       "      <td>17600000.000</td>\n",
       "      <td>Неизвестный тип кредита</td>\n",
       "      <td>Отделение</td>\n",
       "      <td>EMPTY</td>\n",
       "      <td>0</td>\n",
       "      <td>2022-06-01</td>\n",
       "    </tr>\n",
       "    <tr>\n",
       "      <th>233888</th>\n",
       "      <td>APPLICATID144729</td>\n",
       "      <td>PARTNER40</td>\n",
       "      <td>16500000.000</td>\n",
       "      <td>Неизвестный тип кредита</td>\n",
       "      <td>Отделение</td>\n",
       "      <td>EMPTY</td>\n",
       "      <td>0</td>\n",
       "      <td>2022-06-01</td>\n",
       "    </tr>\n",
       "    <tr>\n",
       "      <th>145326</th>\n",
       "      <td>APPLICATID130609</td>\n",
       "      <td>PARTNER40</td>\n",
       "      <td>16160000.000</td>\n",
       "      <td>Неизвестный тип кредита</td>\n",
       "      <td>Отделение</td>\n",
       "      <td>EMPTY</td>\n",
       "      <td>0</td>\n",
       "      <td>2022-04-01</td>\n",
       "    </tr>\n",
       "    <tr>\n",
       "      <th>5660</th>\n",
       "      <td>APPLICATID66110</td>\n",
       "      <td>PARTNER40</td>\n",
       "      <td>15020000.000</td>\n",
       "      <td>Неизвестный тип кредита</td>\n",
       "      <td>Отделение</td>\n",
       "      <td>EMPTY</td>\n",
       "      <td>0</td>\n",
       "      <td>2021-10-01</td>\n",
       "    </tr>\n",
       "  </tbody>\n",
       "</table>\n",
       "</div>"
      ],
      "text/plain": [
       "                   APPID    PARTNER         LIMIT  \\\n",
       "237591  APPLICATID955664   PARTNER9 100000000.000   \n",
       "217793   APPLICATID90675  PARTNER40  80000000.000   \n",
       "175152   APPLICATID45657  PARTNER40  60000000.000   \n",
       "199586  APPLICATID767591   PARTNER3  50000000.000   \n",
       "217794   APPLICATID54536  PARTNER40  30000000.000   \n",
       "455387  APPLICATID217601  PARTNER38  21196600.000   \n",
       "455385  APPLICATID217596  PARTNER38  21196600.000   \n",
       "455388  APPLICATID217682  PARTNER38  21196600.000   \n",
       "455384  APPLICATID217791  PARTNER38  19999950.000   \n",
       "455386  APPLICATID220109  PARTNER38  19999950.000   \n",
       "455383  APPLICATID220105  PARTNER38  19999950.000   \n",
       "455389  APPLICATID217684  PARTNER38  19999950.000   \n",
       "455390  APPLICATID217705  PARTNER38  19999950.000   \n",
       "455391  APPLICATID219757  PARTNER38  19999950.000   \n",
       "316974  APPLICATID425232  PARTNER20  18900000.000   \n",
       "275181  APPLICATID103171  PARTNER40  18240000.000   \n",
       "243554  APPLICATID157738  PARTNER40  17600000.000   \n",
       "233888  APPLICATID144729  PARTNER40  16500000.000   \n",
       "145326  APPLICATID130609  PARTNER40  16160000.000   \n",
       "5660     APPLICATID66110  PARTNER40  15020000.000   \n",
       "\n",
       "                                                 PRODUCTTYPE  \\\n",
       "237591                               Неизвестный тип кредита   \n",
       "217793                               Неизвестный тип кредита   \n",
       "175152                               Неизвестный тип кредита   \n",
       "199586                                    Другой тип кредита   \n",
       "217794                               Неизвестный тип кредита   \n",
       "455387                                  Кредит на автомобиль   \n",
       "455385                                  Кредит на автомобиль   \n",
       "455388                                  Кредит на автомобиль   \n",
       "455384                                  Кредит на автомобиль   \n",
       "455386                                  Кредит на автомобиль   \n",
       "455383                                  Кредит на автомобиль   \n",
       "455389                                  Кредит на автомобиль   \n",
       "455390                                  Кредит на автомобиль   \n",
       "455391                                  Кредит на автомобиль   \n",
       "316974  POS кредит (потребительский кредит, кредит на товар)   \n",
       "275181                               Неизвестный тип кредита   \n",
       "243554                               Неизвестный тип кредита   \n",
       "233888                               Неизвестный тип кредита   \n",
       "145326                               Неизвестный тип кредита   \n",
       "5660                                 Неизвестный тип кредита   \n",
       "\n",
       "                       CHANNEL                        MODEL  TARGET   APPMONTH  \n",
       "237591               Отделение                          NaN       0 2022-01-01  \n",
       "217793               Отделение                        EMPTY       0 2021-12-01  \n",
       "175152               Отделение                        EMPTY       0 2021-08-01  \n",
       "199586                Интернет                          NaN       0 2021-08-01  \n",
       "217794               Отделение                        EMPTY       0 2021-09-01  \n",
       "455387  Значение не передается  Bentley Bentley Continental       0 2022-02-01  \n",
       "455385  Значение не передается  Bentley Bentley Continental       0 2022-02-01  \n",
       "455388  Значение не передается  Bentley Bentley Continental       0 2022-02-01  \n",
       "455384  Значение не передается  Bentley Bentley Continental       0 2022-02-01  \n",
       "455386  Значение не передается  Bentley Bentley Continental       0 2022-02-01  \n",
       "455383  Значение не передается  Bentley Bentley Continental       0 2022-02-01  \n",
       "455389  Значение не передается  Bentley Bentley Continental       0 2022-02-01  \n",
       "455390  Значение не передается  Bentley Bentley Continental       0 2022-02-01  \n",
       "455391  Значение не передается  Bentley Bentley Continental       0 2022-02-01  \n",
       "316974                Интернет                          NaN       0 2021-11-01  \n",
       "275181               Отделение                        EMPTY       0 2022-01-01  \n",
       "243554               Отделение                        EMPTY       0 2022-06-01  \n",
       "233888               Отделение                        EMPTY       0 2022-06-01  \n",
       "145326               Отделение                        EMPTY       0 2022-04-01  \n",
       "5660                 Отделение                        EMPTY       0 2021-10-01  "
      ]
     },
     "execution_count": 118,
     "metadata": {},
     "output_type": "execute_result"
    }
   ],
   "source": [
    "data_df[['APPID', 'PARTNER', 'LIMIT', 'PRODUCTTYPE', 'CHANNEL', 'MODEL', 'TARGET', 'APPMONTH']][data_df['PRODUCTTYPE'] != 'Ипотека'].sort_values('LIMIT', ascending = False).head(20)"
   ]
  },
  {
   "cell_type": "markdown",
   "id": "ee536710",
   "metadata": {},
   "source": [
    "<div class=\"alert alert-block alert-info\">\n",
    "Решил не убирать наблюдения с очень большой суммой. Скорее всего это какие-то VIP клиенты\n",
    "<div>"
   ]
  },
  {
   "cell_type": "markdown",
   "id": "621e706b",
   "metadata": {},
   "source": [
    "## Группировка по типу кредита "
   ]
  },
  {
   "cell_type": "code",
   "execution_count": 123,
   "id": "2413f6be",
   "metadata": {
    "ExecuteTime": {
     "end_time": "2023-07-30T19:02:20.611573Z",
     "start_time": "2023-07-30T19:02:20.340299Z"
    },
    "scrolled": true
   },
   "outputs": [
    {
     "data": {
      "text/html": [
       "<div>\n",
       "<style scoped>\n",
       "    .dataframe tbody tr th:only-of-type {\n",
       "        vertical-align: middle;\n",
       "    }\n",
       "\n",
       "    .dataframe tbody tr th {\n",
       "        vertical-align: top;\n",
       "    }\n",
       "\n",
       "    .dataframe thead tr th {\n",
       "        text-align: left;\n",
       "    }\n",
       "\n",
       "    .dataframe thead tr:last-of-type th {\n",
       "        text-align: right;\n",
       "    }\n",
       "</style>\n",
       "<table border=\"1\" class=\"dataframe\">\n",
       "  <thead>\n",
       "    <tr>\n",
       "      <th></th>\n",
       "      <th colspan=\"2\" halign=\"left\">TARGET</th>\n",
       "      <th colspan=\"6\" halign=\"left\">LIMIT</th>\n",
       "    </tr>\n",
       "    <tr>\n",
       "      <th></th>\n",
       "      <th>count</th>\n",
       "      <th>mean</th>\n",
       "      <th>mean</th>\n",
       "      <th>1%</th>\n",
       "      <th>50%</th>\n",
       "      <th>99%</th>\n",
       "      <th>99.9%</th>\n",
       "      <th>max</th>\n",
       "    </tr>\n",
       "    <tr>\n",
       "      <th>PRODUCTTYPE</th>\n",
       "      <th></th>\n",
       "      <th></th>\n",
       "      <th></th>\n",
       "      <th></th>\n",
       "      <th></th>\n",
       "      <th></th>\n",
       "      <th></th>\n",
       "      <th></th>\n",
       "    </tr>\n",
       "  </thead>\n",
       "  <tbody>\n",
       "    <tr>\n",
       "      <th>Микрозайм</th>\n",
       "      <td>22133.000</td>\n",
       "      <td>0.240</td>\n",
       "      <td>11733.087</td>\n",
       "      <td>0.000</td>\n",
       "      <td>10000.000</td>\n",
       "      <td>80000.000</td>\n",
       "      <td>100000.000</td>\n",
       "      <td>2300000.000</td>\n",
       "    </tr>\n",
       "    <tr>\n",
       "      <th>Дебетовая карта с овердрафтом</th>\n",
       "      <td>195.000</td>\n",
       "      <td>0.026</td>\n",
       "      <td>183659.359</td>\n",
       "      <td>0.000</td>\n",
       "      <td>109000.000</td>\n",
       "      <td>1030000.000</td>\n",
       "      <td>1500000.000</td>\n",
       "      <td>1500000.000</td>\n",
       "    </tr>\n",
       "    <tr>\n",
       "      <th>Кредит наличными (нецелевой)</th>\n",
       "      <td>34028.000</td>\n",
       "      <td>0.025</td>\n",
       "      <td>289168.845</td>\n",
       "      <td>10000.000</td>\n",
       "      <td>100000.000</td>\n",
       "      <td>2500000.000</td>\n",
       "      <td>5000000.000</td>\n",
       "      <td>8550000.000</td>\n",
       "    </tr>\n",
       "    <tr>\n",
       "      <th>Предварительная оценка заёмщика без указания типа кредита</th>\n",
       "      <td>1474.000</td>\n",
       "      <td>0.018</td>\n",
       "      <td>118580.054</td>\n",
       "      <td>0.000</td>\n",
       "      <td>0.000</td>\n",
       "      <td>1000000.000</td>\n",
       "      <td>1000000.000</td>\n",
       "      <td>1000000.000</td>\n",
       "    </tr>\n",
       "    <tr>\n",
       "      <th>Кредитная карта</th>\n",
       "      <td>50662.000</td>\n",
       "      <td>0.017</td>\n",
       "      <td>73732.136</td>\n",
       "      <td>0.000</td>\n",
       "      <td>51000.000</td>\n",
       "      <td>500000.000</td>\n",
       "      <td>1000000.000</td>\n",
       "      <td>15000000.000</td>\n",
       "    </tr>\n",
       "    <tr>\n",
       "      <th>Другой тип кредита</th>\n",
       "      <td>77933.000</td>\n",
       "      <td>0.016</td>\n",
       "      <td>8066.840</td>\n",
       "      <td>0.000</td>\n",
       "      <td>0.000</td>\n",
       "      <td>230000.000</td>\n",
       "      <td>970340.000</td>\n",
       "      <td>50000000.000</td>\n",
       "    </tr>\n",
       "    <tr>\n",
       "      <th>POS кредит (потребительский кредит, кредит на товар)</th>\n",
       "      <td>266633.000</td>\n",
       "      <td>0.013</td>\n",
       "      <td>99141.440</td>\n",
       "      <td>0.000</td>\n",
       "      <td>45000.000</td>\n",
       "      <td>1479250.252</td>\n",
       "      <td>3000000.000</td>\n",
       "      <td>18900000.000</td>\n",
       "    </tr>\n",
       "    <tr>\n",
       "      <th>Кредит на строительство недвижимости</th>\n",
       "      <td>191.000</td>\n",
       "      <td>0.010</td>\n",
       "      <td>299886.344</td>\n",
       "      <td>20000.000</td>\n",
       "      <td>204067.200</td>\n",
       "      <td>1500000.000</td>\n",
       "      <td>1500000.000</td>\n",
       "      <td>1500000.000</td>\n",
       "    </tr>\n",
       "    <tr>\n",
       "      <th>Неизвестный тип кредита</th>\n",
       "      <td>86736.000</td>\n",
       "      <td>0.005</td>\n",
       "      <td>232204.088</td>\n",
       "      <td>1000.000</td>\n",
       "      <td>60000.000</td>\n",
       "      <td>3000000.000</td>\n",
       "      <td>6810291.460</td>\n",
       "      <td>100000000.000</td>\n",
       "    </tr>\n",
       "    <tr>\n",
       "      <th>Кредит на автомобиль</th>\n",
       "      <td>26617.000</td>\n",
       "      <td>0.005</td>\n",
       "      <td>1332149.021</td>\n",
       "      <td>230100.452</td>\n",
       "      <td>1100140.000</td>\n",
       "      <td>4972492.608</td>\n",
       "      <td>9926600.000</td>\n",
       "      <td>21196600.000</td>\n",
       "    </tr>\n",
       "    <tr>\n",
       "      <th>Ипотека</th>\n",
       "      <td>789.000</td>\n",
       "      <td>0.001</td>\n",
       "      <td>4561988.260</td>\n",
       "      <td>600000.000</td>\n",
       "      <td>3000000.000</td>\n",
       "      <td>50000000.000</td>\n",
       "      <td>50000000.000</td>\n",
       "      <td>50000000.000</td>\n",
       "    </tr>\n",
       "  </tbody>\n",
       "</table>\n",
       "</div>"
      ],
      "text/plain": [
       "                                                              TARGET        \\\n",
       "                                                               count  mean   \n",
       "PRODUCTTYPE                                                                  \n",
       "Микрозайм                                                  22133.000 0.240   \n",
       "Дебетовая карта с овердрафтом                                195.000 0.026   \n",
       "Кредит наличными (нецелевой)                               34028.000 0.025   \n",
       "Предварительная оценка заёмщика без указания типа кредита   1474.000 0.018   \n",
       "Кредитная карта                                            50662.000 0.017   \n",
       "Другой тип кредита                                         77933.000 0.016   \n",
       "POS кредит (потребительский кредит, кредит на товар)      266633.000 0.013   \n",
       "Кредит на строительство недвижимости                         191.000 0.010   \n",
       "Неизвестный тип кредита                                    86736.000 0.005   \n",
       "Кредит на автомобиль                                       26617.000 0.005   \n",
       "Ипотека                                                      789.000 0.001   \n",
       "\n",
       "                                                                LIMIT  \\\n",
       "                                                                 mean   \n",
       "PRODUCTTYPE                                                             \n",
       "Микрозайм                                                   11733.087   \n",
       "Дебетовая карта с овердрафтом                              183659.359   \n",
       "Кредит наличными (нецелевой)                               289168.845   \n",
       "Предварительная оценка заёмщика без указания типа кредита  118580.054   \n",
       "Кредитная карта                                             73732.136   \n",
       "Другой тип кредита                                           8066.840   \n",
       "POS кредит (потребительский кредит, кредит на товар)        99141.440   \n",
       "Кредит на строительство недвижимости                       299886.344   \n",
       "Неизвестный тип кредита                                    232204.088   \n",
       "Кредит на автомобиль                                      1332149.021   \n",
       "Ипотека                                                   4561988.260   \n",
       "\n",
       "                                                                      \\\n",
       "                                                                  1%   \n",
       "PRODUCTTYPE                                                            \n",
       "Микрозайм                                                      0.000   \n",
       "Дебетовая карта с овердрафтом                                  0.000   \n",
       "Кредит наличными (нецелевой)                               10000.000   \n",
       "Предварительная оценка заёмщика без указания типа кредита      0.000   \n",
       "Кредитная карта                                                0.000   \n",
       "Другой тип кредита                                             0.000   \n",
       "POS кредит (потребительский кредит, кредит на товар)           0.000   \n",
       "Кредит на строительство недвижимости                       20000.000   \n",
       "Неизвестный тип кредита                                     1000.000   \n",
       "Кредит на автомобиль                                      230100.452   \n",
       "Ипотека                                                   600000.000   \n",
       "\n",
       "                                                                       \\\n",
       "                                                                  50%   \n",
       "PRODUCTTYPE                                                             \n",
       "Микрозайм                                                   10000.000   \n",
       "Дебетовая карта с овердрафтом                              109000.000   \n",
       "Кредит наличными (нецелевой)                               100000.000   \n",
       "Предварительная оценка заёмщика без указания типа кредита       0.000   \n",
       "Кредитная карта                                             51000.000   \n",
       "Другой тип кредита                                              0.000   \n",
       "POS кредит (потребительский кредит, кредит на товар)        45000.000   \n",
       "Кредит на строительство недвижимости                       204067.200   \n",
       "Неизвестный тип кредита                                     60000.000   \n",
       "Кредит на автомобиль                                      1100140.000   \n",
       "Ипотека                                                   3000000.000   \n",
       "\n",
       "                                                                        \\\n",
       "                                                                   99%   \n",
       "PRODUCTTYPE                                                              \n",
       "Микрозайм                                                    80000.000   \n",
       "Дебетовая карта с овердрафтом                              1030000.000   \n",
       "Кредит наличными (нецелевой)                               2500000.000   \n",
       "Предварительная оценка заёмщика без указания типа кредита  1000000.000   \n",
       "Кредитная карта                                             500000.000   \n",
       "Другой тип кредита                                          230000.000   \n",
       "POS кредит (потребительский кредит, кредит на товар)       1479250.252   \n",
       "Кредит на строительство недвижимости                       1500000.000   \n",
       "Неизвестный тип кредита                                    3000000.000   \n",
       "Кредит на автомобиль                                       4972492.608   \n",
       "Ипотека                                                   50000000.000   \n",
       "\n",
       "                                                                        \\\n",
       "                                                                 99.9%   \n",
       "PRODUCTTYPE                                                              \n",
       "Микрозайм                                                   100000.000   \n",
       "Дебетовая карта с овердрафтом                              1500000.000   \n",
       "Кредит наличными (нецелевой)                               5000000.000   \n",
       "Предварительная оценка заёмщика без указания типа кредита  1000000.000   \n",
       "Кредитная карта                                            1000000.000   \n",
       "Другой тип кредита                                          970340.000   \n",
       "POS кредит (потребительский кредит, кредит на товар)       3000000.000   \n",
       "Кредит на строительство недвижимости                       1500000.000   \n",
       "Неизвестный тип кредита                                    6810291.460   \n",
       "Кредит на автомобиль                                       9926600.000   \n",
       "Ипотека                                                   50000000.000   \n",
       "\n",
       "                                                                         \n",
       "                                                                    max  \n",
       "PRODUCTTYPE                                                              \n",
       "Микрозайм                                                   2300000.000  \n",
       "Дебетовая карта с овердрафтом                               1500000.000  \n",
       "Кредит наличными (нецелевой)                                8550000.000  \n",
       "Предварительная оценка заёмщика без указания типа кредита   1000000.000  \n",
       "Кредитная карта                                            15000000.000  \n",
       "Другой тип кредита                                         50000000.000  \n",
       "POS кредит (потребительский кредит, кредит на товар)       18900000.000  \n",
       "Кредит на строительство недвижимости                        1500000.000  \n",
       "Неизвестный тип кредита                                   100000000.000  \n",
       "Кредит на автомобиль                                       21196600.000  \n",
       "Ипотека                                                    50000000.000  "
      ]
     },
     "execution_count": 123,
     "metadata": {},
     "output_type": "execute_result"
    }
   ],
   "source": [
    "(\n",
    "    data_df.groupby('PRODUCTTYPE').describe(percentiles = [0.01, 0.5, 0.99, 0.999]).sort_values([('TARGET', 'mean')], ascending = False)\n",
    "    [[('TARGET', 'count'), ('TARGET', 'mean'), ('LIMIT', 'mean'), ( 'LIMIT',   '1%'), ( 'LIMIT',   '50%'), ( 'LIMIT',   '99%'), ( 'LIMIT',   '99.9%'), ( 'LIMIT',   'max')]]\n",
    ")"
   ]
  },
  {
   "cell_type": "code",
   "execution_count": 65,
   "id": "3d14298d",
   "metadata": {
    "ExecuteTime": {
     "end_time": "2023-07-30T18:23:50.992901Z",
     "start_time": "2023-07-30T18:23:50.756528Z"
    }
   },
   "outputs": [
    {
     "data": {
      "text/plain": [
       "PRODUCTTYPE\n",
       "POS кредит (потребительский кредит, кредит на товар)        0.470\n",
       "Неизвестный тип кредита                                     0.153\n",
       "Другой тип кредита                                          0.137\n",
       "Кредитная карта                                             0.089\n",
       "Кредит наличными (нецелевой)                                0.060\n",
       "Кредит на автомобиль                                        0.047\n",
       "Микрозайм                                                   0.039\n",
       "Предварительная оценка заёмщика без указания типа кредита   0.003\n",
       "Ипотека                                                     0.001\n",
       "Дебетовая карта с овердрафтом                               0.000\n",
       "Кредит на строительство недвижимости                        0.000\n",
       "Name: PARTNER, dtype: float64"
      ]
     },
     "execution_count": 65,
     "metadata": {},
     "output_type": "execute_result"
    }
   ],
   "source": [
    "data_df.groupby('PRODUCTTYPE').count().sort_values('PARTNER', ascending = False)['PARTNER']/data_df['TARGET'].count()"
   ]
  },
  {
   "cell_type": "code",
   "execution_count": 66,
   "id": "6011ecfe",
   "metadata": {
    "ExecuteTime": {
     "end_time": "2023-07-30T18:23:52.966570Z",
     "start_time": "2023-07-30T18:23:52.662353Z"
    }
   },
   "outputs": [
    {
     "data": {
      "image/png": "[encoded data removed]",
      "text/plain": [
       "<Figure size 673.92x476.64 with 1 Axes>"
      ]
     },
     "metadata": {},
     "output_type": "display_data"
    }
   ],
   "source": [
    "sns_dist('PRODUCTTYPE')"
   ]
  },
  {
   "cell_type": "markdown",
   "id": "cc0cd1f3",
   "metadata": {
    "ExecuteTime": {
     "end_time": "2023-07-30T14:27:35.036938Z",
     "start_time": "2023-07-30T14:27:35.032948Z"
    }
   },
   "source": [
    "<div class=\"alert alert-block alert-info\">\n",
    "Видно, что самый большой DR (Deafault Rate) в продукте \"Микрозайм\" - 24%, а самый низкий DR в залоговых продуктах \"Ипотека\" и \"Кредит на автомобиль\" - 0.1% и 0.5% соответственно. \n",
    "\n",
    "При этом структура заявок следующая: почти половина (47%) приходится на POS и больше четверти на другие и неизвестые кредиты (29%). На остальные 8 продуктов приходится только 24% заявок.\n",
    "</div> "
   ]
  },
  {
   "cell_type": "markdown",
   "id": "dc52cf87",
   "metadata": {
    "ExecuteTime": {
     "end_time": "2023-07-30T14:39:29.996014Z",
     "start_time": "2023-07-30T14:39:29.984046Z"
    }
   },
   "source": [
    "## Группировка по каналу поступления заявки"
   ]
  },
  {
   "cell_type": "code",
   "execution_count": 20,
   "id": "bbcb954c",
   "metadata": {
    "ExecuteTime": {
     "end_time": "2023-07-30T18:12:15.260524Z",
     "start_time": "2023-07-30T18:12:15.257532Z"
    }
   },
   "outputs": [],
   "source": [
    "# data_df.groupby('CHANNEL').describe().sort_values([('TARGET', 'count')], ascending = False)[[('TARGET', 'count'), ('TARGET', 'mean')]]"
   ]
  },
  {
   "cell_type": "code",
   "execution_count": 152,
   "id": "4161972d",
   "metadata": {
    "ExecuteTime": {
     "end_time": "2023-07-30T19:07:55.410588Z",
     "start_time": "2023-07-30T19:07:54.961820Z"
    }
   },
   "outputs": [
    {
     "name": "stderr",
     "output_type": "stream",
     "text": [
      "C:\\Users\\75BD~1\\AppData\\Local\\Temp/ipykernel_6048/1922479184.py:5: FutureWarning: merging between different levels is deprecated and will be removed in a future version. (2 levels on the left,1 on the right)\n",
      "  channel_df = pd.merge(x1, x2, left_index=True, right_index=True)\n"
     ]
    },
    {
     "data": {
      "text/html": [
       "<div>\n",
       "<style scoped>\n",
       "    .dataframe tbody tr th:only-of-type {\n",
       "        vertical-align: middle;\n",
       "    }\n",
       "\n",
       "    .dataframe tbody tr th {\n",
       "        vertical-align: top;\n",
       "    }\n",
       "\n",
       "    .dataframe thead th {\n",
       "        text-align: right;\n",
       "    }\n",
       "</style>\n",
       "<table border=\"1\" class=\"dataframe\">\n",
       "  <thead>\n",
       "    <tr style=\"text-align: right;\">\n",
       "      <th></th>\n",
       "      <th>(TARGET, count)</th>\n",
       "      <th>(TARGET, mean)</th>\n",
       "      <th>(LIMIT, mean)</th>\n",
       "      <th>(LIMIT, 1%)</th>\n",
       "      <th>(LIMIT, 50%)</th>\n",
       "      <th>(LIMIT, 99%)</th>\n",
       "      <th>(LIMIT, 99.9%)</th>\n",
       "      <th>(LIMIT, max)</th>\n",
       "      <th>PARTNER</th>\n",
       "    </tr>\n",
       "    <tr>\n",
       "      <th>CHANNEL</th>\n",
       "      <th></th>\n",
       "      <th></th>\n",
       "      <th></th>\n",
       "      <th></th>\n",
       "      <th></th>\n",
       "      <th></th>\n",
       "      <th></th>\n",
       "      <th></th>\n",
       "      <th></th>\n",
       "    </tr>\n",
       "  </thead>\n",
       "  <tbody>\n",
       "    <tr>\n",
       "      <th>Интернет</th>\n",
       "      <td>51340.000</td>\n",
       "      <td>0.083</td>\n",
       "      <td>211418.570</td>\n",
       "      <td>0.000</td>\n",
       "      <td>28685.500</td>\n",
       "      <td>2967206.000</td>\n",
       "      <td>9547000.000</td>\n",
       "      <td>50000000.000</td>\n",
       "      <td>0.090</td>\n",
       "    </tr>\n",
       "    <tr>\n",
       "      <th>Предварительная оценка заёмщика</th>\n",
       "      <td>345.000</td>\n",
       "      <td>0.038</td>\n",
       "      <td>506628.986</td>\n",
       "      <td>36000.000</td>\n",
       "      <td>500000.000</td>\n",
       "      <td>1000000.000</td>\n",
       "      <td>1000000.000</td>\n",
       "      <td>1000000.000</td>\n",
       "      <td>0.001</td>\n",
       "    </tr>\n",
       "    <tr>\n",
       "      <th>Кросс-селл</th>\n",
       "      <td>10438.000</td>\n",
       "      <td>0.029</td>\n",
       "      <td>133675.714</td>\n",
       "      <td>10000.000</td>\n",
       "      <td>50000.000</td>\n",
       "      <td>998678.000</td>\n",
       "      <td>1619134.012</td>\n",
       "      <td>2754440.000</td>\n",
       "      <td>0.018</td>\n",
       "    </tr>\n",
       "    <tr>\n",
       "      <th>Колл-центр</th>\n",
       "      <td>1642.000</td>\n",
       "      <td>0.026</td>\n",
       "      <td>105269.998</td>\n",
       "      <td>0.000</td>\n",
       "      <td>65000.000</td>\n",
       "      <td>982766.470</td>\n",
       "      <td>3611304.000</td>\n",
       "      <td>5000000.000</td>\n",
       "      <td>0.003</td>\n",
       "    </tr>\n",
       "    <tr>\n",
       "      <th>Точка продаж</th>\n",
       "      <td>142015.000</td>\n",
       "      <td>0.020</td>\n",
       "      <td>109244.867</td>\n",
       "      <td>0.000</td>\n",
       "      <td>24500.000</td>\n",
       "      <td>1906636.000</td>\n",
       "      <td>3741204.498</td>\n",
       "      <td>9658836.000</td>\n",
       "      <td>0.250</td>\n",
       "    </tr>\n",
       "    <tr>\n",
       "      <th>Значение не передается</th>\n",
       "      <td>184532.000</td>\n",
       "      <td>0.018</td>\n",
       "      <td>225822.454</td>\n",
       "      <td>0.000</td>\n",
       "      <td>45000.000</td>\n",
       "      <td>2500000.000</td>\n",
       "      <td>5456960.000</td>\n",
       "      <td>21196600.000</td>\n",
       "      <td>0.325</td>\n",
       "    </tr>\n",
       "    <tr>\n",
       "      <th>Другое</th>\n",
       "      <td>413.000</td>\n",
       "      <td>0.012</td>\n",
       "      <td>604215.293</td>\n",
       "      <td>12000.000</td>\n",
       "      <td>300000.000</td>\n",
       "      <td>4037000.000</td>\n",
       "      <td>6090931.688</td>\n",
       "      <td>6855326.000</td>\n",
       "      <td>0.001</td>\n",
       "    </tr>\n",
       "    <tr>\n",
       "      <th>Брокер (оффлайн)</th>\n",
       "      <td>74474.000</td>\n",
       "      <td>0.009</td>\n",
       "      <td>72324.557</td>\n",
       "      <td>0.000</td>\n",
       "      <td>35331.000</td>\n",
       "      <td>1274913.151</td>\n",
       "      <td>3884208.900</td>\n",
       "      <td>9710000.000</td>\n",
       "      <td>0.131</td>\n",
       "    </tr>\n",
       "    <tr>\n",
       "      <th>Отделение</th>\n",
       "      <td>101948.000</td>\n",
       "      <td>0.007</td>\n",
       "      <td>242180.335</td>\n",
       "      <td>1000.000</td>\n",
       "      <td>75000.000</td>\n",
       "      <td>3000000.000</td>\n",
       "      <td>6511173.000</td>\n",
       "      <td>100000000.000</td>\n",
       "      <td>0.180</td>\n",
       "    </tr>\n",
       "    <tr>\n",
       "      <th>Корпоративные продажи</th>\n",
       "      <td>244.000</td>\n",
       "      <td>0.004</td>\n",
       "      <td>1044473.290</td>\n",
       "      <td>15000.000</td>\n",
       "      <td>576250.000</td>\n",
       "      <td>4777440.000</td>\n",
       "      <td>5529414.000</td>\n",
       "      <td>5700000.000</td>\n",
       "      <td>0.000</td>\n",
       "    </tr>\n",
       "  </tbody>\n",
       "</table>\n",
       "</div>"
      ],
      "text/plain": [
       "                                 (TARGET, count)  (TARGET, mean)  \\\n",
       "CHANNEL                                                            \n",
       "Интернет                               51340.000           0.083   \n",
       "Предварительная оценка заёмщика          345.000           0.038   \n",
       "Кросс-селл                             10438.000           0.029   \n",
       "Колл-центр                              1642.000           0.026   \n",
       "Точка продаж                          142015.000           0.020   \n",
       "Значение не передается                184532.000           0.018   \n",
       "Другое                                   413.000           0.012   \n",
       "Брокер (оффлайн)                       74474.000           0.009   \n",
       "Отделение                             101948.000           0.007   \n",
       "Корпоративные продажи                    244.000           0.004   \n",
       "\n",
       "                                 (LIMIT, mean)  (LIMIT, 1%)  (LIMIT, 50%)  \\\n",
       "CHANNEL                                                                     \n",
       "Интернет                            211418.570        0.000     28685.500   \n",
       "Предварительная оценка заёмщика     506628.986    36000.000    500000.000   \n",
       "Кросс-селл                          133675.714    10000.000     50000.000   \n",
       "Колл-центр                          105269.998        0.000     65000.000   \n",
       "Точка продаж                        109244.867        0.000     24500.000   \n",
       "Значение не передается              225822.454        0.000     45000.000   \n",
       "Другое                              604215.293    12000.000    300000.000   \n",
       "Брокер (оффлайн)                     72324.557        0.000     35331.000   \n",
       "Отделение                           242180.335     1000.000     75000.000   \n",
       "Корпоративные продажи              1044473.290    15000.000    576250.000   \n",
       "\n",
       "                                 (LIMIT, 99%)  (LIMIT, 99.9%)  (LIMIT, max)  \\\n",
       "CHANNEL                                                                       \n",
       "Интернет                          2967206.000     9547000.000  50000000.000   \n",
       "Предварительная оценка заёмщика   1000000.000     1000000.000   1000000.000   \n",
       "Кросс-селл                         998678.000     1619134.012   2754440.000   \n",
       "Колл-центр                         982766.470     3611304.000   5000000.000   \n",
       "Точка продаж                      1906636.000     3741204.498   9658836.000   \n",
       "Значение не передается            2500000.000     5456960.000  21196600.000   \n",
       "Другое                            4037000.000     6090931.688   6855326.000   \n",
       "Брокер (оффлайн)                  1274913.151     3884208.900   9710000.000   \n",
       "Отделение                         3000000.000     6511173.000 100000000.000   \n",
       "Корпоративные продажи             4777440.000     5529414.000   5700000.000   \n",
       "\n",
       "                                 PARTNER  \n",
       "CHANNEL                                   \n",
       "Интернет                           0.090  \n",
       "Предварительная оценка заёмщика    0.001  \n",
       "Кросс-селл                         0.018  \n",
       "Колл-центр                         0.003  \n",
       "Точка продаж                       0.250  \n",
       "Значение не передается             0.325  \n",
       "Другое                             0.001  \n",
       "Брокер (оффлайн)                   0.131  \n",
       "Отделение                          0.180  \n",
       "Корпоративные продажи              0.000  "
      ]
     },
     "execution_count": 152,
     "metadata": {},
     "output_type": "execute_result"
    }
   ],
   "source": [
    "x1 = data_df.groupby('CHANNEL').describe(percentiles = [0.01, 0.5, 0.99, 0.999]).sort_values([('TARGET', 'mean')], ascending = False)[[('TARGET', 'count'), ('TARGET', 'mean'), ('LIMIT', 'mean'), ( 'LIMIT',   '1%'), ( 'LIMIT',   '50%'), ( 'LIMIT',   '99%'), ( 'LIMIT',   '99.9%'), ( 'LIMIT',   'max')]]\n",
    "\n",
    "x2 = data_df.groupby('CHANNEL').count().sort_values('PARTNER', ascending = False)['PARTNER']/data_df['TARGET'].count()\n",
    "x2 = pd.DataFrame(x2)\n",
    "channel_df = pd.merge(x1, x2, left_index=True, right_index=True)\n",
    "#channel_df.columns = ['count', 'mean', 'share']\n",
    "#channel_df.sort_values('count', ascending = False)\n",
    "channel_df"
   ]
  },
  {
   "cell_type": "code",
   "execution_count": 135,
   "id": "5cc05809",
   "metadata": {
    "ExecuteTime": {
     "end_time": "2023-07-30T19:05:46.113870Z",
     "start_time": "2023-07-30T19:05:45.831108Z"
    }
   },
   "outputs": [
    {
     "data": {
      "image/png": "[encoded data removed]",
      "text/plain": [
       "<Figure size 673.92x476.64 with 1 Axes>"
      ]
     },
     "metadata": {},
     "output_type": "display_data"
    }
   ],
   "source": [
    "sns_dist('CHANNEL')"
   ]
  },
  {
   "cell_type": "markdown",
   "id": "058ef0ef",
   "metadata": {
    "ExecuteTime": {
     "end_time": "2023-07-30T14:57:33.567257Z",
     "start_time": "2023-07-30T14:57:33.562271Z"
    }
   },
   "source": [
    "<div class=\"alert alert-block alert-info\">\n",
    "Cамый большой DR в канале интернет - 8.3%, а самый низкий DR в отделениях и корпоративных продажах - 0.7% и 0.4% соответственно. \n",
    "\n",
    "Структура каналов заявок следующая: по 33% заяков мы не знаем канал продаж, по 25% - это точка продаж и в 18% заявка пришла через отделение.\n",
    "</div> "
   ]
  },
  {
   "cell_type": "markdown",
   "id": "6344ee9e",
   "metadata": {
    "ExecuteTime": {
     "end_time": "2023-07-30T15:08:01.048978Z",
     "start_time": "2023-07-30T15:08:01.035003Z"
    }
   },
   "source": [
    "## Группировка по партнерам"
   ]
  },
  {
   "cell_type": "code",
   "execution_count": 153,
   "id": "1c5c5244",
   "metadata": {
    "ExecuteTime": {
     "end_time": "2023-07-30T19:08:03.603587Z",
     "start_time": "2023-07-30T19:08:03.100931Z"
    },
    "scrolled": true
   },
   "outputs": [
    {
     "name": "stderr",
     "output_type": "stream",
     "text": [
      "C:\\Users\\75BD~1\\AppData\\Local\\Temp/ipykernel_6048/4015566789.py:4: FutureWarning: merging between different levels is deprecated and will be removed in a future version. (2 levels on the left,1 on the right)\n",
      "  partner_df = pd.merge(x1, x2, left_index=True, right_index=True)\n"
     ]
    }
   ],
   "source": [
    "x1 = data_df.groupby('PARTNER').describe(percentiles = [0.01, 0.5, 0.99, 0.999]).sort_values([('TARGET', 'mean')], ascending = False)[[('TARGET', 'count'), ('TARGET', 'mean'), ('LIMIT', 'mean'), ( 'LIMIT',   '1%'), ( 'LIMIT',   '50%'), ( 'LIMIT',   '99%'), ( 'LIMIT',   '99.9%'), ( 'LIMIT',   'max')]]\n",
    "x2 = data_df.groupby('PARTNER').count().sort_values('PARTNER', ascending = False)['APPID']/data_df['TARGET'].count()\n",
    "x2 = pd.DataFrame(x2)\n",
    "partner_df = pd.merge(x1, x2, left_index=True, right_index=True)\n",
    "#partner_df.columns = ['count', 'mean', 'share']"
   ]
  },
  {
   "cell_type": "code",
   "execution_count": 154,
   "id": "2a7f9adc",
   "metadata": {
    "ExecuteTime": {
     "end_time": "2023-07-30T19:08:24.169982Z",
     "start_time": "2023-07-30T19:08:24.152030Z"
    }
   },
   "outputs": [
    {
     "data": {
      "text/html": [
       "<div>\n",
       "<style scoped>\n",
       "    .dataframe tbody tr th:only-of-type {\n",
       "        vertical-align: middle;\n",
       "    }\n",
       "\n",
       "    .dataframe tbody tr th {\n",
       "        vertical-align: top;\n",
       "    }\n",
       "\n",
       "    .dataframe thead th {\n",
       "        text-align: right;\n",
       "    }\n",
       "</style>\n",
       "<table border=\"1\" class=\"dataframe\">\n",
       "  <thead>\n",
       "    <tr style=\"text-align: right;\">\n",
       "      <th></th>\n",
       "      <th>(TARGET, count)</th>\n",
       "      <th>(TARGET, mean)</th>\n",
       "      <th>(LIMIT, mean)</th>\n",
       "      <th>(LIMIT, 1%)</th>\n",
       "      <th>(LIMIT, 50%)</th>\n",
       "      <th>(LIMIT, 99%)</th>\n",
       "      <th>(LIMIT, 99.9%)</th>\n",
       "      <th>(LIMIT, max)</th>\n",
       "      <th>APPID</th>\n",
       "    </tr>\n",
       "    <tr>\n",
       "      <th>PARTNER</th>\n",
       "      <th></th>\n",
       "      <th></th>\n",
       "      <th></th>\n",
       "      <th></th>\n",
       "      <th></th>\n",
       "      <th></th>\n",
       "      <th></th>\n",
       "      <th></th>\n",
       "      <th></th>\n",
       "    </tr>\n",
       "  </thead>\n",
       "  <tbody>\n",
       "    <tr>\n",
       "      <th>PARTNER2</th>\n",
       "      <td>2225.000</td>\n",
       "      <td>0.401</td>\n",
       "      <td>18570.562</td>\n",
       "      <td>2000.000</td>\n",
       "      <td>19000.000</td>\n",
       "      <td>30000.000</td>\n",
       "      <td>30000.000</td>\n",
       "      <td>30000.000</td>\n",
       "      <td>0.004</td>\n",
       "    </tr>\n",
       "    <tr>\n",
       "      <th>PARTNER32</th>\n",
       "      <td>1722.000</td>\n",
       "      <td>0.355</td>\n",
       "      <td>20645.761</td>\n",
       "      <td>1000.000</td>\n",
       "      <td>15000.000</td>\n",
       "      <td>100000.000</td>\n",
       "      <td>100000.000</td>\n",
       "      <td>100000.000</td>\n",
       "      <td>0.003</td>\n",
       "    </tr>\n",
       "    <tr>\n",
       "      <th>PARTNER25</th>\n",
       "      <td>1498.000</td>\n",
       "      <td>0.350</td>\n",
       "      <td>0.000</td>\n",
       "      <td>0.000</td>\n",
       "      <td>0.000</td>\n",
       "      <td>0.000</td>\n",
       "      <td>0.000</td>\n",
       "      <td>0.000</td>\n",
       "      <td>0.003</td>\n",
       "    </tr>\n",
       "    <tr>\n",
       "      <th>PARTNER35</th>\n",
       "      <td>2507.000</td>\n",
       "      <td>0.268</td>\n",
       "      <td>10592.225</td>\n",
       "      <td>3000.000</td>\n",
       "      <td>10000.000</td>\n",
       "      <td>19000.000</td>\n",
       "      <td>28962.700</td>\n",
       "      <td>32160.000</td>\n",
       "      <td>0.004</td>\n",
       "    </tr>\n",
       "    <tr>\n",
       "      <th>PARTNER18</th>\n",
       "      <td>3095.000</td>\n",
       "      <td>0.184</td>\n",
       "      <td>0.000</td>\n",
       "      <td>0.000</td>\n",
       "      <td>0.000</td>\n",
       "      <td>0.000</td>\n",
       "      <td>0.000</td>\n",
       "      <td>0.000</td>\n",
       "      <td>0.005</td>\n",
       "    </tr>\n",
       "    <tr>\n",
       "      <th>PARTNER27</th>\n",
       "      <td>1971.000</td>\n",
       "      <td>0.163</td>\n",
       "      <td>28282.529</td>\n",
       "      <td>3000.000</td>\n",
       "      <td>18178.000</td>\n",
       "      <td>100000.000</td>\n",
       "      <td>500000.000</td>\n",
       "      <td>2300000.000</td>\n",
       "      <td>0.003</td>\n",
       "    </tr>\n",
       "    <tr>\n",
       "      <th>PARTNER45</th>\n",
       "      <td>7491.000</td>\n",
       "      <td>0.140</td>\n",
       "      <td>12098.251</td>\n",
       "      <td>3000.000</td>\n",
       "      <td>11000.000</td>\n",
       "      <td>30000.000</td>\n",
       "      <td>50000.000</td>\n",
       "      <td>100000.000</td>\n",
       "      <td>0.013</td>\n",
       "    </tr>\n",
       "    <tr>\n",
       "      <th>PARTNER31</th>\n",
       "      <td>35605.000</td>\n",
       "      <td>0.034</td>\n",
       "      <td>120110.851</td>\n",
       "      <td>5185.000</td>\n",
       "      <td>50000.000</td>\n",
       "      <td>1000000.000</td>\n",
       "      <td>5000000.000</td>\n",
       "      <td>6498150.000</td>\n",
       "      <td>0.063</td>\n",
       "    </tr>\n",
       "    <tr>\n",
       "      <th>PARTNER6</th>\n",
       "      <td>127215.000</td>\n",
       "      <td>0.018</td>\n",
       "      <td>40837.691</td>\n",
       "      <td>0.000</td>\n",
       "      <td>21516.000</td>\n",
       "      <td>351840.000</td>\n",
       "      <td>998566.000</td>\n",
       "      <td>2754440.000</td>\n",
       "      <td>0.224</td>\n",
       "    </tr>\n",
       "    <tr>\n",
       "      <th>PARTNER7</th>\n",
       "      <td>11086.000</td>\n",
       "      <td>0.013</td>\n",
       "      <td>222544.102</td>\n",
       "      <td>6285.740</td>\n",
       "      <td>66927.840</td>\n",
       "      <td>2495623.069</td>\n",
       "      <td>3290183.984</td>\n",
       "      <td>6000000.000</td>\n",
       "      <td>0.020</td>\n",
       "    </tr>\n",
       "  </tbody>\n",
       "</table>\n",
       "</div>"
      ],
      "text/plain": [
       "           (TARGET, count)  (TARGET, mean)  (LIMIT, mean)  (LIMIT, 1%)  \\\n",
       "PARTNER                                                                  \n",
       "PARTNER2          2225.000           0.401      18570.562     2000.000   \n",
       "PARTNER32         1722.000           0.355      20645.761     1000.000   \n",
       "PARTNER25         1498.000           0.350          0.000        0.000   \n",
       "PARTNER35         2507.000           0.268      10592.225     3000.000   \n",
       "PARTNER18         3095.000           0.184          0.000        0.000   \n",
       "PARTNER27         1971.000           0.163      28282.529     3000.000   \n",
       "PARTNER45         7491.000           0.140      12098.251     3000.000   \n",
       "PARTNER31        35605.000           0.034     120110.851     5185.000   \n",
       "PARTNER6        127215.000           0.018      40837.691        0.000   \n",
       "PARTNER7         11086.000           0.013     222544.102     6285.740   \n",
       "\n",
       "           (LIMIT, 50%)  (LIMIT, 99%)  (LIMIT, 99.9%)  (LIMIT, max)  APPID  \n",
       "PARTNER                                                                     \n",
       "PARTNER2      19000.000     30000.000       30000.000     30000.000  0.004  \n",
       "PARTNER32     15000.000    100000.000      100000.000    100000.000  0.003  \n",
       "PARTNER25         0.000         0.000           0.000         0.000  0.003  \n",
       "PARTNER35     10000.000     19000.000       28962.700     32160.000  0.004  \n",
       "PARTNER18         0.000         0.000           0.000         0.000  0.005  \n",
       "PARTNER27     18178.000    100000.000      500000.000   2300000.000  0.003  \n",
       "PARTNER45     11000.000     30000.000       50000.000    100000.000  0.013  \n",
       "PARTNER31     50000.000   1000000.000     5000000.000   6498150.000  0.063  \n",
       "PARTNER6      21516.000    351840.000      998566.000   2754440.000  0.224  \n",
       "PARTNER7      66927.840   2495623.069     3290183.984   6000000.000  0.020  "
      ]
     },
     "execution_count": 154,
     "metadata": {},
     "output_type": "execute_result"
    }
   ],
   "source": [
    "partner_df[partner_df[('TARGET', 'count')] > 1000].head(10)"
   ]
  },
  {
   "cell_type": "code",
   "execution_count": 155,
   "id": "e5bae351",
   "metadata": {
    "ExecuteTime": {
     "end_time": "2023-07-30T19:08:33.603876Z",
     "start_time": "2023-07-30T19:08:33.582932Z"
    }
   },
   "outputs": [
    {
     "data": {
      "text/html": [
       "<div>\n",
       "<style scoped>\n",
       "    .dataframe tbody tr th:only-of-type {\n",
       "        vertical-align: middle;\n",
       "    }\n",
       "\n",
       "    .dataframe tbody tr th {\n",
       "        vertical-align: top;\n",
       "    }\n",
       "\n",
       "    .dataframe thead th {\n",
       "        text-align: right;\n",
       "    }\n",
       "</style>\n",
       "<table border=\"1\" class=\"dataframe\">\n",
       "  <thead>\n",
       "    <tr style=\"text-align: right;\">\n",
       "      <th></th>\n",
       "      <th>(TARGET, count)</th>\n",
       "      <th>(TARGET, mean)</th>\n",
       "      <th>(LIMIT, mean)</th>\n",
       "      <th>(LIMIT, 1%)</th>\n",
       "      <th>(LIMIT, 50%)</th>\n",
       "      <th>(LIMIT, 99%)</th>\n",
       "      <th>(LIMIT, 99.9%)</th>\n",
       "      <th>(LIMIT, max)</th>\n",
       "      <th>APPID</th>\n",
       "    </tr>\n",
       "    <tr>\n",
       "      <th>PARTNER</th>\n",
       "      <th></th>\n",
       "      <th></th>\n",
       "      <th></th>\n",
       "      <th></th>\n",
       "      <th></th>\n",
       "      <th></th>\n",
       "      <th></th>\n",
       "      <th></th>\n",
       "      <th></th>\n",
       "    </tr>\n",
       "  </thead>\n",
       "  <tbody>\n",
       "    <tr>\n",
       "      <th>PARTNER6</th>\n",
       "      <td>127215.000</td>\n",
       "      <td>0.018</td>\n",
       "      <td>40837.691</td>\n",
       "      <td>0.000</td>\n",
       "      <td>21516.000</td>\n",
       "      <td>351840.000</td>\n",
       "      <td>998566.000</td>\n",
       "      <td>2754440.000</td>\n",
       "      <td>0.224</td>\n",
       "    </tr>\n",
       "    <tr>\n",
       "      <th>PARTNER28</th>\n",
       "      <td>104237.000</td>\n",
       "      <td>0.010</td>\n",
       "      <td>124181.848</td>\n",
       "      <td>0.000</td>\n",
       "      <td>45000.000</td>\n",
       "      <td>1811528.689</td>\n",
       "      <td>3330337.744</td>\n",
       "      <td>7523384.190</td>\n",
       "      <td>0.184</td>\n",
       "    </tr>\n",
       "    <tr>\n",
       "      <th>PARTNER40</th>\n",
       "      <td>80650.000</td>\n",
       "      <td>0.005</td>\n",
       "      <td>226943.895</td>\n",
       "      <td>1500.000</td>\n",
       "      <td>60000.000</td>\n",
       "      <td>3000000.000</td>\n",
       "      <td>6769956.456</td>\n",
       "      <td>80000000.000</td>\n",
       "      <td>0.142</td>\n",
       "    </tr>\n",
       "    <tr>\n",
       "      <th>PARTNER23</th>\n",
       "      <td>75993.000</td>\n",
       "      <td>0.008</td>\n",
       "      <td>65657.707</td>\n",
       "      <td>5149.840</td>\n",
       "      <td>36000.000</td>\n",
       "      <td>644971.480</td>\n",
       "      <td>2322353.600</td>\n",
       "      <td>4502235.000</td>\n",
       "      <td>0.134</td>\n",
       "    </tr>\n",
       "    <tr>\n",
       "      <th>PARTNER31</th>\n",
       "      <td>35605.000</td>\n",
       "      <td>0.034</td>\n",
       "      <td>120110.851</td>\n",
       "      <td>5185.000</td>\n",
       "      <td>50000.000</td>\n",
       "      <td>1000000.000</td>\n",
       "      <td>5000000.000</td>\n",
       "      <td>6498150.000</td>\n",
       "      <td>0.063</td>\n",
       "    </tr>\n",
       "    <tr>\n",
       "      <th>PARTNER9</th>\n",
       "      <td>31074.000</td>\n",
       "      <td>0.010</td>\n",
       "      <td>284980.147</td>\n",
       "      <td>0.000</td>\n",
       "      <td>79308.000</td>\n",
       "      <td>3640000.000</td>\n",
       "      <td>12000000.000</td>\n",
       "      <td>100000000.000</td>\n",
       "      <td>0.055</td>\n",
       "    </tr>\n",
       "    <tr>\n",
       "      <th>PARTNER20</th>\n",
       "      <td>23410.000</td>\n",
       "      <td>0.012</td>\n",
       "      <td>108721.060</td>\n",
       "      <td>0.000</td>\n",
       "      <td>23159.000</td>\n",
       "      <td>1700000.000</td>\n",
       "      <td>3500000.000</td>\n",
       "      <td>18900000.000</td>\n",
       "      <td>0.041</td>\n",
       "    </tr>\n",
       "    <tr>\n",
       "      <th>PARTNER38</th>\n",
       "      <td>14991.000</td>\n",
       "      <td>0.003</td>\n",
       "      <td>1336668.040</td>\n",
       "      <td>255427.005</td>\n",
       "      <td>1055140.000</td>\n",
       "      <td>5502460.300</td>\n",
       "      <td>11016000.000</td>\n",
       "      <td>21196600.000</td>\n",
       "      <td>0.026</td>\n",
       "    </tr>\n",
       "    <tr>\n",
       "      <th>PARTNER8</th>\n",
       "      <td>12007.000</td>\n",
       "      <td>0.012</td>\n",
       "      <td>78698.757</td>\n",
       "      <td>0.000</td>\n",
       "      <td>47176.000</td>\n",
       "      <td>900000.000</td>\n",
       "      <td>1349877.000</td>\n",
       "      <td>15000000.000</td>\n",
       "      <td>0.021</td>\n",
       "    </tr>\n",
       "    <tr>\n",
       "      <th>PARTNER7</th>\n",
       "      <td>11086.000</td>\n",
       "      <td>0.013</td>\n",
       "      <td>222544.102</td>\n",
       "      <td>6285.740</td>\n",
       "      <td>66927.840</td>\n",
       "      <td>2495623.069</td>\n",
       "      <td>3290183.984</td>\n",
       "      <td>6000000.000</td>\n",
       "      <td>0.020</td>\n",
       "    </tr>\n",
       "  </tbody>\n",
       "</table>\n",
       "</div>"
      ],
      "text/plain": [
       "           (TARGET, count)  (TARGET, mean)  (LIMIT, mean)  (LIMIT, 1%)  \\\n",
       "PARTNER                                                                  \n",
       "PARTNER6        127215.000           0.018      40837.691        0.000   \n",
       "PARTNER28       104237.000           0.010     124181.848        0.000   \n",
       "PARTNER40        80650.000           0.005     226943.895     1500.000   \n",
       "PARTNER23        75993.000           0.008      65657.707     5149.840   \n",
       "PARTNER31        35605.000           0.034     120110.851     5185.000   \n",
       "PARTNER9         31074.000           0.010     284980.147        0.000   \n",
       "PARTNER20        23410.000           0.012     108721.060        0.000   \n",
       "PARTNER38        14991.000           0.003    1336668.040   255427.005   \n",
       "PARTNER8         12007.000           0.012      78698.757        0.000   \n",
       "PARTNER7         11086.000           0.013     222544.102     6285.740   \n",
       "\n",
       "           (LIMIT, 50%)  (LIMIT, 99%)  (LIMIT, 99.9%)  (LIMIT, max)  APPID  \n",
       "PARTNER                                                                     \n",
       "PARTNER6      21516.000    351840.000      998566.000   2754440.000  0.224  \n",
       "PARTNER28     45000.000   1811528.689     3330337.744   7523384.190  0.184  \n",
       "PARTNER40     60000.000   3000000.000     6769956.456  80000000.000  0.142  \n",
       "PARTNER23     36000.000    644971.480     2322353.600   4502235.000  0.134  \n",
       "PARTNER31     50000.000   1000000.000     5000000.000   6498150.000  0.063  \n",
       "PARTNER9      79308.000   3640000.000    12000000.000 100000000.000  0.055  \n",
       "PARTNER20     23159.000   1700000.000     3500000.000  18900000.000  0.041  \n",
       "PARTNER38   1055140.000   5502460.300    11016000.000  21196600.000  0.026  \n",
       "PARTNER8      47176.000    900000.000     1349877.000  15000000.000  0.021  \n",
       "PARTNER7      66927.840   2495623.069     3290183.984   6000000.000  0.020  "
      ]
     },
     "execution_count": 155,
     "metadata": {},
     "output_type": "execute_result"
    }
   ],
   "source": [
    "partner_df.sort_values(('TARGET', 'count'), ascending = False).head(10)"
   ]
  },
  {
   "cell_type": "markdown",
   "id": "10abd979",
   "metadata": {
    "ExecuteTime": {
     "end_time": "2023-07-30T15:20:27.477012Z",
     "start_time": "2023-07-30T15:20:27.460091Z"
    }
   },
   "source": [
    "<div class=\"alert alert-block alert-info\">\n",
    "Есть партнеры с очень большим DR (среди тех от кого приходят более 1000 заявок).   \n",
    "    \n",
    "Например, PARTNER2 с DR 40% и PARTNER32, PARTNER25 c DR 35%\n",
    "    \n",
    "При этом \"Микрозаймы\" при 4% портфеля дают 40% вклада в общий DR. Давайте посмотрим на этих трех партнеров подробнее\n",
    "</div> "
   ]
  },
  {
   "cell_type": "code",
   "execution_count": 27,
   "id": "7dacefe2",
   "metadata": {
    "ExecuteTime": {
     "end_time": "2023-07-30T18:12:20.178527Z",
     "start_time": "2023-07-30T18:12:20.074189Z"
    }
   },
   "outputs": [
    {
     "data": {
      "text/html": [
       "<div>\n",
       "<style scoped>\n",
       "    .dataframe tbody tr th:only-of-type {\n",
       "        vertical-align: middle;\n",
       "    }\n",
       "\n",
       "    .dataframe tbody tr th {\n",
       "        vertical-align: top;\n",
       "    }\n",
       "\n",
       "    .dataframe thead th {\n",
       "        text-align: right;\n",
       "    }\n",
       "</style>\n",
       "<table border=\"1\" class=\"dataframe\">\n",
       "  <thead>\n",
       "    <tr style=\"text-align: right;\">\n",
       "      <th></th>\n",
       "      <th>count</th>\n",
       "      <th>mean</th>\n",
       "      <th>std</th>\n",
       "      <th>min</th>\n",
       "      <th>25%</th>\n",
       "      <th>50%</th>\n",
       "      <th>75%</th>\n",
       "      <th>max</th>\n",
       "    </tr>\n",
       "  </thead>\n",
       "  <tbody>\n",
       "    <tr>\n",
       "      <th>TARGET</th>\n",
       "      <td>545258.000</td>\n",
       "      <td>0.013</td>\n",
       "      <td>0.112</td>\n",
       "      <td>0.000</td>\n",
       "      <td>0.000</td>\n",
       "      <td>0.000</td>\n",
       "      <td>0.000</td>\n",
       "      <td>1.000</td>\n",
       "    </tr>\n",
       "  </tbody>\n",
       "</table>\n",
       "</div>"
      ],
      "text/plain": [
       "            count  mean   std   min   25%   50%   75%   max\n",
       "TARGET 545258.000 0.013 0.112 0.000 0.000 0.000 0.000 1.000"
      ]
     },
     "execution_count": 27,
     "metadata": {},
     "output_type": "execute_result"
    }
   ],
   "source": [
    "data_df[data_df['PRODUCTTYPE'] != 'Микрозайм'].describe().T"
   ]
  },
  {
   "cell_type": "markdown",
   "id": "39f54fa3",
   "metadata": {},
   "source": [
    "### PARTNER2"
   ]
  },
  {
   "cell_type": "code",
   "execution_count": 156,
   "id": "113d5513",
   "metadata": {
    "ExecuteTime": {
     "end_time": "2023-07-30T19:09:28.957726Z",
     "start_time": "2023-07-30T19:09:28.918303Z"
    }
   },
   "outputs": [],
   "source": [
    "partner2_df = data_df[data_df['PARTNER'] == 'PARTNER2']"
   ]
  },
  {
   "cell_type": "code",
   "execution_count": 157,
   "id": "8537ef4c",
   "metadata": {
    "ExecuteTime": {
     "end_time": "2023-07-30T19:09:29.500682Z",
     "start_time": "2023-07-30T19:09:29.476746Z"
    }
   },
   "outputs": [
    {
     "data": {
      "text/html": [
       "<div>\n",
       "<style scoped>\n",
       "    .dataframe tbody tr th:only-of-type {\n",
       "        vertical-align: middle;\n",
       "    }\n",
       "\n",
       "    .dataframe tbody tr th {\n",
       "        vertical-align: top;\n",
       "    }\n",
       "\n",
       "    .dataframe thead th {\n",
       "        text-align: right;\n",
       "    }\n",
       "</style>\n",
       "<table border=\"1\" class=\"dataframe\">\n",
       "  <thead>\n",
       "    <tr style=\"text-align: right;\">\n",
       "      <th></th>\n",
       "      <th>PRODUCTTYPE</th>\n",
       "      <th>Микрозайм</th>\n",
       "    </tr>\n",
       "  </thead>\n",
       "  <tbody>\n",
       "    <tr>\n",
       "      <th rowspan=\"2\" valign=\"top\">TARGET</th>\n",
       "      <th>count</th>\n",
       "      <td>2225.000</td>\n",
       "    </tr>\n",
       "    <tr>\n",
       "      <th>mean</th>\n",
       "      <td>0.401</td>\n",
       "    </tr>\n",
       "  </tbody>\n",
       "</table>\n",
       "</div>"
      ],
      "text/plain": [
       "PRODUCTTYPE   Микрозайм\n",
       "TARGET count   2225.000\n",
       "       mean       0.401"
      ]
     },
     "execution_count": 157,
     "metadata": {},
     "output_type": "execute_result"
    }
   ],
   "source": [
    "partner2_df.groupby('PRODUCTTYPE').describe().sort_values([('TARGET', 'mean')], ascending = False)[[('TARGET', 'count'), ('TARGET', 'mean')]].T"
   ]
  },
  {
   "cell_type": "code",
   "execution_count": 158,
   "id": "429e1647",
   "metadata": {
    "ExecuteTime": {
     "end_time": "2023-07-30T19:09:29.997552Z",
     "start_time": "2023-07-30T19:09:29.983589Z"
    }
   },
   "outputs": [
    {
     "data": {
      "text/html": [
       "<div>\n",
       "<style scoped>\n",
       "    .dataframe tbody tr th:only-of-type {\n",
       "        vertical-align: middle;\n",
       "    }\n",
       "\n",
       "    .dataframe tbody tr th {\n",
       "        vertical-align: top;\n",
       "    }\n",
       "\n",
       "    .dataframe thead th {\n",
       "        text-align: right;\n",
       "    }\n",
       "</style>\n",
       "<table border=\"1\" class=\"dataframe\">\n",
       "  <thead>\n",
       "    <tr style=\"text-align: right;\">\n",
       "      <th></th>\n",
       "      <th>CHANNEL</th>\n",
       "      <th>Интернет</th>\n",
       "    </tr>\n",
       "  </thead>\n",
       "  <tbody>\n",
       "    <tr>\n",
       "      <th rowspan=\"2\" valign=\"top\">TARGET</th>\n",
       "      <th>count</th>\n",
       "      <td>2225.000</td>\n",
       "    </tr>\n",
       "    <tr>\n",
       "      <th>mean</th>\n",
       "      <td>0.401</td>\n",
       "    </tr>\n",
       "  </tbody>\n",
       "</table>\n",
       "</div>"
      ],
      "text/plain": [
       "CHANNEL       Интернет\n",
       "TARGET count  2225.000\n",
       "       mean      0.401"
      ]
     },
     "execution_count": 158,
     "metadata": {},
     "output_type": "execute_result"
    }
   ],
   "source": [
    "partner2_df.groupby('CHANNEL').describe().sort_values([('TARGET', 'mean')], ascending = False)[[('TARGET', 'count'), ('TARGET', 'mean')]].T"
   ]
  },
  {
   "cell_type": "markdown",
   "id": "307b1438",
   "metadata": {
    "ExecuteTime": {
     "end_time": "2023-07-30T15:23:43.512300Z",
     "start_time": "2023-07-30T15:23:43.508310Z"
    }
   },
   "source": [
    "### PARTNER32"
   ]
  },
  {
   "cell_type": "code",
   "execution_count": 159,
   "id": "febfa2fc",
   "metadata": {
    "ExecuteTime": {
     "end_time": "2023-07-30T19:09:30.700237Z",
     "start_time": "2023-07-30T19:09:30.660267Z"
    }
   },
   "outputs": [],
   "source": [
    "partner32_df = data_df[data_df['PARTNER'] == 'PARTNER32']"
   ]
  },
  {
   "cell_type": "code",
   "execution_count": 160,
   "id": "93c92eeb",
   "metadata": {
    "ExecuteTime": {
     "end_time": "2023-07-30T19:09:30.901038Z",
     "start_time": "2023-07-30T19:09:30.879098Z"
    }
   },
   "outputs": [
    {
     "data": {
      "text/html": [
       "<div>\n",
       "<style scoped>\n",
       "    .dataframe tbody tr th:only-of-type {\n",
       "        vertical-align: middle;\n",
       "    }\n",
       "\n",
       "    .dataframe tbody tr th {\n",
       "        vertical-align: top;\n",
       "    }\n",
       "\n",
       "    .dataframe thead th {\n",
       "        text-align: right;\n",
       "    }\n",
       "</style>\n",
       "<table border=\"1\" class=\"dataframe\">\n",
       "  <thead>\n",
       "    <tr style=\"text-align: right;\">\n",
       "      <th></th>\n",
       "      <th>PRODUCTTYPE</th>\n",
       "      <th>Микрозайм</th>\n",
       "    </tr>\n",
       "  </thead>\n",
       "  <tbody>\n",
       "    <tr>\n",
       "      <th rowspan=\"2\" valign=\"top\">TARGET</th>\n",
       "      <th>count</th>\n",
       "      <td>1722.000</td>\n",
       "    </tr>\n",
       "    <tr>\n",
       "      <th>mean</th>\n",
       "      <td>0.355</td>\n",
       "    </tr>\n",
       "  </tbody>\n",
       "</table>\n",
       "</div>"
      ],
      "text/plain": [
       "PRODUCTTYPE   Микрозайм\n",
       "TARGET count   1722.000\n",
       "       mean       0.355"
      ]
     },
     "execution_count": 160,
     "metadata": {},
     "output_type": "execute_result"
    }
   ],
   "source": [
    "partner32_df.groupby('PRODUCTTYPE').describe().sort_values([('TARGET', 'mean')], ascending = False)[[('TARGET', 'count'), ('TARGET', 'mean')]].T"
   ]
  },
  {
   "cell_type": "code",
   "execution_count": 161,
   "id": "27b52724",
   "metadata": {
    "ExecuteTime": {
     "end_time": "2023-07-30T19:09:31.185219Z",
     "start_time": "2023-07-30T19:09:31.161282Z"
    }
   },
   "outputs": [
    {
     "data": {
      "text/html": [
       "<div>\n",
       "<style scoped>\n",
       "    .dataframe tbody tr th:only-of-type {\n",
       "        vertical-align: middle;\n",
       "    }\n",
       "\n",
       "    .dataframe tbody tr th {\n",
       "        vertical-align: top;\n",
       "    }\n",
       "\n",
       "    .dataframe thead th {\n",
       "        text-align: right;\n",
       "    }\n",
       "</style>\n",
       "<table border=\"1\" class=\"dataframe\">\n",
       "  <thead>\n",
       "    <tr style=\"text-align: right;\">\n",
       "      <th></th>\n",
       "      <th>CHANNEL</th>\n",
       "      <th>Точка продаж</th>\n",
       "    </tr>\n",
       "  </thead>\n",
       "  <tbody>\n",
       "    <tr>\n",
       "      <th rowspan=\"2\" valign=\"top\">TARGET</th>\n",
       "      <th>count</th>\n",
       "      <td>1722.000</td>\n",
       "    </tr>\n",
       "    <tr>\n",
       "      <th>mean</th>\n",
       "      <td>0.355</td>\n",
       "    </tr>\n",
       "  </tbody>\n",
       "</table>\n",
       "</div>"
      ],
      "text/plain": [
       "CHANNEL       Точка продаж\n",
       "TARGET count      1722.000\n",
       "       mean          0.355"
      ]
     },
     "execution_count": 161,
     "metadata": {},
     "output_type": "execute_result"
    }
   ],
   "source": [
    "partner32_df.groupby('CHANNEL').describe().sort_values([('TARGET', 'mean')], ascending = False)[[('TARGET', 'count'), ('TARGET', 'mean')]].T"
   ]
  },
  {
   "cell_type": "markdown",
   "id": "e83deb5d",
   "metadata": {
    "ExecuteTime": {
     "end_time": "2023-07-30T15:24:32.738728Z",
     "start_time": "2023-07-30T15:24:32.726759Z"
    }
   },
   "source": [
    "### PARTNER25"
   ]
  },
  {
   "cell_type": "code",
   "execution_count": 162,
   "id": "97ab59b1",
   "metadata": {
    "ExecuteTime": {
     "end_time": "2023-07-30T19:09:31.789467Z",
     "start_time": "2023-07-30T19:09:31.761541Z"
    }
   },
   "outputs": [],
   "source": [
    "partner25_df = data_df[data_df['PARTNER'] == 'PARTNER25']"
   ]
  },
  {
   "cell_type": "code",
   "execution_count": 163,
   "id": "ab34b151",
   "metadata": {
    "ExecuteTime": {
     "end_time": "2023-07-30T19:09:31.963174Z",
     "start_time": "2023-07-30T19:09:31.944224Z"
    }
   },
   "outputs": [
    {
     "data": {
      "text/html": [
       "<div>\n",
       "<style scoped>\n",
       "    .dataframe tbody tr th:only-of-type {\n",
       "        vertical-align: middle;\n",
       "    }\n",
       "\n",
       "    .dataframe tbody tr th {\n",
       "        vertical-align: top;\n",
       "    }\n",
       "\n",
       "    .dataframe thead th {\n",
       "        text-align: right;\n",
       "    }\n",
       "</style>\n",
       "<table border=\"1\" class=\"dataframe\">\n",
       "  <thead>\n",
       "    <tr style=\"text-align: right;\">\n",
       "      <th></th>\n",
       "      <th>PRODUCTTYPE</th>\n",
       "      <th>Микрозайм</th>\n",
       "    </tr>\n",
       "  </thead>\n",
       "  <tbody>\n",
       "    <tr>\n",
       "      <th rowspan=\"2\" valign=\"top\">TARGET</th>\n",
       "      <th>count</th>\n",
       "      <td>1498.000</td>\n",
       "    </tr>\n",
       "    <tr>\n",
       "      <th>mean</th>\n",
       "      <td>0.350</td>\n",
       "    </tr>\n",
       "  </tbody>\n",
       "</table>\n",
       "</div>"
      ],
      "text/plain": [
       "PRODUCTTYPE   Микрозайм\n",
       "TARGET count   1498.000\n",
       "       mean       0.350"
      ]
     },
     "execution_count": 163,
     "metadata": {},
     "output_type": "execute_result"
    }
   ],
   "source": [
    "partner25_df.groupby('PRODUCTTYPE').describe().sort_values([('TARGET', 'mean')], ascending = False)[[('TARGET', 'count'), ('TARGET', 'mean')]].T"
   ]
  },
  {
   "cell_type": "code",
   "execution_count": 164,
   "id": "a85a4096",
   "metadata": {
    "ExecuteTime": {
     "end_time": "2023-07-30T19:09:32.132870Z",
     "start_time": "2023-07-30T19:09:32.113919Z"
    }
   },
   "outputs": [
    {
     "data": {
      "text/html": [
       "<div>\n",
       "<style scoped>\n",
       "    .dataframe tbody tr th:only-of-type {\n",
       "        vertical-align: middle;\n",
       "    }\n",
       "\n",
       "    .dataframe tbody tr th {\n",
       "        vertical-align: top;\n",
       "    }\n",
       "\n",
       "    .dataframe thead th {\n",
       "        text-align: right;\n",
       "    }\n",
       "</style>\n",
       "<table border=\"1\" class=\"dataframe\">\n",
       "  <thead>\n",
       "    <tr style=\"text-align: right;\">\n",
       "      <th></th>\n",
       "      <th>CHANNEL</th>\n",
       "      <th>Брокер (оффлайн)</th>\n",
       "      <th>Интернет</th>\n",
       "      <th>Колл-центр</th>\n",
       "    </tr>\n",
       "  </thead>\n",
       "  <tbody>\n",
       "    <tr>\n",
       "      <th rowspan=\"2\" valign=\"top\">TARGET</th>\n",
       "      <th>count</th>\n",
       "      <td>1.000</td>\n",
       "      <td>1474.000</td>\n",
       "      <td>23.000</td>\n",
       "    </tr>\n",
       "    <tr>\n",
       "      <th>mean</th>\n",
       "      <td>1.000</td>\n",
       "      <td>0.349</td>\n",
       "      <td>0.348</td>\n",
       "    </tr>\n",
       "  </tbody>\n",
       "</table>\n",
       "</div>"
      ],
      "text/plain": [
       "CHANNEL       Брокер (оффлайн)  Интернет  Колл-центр\n",
       "TARGET count             1.000  1474.000      23.000\n",
       "       mean              1.000     0.349       0.348"
      ]
     },
     "execution_count": 164,
     "metadata": {},
     "output_type": "execute_result"
    }
   ],
   "source": [
    "partner25_df.groupby('CHANNEL').describe().sort_values([('TARGET', 'mean')], ascending = False)[[('TARGET', 'count'), ('TARGET', 'mean')]].T"
   ]
  },
  {
   "cell_type": "markdown",
   "id": "15d0d060",
   "metadata": {
    "ExecuteTime": {
     "end_time": "2023-07-30T15:36:06.319455Z",
     "start_time": "2023-07-30T15:36:06.307486Z"
    }
   },
   "source": [
    "<div class=\"alert alert-block alert-info\">\n",
    "С партнерами PARTNER и PARTNER25 высокая дефолтность выглядит логичной, т.к. они работают в самом рискованном канале (интернет) и с самым рисковынным продуктом (микрозаймы)\n",
    "\n",
    "А вот с PARTNER32 высокий DR выглядит странно, т.к. они работают с точками продаж\n",
    "</div> "
   ]
  },
  {
   "cell_type": "markdown",
   "id": "27b6e89d",
   "metadata": {
    "ExecuteTime": {
     "end_time": "2023-07-30T15:39:29.531840Z",
     "start_time": "2023-07-30T15:39:29.521868Z"
    }
   },
   "source": [
    "### Микрозаймы"
   ]
  },
  {
   "cell_type": "code",
   "execution_count": 165,
   "id": "16f0f5fa",
   "metadata": {
    "ExecuteTime": {
     "end_time": "2023-07-30T19:09:33.091050Z",
     "start_time": "2023-07-30T19:09:33.062563Z"
    }
   },
   "outputs": [],
   "source": [
    "microloan_df = data_df[data_df['PRODUCTTYPE'] == 'Микрозайм']"
   ]
  },
  {
   "cell_type": "code",
   "execution_count": 166,
   "id": "37f4de58",
   "metadata": {
    "ExecuteTime": {
     "end_time": "2023-07-30T19:09:33.311439Z",
     "start_time": "2023-07-30T19:09:33.275536Z"
    }
   },
   "outputs": [
    {
     "data": {
      "text/html": [
       "<div>\n",
       "<style scoped>\n",
       "    .dataframe tbody tr th:only-of-type {\n",
       "        vertical-align: middle;\n",
       "    }\n",
       "\n",
       "    .dataframe tbody tr th {\n",
       "        vertical-align: top;\n",
       "    }\n",
       "\n",
       "    .dataframe thead th {\n",
       "        text-align: right;\n",
       "    }\n",
       "</style>\n",
       "<table border=\"1\" class=\"dataframe\">\n",
       "  <thead>\n",
       "    <tr style=\"text-align: right;\">\n",
       "      <th></th>\n",
       "      <th>CHANNEL</th>\n",
       "      <th>Отделение</th>\n",
       "      <th>Точка продаж</th>\n",
       "      <th>Интернет</th>\n",
       "      <th>Брокер (оффлайн)</th>\n",
       "      <th>Значение не передается</th>\n",
       "      <th>Колл-центр</th>\n",
       "    </tr>\n",
       "  </thead>\n",
       "  <tbody>\n",
       "    <tr>\n",
       "      <th rowspan=\"2\" valign=\"top\">TARGET</th>\n",
       "      <th>count</th>\n",
       "      <td>179.000</td>\n",
       "      <td>1875.000</td>\n",
       "      <td>16086.000</td>\n",
       "      <td>303.000</td>\n",
       "      <td>3477.000</td>\n",
       "      <td>213.000</td>\n",
       "    </tr>\n",
       "    <tr>\n",
       "      <th>mean</th>\n",
       "      <td>0.358</td>\n",
       "      <td>0.335</td>\n",
       "      <td>0.237</td>\n",
       "      <td>0.234</td>\n",
       "      <td>0.202</td>\n",
       "      <td>0.155</td>\n",
       "    </tr>\n",
       "  </tbody>\n",
       "</table>\n",
       "</div>"
      ],
      "text/plain": [
       "CHANNEL       Отделение  Точка продаж  Интернет  Брокер (оффлайн)  \\\n",
       "TARGET count    179.000      1875.000 16086.000           303.000   \n",
       "       mean       0.358         0.335     0.237             0.234   \n",
       "\n",
       "CHANNEL       Значение не передается  Колл-центр  \n",
       "TARGET count                3477.000     213.000  \n",
       "       mean                    0.202       0.155  "
      ]
     },
     "execution_count": 166,
     "metadata": {},
     "output_type": "execute_result"
    }
   ],
   "source": [
    "microloan_df.groupby('CHANNEL').describe().sort_values([('TARGET', 'mean')], ascending = False)[[('TARGET', 'count'), ('TARGET', 'mean')]].T"
   ]
  },
  {
   "cell_type": "code",
   "execution_count": 167,
   "id": "094755e2",
   "metadata": {
    "ExecuteTime": {
     "end_time": "2023-07-30T19:09:33.575004Z",
     "start_time": "2023-07-30T19:09:33.507186Z"
    }
   },
   "outputs": [
    {
     "data": {
      "text/html": [
       "<div>\n",
       "<style scoped>\n",
       "    .dataframe tbody tr th:only-of-type {\n",
       "        vertical-align: middle;\n",
       "    }\n",
       "\n",
       "    .dataframe tbody tr th {\n",
       "        vertical-align: top;\n",
       "    }\n",
       "\n",
       "    .dataframe thead th {\n",
       "        text-align: right;\n",
       "    }\n",
       "</style>\n",
       "<table border=\"1\" class=\"dataframe\">\n",
       "  <thead>\n",
       "    <tr style=\"text-align: right;\">\n",
       "      <th></th>\n",
       "      <th>PARTNER</th>\n",
       "      <th>PARTNER42</th>\n",
       "      <th>PARTNER21</th>\n",
       "      <th>PARTNER29</th>\n",
       "      <th>PARTNER2</th>\n",
       "      <th>PARTNER26</th>\n",
       "      <th>PARTNER33</th>\n",
       "      <th>PARTNER32</th>\n",
       "      <th>PARTNER25</th>\n",
       "      <th>PARTNER41</th>\n",
       "      <th>PARTNER35</th>\n",
       "      <th>PARTNER27</th>\n",
       "      <th>PARTNER18</th>\n",
       "      <th>PARTNER17</th>\n",
       "      <th>PARTNER45</th>\n",
       "      <th>PARTNER15</th>\n",
       "    </tr>\n",
       "  </thead>\n",
       "  <tbody>\n",
       "    <tr>\n",
       "      <th rowspan=\"2\" valign=\"top\">TARGET</th>\n",
       "      <th>count</th>\n",
       "      <td>11.000</td>\n",
       "      <td>185.000</td>\n",
       "      <td>221.000</td>\n",
       "      <td>2225.000</td>\n",
       "      <td>729.000</td>\n",
       "      <td>89.000</td>\n",
       "      <td>1722.000</td>\n",
       "      <td>1498.000</td>\n",
       "      <td>293.000</td>\n",
       "      <td>2507.000</td>\n",
       "      <td>942.000</td>\n",
       "      <td>3095.000</td>\n",
       "      <td>972.000</td>\n",
       "      <td>7491.000</td>\n",
       "      <td>153.000</td>\n",
       "    </tr>\n",
       "    <tr>\n",
       "      <th>mean</th>\n",
       "      <td>0.818</td>\n",
       "      <td>0.481</td>\n",
       "      <td>0.448</td>\n",
       "      <td>0.401</td>\n",
       "      <td>0.391</td>\n",
       "      <td>0.382</td>\n",
       "      <td>0.355</td>\n",
       "      <td>0.350</td>\n",
       "      <td>0.345</td>\n",
       "      <td>0.268</td>\n",
       "      <td>0.236</td>\n",
       "      <td>0.184</td>\n",
       "      <td>0.145</td>\n",
       "      <td>0.140</td>\n",
       "      <td>0.118</td>\n",
       "    </tr>\n",
       "  </tbody>\n",
       "</table>\n",
       "</div>"
      ],
      "text/plain": [
       "PARTNER       PARTNER42  PARTNER21  PARTNER29  PARTNER2  PARTNER26  PARTNER33  \\\n",
       "TARGET count     11.000    185.000    221.000  2225.000    729.000     89.000   \n",
       "       mean       0.818      0.481      0.448     0.401      0.391      0.382   \n",
       "\n",
       "PARTNER       PARTNER32  PARTNER25  PARTNER41  PARTNER35  PARTNER27  \\\n",
       "TARGET count   1722.000   1498.000    293.000   2507.000    942.000   \n",
       "       mean       0.355      0.350      0.345      0.268      0.236   \n",
       "\n",
       "PARTNER       PARTNER18  PARTNER17  PARTNER45  PARTNER15  \n",
       "TARGET count   3095.000    972.000   7491.000    153.000  \n",
       "       mean       0.184      0.145      0.140      0.118  "
      ]
     },
     "execution_count": 167,
     "metadata": {},
     "output_type": "execute_result"
    }
   ],
   "source": [
    "microloan_df.groupby('PARTNER').describe().sort_values([('TARGET', 'mean')], ascending = False)[[('TARGET', 'count'), ('TARGET', 'mean')]].T"
   ]
  },
  {
   "cell_type": "markdown",
   "id": "fed5d0c2",
   "metadata": {},
   "source": [
    "## Группировка по MODEL"
   ]
  },
  {
   "cell_type": "code",
   "execution_count": 190,
   "id": "bac033dd",
   "metadata": {
    "ExecuteTime": {
     "end_time": "2023-07-30T19:15:29.123440Z",
     "start_time": "2023-07-30T19:15:28.971944Z"
    }
   },
   "outputs": [
    {
     "data": {
      "text/html": [
       "<div>\n",
       "<style scoped>\n",
       "    .dataframe tbody tr th:only-of-type {\n",
       "        vertical-align: middle;\n",
       "    }\n",
       "\n",
       "    .dataframe tbody tr th {\n",
       "        vertical-align: top;\n",
       "    }\n",
       "\n",
       "    .dataframe thead th {\n",
       "        text-align: right;\n",
       "    }\n",
       "</style>\n",
       "<table border=\"1\" class=\"dataframe\">\n",
       "  <thead>\n",
       "    <tr style=\"text-align: right;\">\n",
       "      <th></th>\n",
       "      <th>APPID</th>\n",
       "    </tr>\n",
       "    <tr>\n",
       "      <th>MODEL</th>\n",
       "      <th></th>\n",
       "    </tr>\n",
       "  </thead>\n",
       "  <tbody>\n",
       "    <tr>\n",
       "      <th>EMPTY</th>\n",
       "      <td>139779</td>\n",
       "    </tr>\n",
       "    <tr>\n",
       "      <th>0</th>\n",
       "      <td>104237</td>\n",
       "    </tr>\n",
       "    <tr>\n",
       "      <th>Кредитная карта свобода</th>\n",
       "      <td>1286</td>\n",
       "    </tr>\n",
       "    <tr>\n",
       "      <th>KIA Kia Rio</th>\n",
       "      <td>1235</td>\n",
       "    </tr>\n",
       "    <tr>\n",
       "      <th>смартфон</th>\n",
       "      <td>1135</td>\n",
       "    </tr>\n",
       "    <tr>\n",
       "      <th>ВАЗ ВАЗ Vesta</th>\n",
       "      <td>993</td>\n",
       "    </tr>\n",
       "    <tr>\n",
       "      <th>\"ТОВАРЫ ASKONA\" \"ТОВАРЫ ASKONA\" МОДЕЛЬ</th>\n",
       "      <td>894</td>\n",
       "    </tr>\n",
       "  </tbody>\n",
       "</table>\n",
       "</div>"
      ],
      "text/plain": [
       "                                         APPID\n",
       "MODEL                                         \n",
       "EMPTY                                   139779\n",
       "0                                       104237\n",
       "Кредитная карта свобода                   1286\n",
       "KIA Kia Rio                               1235\n",
       "смартфон                                  1135\n",
       "ВАЗ ВАЗ Vesta                              993\n",
       "\"ТОВАРЫ ASKONA\" \"ТОВАРЫ ASKONA\" МОДЕЛЬ     894"
      ]
     },
     "execution_count": 190,
     "metadata": {},
     "output_type": "execute_result"
    }
   ],
   "source": [
    "data_df[['APPID', 'MODEL']].groupby('MODEL').count().sort_values('APPID', ascending = False).head(7)"
   ]
  },
  {
   "cell_type": "markdown",
   "id": "1bed5d7c",
   "metadata": {},
   "source": [
    "# Этап валидации входящих данных"
   ]
  },
  {
   "cell_type": "code",
   "execution_count": 168,
   "id": "7e3ba882",
   "metadata": {
    "ExecuteTime": {
     "end_time": "2023-07-30T19:09:36.184209Z",
     "start_time": "2023-07-30T19:09:36.045704Z"
    }
   },
   "outputs": [
    {
     "data": {
      "text/plain": [
       "PARTNER             0\n",
       "APPID               0\n",
       "APPDATE             0\n",
       "DOCSERNUM           0\n",
       "MOBILEPHONE         0\n",
       "EMAIL               0\n",
       "LIM                 0\n",
       "PRODUCTTYPE         0\n",
       "CHANNEL             0\n",
       "MODEL          144730\n",
       "TARGET              0\n",
       "APPDT               0\n",
       "APPMONTH            0\n",
       "LIMIT               0\n",
       "dtype: int64"
      ]
     },
     "execution_count": 168,
     "metadata": {},
     "output_type": "execute_result"
    }
   ],
   "source": [
    "# Количетсво пропусков в данных\n",
    "data_df.isna().sum()"
   ]
  },
  {
   "cell_type": "code",
   "execution_count": 169,
   "id": "b341a885",
   "metadata": {
    "ExecuteTime": {
     "end_time": "2023-07-30T19:09:38.853406Z",
     "start_time": "2023-07-30T19:09:38.588117Z"
    }
   },
   "outputs": [
    {
     "name": "stdout",
     "output_type": "stream",
     "text": [
      "Доля пропущенных переменных\n"
     ]
    },
    {
     "data": {
      "text/plain": [
       "PARTNER       0.000\n",
       "APPID         0.000\n",
       "APPDATE       0.000\n",
       "DOCSERNUM     0.000\n",
       "MOBILEPHONE   0.000\n",
       "EMAIL         0.000\n",
       "LIM           0.000\n",
       "PRODUCTTYPE   0.000\n",
       "CHANNEL       0.000\n",
       "MODEL         0.342\n",
       "TARGET        0.000\n",
       "APPDT         0.000\n",
       "APPMONTH      0.000\n",
       "LIMIT         0.000\n",
       "dtype: float64"
      ]
     },
     "execution_count": 169,
     "metadata": {},
     "output_type": "execute_result"
    }
   ],
   "source": [
    "share_missing = round(data_df.isna().sum()/data_df.count(), 3)\n",
    "print('Доля пропущенных переменных')\n",
    "share_missing"
   ]
  },
  {
   "cell_type": "markdown",
   "id": "0d0e3120",
   "metadata": {},
   "source": [
    "# Распределение данных во времени"
   ]
  },
  {
   "cell_type": "code",
   "execution_count": 195,
   "id": "960397db",
   "metadata": {
    "ExecuteTime": {
     "end_time": "2023-07-30T19:19:26.304700Z",
     "start_time": "2023-07-30T19:19:26.265775Z"
    }
   },
   "outputs": [],
   "source": [
    "time_df = data_df[['APPMONTH', 'TARGET']].groupby('APPMONTH').agg(['count', 'mean'])\n",
    "time_df.columns  = ['count', 'mean']"
   ]
  },
  {
   "cell_type": "code",
   "execution_count": 196,
   "id": "17a5637a",
   "metadata": {
    "ExecuteTime": {
     "end_time": "2023-07-30T19:19:26.802340Z",
     "start_time": "2023-07-30T19:19:26.791370Z"
    },
    "scrolled": true
   },
   "outputs": [
    {
     "data": {
      "text/html": [
       "<div>\n",
       "<style scoped>\n",
       "    .dataframe tbody tr th:only-of-type {\n",
       "        vertical-align: middle;\n",
       "    }\n",
       "\n",
       "    .dataframe tbody tr th {\n",
       "        vertical-align: top;\n",
       "    }\n",
       "\n",
       "    .dataframe thead th {\n",
       "        text-align: right;\n",
       "    }\n",
       "</style>\n",
       "<table border=\"1\" class=\"dataframe\">\n",
       "  <thead>\n",
       "    <tr style=\"text-align: right;\">\n",
       "      <th></th>\n",
       "      <th>count</th>\n",
       "      <th>mean</th>\n",
       "    </tr>\n",
       "    <tr>\n",
       "      <th>APPMONTH</th>\n",
       "      <th></th>\n",
       "      <th></th>\n",
       "    </tr>\n",
       "  </thead>\n",
       "  <tbody>\n",
       "    <tr>\n",
       "      <th>2021-06-01</th>\n",
       "      <td>41227</td>\n",
       "      <td>0.009</td>\n",
       "    </tr>\n",
       "    <tr>\n",
       "      <th>2021-07-01</th>\n",
       "      <td>45624</td>\n",
       "      <td>0.015</td>\n",
       "    </tr>\n",
       "    <tr>\n",
       "      <th>2021-08-01</th>\n",
       "      <td>48504</td>\n",
       "      <td>0.013</td>\n",
       "    </tr>\n",
       "    <tr>\n",
       "      <th>2021-09-01</th>\n",
       "      <td>45785</td>\n",
       "      <td>0.016</td>\n",
       "    </tr>\n",
       "    <tr>\n",
       "      <th>2021-10-01</th>\n",
       "      <td>46958</td>\n",
       "      <td>0.016</td>\n",
       "    </tr>\n",
       "    <tr>\n",
       "      <th>2021-11-01</th>\n",
       "      <td>51769</td>\n",
       "      <td>0.021</td>\n",
       "    </tr>\n",
       "    <tr>\n",
       "      <th>2021-12-01</th>\n",
       "      <td>61548</td>\n",
       "      <td>0.021</td>\n",
       "    </tr>\n",
       "    <tr>\n",
       "      <th>2022-01-01</th>\n",
       "      <td>46959</td>\n",
       "      <td>0.028</td>\n",
       "    </tr>\n",
       "    <tr>\n",
       "      <th>2022-02-01</th>\n",
       "      <td>45334</td>\n",
       "      <td>0.031</td>\n",
       "    </tr>\n",
       "    <tr>\n",
       "      <th>2022-03-01</th>\n",
       "      <td>21932</td>\n",
       "      <td>0.034</td>\n",
       "    </tr>\n",
       "    <tr>\n",
       "      <th>2022-04-01</th>\n",
       "      <td>30171</td>\n",
       "      <td>0.029</td>\n",
       "    </tr>\n",
       "    <tr>\n",
       "      <th>2022-05-01</th>\n",
       "      <td>37613</td>\n",
       "      <td>0.031</td>\n",
       "    </tr>\n",
       "    <tr>\n",
       "      <th>2022-06-01</th>\n",
       "      <td>43967</td>\n",
       "      <td>0.026</td>\n",
       "    </tr>\n",
       "  </tbody>\n",
       "</table>\n",
       "</div>"
      ],
      "text/plain": [
       "            count  mean\n",
       "APPMONTH               \n",
       "2021-06-01  41227 0.009\n",
       "2021-07-01  45624 0.015\n",
       "2021-08-01  48504 0.013\n",
       "2021-09-01  45785 0.016\n",
       "2021-10-01  46958 0.016\n",
       "2021-11-01  51769 0.021\n",
       "2021-12-01  61548 0.021\n",
       "2022-01-01  46959 0.028\n",
       "2022-02-01  45334 0.031\n",
       "2022-03-01  21932 0.034\n",
       "2022-04-01  30171 0.029\n",
       "2022-05-01  37613 0.031\n",
       "2022-06-01  43967 0.026"
      ]
     },
     "execution_count": 196,
     "metadata": {},
     "output_type": "execute_result"
    }
   ],
   "source": [
    "time_df"
   ]
  },
  {
   "cell_type": "code",
   "execution_count": 197,
   "id": "edb87961",
   "metadata": {
    "ExecuteTime": {
     "end_time": "2023-07-30T19:19:27.646551Z",
     "start_time": "2023-07-30T19:19:27.502891Z"
    }
   },
   "outputs": [
    {
     "data": {
      "text/plain": [
       "<AxesSubplot:xlabel='APPMONTH', ylabel='mean'>"
      ]
     },
     "execution_count": 197,
     "metadata": {},
     "output_type": "execute_result"
    },
    {
     "data": {
      "image/png": "[encoded data removed]",
      "text/plain": [
       "<Figure size 673.92x476.64 with 1 Axes>"
      ]
     },
     "metadata": {},
     "output_type": "display_data"
    }
   ],
   "source": [
    "sns.lineplot(data=time_df, x=\"APPMONTH\", y=\"mean\")"
   ]
  },
  {
   "cell_type": "code",
   "execution_count": 198,
   "id": "61fc212c",
   "metadata": {
    "ExecuteTime": {
     "end_time": "2023-07-30T19:19:28.464501Z",
     "start_time": "2023-07-30T19:19:28.319887Z"
    }
   },
   "outputs": [
    {
     "data": {
      "text/plain": [
       "<AxesSubplot:xlabel='APPMONTH', ylabel='count'>"
      ]
     },
     "execution_count": 198,
     "metadata": {},
     "output_type": "execute_result"
    },
    {
     "data": {
      "image/png": "[encoded data removed]",
      "text/plain": [
       "<Figure size 673.92x476.64 with 1 Axes>"
      ]
     },
     "metadata": {},
     "output_type": "display_data"
    }
   ],
   "source": [
    "sns.lineplot(data=time_df, x=\"APPMONTH\", y=\"count\")"
   ]
  },
  {
   "cell_type": "markdown",
   "id": "10d1a661",
   "metadata": {
    "ExecuteTime": {
     "end_time": "2023-07-30T18:16:01.560890Z",
     "start_time": "2023-07-30T18:16:01.552912Z"
    }
   },
   "source": [
    "<div class=\"alert alert-block alert-info\">\n",
    "Видим, что кол-во и DR очень сильно меняются по месяцам.  \n",
    "\n",
    "Есть тренд на рост DR и видим провал в кол-ве заявок в марте 2022. Причина падения понятна: из-за СВО\n",
    "    \n",
    "Также сумма кредитов очень сильно меняется во времени\n",
    "</div> "
   ]
  },
  {
   "cell_type": "code",
   "execution_count": 199,
   "id": "1dc1660c",
   "metadata": {
    "ExecuteTime": {
     "end_time": "2023-07-30T19:19:29.306278Z",
     "start_time": "2023-07-30T19:19:29.284337Z"
    }
   },
   "outputs": [],
   "source": [
    "time_df = data_df[['APPMONTH', 'LIMIT']].groupby('APPMONTH').agg(['count', 'mean'])\n",
    "time_df.columns  = ['count', 'mean']"
   ]
  },
  {
   "cell_type": "code",
   "execution_count": 200,
   "id": "e676513c",
   "metadata": {
    "ExecuteTime": {
     "end_time": "2023-07-30T19:19:29.743954Z",
     "start_time": "2023-07-30T19:19:29.596331Z"
    }
   },
   "outputs": [
    {
     "data": {
      "text/plain": [
       "<AxesSubplot:xlabel='APPMONTH', ylabel='mean'>"
      ]
     },
     "execution_count": 200,
     "metadata": {},
     "output_type": "execute_result"
    },
    {
     "data": {
      "image/png": "[encoded data removed]",
      "text/plain": [
       "<Figure size 673.92x476.64 with 1 Axes>"
      ]
     },
     "metadata": {},
     "output_type": "display_data"
    }
   ],
   "source": [
    "sns.lineplot(data=time_df, x=\"APPMONTH\", y=\"mean\")"
   ]
  },
  {
   "cell_type": "markdown",
   "id": "cd9d8c94",
   "metadata": {},
   "source": [
    "# WOE и IV"
   ]
  },
  {
   "cell_type": "code",
   "execution_count": 202,
   "id": "5b915c22",
   "metadata": {
    "ExecuteTime": {
     "end_time": "2023-07-30T19:20:13.199134Z",
     "start_time": "2023-07-30T19:20:13.185171Z"
    }
   },
   "outputs": [
    {
     "data": {
      "text/html": [
       "<div>\n",
       "<style scoped>\n",
       "    .dataframe tbody tr th:only-of-type {\n",
       "        vertical-align: middle;\n",
       "    }\n",
       "\n",
       "    .dataframe tbody tr th {\n",
       "        vertical-align: top;\n",
       "    }\n",
       "\n",
       "    .dataframe thead th {\n",
       "        text-align: right;\n",
       "    }\n",
       "</style>\n",
       "<table border=\"1\" class=\"dataframe\">\n",
       "  <thead>\n",
       "    <tr style=\"text-align: right;\">\n",
       "      <th></th>\n",
       "      <th>PARTNER</th>\n",
       "      <th>APPID</th>\n",
       "      <th>DOCSERNUM</th>\n",
       "      <th>MOBILEPHONE</th>\n",
       "      <th>EMAIL</th>\n",
       "      <th>PRODUCTTYPE</th>\n",
       "      <th>CHANNEL</th>\n",
       "      <th>MODEL</th>\n",
       "      <th>TARGET</th>\n",
       "      <th>APPDT</th>\n",
       "      <th>APPMONTH</th>\n",
       "      <th>LIMIT</th>\n",
       "    </tr>\n",
       "  </thead>\n",
       "  <tbody>\n",
       "    <tr>\n",
       "      <th>0</th>\n",
       "      <td>PARTNER28</td>\n",
       "      <td>APPLICATID1015331</td>\n",
       "      <td>DOCSERNUM1</td>\n",
       "      <td>MOBILEPHONE43681</td>\n",
       "      <td>EMAIL158187</td>\n",
       "      <td>Другой тип кредита</td>\n",
       "      <td>Значение не передается</td>\n",
       "      <td>0</td>\n",
       "      <td>0</td>\n",
       "      <td>2021-06-07</td>\n",
       "      <td>2021-06-01</td>\n",
       "      <td>0.000</td>\n",
       "    </tr>\n",
       "    <tr>\n",
       "      <th>1</th>\n",
       "      <td>PARTNER6</td>\n",
       "      <td>APPLICATID503939</td>\n",
       "      <td>DOCSERNUM2</td>\n",
       "      <td>MOBILEPHONE407081</td>\n",
       "      <td>EMAIL143461</td>\n",
       "      <td>Другой тип кредита</td>\n",
       "      <td>Точка продаж</td>\n",
       "      <td>EMPTY</td>\n",
       "      <td>0</td>\n",
       "      <td>2021-07-29</td>\n",
       "      <td>2021-07-01</td>\n",
       "      <td>0.000</td>\n",
       "    </tr>\n",
       "  </tbody>\n",
       "</table>\n",
       "</div>"
      ],
      "text/plain": [
       "     PARTNER              APPID   DOCSERNUM        MOBILEPHONE        EMAIL  \\\n",
       "0  PARTNER28  APPLICATID1015331  DOCSERNUM1   MOBILEPHONE43681  EMAIL158187   \n",
       "1   PARTNER6   APPLICATID503939  DOCSERNUM2  MOBILEPHONE407081  EMAIL143461   \n",
       "\n",
       "          PRODUCTTYPE                 CHANNEL  MODEL  TARGET      APPDT  \\\n",
       "0  Другой тип кредита  Значение не передается      0       0 2021-06-07   \n",
       "1  Другой тип кредита            Точка продаж  EMPTY       0 2021-07-29   \n",
       "\n",
       "    APPMONTH  LIMIT  \n",
       "0 2021-06-01  0.000  \n",
       "1 2021-07-01  0.000  "
      ]
     },
     "execution_count": 202,
     "metadata": {},
     "output_type": "execute_result"
    }
   ],
   "source": [
    "data_df.head(2)"
   ]
  },
  {
   "cell_type": "code",
   "execution_count": 203,
   "id": "39a0cd9c",
   "metadata": {
    "ExecuteTime": {
     "end_time": "2023-07-30T19:21:24.860555Z",
     "start_time": "2023-07-30T19:21:24.845560Z"
    }
   },
   "outputs": [],
   "source": [
    "nominal_inputs = ['PARTNER', 'PRODUCTTYPE', 'CHANNEL']\n",
    "cont_inputs = ['LIMIT']\n",
    "target = 'target'"
   ]
  },
  {
   "cell_type": "code",
   "execution_count": 265,
   "id": "5d523181",
   "metadata": {
    "ExecuteTime": {
     "end_time": "2023-07-30T19:52:26.221186Z",
     "start_time": "2023-07-30T19:52:26.207223Z"
    }
   },
   "outputs": [],
   "source": [
    "def WoE_categorial(data, categorial_value):\n",
    "    WoE = pd.crosstab(data[categorial_value].fillna('missing'), data['TARGET'])\n",
    "    WoE.columns = ('Not-event', 'Event')\n",
    "    WoE['% Not-event'] = WoE['Not-event']/WoE['Not-event'].sum()\n",
    "    WoE['% Event'] = WoE['Event']/WoE['Event'].sum()\n",
    "    WoE['WoE'] = np.log(WoE['% Not-event']/WoE['% Event'])\n",
    "    WoE['IV'] = round((WoE['% Not-event'] - WoE['% Event']) * WoE['WoE'], 3)\n",
    "    WoE['IV'] = round(WoE['IV'].replace([np.inf, -np.inf], 0), 3) # Заменяем inf на 0\n",
    "    WoE['share_bin'] = (WoE['Not-event'] + WoE['Event']) / len(data)\n",
    "    return WoE.sort_values('WoE')"
   ]
  },
  {
   "cell_type": "code",
   "execution_count": 266,
   "id": "7bd98074",
   "metadata": {
    "ExecuteTime": {
     "end_time": "2023-07-30T19:52:27.372850Z",
     "start_time": "2023-07-30T19:52:27.277901Z"
    },
    "scrolled": true
   },
   "outputs": [
    {
     "data": {
      "text/html": [
       "<div>\n",
       "<style scoped>\n",
       "    .dataframe tbody tr th:only-of-type {\n",
       "        vertical-align: middle;\n",
       "    }\n",
       "\n",
       "    .dataframe tbody tr th {\n",
       "        vertical-align: top;\n",
       "    }\n",
       "\n",
       "    .dataframe thead th {\n",
       "        text-align: right;\n",
       "    }\n",
       "</style>\n",
       "<table border=\"1\" class=\"dataframe\">\n",
       "  <thead>\n",
       "    <tr style=\"text-align: right;\">\n",
       "      <th></th>\n",
       "      <th>Not-event</th>\n",
       "      <th>Event</th>\n",
       "      <th>% Not-event</th>\n",
       "      <th>% Event</th>\n",
       "      <th>WoE</th>\n",
       "      <th>IV</th>\n",
       "    </tr>\n",
       "    <tr>\n",
       "      <th>CHANNEL</th>\n",
       "      <th></th>\n",
       "      <th></th>\n",
       "      <th></th>\n",
       "      <th></th>\n",
       "      <th></th>\n",
       "      <th></th>\n",
       "    </tr>\n",
       "  </thead>\n",
       "  <tbody>\n",
       "    <tr>\n",
       "      <th>Брокер (оффлайн)</th>\n",
       "      <td>73787</td>\n",
       "      <td>687</td>\n",
       "      <td>0.133</td>\n",
       "      <td>0.056</td>\n",
       "      <td>0.862</td>\n",
       "      <td>0.066</td>\n",
       "    </tr>\n",
       "    <tr>\n",
       "      <th>Другое</th>\n",
       "      <td>408</td>\n",
       "      <td>5</td>\n",
       "      <td>0.001</td>\n",
       "      <td>0.000</td>\n",
       "      <td>0.588</td>\n",
       "      <td>0.000</td>\n",
       "    </tr>\n",
       "    <tr>\n",
       "      <th>Значение не передается</th>\n",
       "      <td>181159</td>\n",
       "      <td>3373</td>\n",
       "      <td>0.326</td>\n",
       "      <td>0.275</td>\n",
       "      <td>0.169</td>\n",
       "      <td>0.009</td>\n",
       "    </tr>\n",
       "    <tr>\n",
       "      <th>Интернет</th>\n",
       "      <td>47080</td>\n",
       "      <td>4260</td>\n",
       "      <td>0.085</td>\n",
       "      <td>0.348</td>\n",
       "      <td>-1.412</td>\n",
       "      <td>0.371</td>\n",
       "    </tr>\n",
       "    <tr>\n",
       "      <th>Колл-центр</th>\n",
       "      <td>1600</td>\n",
       "      <td>42</td>\n",
       "      <td>0.003</td>\n",
       "      <td>0.003</td>\n",
       "      <td>-0.174</td>\n",
       "      <td>0.000</td>\n",
       "    </tr>\n",
       "    <tr>\n",
       "      <th>Корпоративные продажи</th>\n",
       "      <td>243</td>\n",
       "      <td>1</td>\n",
       "      <td>0.000</td>\n",
       "      <td>0.000</td>\n",
       "      <td>1.679</td>\n",
       "      <td>0.001</td>\n",
       "    </tr>\n",
       "    <tr>\n",
       "      <th>Кросс-селл</th>\n",
       "      <td>10138</td>\n",
       "      <td>300</td>\n",
       "      <td>0.018</td>\n",
       "      <td>0.024</td>\n",
       "      <td>-0.294</td>\n",
       "      <td>0.002</td>\n",
       "    </tr>\n",
       "    <tr>\n",
       "      <th>Отделение</th>\n",
       "      <td>101247</td>\n",
       "      <td>701</td>\n",
       "      <td>0.182</td>\n",
       "      <td>0.057</td>\n",
       "      <td>1.159</td>\n",
       "      <td>0.145</td>\n",
       "    </tr>\n",
       "    <tr>\n",
       "      <th>Предварительная оценка заёмщика</th>\n",
       "      <td>332</td>\n",
       "      <td>13</td>\n",
       "      <td>0.001</td>\n",
       "      <td>0.001</td>\n",
       "      <td>-0.574</td>\n",
       "      <td>0.000</td>\n",
       "    </tr>\n",
       "    <tr>\n",
       "      <th>Точка продаж</th>\n",
       "      <td>139152</td>\n",
       "      <td>2863</td>\n",
       "      <td>0.251</td>\n",
       "      <td>0.234</td>\n",
       "      <td>0.070</td>\n",
       "      <td>0.001</td>\n",
       "    </tr>\n",
       "  </tbody>\n",
       "</table>\n",
       "</div>"
      ],
      "text/plain": [
       "                                 Not-event  Event  % Not-event  % Event  \\\n",
       "CHANNEL                                                                   \n",
       "Брокер (оффлайн)                     73787    687        0.133    0.056   \n",
       "Другое                                 408      5        0.001    0.000   \n",
       "Значение не передается              181159   3373        0.326    0.275   \n",
       "Интернет                             47080   4260        0.085    0.348   \n",
       "Колл-центр                            1600     42        0.003    0.003   \n",
       "Корпоративные продажи                  243      1        0.000    0.000   \n",
       "Кросс-селл                           10138    300        0.018    0.024   \n",
       "Отделение                           101247    701        0.182    0.057   \n",
       "Предварительная оценка заёмщика        332     13        0.001    0.001   \n",
       "Точка продаж                        139152   2863        0.251    0.234   \n",
       "\n",
       "                                   WoE    IV  \n",
       "CHANNEL                                       \n",
       "Брокер (оффлайн)                 0.862 0.066  \n",
       "Другое                           0.588 0.000  \n",
       "Значение не передается           0.169 0.009  \n",
       "Интернет                        -1.412 0.371  \n",
       "Колл-центр                      -0.174 0.000  \n",
       "Корпоративные продажи            1.679 0.001  \n",
       "Кросс-селл                      -0.294 0.002  \n",
       "Отделение                        1.159 0.145  \n",
       "Предварительная оценка заёмщика -0.574 0.000  \n",
       "Точка продаж                     0.070 0.001  "
      ]
     },
     "execution_count": 266,
     "metadata": {},
     "output_type": "execute_result"
    }
   ],
   "source": [
    "WoE_channel = pd.crosstab(data_df[\"CHANNEL\"], data_df[\"TARGET\"])\n",
    "WoE_channel.columns = ('Not-event', 'Event')\n",
    "WoE_channel['% Not-event'] = WoE_channel['Not-event']/WoE_channel['Not-event'].sum()\n",
    "WoE_channel['% Event'] = WoE_channel['Event']/WoE_channel['Event'].sum()\n",
    "WoE_channel['WoE'] = np.log(WoE_channel['% Not-event']/WoE_channel['% Event'])\n",
    "WoE_channel['IV'] = (WoE_channel['% Not-event'] - WoE_channel['% Event']) * WoE_channel['WoE']\n",
    "WoE_channel['IV'] = WoE_channel['IV'].replace([np.inf, -np.inf], 0) # Заменяем inf на 0\n",
    "WoE_channel"
   ]
  },
  {
   "cell_type": "code",
   "execution_count": 267,
   "id": "b2a6e6f4",
   "metadata": {
    "ExecuteTime": {
     "end_time": "2023-07-30T19:52:28.026008Z",
     "start_time": "2023-07-30T19:52:27.922285Z"
    },
    "scrolled": true
   },
   "outputs": [
    {
     "data": {
      "text/html": [
       "<div>\n",
       "<style scoped>\n",
       "    .dataframe tbody tr th:only-of-type {\n",
       "        vertical-align: middle;\n",
       "    }\n",
       "\n",
       "    .dataframe tbody tr th {\n",
       "        vertical-align: top;\n",
       "    }\n",
       "\n",
       "    .dataframe thead th {\n",
       "        text-align: right;\n",
       "    }\n",
       "</style>\n",
       "<table border=\"1\" class=\"dataframe\">\n",
       "  <thead>\n",
       "    <tr style=\"text-align: right;\">\n",
       "      <th></th>\n",
       "      <th>Not-event</th>\n",
       "      <th>Event</th>\n",
       "      <th>% Not-event</th>\n",
       "      <th>% Event</th>\n",
       "      <th>WoE</th>\n",
       "      <th>IV</th>\n",
       "      <th>share_bin</th>\n",
       "    </tr>\n",
       "    <tr>\n",
       "      <th>CHANNEL</th>\n",
       "      <th></th>\n",
       "      <th></th>\n",
       "      <th></th>\n",
       "      <th></th>\n",
       "      <th></th>\n",
       "      <th></th>\n",
       "      <th></th>\n",
       "    </tr>\n",
       "  </thead>\n",
       "  <tbody>\n",
       "    <tr>\n",
       "      <th>Интернет</th>\n",
       "      <td>47080</td>\n",
       "      <td>4260</td>\n",
       "      <td>0.085</td>\n",
       "      <td>0.348</td>\n",
       "      <td>-1.412</td>\n",
       "      <td>0.371</td>\n",
       "      <td>0.090</td>\n",
       "    </tr>\n",
       "    <tr>\n",
       "      <th>Предварительная оценка заёмщика</th>\n",
       "      <td>332</td>\n",
       "      <td>13</td>\n",
       "      <td>0.001</td>\n",
       "      <td>0.001</td>\n",
       "      <td>-0.574</td>\n",
       "      <td>0.000</td>\n",
       "      <td>0.001</td>\n",
       "    </tr>\n",
       "    <tr>\n",
       "      <th>Кросс-селл</th>\n",
       "      <td>10138</td>\n",
       "      <td>300</td>\n",
       "      <td>0.018</td>\n",
       "      <td>0.024</td>\n",
       "      <td>-0.294</td>\n",
       "      <td>0.002</td>\n",
       "      <td>0.018</td>\n",
       "    </tr>\n",
       "    <tr>\n",
       "      <th>Колл-центр</th>\n",
       "      <td>1600</td>\n",
       "      <td>42</td>\n",
       "      <td>0.003</td>\n",
       "      <td>0.003</td>\n",
       "      <td>-0.174</td>\n",
       "      <td>0.000</td>\n",
       "      <td>0.003</td>\n",
       "    </tr>\n",
       "    <tr>\n",
       "      <th>Точка продаж</th>\n",
       "      <td>139152</td>\n",
       "      <td>2863</td>\n",
       "      <td>0.251</td>\n",
       "      <td>0.234</td>\n",
       "      <td>0.070</td>\n",
       "      <td>0.001</td>\n",
       "      <td>0.250</td>\n",
       "    </tr>\n",
       "    <tr>\n",
       "      <th>Значение не передается</th>\n",
       "      <td>181159</td>\n",
       "      <td>3373</td>\n",
       "      <td>0.326</td>\n",
       "      <td>0.275</td>\n",
       "      <td>0.169</td>\n",
       "      <td>0.009</td>\n",
       "      <td>0.325</td>\n",
       "    </tr>\n",
       "    <tr>\n",
       "      <th>Другое</th>\n",
       "      <td>408</td>\n",
       "      <td>5</td>\n",
       "      <td>0.001</td>\n",
       "      <td>0.000</td>\n",
       "      <td>0.588</td>\n",
       "      <td>0.000</td>\n",
       "      <td>0.001</td>\n",
       "    </tr>\n",
       "    <tr>\n",
       "      <th>Брокер (оффлайн)</th>\n",
       "      <td>73787</td>\n",
       "      <td>687</td>\n",
       "      <td>0.133</td>\n",
       "      <td>0.056</td>\n",
       "      <td>0.862</td>\n",
       "      <td>0.066</td>\n",
       "      <td>0.131</td>\n",
       "    </tr>\n",
       "    <tr>\n",
       "      <th>Отделение</th>\n",
       "      <td>101247</td>\n",
       "      <td>701</td>\n",
       "      <td>0.182</td>\n",
       "      <td>0.057</td>\n",
       "      <td>1.159</td>\n",
       "      <td>0.145</td>\n",
       "      <td>0.180</td>\n",
       "    </tr>\n",
       "    <tr>\n",
       "      <th>Корпоративные продажи</th>\n",
       "      <td>243</td>\n",
       "      <td>1</td>\n",
       "      <td>0.000</td>\n",
       "      <td>0.000</td>\n",
       "      <td>1.679</td>\n",
       "      <td>0.001</td>\n",
       "      <td>0.000</td>\n",
       "    </tr>\n",
       "  </tbody>\n",
       "</table>\n",
       "</div>"
      ],
      "text/plain": [
       "                                 Not-event  Event  % Not-event  % Event  \\\n",
       "CHANNEL                                                                   \n",
       "Интернет                             47080   4260        0.085    0.348   \n",
       "Предварительная оценка заёмщика        332     13        0.001    0.001   \n",
       "Кросс-селл                           10138    300        0.018    0.024   \n",
       "Колл-центр                            1600     42        0.003    0.003   \n",
       "Точка продаж                        139152   2863        0.251    0.234   \n",
       "Значение не передается              181159   3373        0.326    0.275   \n",
       "Другое                                 408      5        0.001    0.000   \n",
       "Брокер (оффлайн)                     73787    687        0.133    0.056   \n",
       "Отделение                           101247    701        0.182    0.057   \n",
       "Корпоративные продажи                  243      1        0.000    0.000   \n",
       "\n",
       "                                   WoE    IV  share_bin  \n",
       "CHANNEL                                                  \n",
       "Интернет                        -1.412 0.371      0.090  \n",
       "Предварительная оценка заёмщика -0.574 0.000      0.001  \n",
       "Кросс-селл                      -0.294 0.002      0.018  \n",
       "Колл-центр                      -0.174 0.000      0.003  \n",
       "Точка продаж                     0.070 0.001      0.250  \n",
       "Значение не передается           0.169 0.009      0.325  \n",
       "Другое                           0.588 0.000      0.001  \n",
       "Брокер (оффлайн)                 0.862 0.066      0.131  \n",
       "Отделение                        1.159 0.145      0.180  \n",
       "Корпоративные продажи            1.679 0.001      0.000  "
      ]
     },
     "execution_count": 267,
     "metadata": {},
     "output_type": "execute_result"
    }
   ],
   "source": [
    "WoE_categorial(data_df, 'CHANNEL')"
   ]
  },
  {
   "cell_type": "code",
   "execution_count": 268,
   "id": "3efd5606",
   "metadata": {
    "ExecuteTime": {
     "end_time": "2023-07-30T19:52:28.246705Z",
     "start_time": "2023-07-30T19:52:28.140939Z"
    }
   },
   "outputs": [
    {
     "data": {
      "text/plain": [
       "0.595"
      ]
     },
     "execution_count": 268,
     "metadata": {},
     "output_type": "execute_result"
    }
   ],
   "source": [
    "WoE_categorial(data_df, 'CHANNEL')['IV'].sum()"
   ]
  },
  {
   "cell_type": "code",
   "execution_count": 351,
   "id": "885df557",
   "metadata": {
    "ExecuteTime": {
     "end_time": "2023-07-30T20:11:28.638094Z",
     "start_time": "2023-07-30T20:11:28.338894Z"
    }
   },
   "outputs": [
    {
     "name": "stderr",
     "output_type": "stream",
     "text": [
      "C:\\Users\\75BD~1\\AppData\\Local\\Temp/ipykernel_6048/1171448425.py:5: SettingWithCopyWarning: \n",
      "A value is trying to be set on a copy of a slice from a DataFrame\n",
      "\n",
      "See the caveats in the documentation: https://pandas.pydata.org/pandas-docs/stable/user_guide/indexing.html#returning-a-view-versus-a-copy\n",
      "  data_df['channel_cat'][(data_df['CHANNEL'] == i)] = category_num\n"
     ]
    }
   ],
   "source": [
    "# Создаем категориальную переменную\n",
    "data_df['channel_cat'] = 0\n",
    "category_num = 1\n",
    "for i in WoE_categorial(data_df, 'CHANNEL').index:\n",
    "    data_df['channel_cat'][(data_df['CHANNEL'] == i)] = category_num\n",
    "    category_num +=1"
   ]
  },
  {
   "cell_type": "code",
   "execution_count": 352,
   "id": "0cb289fd",
   "metadata": {
    "ExecuteTime": {
     "end_time": "2023-07-30T20:11:55.001342Z",
     "start_time": "2023-07-30T20:11:54.859692Z"
    }
   },
   "outputs": [
    {
     "data": {
      "text/html": [
       "<div>\n",
       "<style scoped>\n",
       "    .dataframe tbody tr th:only-of-type {\n",
       "        vertical-align: middle;\n",
       "    }\n",
       "\n",
       "    .dataframe tbody tr th {\n",
       "        vertical-align: top;\n",
       "    }\n",
       "\n",
       "    .dataframe thead th {\n",
       "        text-align: right;\n",
       "    }\n",
       "</style>\n",
       "<table border=\"1\" class=\"dataframe\">\n",
       "  <thead>\n",
       "    <tr style=\"text-align: right;\">\n",
       "      <th></th>\n",
       "      <th>Not-event</th>\n",
       "      <th>Event</th>\n",
       "      <th>% Not-event</th>\n",
       "      <th>% Event</th>\n",
       "      <th>WoE</th>\n",
       "      <th>IV</th>\n",
       "      <th>share_bin</th>\n",
       "    </tr>\n",
       "    <tr>\n",
       "      <th>PRODUCTTYPE</th>\n",
       "      <th></th>\n",
       "      <th></th>\n",
       "      <th></th>\n",
       "      <th></th>\n",
       "      <th></th>\n",
       "      <th></th>\n",
       "      <th></th>\n",
       "    </tr>\n",
       "  </thead>\n",
       "  <tbody>\n",
       "    <tr>\n",
       "      <th>Микрозайм</th>\n",
       "      <td>16819</td>\n",
       "      <td>5314</td>\n",
       "      <td>0.030</td>\n",
       "      <td>0.434</td>\n",
       "      <td>-2.662</td>\n",
       "      <td>1.075</td>\n",
       "      <td>0.039</td>\n",
       "    </tr>\n",
       "    <tr>\n",
       "      <th>Дебетовая карта с овердрафтом</th>\n",
       "      <td>190</td>\n",
       "      <td>5</td>\n",
       "      <td>0.000</td>\n",
       "      <td>0.000</td>\n",
       "      <td>-0.177</td>\n",
       "      <td>0.000</td>\n",
       "      <td>0.000</td>\n",
       "    </tr>\n",
       "    <tr>\n",
       "      <th>Кредит наличными (нецелевой)</th>\n",
       "      <td>33183</td>\n",
       "      <td>845</td>\n",
       "      <td>0.060</td>\n",
       "      <td>0.069</td>\n",
       "      <td>-0.144</td>\n",
       "      <td>0.001</td>\n",
       "      <td>0.060</td>\n",
       "    </tr>\n",
       "    <tr>\n",
       "      <th>Предварительная оценка заёмщика без указания типа кредита</th>\n",
       "      <td>1448</td>\n",
       "      <td>26</td>\n",
       "      <td>0.003</td>\n",
       "      <td>0.002</td>\n",
       "      <td>0.206</td>\n",
       "      <td>0.000</td>\n",
       "      <td>0.003</td>\n",
       "    </tr>\n",
       "    <tr>\n",
       "      <th>Кредитная карта</th>\n",
       "      <td>49783</td>\n",
       "      <td>879</td>\n",
       "      <td>0.090</td>\n",
       "      <td>0.072</td>\n",
       "      <td>0.223</td>\n",
       "      <td>0.004</td>\n",
       "      <td>0.089</td>\n",
       "    </tr>\n",
       "    <tr>\n",
       "      <th>Другой тип кредита</th>\n",
       "      <td>76695</td>\n",
       "      <td>1238</td>\n",
       "      <td>0.138</td>\n",
       "      <td>0.101</td>\n",
       "      <td>0.312</td>\n",
       "      <td>0.012</td>\n",
       "      <td>0.137</td>\n",
       "    </tr>\n",
       "    <tr>\n",
       "      <th>POS кредит (потребительский кредит, кредит на товар)</th>\n",
       "      <td>263261</td>\n",
       "      <td>3372</td>\n",
       "      <td>0.474</td>\n",
       "      <td>0.275</td>\n",
       "      <td>0.544</td>\n",
       "      <td>0.108</td>\n",
       "      <td>0.470</td>\n",
       "    </tr>\n",
       "    <tr>\n",
       "      <th>Кредит на строительство недвижимости</th>\n",
       "      <td>189</td>\n",
       "      <td>2</td>\n",
       "      <td>0.000</td>\n",
       "      <td>0.000</td>\n",
       "      <td>0.734</td>\n",
       "      <td>0.000</td>\n",
       "      <td>0.000</td>\n",
       "    </tr>\n",
       "    <tr>\n",
       "      <th>Неизвестный тип кредита</th>\n",
       "      <td>86303</td>\n",
       "      <td>433</td>\n",
       "      <td>0.155</td>\n",
       "      <td>0.035</td>\n",
       "      <td>1.481</td>\n",
       "      <td>0.178</td>\n",
       "      <td>0.153</td>\n",
       "    </tr>\n",
       "    <tr>\n",
       "      <th>Кредит на автомобиль</th>\n",
       "      <td>26487</td>\n",
       "      <td>130</td>\n",
       "      <td>0.048</td>\n",
       "      <td>0.011</td>\n",
       "      <td>1.503</td>\n",
       "      <td>0.056</td>\n",
       "      <td>0.047</td>\n",
       "    </tr>\n",
       "    <tr>\n",
       "      <th>Ипотека</th>\n",
       "      <td>788</td>\n",
       "      <td>1</td>\n",
       "      <td>0.001</td>\n",
       "      <td>0.000</td>\n",
       "      <td>2.855</td>\n",
       "      <td>0.004</td>\n",
       "      <td>0.001</td>\n",
       "    </tr>\n",
       "  </tbody>\n",
       "</table>\n",
       "</div>"
      ],
      "text/plain": [
       "                                                           Not-event  Event  \\\n",
       "PRODUCTTYPE                                                                   \n",
       "Микрозайм                                                      16819   5314   \n",
       "Дебетовая карта с овердрафтом                                    190      5   \n",
       "Кредит наличными (нецелевой)                                   33183    845   \n",
       "Предварительная оценка заёмщика без указания типа кредита       1448     26   \n",
       "Кредитная карта                                                49783    879   \n",
       "Другой тип кредита                                             76695   1238   \n",
       "POS кредит (потребительский кредит, кредит на товар)          263261   3372   \n",
       "Кредит на строительство недвижимости                             189      2   \n",
       "Неизвестный тип кредита                                        86303    433   \n",
       "Кредит на автомобиль                                           26487    130   \n",
       "Ипотека                                                          788      1   \n",
       "\n",
       "                                                           % Not-event  \\\n",
       "PRODUCTTYPE                                                              \n",
       "Микрозайм                                                        0.030   \n",
       "Дебетовая карта с овердрафтом                                    0.000   \n",
       "Кредит наличными (нецелевой)                                     0.060   \n",
       "Предварительная оценка заёмщика без указания типа кредита        0.003   \n",
       "Кредитная карта                                                  0.090   \n",
       "Другой тип кредита                                               0.138   \n",
       "POS кредит (потребительский кредит, кредит на товар)             0.474   \n",
       "Кредит на строительство недвижимости                             0.000   \n",
       "Неизвестный тип кредита                                          0.155   \n",
       "Кредит на автомобиль                                             0.048   \n",
       "Ипотека                                                          0.001   \n",
       "\n",
       "                                                           % Event    WoE  \\\n",
       "PRODUCTTYPE                                                                 \n",
       "Микрозайм                                                    0.434 -2.662   \n",
       "Дебетовая карта с овердрафтом                                0.000 -0.177   \n",
       "Кредит наличными (нецелевой)                                 0.069 -0.144   \n",
       "Предварительная оценка заёмщика без указания типа кредита    0.002  0.206   \n",
       "Кредитная карта                                              0.072  0.223   \n",
       "Другой тип кредита                                           0.101  0.312   \n",
       "POS кредит (потребительский кредит, кредит на товар)         0.275  0.544   \n",
       "Кредит на строительство недвижимости                         0.000  0.734   \n",
       "Неизвестный тип кредита                                      0.035  1.481   \n",
       "Кредит на автомобиль                                         0.011  1.503   \n",
       "Ипотека                                                      0.000  2.855   \n",
       "\n",
       "                                                             IV  share_bin  \n",
       "PRODUCTTYPE                                                                 \n",
       "Микрозайм                                                 1.075      0.039  \n",
       "Дебетовая карта с овердрафтом                             0.000      0.000  \n",
       "Кредит наличными (нецелевой)                              0.001      0.060  \n",
       "Предварительная оценка заёмщика без указания типа кредита 0.000      0.003  \n",
       "Кредитная карта                                           0.004      0.089  \n",
       "Другой тип кредита                                        0.012      0.137  \n",
       "POS кредит (потребительский кредит, кредит на товар)      0.108      0.470  \n",
       "Кредит на строительство недвижимости                      0.000      0.000  \n",
       "Неизвестный тип кредита                                   0.178      0.153  \n",
       "Кредит на автомобиль                                      0.056      0.047  \n",
       "Ипотека                                                   0.004      0.001  "
      ]
     },
     "execution_count": 352,
     "metadata": {},
     "output_type": "execute_result"
    }
   ],
   "source": [
    "WoE_categorial(data_df, 'PRODUCTTYPE')"
   ]
  },
  {
   "cell_type": "code",
   "execution_count": 353,
   "id": "342324a6",
   "metadata": {
    "ExecuteTime": {
     "end_time": "2023-07-30T20:11:56.585733Z",
     "start_time": "2023-07-30T20:11:56.446107Z"
    }
   },
   "outputs": [
    {
     "data": {
      "text/plain": [
       "1.438"
      ]
     },
     "execution_count": 353,
     "metadata": {},
     "output_type": "execute_result"
    }
   ],
   "source": [
    "round(WoE_categorial(data_df, 'PRODUCTTYPE')['IV'].sum(), 3)"
   ]
  },
  {
   "cell_type": "code",
   "execution_count": 354,
   "id": "bedfb2fb",
   "metadata": {
    "ExecuteTime": {
     "end_time": "2023-07-30T20:12:21.582378Z",
     "start_time": "2023-07-30T20:12:21.223171Z"
    }
   },
   "outputs": [
    {
     "name": "stderr",
     "output_type": "stream",
     "text": [
      "C:\\Users\\75BD~1\\AppData\\Local\\Temp/ipykernel_6048/3636399519.py:5: SettingWithCopyWarning: \n",
      "A value is trying to be set on a copy of a slice from a DataFrame\n",
      "\n",
      "See the caveats in the documentation: https://pandas.pydata.org/pandas-docs/stable/user_guide/indexing.html#returning-a-view-versus-a-copy\n",
      "  data_df['product_type_cat'][(data_df['PRODUCTTYPE'] == i)] = category_num\n"
     ]
    }
   ],
   "source": [
    "# Создаем категориальную переменную\n",
    "data_df['product_type_cat'] = 0\n",
    "category_num = 1\n",
    "for i in WoE_categorial(data_df, 'PRODUCTTYPE').index:\n",
    "    data_df['product_type_cat'][(data_df['PRODUCTTYPE'] == i)] = category_num\n",
    "    category_num +=1"
   ]
  },
  {
   "cell_type": "code",
   "execution_count": 355,
   "id": "767e77b5",
   "metadata": {
    "ExecuteTime": {
     "end_time": "2023-07-30T20:12:31.276528Z",
     "start_time": "2023-07-30T20:12:31.194717Z"
    }
   },
   "outputs": [
    {
     "data": {
      "text/html": [
       "<div>\n",
       "<style scoped>\n",
       "    .dataframe tbody tr th:only-of-type {\n",
       "        vertical-align: middle;\n",
       "    }\n",
       "\n",
       "    .dataframe tbody tr th {\n",
       "        vertical-align: top;\n",
       "    }\n",
       "\n",
       "    .dataframe thead th {\n",
       "        text-align: right;\n",
       "    }\n",
       "</style>\n",
       "<table border=\"1\" class=\"dataframe\">\n",
       "  <thead>\n",
       "    <tr style=\"text-align: right;\">\n",
       "      <th></th>\n",
       "      <th>Not-event</th>\n",
       "      <th>Event</th>\n",
       "      <th>% Not-event</th>\n",
       "      <th>% Event</th>\n",
       "      <th>WoE</th>\n",
       "      <th>IV</th>\n",
       "      <th>share_bin</th>\n",
       "    </tr>\n",
       "    <tr>\n",
       "      <th>product_type_cat</th>\n",
       "      <th></th>\n",
       "      <th></th>\n",
       "      <th></th>\n",
       "      <th></th>\n",
       "      <th></th>\n",
       "      <th></th>\n",
       "      <th></th>\n",
       "    </tr>\n",
       "  </thead>\n",
       "  <tbody>\n",
       "    <tr>\n",
       "      <th>1</th>\n",
       "      <td>16819</td>\n",
       "      <td>5314</td>\n",
       "      <td>0.030</td>\n",
       "      <td>0.434</td>\n",
       "      <td>-2.662</td>\n",
       "      <td>1.075</td>\n",
       "      <td>0.039</td>\n",
       "    </tr>\n",
       "    <tr>\n",
       "      <th>2</th>\n",
       "      <td>190</td>\n",
       "      <td>5</td>\n",
       "      <td>0.000</td>\n",
       "      <td>0.000</td>\n",
       "      <td>-0.177</td>\n",
       "      <td>0.000</td>\n",
       "      <td>0.000</td>\n",
       "    </tr>\n",
       "    <tr>\n",
       "      <th>3</th>\n",
       "      <td>33183</td>\n",
       "      <td>845</td>\n",
       "      <td>0.060</td>\n",
       "      <td>0.069</td>\n",
       "      <td>-0.144</td>\n",
       "      <td>0.001</td>\n",
       "      <td>0.060</td>\n",
       "    </tr>\n",
       "    <tr>\n",
       "      <th>4</th>\n",
       "      <td>1448</td>\n",
       "      <td>26</td>\n",
       "      <td>0.003</td>\n",
       "      <td>0.002</td>\n",
       "      <td>0.206</td>\n",
       "      <td>0.000</td>\n",
       "      <td>0.003</td>\n",
       "    </tr>\n",
       "    <tr>\n",
       "      <th>5</th>\n",
       "      <td>49783</td>\n",
       "      <td>879</td>\n",
       "      <td>0.090</td>\n",
       "      <td>0.072</td>\n",
       "      <td>0.223</td>\n",
       "      <td>0.004</td>\n",
       "      <td>0.089</td>\n",
       "    </tr>\n",
       "    <tr>\n",
       "      <th>6</th>\n",
       "      <td>76695</td>\n",
       "      <td>1238</td>\n",
       "      <td>0.138</td>\n",
       "      <td>0.101</td>\n",
       "      <td>0.312</td>\n",
       "      <td>0.012</td>\n",
       "      <td>0.137</td>\n",
       "    </tr>\n",
       "    <tr>\n",
       "      <th>7</th>\n",
       "      <td>263261</td>\n",
       "      <td>3372</td>\n",
       "      <td>0.474</td>\n",
       "      <td>0.275</td>\n",
       "      <td>0.544</td>\n",
       "      <td>0.108</td>\n",
       "      <td>0.470</td>\n",
       "    </tr>\n",
       "    <tr>\n",
       "      <th>8</th>\n",
       "      <td>189</td>\n",
       "      <td>2</td>\n",
       "      <td>0.000</td>\n",
       "      <td>0.000</td>\n",
       "      <td>0.734</td>\n",
       "      <td>0.000</td>\n",
       "      <td>0.000</td>\n",
       "    </tr>\n",
       "    <tr>\n",
       "      <th>9</th>\n",
       "      <td>86303</td>\n",
       "      <td>433</td>\n",
       "      <td>0.155</td>\n",
       "      <td>0.035</td>\n",
       "      <td>1.481</td>\n",
       "      <td>0.178</td>\n",
       "      <td>0.153</td>\n",
       "    </tr>\n",
       "    <tr>\n",
       "      <th>10</th>\n",
       "      <td>26487</td>\n",
       "      <td>130</td>\n",
       "      <td>0.048</td>\n",
       "      <td>0.011</td>\n",
       "      <td>1.503</td>\n",
       "      <td>0.056</td>\n",
       "      <td>0.047</td>\n",
       "    </tr>\n",
       "    <tr>\n",
       "      <th>11</th>\n",
       "      <td>788</td>\n",
       "      <td>1</td>\n",
       "      <td>0.001</td>\n",
       "      <td>0.000</td>\n",
       "      <td>2.855</td>\n",
       "      <td>0.004</td>\n",
       "      <td>0.001</td>\n",
       "    </tr>\n",
       "  </tbody>\n",
       "</table>\n",
       "</div>"
      ],
      "text/plain": [
       "                  Not-event  Event  % Not-event  % Event    WoE    IV  \\\n",
       "product_type_cat                                                        \n",
       "1                     16819   5314        0.030    0.434 -2.662 1.075   \n",
       "2                       190      5        0.000    0.000 -0.177 0.000   \n",
       "3                     33183    845        0.060    0.069 -0.144 0.001   \n",
       "4                      1448     26        0.003    0.002  0.206 0.000   \n",
       "5                     49783    879        0.090    0.072  0.223 0.004   \n",
       "6                     76695   1238        0.138    0.101  0.312 0.012   \n",
       "7                    263261   3372        0.474    0.275  0.544 0.108   \n",
       "8                       189      2        0.000    0.000  0.734 0.000   \n",
       "9                     86303    433        0.155    0.035  1.481 0.178   \n",
       "10                    26487    130        0.048    0.011  1.503 0.056   \n",
       "11                      788      1        0.001    0.000  2.855 0.004   \n",
       "\n",
       "                  share_bin  \n",
       "product_type_cat             \n",
       "1                     0.039  \n",
       "2                     0.000  \n",
       "3                     0.060  \n",
       "4                     0.003  \n",
       "5                     0.089  \n",
       "6                     0.137  \n",
       "7                     0.470  \n",
       "8                     0.000  \n",
       "9                     0.153  \n",
       "10                    0.047  \n",
       "11                    0.001  "
      ]
     },
     "execution_count": 355,
     "metadata": {},
     "output_type": "execute_result"
    }
   ],
   "source": [
    "WoE_categorial(data_df, 'product_type_cat')"
   ]
  },
  {
   "cell_type": "code",
   "execution_count": 356,
   "id": "1f457dcd",
   "metadata": {
    "ExecuteTime": {
     "end_time": "2023-07-30T20:13:30.403220Z",
     "start_time": "2023-07-30T20:13:30.304661Z"
    },
    "scrolled": true
   },
   "outputs": [
    {
     "data": {
      "text/html": [
       "<div>\n",
       "<style scoped>\n",
       "    .dataframe tbody tr th:only-of-type {\n",
       "        vertical-align: middle;\n",
       "    }\n",
       "\n",
       "    .dataframe tbody tr th {\n",
       "        vertical-align: top;\n",
       "    }\n",
       "\n",
       "    .dataframe thead th {\n",
       "        text-align: right;\n",
       "    }\n",
       "</style>\n",
       "<table border=\"1\" class=\"dataframe\">\n",
       "  <thead>\n",
       "    <tr style=\"text-align: right;\">\n",
       "      <th></th>\n",
       "      <th>Not-event</th>\n",
       "      <th>Event</th>\n",
       "      <th>% Not-event</th>\n",
       "      <th>% Event</th>\n",
       "      <th>WoE</th>\n",
       "      <th>IV</th>\n",
       "      <th>share_bin</th>\n",
       "    </tr>\n",
       "    <tr>\n",
       "      <th>PARTNER</th>\n",
       "      <th></th>\n",
       "      <th></th>\n",
       "      <th></th>\n",
       "      <th></th>\n",
       "      <th></th>\n",
       "      <th></th>\n",
       "      <th></th>\n",
       "    </tr>\n",
       "  </thead>\n",
       "  <tbody>\n",
       "    <tr>\n",
       "      <th>PARTNER42</th>\n",
       "      <td>2</td>\n",
       "      <td>9</td>\n",
       "      <td>0.000</td>\n",
       "      <td>0.001</td>\n",
       "      <td>-5.318</td>\n",
       "      <td>0.004</td>\n",
       "      <td>0.000</td>\n",
       "    </tr>\n",
       "    <tr>\n",
       "      <th>PARTNER21</th>\n",
       "      <td>96</td>\n",
       "      <td>89</td>\n",
       "      <td>0.000</td>\n",
       "      <td>0.007</td>\n",
       "      <td>-3.738</td>\n",
       "      <td>0.027</td>\n",
       "      <td>0.000</td>\n",
       "    </tr>\n",
       "    <tr>\n",
       "      <th>PARTNER29</th>\n",
       "      <td>122</td>\n",
       "      <td>99</td>\n",
       "      <td>0.000</td>\n",
       "      <td>0.008</td>\n",
       "      <td>-3.605</td>\n",
       "      <td>0.028</td>\n",
       "      <td>0.000</td>\n",
       "    </tr>\n",
       "    <tr>\n",
       "      <th>PARTNER2</th>\n",
       "      <td>1333</td>\n",
       "      <td>892</td>\n",
       "      <td>0.002</td>\n",
       "      <td>0.073</td>\n",
       "      <td>-3.412</td>\n",
       "      <td>0.240</td>\n",
       "      <td>0.004</td>\n",
       "    </tr>\n",
       "    <tr>\n",
       "      <th>PARTNER26</th>\n",
       "      <td>444</td>\n",
       "      <td>285</td>\n",
       "      <td>0.001</td>\n",
       "      <td>0.023</td>\n",
       "      <td>-3.371</td>\n",
       "      <td>0.076</td>\n",
       "      <td>0.001</td>\n",
       "    </tr>\n",
       "    <tr>\n",
       "      <th>PARTNER33</th>\n",
       "      <td>55</td>\n",
       "      <td>34</td>\n",
       "      <td>0.000</td>\n",
       "      <td>0.003</td>\n",
       "      <td>-3.333</td>\n",
       "      <td>0.009</td>\n",
       "      <td>0.000</td>\n",
       "    </tr>\n",
       "    <tr>\n",
       "      <th>PARTNER32</th>\n",
       "      <td>1111</td>\n",
       "      <td>611</td>\n",
       "      <td>0.002</td>\n",
       "      <td>0.050</td>\n",
       "      <td>-3.216</td>\n",
       "      <td>0.154</td>\n",
       "      <td>0.003</td>\n",
       "    </tr>\n",
       "    <tr>\n",
       "      <th>PARTNER25</th>\n",
       "      <td>974</td>\n",
       "      <td>524</td>\n",
       "      <td>0.002</td>\n",
       "      <td>0.043</td>\n",
       "      <td>-3.194</td>\n",
       "      <td>0.131</td>\n",
       "      <td>0.003</td>\n",
       "    </tr>\n",
       "    <tr>\n",
       "      <th>PARTNER41</th>\n",
       "      <td>192</td>\n",
       "      <td>101</td>\n",
       "      <td>0.000</td>\n",
       "      <td>0.008</td>\n",
       "      <td>-3.172</td>\n",
       "      <td>0.025</td>\n",
       "      <td>0.001</td>\n",
       "    </tr>\n",
       "    <tr>\n",
       "      <th>PARTNER35</th>\n",
       "      <td>1836</td>\n",
       "      <td>671</td>\n",
       "      <td>0.003</td>\n",
       "      <td>0.055</td>\n",
       "      <td>-2.808</td>\n",
       "      <td>0.145</td>\n",
       "      <td>0.004</td>\n",
       "    </tr>\n",
       "    <tr>\n",
       "      <th>PARTNER18</th>\n",
       "      <td>2526</td>\n",
       "      <td>569</td>\n",
       "      <td>0.005</td>\n",
       "      <td>0.046</td>\n",
       "      <td>-2.324</td>\n",
       "      <td>0.097</td>\n",
       "      <td>0.005</td>\n",
       "    </tr>\n",
       "    <tr>\n",
       "      <th>PARTNER27</th>\n",
       "      <td>1650</td>\n",
       "      <td>321</td>\n",
       "      <td>0.003</td>\n",
       "      <td>0.026</td>\n",
       "      <td>-2.177</td>\n",
       "      <td>0.051</td>\n",
       "      <td>0.003</td>\n",
       "    </tr>\n",
       "    <tr>\n",
       "      <th>PARTNER17</th>\n",
       "      <td>831</td>\n",
       "      <td>141</td>\n",
       "      <td>0.001</td>\n",
       "      <td>0.012</td>\n",
       "      <td>-2.040</td>\n",
       "      <td>0.020</td>\n",
       "      <td>0.002</td>\n",
       "    </tr>\n",
       "    <tr>\n",
       "      <th>PARTNER45</th>\n",
       "      <td>6442</td>\n",
       "      <td>1049</td>\n",
       "      <td>0.012</td>\n",
       "      <td>0.086</td>\n",
       "      <td>-1.999</td>\n",
       "      <td>0.148</td>\n",
       "      <td>0.013</td>\n",
       "    </tr>\n",
       "    <tr>\n",
       "      <th>PARTNER15</th>\n",
       "      <td>135</td>\n",
       "      <td>18</td>\n",
       "      <td>0.000</td>\n",
       "      <td>0.001</td>\n",
       "      <td>-1.799</td>\n",
       "      <td>0.002</td>\n",
       "      <td>0.000</td>\n",
       "    </tr>\n",
       "    <tr>\n",
       "      <th>PARTNER34</th>\n",
       "      <td>73</td>\n",
       "      <td>7</td>\n",
       "      <td>0.000</td>\n",
       "      <td>0.001</td>\n",
       "      <td>-1.470</td>\n",
       "      <td>0.001</td>\n",
       "      <td>0.000</td>\n",
       "    </tr>\n",
       "    <tr>\n",
       "      <th>PARTNER31</th>\n",
       "      <td>34382</td>\n",
       "      <td>1223</td>\n",
       "      <td>0.062</td>\n",
       "      <td>0.100</td>\n",
       "      <td>-0.478</td>\n",
       "      <td>0.018</td>\n",
       "      <td>0.063</td>\n",
       "    </tr>\n",
       "    <tr>\n",
       "      <th>PARTNER39</th>\n",
       "      <td>451</td>\n",
       "      <td>15</td>\n",
       "      <td>0.001</td>\n",
       "      <td>0.001</td>\n",
       "      <td>-0.411</td>\n",
       "      <td>0.000</td>\n",
       "      <td>0.001</td>\n",
       "    </tr>\n",
       "    <tr>\n",
       "      <th>PARTNER30</th>\n",
       "      <td>118</td>\n",
       "      <td>3</td>\n",
       "      <td>0.000</td>\n",
       "      <td>0.000</td>\n",
       "      <td>-0.142</td>\n",
       "      <td>0.000</td>\n",
       "      <td>0.000</td>\n",
       "    </tr>\n",
       "    <tr>\n",
       "      <th>PARTNER12</th>\n",
       "      <td>752</td>\n",
       "      <td>19</td>\n",
       "      <td>0.001</td>\n",
       "      <td>0.002</td>\n",
       "      <td>-0.136</td>\n",
       "      <td>0.000</td>\n",
       "      <td>0.001</td>\n",
       "    </tr>\n",
       "    <tr>\n",
       "      <th>PARTNER46</th>\n",
       "      <td>248</td>\n",
       "      <td>6</td>\n",
       "      <td>0.000</td>\n",
       "      <td>0.000</td>\n",
       "      <td>-0.092</td>\n",
       "      <td>0.000</td>\n",
       "      <td>0.000</td>\n",
       "    </tr>\n",
       "    <tr>\n",
       "      <th>PARTNER11</th>\n",
       "      <td>129</td>\n",
       "      <td>3</td>\n",
       "      <td>0.000</td>\n",
       "      <td>0.000</td>\n",
       "      <td>-0.053</td>\n",
       "      <td>0.000</td>\n",
       "      <td>0.000</td>\n",
       "    </tr>\n",
       "    <tr>\n",
       "      <th>PARTNER19</th>\n",
       "      <td>293</td>\n",
       "      <td>6</td>\n",
       "      <td>0.001</td>\n",
       "      <td>0.000</td>\n",
       "      <td>0.074</td>\n",
       "      <td>0.000</td>\n",
       "      <td>0.001</td>\n",
       "    </tr>\n",
       "    <tr>\n",
       "      <th>PARTNER22</th>\n",
       "      <td>739</td>\n",
       "      <td>15</td>\n",
       "      <td>0.001</td>\n",
       "      <td>0.001</td>\n",
       "      <td>0.083</td>\n",
       "      <td>0.000</td>\n",
       "      <td>0.001</td>\n",
       "    </tr>\n",
       "    <tr>\n",
       "      <th>PARTNER6</th>\n",
       "      <td>124890</td>\n",
       "      <td>2325</td>\n",
       "      <td>0.225</td>\n",
       "      <td>0.190</td>\n",
       "      <td>0.170</td>\n",
       "      <td>0.006</td>\n",
       "      <td>0.224</td>\n",
       "    </tr>\n",
       "    <tr>\n",
       "      <th>PARTNER7</th>\n",
       "      <td>10937</td>\n",
       "      <td>149</td>\n",
       "      <td>0.020</td>\n",
       "      <td>0.012</td>\n",
       "      <td>0.482</td>\n",
       "      <td>0.004</td>\n",
       "      <td>0.020</td>\n",
       "    </tr>\n",
       "    <tr>\n",
       "      <th>PARTNER4</th>\n",
       "      <td>232</td>\n",
       "      <td>3</td>\n",
       "      <td>0.000</td>\n",
       "      <td>0.000</td>\n",
       "      <td>0.534</td>\n",
       "      <td>0.000</td>\n",
       "      <td>0.000</td>\n",
       "    </tr>\n",
       "    <tr>\n",
       "      <th>PARTNER13</th>\n",
       "      <td>1165</td>\n",
       "      <td>15</td>\n",
       "      <td>0.002</td>\n",
       "      <td>0.001</td>\n",
       "      <td>0.538</td>\n",
       "      <td>0.000</td>\n",
       "      <td>0.002</td>\n",
       "    </tr>\n",
       "    <tr>\n",
       "      <th>PARTNER20</th>\n",
       "      <td>23120</td>\n",
       "      <td>290</td>\n",
       "      <td>0.042</td>\n",
       "      <td>0.024</td>\n",
       "      <td>0.564</td>\n",
       "      <td>0.010</td>\n",
       "      <td>0.041</td>\n",
       "    </tr>\n",
       "    <tr>\n",
       "      <th>PARTNER8</th>\n",
       "      <td>11862</td>\n",
       "      <td>145</td>\n",
       "      <td>0.021</td>\n",
       "      <td>0.012</td>\n",
       "      <td>0.590</td>\n",
       "      <td>0.006</td>\n",
       "      <td>0.021</td>\n",
       "    </tr>\n",
       "    <tr>\n",
       "      <th>PARTNER36</th>\n",
       "      <td>1351</td>\n",
       "      <td>15</td>\n",
       "      <td>0.002</td>\n",
       "      <td>0.001</td>\n",
       "      <td>0.686</td>\n",
       "      <td>0.001</td>\n",
       "      <td>0.002</td>\n",
       "    </tr>\n",
       "    <tr>\n",
       "      <th>PARTNER44</th>\n",
       "      <td>2526</td>\n",
       "      <td>28</td>\n",
       "      <td>0.005</td>\n",
       "      <td>0.002</td>\n",
       "      <td>0.688</td>\n",
       "      <td>0.002</td>\n",
       "      <td>0.005</td>\n",
       "    </tr>\n",
       "    <tr>\n",
       "      <th>PARTNER28</th>\n",
       "      <td>103149</td>\n",
       "      <td>1088</td>\n",
       "      <td>0.186</td>\n",
       "      <td>0.089</td>\n",
       "      <td>0.738</td>\n",
       "      <td>0.072</td>\n",
       "      <td>0.184</td>\n",
       "    </tr>\n",
       "    <tr>\n",
       "      <th>PARTNER9</th>\n",
       "      <td>30765</td>\n",
       "      <td>309</td>\n",
       "      <td>0.055</td>\n",
       "      <td>0.025</td>\n",
       "      <td>0.787</td>\n",
       "      <td>0.024</td>\n",
       "      <td>0.055</td>\n",
       "    </tr>\n",
       "    <tr>\n",
       "      <th>PARTNER24</th>\n",
       "      <td>7103</td>\n",
       "      <td>64</td>\n",
       "      <td>0.013</td>\n",
       "      <td>0.005</td>\n",
       "      <td>0.895</td>\n",
       "      <td>0.007</td>\n",
       "      <td>0.013</td>\n",
       "    </tr>\n",
       "    <tr>\n",
       "      <th>PARTNER23</th>\n",
       "      <td>75380</td>\n",
       "      <td>613</td>\n",
       "      <td>0.136</td>\n",
       "      <td>0.050</td>\n",
       "      <td>0.998</td>\n",
       "      <td>0.086</td>\n",
       "      <td>0.134</td>\n",
       "    </tr>\n",
       "    <tr>\n",
       "      <th>PARTNER10</th>\n",
       "      <td>143</td>\n",
       "      <td>1</td>\n",
       "      <td>0.000</td>\n",
       "      <td>0.000</td>\n",
       "      <td>1.149</td>\n",
       "      <td>0.000</td>\n",
       "      <td>0.000</td>\n",
       "    </tr>\n",
       "    <tr>\n",
       "      <th>PARTNER14</th>\n",
       "      <td>7984</td>\n",
       "      <td>41</td>\n",
       "      <td>0.014</td>\n",
       "      <td>0.003</td>\n",
       "      <td>1.458</td>\n",
       "      <td>0.016</td>\n",
       "      <td>0.014</td>\n",
       "    </tr>\n",
       "    <tr>\n",
       "      <th>PARTNER40</th>\n",
       "      <td>80250</td>\n",
       "      <td>400</td>\n",
       "      <td>0.145</td>\n",
       "      <td>0.033</td>\n",
       "      <td>1.487</td>\n",
       "      <td>0.166</td>\n",
       "      <td>0.142</td>\n",
       "    </tr>\n",
       "    <tr>\n",
       "      <th>PARTNER37</th>\n",
       "      <td>960</td>\n",
       "      <td>3</td>\n",
       "      <td>0.002</td>\n",
       "      <td>0.000</td>\n",
       "      <td>1.954</td>\n",
       "      <td>0.003</td>\n",
       "      <td>0.002</td>\n",
       "    </tr>\n",
       "    <tr>\n",
       "      <th>PARTNER38</th>\n",
       "      <td>14952</td>\n",
       "      <td>39</td>\n",
       "      <td>0.027</td>\n",
       "      <td>0.003</td>\n",
       "      <td>2.135</td>\n",
       "      <td>0.051</td>\n",
       "      <td>0.026</td>\n",
       "    </tr>\n",
       "    <tr>\n",
       "      <th>PARTNER3</th>\n",
       "      <td>398</td>\n",
       "      <td>1</td>\n",
       "      <td>0.001</td>\n",
       "      <td>0.000</td>\n",
       "      <td>2.172</td>\n",
       "      <td>0.001</td>\n",
       "      <td>0.001</td>\n",
       "    </tr>\n",
       "    <tr>\n",
       "      <th>PARTNER16</th>\n",
       "      <td>1219</td>\n",
       "      <td>3</td>\n",
       "      <td>0.002</td>\n",
       "      <td>0.000</td>\n",
       "      <td>2.193</td>\n",
       "      <td>0.004</td>\n",
       "      <td>0.002</td>\n",
       "    </tr>\n",
       "    <tr>\n",
       "      <th>PARTNER43</th>\n",
       "      <td>952</td>\n",
       "      <td>2</td>\n",
       "      <td>0.002</td>\n",
       "      <td>0.000</td>\n",
       "      <td>2.351</td>\n",
       "      <td>0.004</td>\n",
       "      <td>0.002</td>\n",
       "    </tr>\n",
       "    <tr>\n",
       "      <th>PARTNER1</th>\n",
       "      <td>671</td>\n",
       "      <td>1</td>\n",
       "      <td>0.001</td>\n",
       "      <td>0.000</td>\n",
       "      <td>2.695</td>\n",
       "      <td>0.003</td>\n",
       "      <td>0.001</td>\n",
       "    </tr>\n",
       "    <tr>\n",
       "      <th>PARTNER5</th>\n",
       "      <td>203</td>\n",
       "      <td>0</td>\n",
       "      <td>0.000</td>\n",
       "      <td>0.000</td>\n",
       "      <td>inf</td>\n",
       "      <td>0.000</td>\n",
       "      <td>0.000</td>\n",
       "    </tr>\n",
       "  </tbody>\n",
       "</table>\n",
       "</div>"
      ],
      "text/plain": [
       "           Not-event  Event  % Not-event  % Event    WoE    IV  share_bin\n",
       "PARTNER                                                                  \n",
       "PARTNER42          2      9        0.000    0.001 -5.318 0.004      0.000\n",
       "PARTNER21         96     89        0.000    0.007 -3.738 0.027      0.000\n",
       "PARTNER29        122     99        0.000    0.008 -3.605 0.028      0.000\n",
       "PARTNER2        1333    892        0.002    0.073 -3.412 0.240      0.004\n",
       "PARTNER26        444    285        0.001    0.023 -3.371 0.076      0.001\n",
       "PARTNER33         55     34        0.000    0.003 -3.333 0.009      0.000\n",
       "PARTNER32       1111    611        0.002    0.050 -3.216 0.154      0.003\n",
       "PARTNER25        974    524        0.002    0.043 -3.194 0.131      0.003\n",
       "PARTNER41        192    101        0.000    0.008 -3.172 0.025      0.001\n",
       "PARTNER35       1836    671        0.003    0.055 -2.808 0.145      0.004\n",
       "PARTNER18       2526    569        0.005    0.046 -2.324 0.097      0.005\n",
       "PARTNER27       1650    321        0.003    0.026 -2.177 0.051      0.003\n",
       "PARTNER17        831    141        0.001    0.012 -2.040 0.020      0.002\n",
       "PARTNER45       6442   1049        0.012    0.086 -1.999 0.148      0.013\n",
       "PARTNER15        135     18        0.000    0.001 -1.799 0.002      0.000\n",
       "PARTNER34         73      7        0.000    0.001 -1.470 0.001      0.000\n",
       "PARTNER31      34382   1223        0.062    0.100 -0.478 0.018      0.063\n",
       "PARTNER39        451     15        0.001    0.001 -0.411 0.000      0.001\n",
       "PARTNER30        118      3        0.000    0.000 -0.142 0.000      0.000\n",
       "PARTNER12        752     19        0.001    0.002 -0.136 0.000      0.001\n",
       "PARTNER46        248      6        0.000    0.000 -0.092 0.000      0.000\n",
       "PARTNER11        129      3        0.000    0.000 -0.053 0.000      0.000\n",
       "PARTNER19        293      6        0.001    0.000  0.074 0.000      0.001\n",
       "PARTNER22        739     15        0.001    0.001  0.083 0.000      0.001\n",
       "PARTNER6      124890   2325        0.225    0.190  0.170 0.006      0.224\n",
       "PARTNER7       10937    149        0.020    0.012  0.482 0.004      0.020\n",
       "PARTNER4         232      3        0.000    0.000  0.534 0.000      0.000\n",
       "PARTNER13       1165     15        0.002    0.001  0.538 0.000      0.002\n",
       "PARTNER20      23120    290        0.042    0.024  0.564 0.010      0.041\n",
       "PARTNER8       11862    145        0.021    0.012  0.590 0.006      0.021\n",
       "PARTNER36       1351     15        0.002    0.001  0.686 0.001      0.002\n",
       "PARTNER44       2526     28        0.005    0.002  0.688 0.002      0.005\n",
       "PARTNER28     103149   1088        0.186    0.089  0.738 0.072      0.184\n",
       "PARTNER9       30765    309        0.055    0.025  0.787 0.024      0.055\n",
       "PARTNER24       7103     64        0.013    0.005  0.895 0.007      0.013\n",
       "PARTNER23      75380    613        0.136    0.050  0.998 0.086      0.134\n",
       "PARTNER10        143      1        0.000    0.000  1.149 0.000      0.000\n",
       "PARTNER14       7984     41        0.014    0.003  1.458 0.016      0.014\n",
       "PARTNER40      80250    400        0.145    0.033  1.487 0.166      0.142\n",
       "PARTNER37        960      3        0.002    0.000  1.954 0.003      0.002\n",
       "PARTNER38      14952     39        0.027    0.003  2.135 0.051      0.026\n",
       "PARTNER3         398      1        0.001    0.000  2.172 0.001      0.001\n",
       "PARTNER16       1219      3        0.002    0.000  2.193 0.004      0.002\n",
       "PARTNER43        952      2        0.002    0.000  2.351 0.004      0.002\n",
       "PARTNER1         671      1        0.001    0.000  2.695 0.003      0.001\n",
       "PARTNER5         203      0        0.000    0.000    inf 0.000      0.000"
      ]
     },
     "execution_count": 356,
     "metadata": {},
     "output_type": "execute_result"
    }
   ],
   "source": [
    "WoE_categorial(data_df, 'PARTNER')"
   ]
  },
  {
   "cell_type": "code",
   "execution_count": 357,
   "id": "4a9df361",
   "metadata": {
    "ExecuteTime": {
     "end_time": "2023-07-30T20:13:30.576771Z",
     "start_time": "2023-07-30T20:13:30.488008Z"
    }
   },
   "outputs": [
    {
     "data": {
      "text/plain": [
       "1.642"
      ]
     },
     "execution_count": 357,
     "metadata": {},
     "output_type": "execute_result"
    }
   ],
   "source": [
    "round(WoE_categorial(data_df, 'PARTNER')['IV'].sum(), 3)"
   ]
  },
  {
   "cell_type": "code",
   "execution_count": 359,
   "id": "7280105d",
   "metadata": {
    "ExecuteTime": {
     "end_time": "2023-07-30T20:14:34.170049Z",
     "start_time": "2023-07-30T20:14:33.141226Z"
    }
   },
   "outputs": [
    {
     "name": "stderr",
     "output_type": "stream",
     "text": [
      "C:\\Users\\75BD~1\\AppData\\Local\\Temp/ipykernel_6048/3156312907.py:5: SettingWithCopyWarning: \n",
      "A value is trying to be set on a copy of a slice from a DataFrame\n",
      "\n",
      "See the caveats in the documentation: https://pandas.pydata.org/pandas-docs/stable/user_guide/indexing.html#returning-a-view-versus-a-copy\n",
      "  data_df['partner_cat'][(data_df['PARTNER'] == i)] = category_num\n"
     ]
    }
   ],
   "source": [
    "# Создаем категориальную переменную партнер\n",
    "data_df['partner_cat'] = 0\n",
    "category_num = 1\n",
    "for i in WoE_categorial(data_df, 'PARTNER').index:\n",
    "    data_df['partner_cat'][(data_df['PARTNER'] == i)] = category_num\n",
    "    category_num +=1"
   ]
  },
  {
   "cell_type": "code",
   "execution_count": 443,
   "id": "77f6774a",
   "metadata": {
    "ExecuteTime": {
     "end_time": "2023-07-30T20:48:06.508458Z",
     "start_time": "2023-07-30T20:48:06.438580Z"
    }
   },
   "outputs": [
    {
     "name": "stderr",
     "output_type": "stream",
     "text": [
      "C:\\Users\\75BD~1\\AppData\\Local\\Temp/ipykernel_6048/873390443.py:3: SettingWithCopyWarning: \n",
      "A value is trying to be set on a copy of a slice from a DataFrame\n",
      "\n",
      "See the caveats in the documentation: https://pandas.pydata.org/pandas-docs/stable/user_guide/indexing.html#returning-a-view-versus-a-copy\n",
      "  data_df['model_cat'][(data_df['MODEL'] == 'EMPTY')] = 1\n",
      "C:\\Users\\75BD~1\\AppData\\Local\\Temp/ipykernel_6048/873390443.py:4: SettingWithCopyWarning: \n",
      "A value is trying to be set on a copy of a slice from a DataFrame\n",
      "\n",
      "See the caveats in the documentation: https://pandas.pydata.org/pandas-docs/stable/user_guide/indexing.html#returning-a-view-versus-a-copy\n",
      "  data_df['model_cat'][(data_df['MODEL'] == '0')] = 3\n",
      "C:\\Users\\75BD~1\\AppData\\Local\\Temp/ipykernel_6048/873390443.py:5: SettingWithCopyWarning: \n",
      "A value is trying to be set on a copy of a slice from a DataFrame\n",
      "\n",
      "See the caveats in the documentation: https://pandas.pydata.org/pandas-docs/stable/user_guide/indexing.html#returning-a-view-versus-a-copy\n",
      "  data_df['model_cat'][(data_df['MODEL'].isna())] = 0\n"
     ]
    }
   ],
   "source": [
    "# Создаем категориальную переменную наименование товара\n",
    "data_df['model_cat'] = 2\n",
    "data_df['model_cat'][(data_df['MODEL'] == 'EMPTY')] = 1\n",
    "data_df['model_cat'][(data_df['MODEL'] == '0')] = 3\n",
    "data_df['model_cat'][(data_df['MODEL'].isna())] = 0"
   ]
  },
  {
   "cell_type": "code",
   "execution_count": 444,
   "id": "269bb529",
   "metadata": {
    "ExecuteTime": {
     "end_time": "2023-07-30T20:48:07.081329Z",
     "start_time": "2023-07-30T20:48:07.018539Z"
    }
   },
   "outputs": [
    {
     "data": {
      "text/html": [
       "<div>\n",
       "<style scoped>\n",
       "    .dataframe tbody tr th:only-of-type {\n",
       "        vertical-align: middle;\n",
       "    }\n",
       "\n",
       "    .dataframe tbody tr th {\n",
       "        vertical-align: top;\n",
       "    }\n",
       "\n",
       "    .dataframe thead th {\n",
       "        text-align: right;\n",
       "    }\n",
       "</style>\n",
       "<table border=\"1\" class=\"dataframe\">\n",
       "  <thead>\n",
       "    <tr style=\"text-align: right;\">\n",
       "      <th></th>\n",
       "      <th>Not-event</th>\n",
       "      <th>Event</th>\n",
       "      <th>% Not-event</th>\n",
       "      <th>% Event</th>\n",
       "      <th>WoE</th>\n",
       "      <th>IV</th>\n",
       "      <th>share_bin</th>\n",
       "    </tr>\n",
       "    <tr>\n",
       "      <th>model_cat</th>\n",
       "      <th></th>\n",
       "      <th></th>\n",
       "      <th></th>\n",
       "      <th></th>\n",
       "      <th></th>\n",
       "      <th></th>\n",
       "      <th></th>\n",
       "    </tr>\n",
       "  </thead>\n",
       "  <tbody>\n",
       "    <tr>\n",
       "      <th>0</th>\n",
       "      <td>137309</td>\n",
       "      <td>7421</td>\n",
       "      <td>0.247</td>\n",
       "      <td>0.606</td>\n",
       "      <td>-0.896</td>\n",
       "      <td>0.321</td>\n",
       "      <td>0.255</td>\n",
       "    </tr>\n",
       "    <tr>\n",
       "      <th>1</th>\n",
       "      <td>137993</td>\n",
       "      <td>1786</td>\n",
       "      <td>0.249</td>\n",
       "      <td>0.146</td>\n",
       "      <td>0.533</td>\n",
       "      <td>0.055</td>\n",
       "      <td>0.246</td>\n",
       "    </tr>\n",
       "    <tr>\n",
       "      <th>2</th>\n",
       "      <td>176695</td>\n",
       "      <td>1950</td>\n",
       "      <td>0.318</td>\n",
       "      <td>0.159</td>\n",
       "      <td>0.692</td>\n",
       "      <td>0.110</td>\n",
       "      <td>0.315</td>\n",
       "    </tr>\n",
       "    <tr>\n",
       "      <th>3</th>\n",
       "      <td>103149</td>\n",
       "      <td>1088</td>\n",
       "      <td>0.186</td>\n",
       "      <td>0.089</td>\n",
       "      <td>0.738</td>\n",
       "      <td>0.072</td>\n",
       "      <td>0.184</td>\n",
       "    </tr>\n",
       "  </tbody>\n",
       "</table>\n",
       "</div>"
      ],
      "text/plain": [
       "           Not-event  Event  % Not-event  % Event    WoE    IV  share_bin\n",
       "model_cat                                                                \n",
       "0             137309   7421        0.247    0.606 -0.896 0.321      0.255\n",
       "1             137993   1786        0.249    0.146  0.533 0.055      0.246\n",
       "2             176695   1950        0.318    0.159  0.692 0.110      0.315\n",
       "3             103149   1088        0.186    0.089  0.738 0.072      0.184"
      ]
     },
     "execution_count": 444,
     "metadata": {},
     "output_type": "execute_result"
    }
   ],
   "source": [
    "WoE_categorial(data_df, 'model_cat')"
   ]
  },
  {
   "cell_type": "code",
   "execution_count": 445,
   "id": "d104ac88",
   "metadata": {
    "ExecuteTime": {
     "end_time": "2023-07-30T20:48:27.185394Z",
     "start_time": "2023-07-30T20:48:27.133533Z"
    }
   },
   "outputs": [
    {
     "data": {
      "text/plain": [
       "0.558"
      ]
     },
     "execution_count": 445,
     "metadata": {},
     "output_type": "execute_result"
    }
   ],
   "source": [
    "round(WoE_categorial(data_df, 'model_cat')['IV'].sum(), 3)"
   ]
  },
  {
   "cell_type": "markdown",
   "id": "2727493b",
   "metadata": {},
   "source": [
    "<div class=\"alert alert-block alert-info\">\n",
    "Видим, что все переменные хорошие \n",
    "\n",
    "Будет прогнозировать таргет от партнера, канала, типа продукта, наименование товара и суммы кредита  \n",
    "В целом, можно уменьшить кол-во категорий в наших новых переменных, соединив категории с примерно одинаковым WoE\n",
    "</div> "
   ]
  },
  {
   "cell_type": "markdown",
   "id": "8e49cf5f",
   "metadata": {},
   "source": [
    "# Глобальные переменные для модели"
   ]
  },
  {
   "cell_type": "code",
   "execution_count": 369,
   "id": "78604e28",
   "metadata": {
    "ExecuteTime": {
     "end_time": "2023-07-30T20:19:20.649329Z",
     "start_time": "2023-07-30T20:19:20.634339Z"
    }
   },
   "outputs": [],
   "source": [
    "target = 'TARGET'"
   ]
  },
  {
   "cell_type": "code",
   "execution_count": 370,
   "id": "e1191ffb",
   "metadata": {
    "ExecuteTime": {
     "end_time": "2023-07-30T20:19:20.897617Z",
     "start_time": "2023-07-30T20:19:20.881660Z"
    }
   },
   "outputs": [
    {
     "data": {
      "text/plain": [
       "Index(['PARTNER', 'APPID', 'DOCSERNUM', 'MOBILEPHONE', 'EMAIL', 'PRODUCTTYPE',\n",
       "       'CHANNEL', 'MODEL', 'TARGET', 'APPDT', 'APPMONTH', 'LIMIT',\n",
       "       'channel_cat', 'product_type_cat', 'partner_cat'],\n",
       "      dtype='object')"
      ]
     },
     "execution_count": 370,
     "metadata": {},
     "output_type": "execute_result"
    }
   ],
   "source": [
    "data_df.columns"
   ]
  },
  {
   "cell_type": "code",
   "execution_count": 450,
   "id": "42698c0a",
   "metadata": {
    "ExecuteTime": {
     "end_time": "2023-07-30T20:49:49.257639Z",
     "start_time": "2023-07-30T20:49:49.240716Z"
    }
   },
   "outputs": [],
   "source": [
    "X_list = ['LIMIT', 'channel_cat', 'product_type_cat', 'partner_cat', 'model_cat']"
   ]
  },
  {
   "cell_type": "markdown",
   "id": "f593452c",
   "metadata": {
    "ExecuteTime": {
     "end_time": "2023-07-30T20:19:38.666880Z",
     "start_time": "2023-07-30T20:19:38.651921Z"
    }
   },
   "source": [
    "# Корреляция"
   ]
  },
  {
   "cell_type": "code",
   "execution_count": 451,
   "id": "78360170",
   "metadata": {
    "ExecuteTime": {
     "end_time": "2023-07-30T20:49:49.808004Z",
     "start_time": "2023-07-30T20:49:49.749162Z"
    }
   },
   "outputs": [
    {
     "data": {
      "text/html": [
       "<div>\n",
       "<style scoped>\n",
       "    .dataframe tbody tr th:only-of-type {\n",
       "        vertical-align: middle;\n",
       "    }\n",
       "\n",
       "    .dataframe tbody tr th {\n",
       "        vertical-align: top;\n",
       "    }\n",
       "\n",
       "    .dataframe thead th {\n",
       "        text-align: right;\n",
       "    }\n",
       "</style>\n",
       "<table border=\"1\" class=\"dataframe\">\n",
       "  <thead>\n",
       "    <tr style=\"text-align: right;\">\n",
       "      <th></th>\n",
       "      <th>LIMIT</th>\n",
       "      <th>channel_cat</th>\n",
       "      <th>product_type_cat</th>\n",
       "      <th>partner_cat</th>\n",
       "      <th>model_cat</th>\n",
       "    </tr>\n",
       "  </thead>\n",
       "  <tbody>\n",
       "    <tr>\n",
       "      <th>LIMIT</th>\n",
       "      <td>1.000</td>\n",
       "      <td>0.010</td>\n",
       "      <td>0.223</td>\n",
       "      <td>0.180</td>\n",
       "      <td>0.007</td>\n",
       "    </tr>\n",
       "    <tr>\n",
       "      <th>channel_cat</th>\n",
       "      <td>0.010</td>\n",
       "      <td>1.000</td>\n",
       "      <td>0.474</td>\n",
       "      <td>0.550</td>\n",
       "      <td>0.153</td>\n",
       "    </tr>\n",
       "    <tr>\n",
       "      <th>product_type_cat</th>\n",
       "      <td>0.223</td>\n",
       "      <td>0.474</td>\n",
       "      <td>1.000</td>\n",
       "      <td>0.646</td>\n",
       "      <td>0.213</td>\n",
       "    </tr>\n",
       "    <tr>\n",
       "      <th>partner_cat</th>\n",
       "      <td>0.180</td>\n",
       "      <td>0.550</td>\n",
       "      <td>0.646</td>\n",
       "      <td>1.000</td>\n",
       "      <td>0.323</td>\n",
       "    </tr>\n",
       "    <tr>\n",
       "      <th>model_cat</th>\n",
       "      <td>0.007</td>\n",
       "      <td>0.153</td>\n",
       "      <td>0.213</td>\n",
       "      <td>0.323</td>\n",
       "      <td>1.000</td>\n",
       "    </tr>\n",
       "  </tbody>\n",
       "</table>\n",
       "</div>"
      ],
      "text/plain": [
       "                  LIMIT  channel_cat  product_type_cat  partner_cat  model_cat\n",
       "LIMIT             1.000        0.010             0.223        0.180      0.007\n",
       "channel_cat       0.010        1.000             0.474        0.550      0.153\n",
       "product_type_cat  0.223        0.474             1.000        0.646      0.213\n",
       "partner_cat       0.180        0.550             0.646        1.000      0.323\n",
       "model_cat         0.007        0.153             0.213        0.323      1.000"
      ]
     },
     "execution_count": 451,
     "metadata": {},
     "output_type": "execute_result"
    }
   ],
   "source": [
    "data_df[X_list].corr()"
   ]
  },
  {
   "cell_type": "markdown",
   "id": "bb883e77",
   "metadata": {},
   "source": [
    "<div class=\"alert alert-block alert-info\">\n",
    "Корреляция между переменными есть, но не очень большая\n",
    "</div> "
   ]
  },
  {
   "cell_type": "markdown",
   "id": "72fb23c2",
   "metadata": {},
   "source": [
    "# Разбиваем на in-sample / out-sample"
   ]
  },
  {
   "cell_type": "markdown",
   "id": "a02d6b88",
   "metadata": {
    "ExecuteTime": {
     "end_time": "2023-07-30T20:21:11.949775Z",
     "start_time": "2023-07-30T20:21:11.938805Z"
    }
   },
   "source": [
    "<div class=\"alert alert-block alert-danger\">\n",
    "Пропускаем этот этап, т.к. данные во времени распределены слишком неравномерно (см. \"Распределение данных во времени\")  \n",
    "    \n",
    "Также мы не будет исключать март 2022 года.\n",
    "    \n",
    "Но оба действия можно сделать :)\n",
    "</div>"
   ]
  },
  {
   "cell_type": "code",
   "execution_count": 470,
   "id": "3204baed",
   "metadata": {
    "ExecuteTime": {
     "end_time": "2023-07-30T20:51:38.938719Z",
     "start_time": "2023-07-30T20:51:38.921763Z"
    }
   },
   "outputs": [],
   "source": [
    "#data_in_sample = data[data['dt'] <= dt_sample]\n",
    "#data_out_sample = data[data['dt'] > dt_sample]\n",
    "\n",
    "data_in_sample = data_df"
   ]
  },
  {
   "cell_type": "markdown",
   "id": "3243a443",
   "metadata": {},
   "source": [
    "# Разбиваем на train/test"
   ]
  },
  {
   "cell_type": "code",
   "execution_count": 471,
   "id": "b92b783a",
   "metadata": {
    "ExecuteTime": {
     "end_time": "2023-07-30T20:51:39.667221Z",
     "start_time": "2023-07-30T20:51:39.646278Z"
    }
   },
   "outputs": [],
   "source": [
    "X = data_in_sample[X_list]\n",
    "Y = data_in_sample[target]"
   ]
  },
  {
   "cell_type": "code",
   "execution_count": 472,
   "id": "ae517ab2",
   "metadata": {
    "ExecuteTime": {
     "end_time": "2023-07-30T20:51:40.646019Z",
     "start_time": "2023-07-30T20:51:40.591046Z"
    }
   },
   "outputs": [],
   "source": [
    "X_train, X_test, Y_train, Y_test = train_test_split(X, Y, test_size = 0.2, random_state = 42)"
   ]
  },
  {
   "cell_type": "markdown",
   "id": "9feca5b0",
   "metadata": {},
   "source": [
    "# Создаем модель"
   ]
  },
  {
   "cell_type": "code",
   "execution_count": 473,
   "id": "e942db61",
   "metadata": {
    "ExecuteTime": {
     "end_time": "2023-07-30T20:51:47.510620Z",
     "start_time": "2023-07-30T20:51:47.440808Z"
    }
   },
   "outputs": [],
   "source": [
    "import statsmodels.api as sm\n",
    "model=sm.Logit(Y_train , X_train)"
   ]
  },
  {
   "cell_type": "code",
   "execution_count": 474,
   "id": "15fe70d8",
   "metadata": {
    "ExecuteTime": {
     "end_time": "2023-07-30T20:51:49.232722Z",
     "start_time": "2023-07-30T20:51:47.848425Z"
    }
   },
   "outputs": [
    {
     "name": "stdout",
     "output_type": "stream",
     "text": [
      "Optimization terminated successfully.\n",
      "         Current function value: 0.084600\n",
      "         Iterations 10\n",
      "                         Results: Logit\n",
      "=================================================================\n",
      "Model:              Logit            Pseudo R-squared: 0.190     \n",
      "Dependent Variable: TARGET           AIC:              76812.0611\n",
      "Date:               2023-07-30 23:51 BIC:              76867.1894\n",
      "No. Observations:   453912           Log-Likelihood:   -38401.   \n",
      "Df Model:           4                LL-Null:          -47423.   \n",
      "Df Residuals:       453907           LLR p-value:      0.0000    \n",
      "Converged:          1.0000           Scale:            1.0000    \n",
      "No. Iterations:     10.0000                                      \n",
      "-----------------------------------------------------------------\n",
      "                  Coef.  Std.Err.    z     P>|z|   [0.025  0.975]\n",
      "-----------------------------------------------------------------\n",
      "LIMIT             0.0000   0.0000   0.6482 0.5168 -0.0000  0.0000\n",
      "channel_cat      -0.0085   0.0054  -1.5556 0.1198 -0.0191  0.0022\n",
      "product_type_cat -0.2210   0.0067 -33.0637 0.0000 -0.2341 -0.2079\n",
      "partner_cat      -0.1015   0.0016 -61.5954 0.0000 -0.1047 -0.0982\n",
      "model_cat         0.0673   0.0131   5.1406 0.0000  0.0416  0.0930\n",
      "=================================================================\n",
      "\n"
     ]
    }
   ],
   "source": [
    "result=model.fit()\n",
    "print(result.summary2())"
   ]
  },
  {
   "cell_type": "code",
   "execution_count": 492,
   "id": "386e1f01",
   "metadata": {
    "ExecuteTime": {
     "end_time": "2023-07-30T20:54:22.918788Z",
     "start_time": "2023-07-30T20:54:21.465676Z"
    }
   },
   "outputs": [
    {
     "data": {
      "text/plain": [
       "LogisticRegression(C=10.0, solver='liblinear')"
      ]
     },
     "execution_count": 492,
     "metadata": {},
     "output_type": "execute_result"
    }
   ],
   "source": [
    "logreg = LogisticRegression(solver='liblinear', C=10.0)\n",
    "logreg.fit(X_train, Y_train)"
   ]
  },
  {
   "cell_type": "markdown",
   "id": "57f034cc",
   "metadata": {},
   "source": [
    "# Метрики качества модели"
   ]
  },
  {
   "cell_type": "code",
   "execution_count": 493,
   "id": "07d6fbb9",
   "metadata": {
    "ExecuteTime": {
     "end_time": "2023-07-30T20:54:24.040796Z",
     "start_time": "2023-07-30T20:54:24.013870Z"
    }
   },
   "outputs": [],
   "source": [
    "y_pred_proba_test = logreg.predict_proba(X_test) # прогноз на тесте\n",
    "y_pred_proba_train = logreg.predict_proba(X_train) # прогноз на train\n",
    "# y_pred_proba_out = logreg.predict_proba(X_out) # прогноз на out_sample"
   ]
  },
  {
   "cell_type": "code",
   "execution_count": 494,
   "id": "d3d6cf1f",
   "metadata": {
    "ExecuteTime": {
     "end_time": "2023-07-30T20:54:24.818990Z",
     "start_time": "2023-07-30T20:54:24.812008Z"
    }
   },
   "outputs": [],
   "source": [
    "# Функция для получения предсказаний модели по заданному порогу\n",
    "def pred_cutoff(tr, pred_proba):\n",
    "    y_pred = np.zeros(shape = (len(pred_proba)))\n",
    "    for i in range(len(pred_proba)):\n",
    "        if pred_proba[i][1] >= tr:\n",
    "            y_pred[i] = 1\n",
    "        else:\n",
    "            y_pred[i] = 0\n",
    "    return y_pred"
   ]
  },
  {
   "cell_type": "code",
   "execution_count": 495,
   "id": "21298b1b",
   "metadata": {
    "ExecuteTime": {
     "end_time": "2023-07-30T20:54:26.923009Z",
     "start_time": "2023-07-30T20:54:26.917025Z"
    }
   },
   "outputs": [],
   "source": [
    "# np.linspace(0, 0.5, 21)"
   ]
  },
  {
   "cell_type": "code",
   "execution_count": 496,
   "id": "0d1ae393",
   "metadata": {
    "ExecuteTime": {
     "end_time": "2023-07-30T20:54:27.901723Z",
     "start_time": "2023-07-30T20:54:27.344621Z"
    }
   },
   "outputs": [
    {
     "name": "stdout",
     "output_type": "stream",
     "text": [
      "      Тестовая выборка\n",
      "Threshold: 0 AUC: 0.5\n",
      "Threshold: 0.01 AUC: 0.697\n",
      "Threshold: 0.02 AUC: 0.716\n",
      "Threshold: 0.03 AUC: 0.73\n",
      "Threshold: 0.04 AUC: 0.731\n",
      "Threshold: 0.05 AUC: 0.731\n",
      "Threshold: 0.1 AUC: 0.707\n",
      "Threshold: 0.15 AUC: 0.657\n",
      "Threshold: 0.2 AUC: 0.606\n",
      "Threshold: 0.25 AUC: 0.555\n",
      "Threshold: 0.3 AUC: 0.554\n",
      "Threshold: 0.35 AUC: 0.543\n",
      "Threshold: 0.4 AUC: 0.504\n",
      "Threshold: 0.45 AUC: 0.5\n",
      "Threshold: 0.5 AUC: 0.5\n"
     ]
    }
   ],
   "source": [
    "print(5 * ' ', 'Тестовая выборка')\n",
    "for t in (0, 0.01, 0.02, 0.03, 0.04, 0.05, 0.1, 0.15, 0.2, 0.25, 0.3, 0.35, 0.4, 0.45, 0.5):\n",
    "    y_pred_test = pred_cutoff(t, y_pred_proba_test)\n",
    "    print('Threshold:', t , 'AUC:', round(roc_auc_score(Y_test, y_pred_test), 3))"
   ]
  },
  {
   "cell_type": "code",
   "execution_count": 497,
   "id": "9b7e8f81",
   "metadata": {
    "ExecuteTime": {
     "end_time": "2023-07-30T20:54:28.699973Z",
     "start_time": "2023-07-30T20:54:28.686010Z"
    }
   },
   "outputs": [],
   "source": [
    "# precision/recall. Threshold - 0.05\n",
    "\n",
    "Th = 0.05"
   ]
  },
  {
   "cell_type": "code",
   "execution_count": 498,
   "id": "d9afb58b",
   "metadata": {
    "ExecuteTime": {
     "end_time": "2023-07-30T20:54:29.401052Z",
     "start_time": "2023-07-30T20:54:29.259357Z"
    }
   },
   "outputs": [],
   "source": [
    "y_pred_train = pred_cutoff(Th, y_pred_proba_train)\n",
    "y_pred_test = pred_cutoff(Th, y_pred_proba_test)\n",
    "# y_pred_out = pred_cutoff(Th, y_pred_proba_out)"
   ]
  },
  {
   "cell_type": "code",
   "execution_count": 499,
   "id": "1d0f8118",
   "metadata": {
    "ExecuteTime": {
     "end_time": "2023-07-30T20:54:30.559727Z",
     "start_time": "2023-07-30T20:54:30.018100Z"
    }
   },
   "outputs": [
    {
     "name": "stdout",
     "output_type": "stream",
     "text": [
      "                     Обучающая выборка\n",
      "              precision    recall  f1-score   support\n",
      "\n",
      "           0       0.99      0.91      0.95    444075\n",
      "           1       0.11      0.54      0.19      9837\n",
      "\n",
      "    accuracy                           0.90    453912\n",
      "   macro avg       0.55      0.72      0.57    453912\n",
      "weighted avg       0.97      0.90      0.93    453912\n",
      "\n"
     ]
    }
   ],
   "source": [
    "print(20 * ' ', 'Обучающая выборка')\n",
    "print(classification_report(Y_train, y_pred_train))"
   ]
  },
  {
   "cell_type": "code",
   "execution_count": 500,
   "id": "73388495",
   "metadata": {
    "ExecuteTime": {
     "end_time": "2023-07-30T20:54:31.431895Z",
     "start_time": "2023-07-30T20:54:31.296258Z"
    }
   },
   "outputs": [
    {
     "name": "stdout",
     "output_type": "stream",
     "text": [
      "                     Тестовая выборка\n",
      "              precision    recall  f1-score   support\n",
      "\n",
      "           0       0.99      0.90      0.94    111071\n",
      "           1       0.11      0.56      0.19      2408\n",
      "\n",
      "    accuracy                           0.90    113479\n",
      "   macro avg       0.55      0.73      0.57    113479\n",
      "weighted avg       0.97      0.90      0.93    113479\n",
      "\n"
     ]
    }
   ],
   "source": [
    "print(20 * ' ', 'Тестовая выборка')\n",
    "print(classification_report(Y_test, y_pred_test))"
   ]
  },
  {
   "cell_type": "code",
   "execution_count": 501,
   "id": "704bf937",
   "metadata": {
    "ExecuteTime": {
     "end_time": "2023-07-30T20:54:31.976269Z",
     "start_time": "2023-07-30T20:54:31.965299Z"
    }
   },
   "outputs": [],
   "source": [
    "# Вывод: Модель стабильна и не деградирует на test"
   ]
  },
  {
   "cell_type": "code",
   "execution_count": 502,
   "id": "770ebeae",
   "metadata": {
    "ExecuteTime": {
     "end_time": "2023-07-30T20:54:32.818143Z",
     "start_time": "2023-07-30T20:54:32.796201Z"
    }
   },
   "outputs": [
    {
     "data": {
      "text/plain": [
       "0.7307887055034176"
      ]
     },
     "execution_count": 502,
     "metadata": {},
     "output_type": "execute_result"
    }
   ],
   "source": [
    "model_roc_auc = roc_auc_score(Y_test, y_pred_test)\n",
    "model_roc_auc"
   ]
  },
  {
   "cell_type": "code",
   "execution_count": 506,
   "id": "0ef08436",
   "metadata": {
    "ExecuteTime": {
     "end_time": "2023-07-30T20:54:44.120215Z",
     "start_time": "2023-07-30T20:54:44.103260Z"
    }
   },
   "outputs": [],
   "source": [
    "#confusion_matrix = confusion_matrix(Y_test, y_pred_test)\n",
    "#print(confusion_matrix)"
   ]
  },
  {
   "cell_type": "code",
   "execution_count": 484,
   "id": "c1a9fbb8",
   "metadata": {
    "ExecuteTime": {
     "end_time": "2023-07-30T20:52:10.199899Z",
     "start_time": "2023-07-30T20:52:10.000433Z"
    }
   },
   "outputs": [
    {
     "data": {
      "image/png": "[encoded data removed]",
      "text/plain": [
       "<Figure size 673.92x476.64 with 1 Axes>"
      ]
     },
     "metadata": {},
     "output_type": "display_data"
    }
   ],
   "source": [
    "logit_roc_auc = roc_auc_score(Y_test, y_pred_test)\n",
    "fpr, tpr, thresholds = roc_curve(Y_test, logreg.predict_proba(X_test)[:,1])\n",
    "plt.figure()\n",
    "plt.plot(fpr, tpr, label='Logistic Regression (area = %0.2f)' % logit_roc_auc)\n",
    "plt.plot([0, 1], [0, 1],'r--')\n",
    "plt.xlim([0.0, 1.0])\n",
    "plt.ylim([0.0, 1.05])\n",
    "plt.xlabel('False Positive Rate')\n",
    "plt.ylabel('True Positive Rate')\n",
    "plt.title('Receiver operating characteristic')\n",
    "plt.legend(loc=\"lower right\")\n",
    "plt.savefig('Log_ROC')\n",
    "plt.show()"
   ]
  },
  {
   "cell_type": "markdown",
   "id": "91c85ba3",
   "metadata": {},
   "source": [
    "# Предсказываю вероятности дефолта для всего файла"
   ]
  },
  {
   "cell_type": "code",
   "execution_count": 485,
   "id": "0effcb23",
   "metadata": {
    "ExecuteTime": {
     "end_time": "2023-07-30T20:52:12.679654Z",
     "start_time": "2023-07-30T20:52:12.646742Z"
    }
   },
   "outputs": [],
   "source": [
    "predict_proba_all = logreg.predict_proba(data_df[X_list])"
   ]
  },
  {
   "cell_type": "code",
   "execution_count": 486,
   "id": "5fac17fd",
   "metadata": {
    "ExecuteTime": {
     "end_time": "2023-07-30T20:52:13.402582Z",
     "start_time": "2023-07-30T20:52:13.258876Z"
    }
   },
   "outputs": [],
   "source": [
    "predict_all = pred_cutoff(Th, predict_proba_all)"
   ]
  },
  {
   "cell_type": "code",
   "execution_count": 487,
   "id": "3535c4c2",
   "metadata": {
    "ExecuteTime": {
     "end_time": "2023-07-30T20:52:13.667585Z",
     "start_time": "2023-07-30T20:52:13.650631Z"
    }
   },
   "outputs": [],
   "source": [
    "data_df['predict_proba'] = predict_proba_all[:, 1]\n",
    "data_df['predict'] = predict_all"
   ]
  },
  {
   "cell_type": "code",
   "execution_count": 488,
   "id": "383c0ef1",
   "metadata": {
    "ExecuteTime": {
     "end_time": "2023-07-30T20:52:14.976610Z",
     "start_time": "2023-07-30T20:52:14.962609Z"
    }
   },
   "outputs": [
    {
     "data": {
      "text/html": [
       "<div>\n",
       "<style scoped>\n",
       "    .dataframe tbody tr th:only-of-type {\n",
       "        vertical-align: middle;\n",
       "    }\n",
       "\n",
       "    .dataframe tbody tr th {\n",
       "        vertical-align: top;\n",
       "    }\n",
       "\n",
       "    .dataframe thead th {\n",
       "        text-align: right;\n",
       "    }\n",
       "</style>\n",
       "<table border=\"1\" class=\"dataframe\">\n",
       "  <thead>\n",
       "    <tr style=\"text-align: right;\">\n",
       "      <th></th>\n",
       "      <th>PARTNER</th>\n",
       "      <th>APPID</th>\n",
       "      <th>DOCSERNUM</th>\n",
       "      <th>MOBILEPHONE</th>\n",
       "      <th>EMAIL</th>\n",
       "      <th>PRODUCTTYPE</th>\n",
       "      <th>CHANNEL</th>\n",
       "      <th>MODEL</th>\n",
       "      <th>TARGET</th>\n",
       "      <th>APPDT</th>\n",
       "      <th>APPMONTH</th>\n",
       "      <th>LIMIT</th>\n",
       "      <th>channel_cat</th>\n",
       "      <th>product_type_cat</th>\n",
       "      <th>partner_cat</th>\n",
       "      <th>predict_proba</th>\n",
       "      <th>predict</th>\n",
       "      <th>model_cat</th>\n",
       "    </tr>\n",
       "  </thead>\n",
       "  <tbody>\n",
       "    <tr>\n",
       "      <th>0</th>\n",
       "      <td>PARTNER28</td>\n",
       "      <td>APPLICATID1015331</td>\n",
       "      <td>DOCSERNUM1</td>\n",
       "      <td>MOBILEPHONE43681</td>\n",
       "      <td>EMAIL158187</td>\n",
       "      <td>Другой тип кредита</td>\n",
       "      <td>Значение не передается</td>\n",
       "      <td>0</td>\n",
       "      <td>0</td>\n",
       "      <td>2021-06-07</td>\n",
       "      <td>2021-06-01</td>\n",
       "      <td>0.000</td>\n",
       "      <td>6</td>\n",
       "      <td>6</td>\n",
       "      <td>33</td>\n",
       "      <td>0.008</td>\n",
       "      <td>0.000</td>\n",
       "      <td>3</td>\n",
       "    </tr>\n",
       "    <tr>\n",
       "      <th>1</th>\n",
       "      <td>PARTNER6</td>\n",
       "      <td>APPLICATID503939</td>\n",
       "      <td>DOCSERNUM2</td>\n",
       "      <td>MOBILEPHONE407081</td>\n",
       "      <td>EMAIL143461</td>\n",
       "      <td>Другой тип кредита</td>\n",
       "      <td>Точка продаж</td>\n",
       "      <td>EMPTY</td>\n",
       "      <td>0</td>\n",
       "      <td>2021-07-29</td>\n",
       "      <td>2021-07-01</td>\n",
       "      <td>0.000</td>\n",
       "      <td>5</td>\n",
       "      <td>6</td>\n",
       "      <td>25</td>\n",
       "      <td>0.023</td>\n",
       "      <td>0.000</td>\n",
       "      <td>1</td>\n",
       "    </tr>\n",
       "    <tr>\n",
       "      <th>2</th>\n",
       "      <td>PARTNER6</td>\n",
       "      <td>APPLICATID503936</td>\n",
       "      <td>DOCSERNUM2</td>\n",
       "      <td>MOBILEPHONE407081</td>\n",
       "      <td>EMAIL143461</td>\n",
       "      <td>POS кредит (потребительский кредит, кредит на товар)</td>\n",
       "      <td>Точка продаж</td>\n",
       "      <td>15.6\" Ноутбук HP Laptop 15-gw0040ur (FHD/IPS) Athlon 3150u/4096/SSD 256/AMD R620 2Gb/Win10/Gray HP</td>\n",
       "      <td>0</td>\n",
       "      <td>2021-07-29</td>\n",
       "      <td>2021-07-01</td>\n",
       "      <td>32374.100</td>\n",
       "      <td>5</td>\n",
       "      <td>7</td>\n",
       "      <td>25</td>\n",
       "      <td>0.023</td>\n",
       "      <td>0.000</td>\n",
       "      <td>2</td>\n",
       "    </tr>\n",
       "    <tr>\n",
       "      <th>3</th>\n",
       "      <td>PARTNER6</td>\n",
       "      <td>APPLICATID503947</td>\n",
       "      <td>DOCSERNUM2</td>\n",
       "      <td>MOBILEPHONE407081</td>\n",
       "      <td>EMAIL143461</td>\n",
       "      <td>POS кредит (потребительский кредит, кредит на товар)</td>\n",
       "      <td>Точка продаж</td>\n",
       "      <td>15.6\" Ноутбук HP Laptop 15s-eq1261ur (FHD/IPS) Ryzen 3 3250U/8192/SSD 256/AMD Radeon Vega/Dos/Gray HP</td>\n",
       "      <td>0</td>\n",
       "      <td>2021-07-29</td>\n",
       "      <td>2021-07-01</td>\n",
       "      <td>30524.100</td>\n",
       "      <td>5</td>\n",
       "      <td>7</td>\n",
       "      <td>25</td>\n",
       "      <td>0.023</td>\n",
       "      <td>0.000</td>\n",
       "      <td>2</td>\n",
       "    </tr>\n",
       "    <tr>\n",
       "      <th>4</th>\n",
       "      <td>PARTNER6</td>\n",
       "      <td>APPLICATID503948</td>\n",
       "      <td>DOCSERNUM2</td>\n",
       "      <td>MOBILEPHONE407081</td>\n",
       "      <td>EMAIL143461</td>\n",
       "      <td>Другой тип кредита</td>\n",
       "      <td>Точка продаж</td>\n",
       "      <td>EMPTY</td>\n",
       "      <td>0</td>\n",
       "      <td>2021-07-29</td>\n",
       "      <td>2021-07-01</td>\n",
       "      <td>0.000</td>\n",
       "      <td>5</td>\n",
       "      <td>6</td>\n",
       "      <td>25</td>\n",
       "      <td>0.023</td>\n",
       "      <td>0.000</td>\n",
       "      <td>1</td>\n",
       "    </tr>\n",
       "  </tbody>\n",
       "</table>\n",
       "</div>"
      ],
      "text/plain": [
       "     PARTNER              APPID   DOCSERNUM        MOBILEPHONE        EMAIL  \\\n",
       "0  PARTNER28  APPLICATID1015331  DOCSERNUM1   MOBILEPHONE43681  EMAIL158187   \n",
       "1   PARTNER6   APPLICATID503939  DOCSERNUM2  MOBILEPHONE407081  EMAIL143461   \n",
       "2   PARTNER6   APPLICATID503936  DOCSERNUM2  MOBILEPHONE407081  EMAIL143461   \n",
       "3   PARTNER6   APPLICATID503947  DOCSERNUM2  MOBILEPHONE407081  EMAIL143461   \n",
       "4   PARTNER6   APPLICATID503948  DOCSERNUM2  MOBILEPHONE407081  EMAIL143461   \n",
       "\n",
       "                                            PRODUCTTYPE  \\\n",
       "0                                    Другой тип кредита   \n",
       "1                                    Другой тип кредита   \n",
       "2  POS кредит (потребительский кредит, кредит на товар)   \n",
       "3  POS кредит (потребительский кредит, кредит на товар)   \n",
       "4                                    Другой тип кредита   \n",
       "\n",
       "                  CHANNEL  \\\n",
       "0  Значение не передается   \n",
       "1            Точка продаж   \n",
       "2            Точка продаж   \n",
       "3            Точка продаж   \n",
       "4            Точка продаж   \n",
       "\n",
       "                                                                                                   MODEL  \\\n",
       "0                                                                                                      0   \n",
       "1                                                                                                  EMPTY   \n",
       "2     15.6\" Ноутбук HP Laptop 15-gw0040ur (FHD/IPS) Athlon 3150u/4096/SSD 256/AMD R620 2Gb/Win10/Gray HP   \n",
       "3  15.6\" Ноутбук HP Laptop 15s-eq1261ur (FHD/IPS) Ryzen 3 3250U/8192/SSD 256/AMD Radeon Vega/Dos/Gray HP   \n",
       "4                                                                                                  EMPTY   \n",
       "\n",
       "   TARGET      APPDT   APPMONTH     LIMIT  channel_cat  product_type_cat  \\\n",
       "0       0 2021-06-07 2021-06-01     0.000            6                 6   \n",
       "1       0 2021-07-29 2021-07-01     0.000            5                 6   \n",
       "2       0 2021-07-29 2021-07-01 32374.100            5                 7   \n",
       "3       0 2021-07-29 2021-07-01 30524.100            5                 7   \n",
       "4       0 2021-07-29 2021-07-01     0.000            5                 6   \n",
       "\n",
       "   partner_cat  predict_proba  predict  model_cat  \n",
       "0           33          0.008    0.000          3  \n",
       "1           25          0.023    0.000          1  \n",
       "2           25          0.023    0.000          2  \n",
       "3           25          0.023    0.000          2  \n",
       "4           25          0.023    0.000          1  "
      ]
     },
     "execution_count": 488,
     "metadata": {},
     "output_type": "execute_result"
    }
   ],
   "source": [
    "data_df.head()"
   ]
  },
  {
   "cell_type": "code",
   "execution_count": 489,
   "id": "9d004038",
   "metadata": {
    "ExecuteTime": {
     "end_time": "2023-07-30T20:53:49.294792Z",
     "start_time": "2023-07-30T20:52:15.948765Z"
    }
   },
   "outputs": [],
   "source": [
    "# сохраняю результат\n",
    "data_df.to_excel('result_BKI.xlsx', index = False)"
   ]
  },
  {
   "cell_type": "code",
   "execution_count": 507,
   "id": "967fdbb4",
   "metadata": {
    "ExecuteTime": {
     "end_time": "2023-07-30T20:54:49.292846Z",
     "start_time": "2023-07-30T20:54:49.149058Z"
    }
   },
   "outputs": [
    {
     "data": {
      "image/png": "[encoded data removed]",
      "text/plain": [
       "<Figure size 673.92x476.64 with 1 Axes>"
      ]
     },
     "metadata": {},
     "output_type": "display_data"
    }
   ],
   "source": [
    "plt.hist(data_df['predict_proba'], bins = 50, range = (0, 0.3))\n",
    "plt.title('predict_proba')\n",
    "plt.ylabel('Frequency')\n",
    "plt.show()"
   ]
  },
  {
   "cell_type": "markdown",
   "id": "8c9b0139",
   "metadata": {},
   "source": [
    "# Выводы"
   ]
  },
  {
   "cell_type": "markdown",
   "id": "75f54863",
   "metadata": {
    "ExecuteTime": {
     "end_time": "2023-07-30T20:59:26.802961Z",
     "start_time": "2023-07-30T20:59:26.796974Z"
    }
   },
   "source": [
    "<div class=\"alert alert-block alert-success\">\n",
    "Модель получилось неплохого качества - ROC AUC = 0.73, Это соответсвует GINI 46%  \n",
    "    \n",
    "В целом, можно максимизировать вместо ROC AUC метрики precision/recall.   \n",
    "    \n",
    "    \n",
    "Recall у нас получился 0.56, т.е. более половину событий предсказываем верно  \n",
    "Но при этом можно поработать с точность модели для класс 1, т.к. 0.11 довольно мало. Хотя и сильно выше, чем наивный прогноз равным среднему значению таргета (0.022)\n",
    "    \n",
    "</div>"
   ]
  },
  {
   "cell_type": "markdown",
   "id": "b2159387",
   "metadata": {
    "ExecuteTime": {
     "end_time": "2023-07-30T16:03:27.024448Z",
     "start_time": "2023-07-30T16:03:27.007493Z"
    }
   },
   "source": [
    "# Другое"
   ]
  },
  {
   "cell_type": "code",
   "execution_count": 437,
   "id": "5357d84d",
   "metadata": {
    "ExecuteTime": {
     "end_time": "2023-07-30T20:42:29.684494Z",
     "start_time": "2023-07-30T20:42:29.560358Z"
    }
   },
   "outputs": [
    {
     "data": {
      "text/plain": [
       "True"
      ]
     },
     "execution_count": 437,
     "metadata": {},
     "output_type": "execute_result"
    }
   ],
   "source": [
    "import webbrowser\n",
    "webbrowser.open('https://www.youtube.com/watch?v=5F_Kj5xgAcg')"
   ]
  },
  {
   "cell_type": "code",
   "execution_count": null,
   "id": "9c9dcfe2",
   "metadata": {},
   "outputs": [],
   "source": []
  }
 ],
 "metadata": {
  "kernelspec": {
   "display_name": "Python 3 (ipykernel)",
   "language": "python",
   "name": "python3"
  },
  "language_info": {
   "codemirror_mode": {
    "name": "ipython",
    "version": 3
   },
   "file_extension": ".py",
   "mimetype": "text/x-python",
   "name": "python",
   "nbconvert_exporter": "python",
   "pygments_lexer": "ipython3",
   "version": "3.9.7"
  },
  "toc": {
   "base_numbering": 1,
   "nav_menu": {},
   "number_sections": true,
   "sideBar": true,
   "skip_h1_title": false,
   "title_cell": "Table of Contents",
   "title_sidebar": "Contents",
   "toc_cell": false,
   "toc_position": {
    "height": "calc(100% - 180px)",
    "left": "10px",
    "top": "150px",
    "width": "395.35px"
   },
   "toc_section_display": true,
   "toc_window_display": false
  },
  "varInspector": {
   "cols": {
    "lenName": 16,
    "lenType": 16,
    "lenVar": 40
   },
   "kernels_config": {
    "python": {
     "delete_cmd_postfix": "",
     "delete_cmd_prefix": "del ",
     "library": "var_list.py",
     "varRefreshCmd": "print(var_dic_list())"
    },
    "r": {
     "delete_cmd_postfix": ") ",
     "delete_cmd_prefix": "rm(",
     "library": "var_list.r",
     "varRefreshCmd": "cat(var_dic_list()) "
    }
   },
   "position": {
    "height": "178.85px",
    "left": "1606.8px",
    "right": "20px",
    "top": "120px",
    "width": "350px"
   },
   "types_to_exclude": [
    "module",
    "function",
    "builtin_function_or_method",
    "instance",
    "_Feature"
   ],
   "window_display": false
  }
 },
 "nbformat": 4,
 "nbformat_minor": 5
}
