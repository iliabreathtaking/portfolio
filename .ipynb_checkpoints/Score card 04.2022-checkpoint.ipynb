{
 "cells": [
  {
   "cell_type": "markdown",
   "id": "1399ff95",
   "metadata": {},
   "source": [
    "# Цель\n",
    "\n",
    "С приложенным сэмплом нужно сделать следующее:\n",
    "\n",
    "-сделать модель, предсказывающую вероятность дефолта (таргет fpd5_flg), в качестве предикторов можно использовать все что есть в файле (не обязательно абсолютно все), кроме dt (это дата выдачи кредита). Можно делать в чем угодно. Преобразовывать переменные можно как угодно. В качестве инструмента можно выбрать обычную логистическую регрессию.\n",
    "\n",
    "-на выходе должен быть тот же самый файл, но напротив каждого наблюдения должна быть проставлена вероятность дефолта по построенной модели\n",
    "\n",
    "-нужно сделать мини-отчет по модели в Excel или Word (или Jupiter Notebook), показать Gini (AuROC) модели, распределение (гистограмму) по предсказанной вероятности дефолта и описать кратко что было сделано и как"
   ]
  },
  {
   "cell_type": "code",
   "execution_count": 1,
   "id": "0ab4823c",
   "metadata": {},
   "outputs": [],
   "source": [
    "import pandas as pd\n",
    "import matplotlib.pyplot as plt\n",
    "import numpy as np\n",
    "from sklearn.model_selection import train_test_split\n",
    "from sklearn.linear_model import LogisticRegression\n",
    "from sklearn.metrics import (classification_report, roc_auc_score, roc_curve, confusion_matrix)\n",
    "import seaborn as sns\n",
    "from sklearn import metrics"
   ]
  },
  {
   "cell_type": "code",
   "execution_count": 2,
   "id": "13ee2aab",
   "metadata": {},
   "outputs": [],
   "source": [
    "data = pd.read_excel(\"Test Sample.xlsx\")"
   ]
  },
  {
   "cell_type": "code",
   "execution_count": 3,
   "id": "843e9c1c",
   "metadata": {},
   "outputs": [
    {
     "data": {
      "text/plain": [
       "fpd5_flg                    int64\n",
       "dt                         object\n",
       "gender                      int64\n",
       "device_quaility_index     float64\n",
       "behavioral_index          float64\n",
       "type_of_document           object\n",
       "age                         int64\n",
       "email_domain_formatted     object\n",
       "social_status              object\n",
       "salary                    float64\n",
       "disbursment_type           object\n",
       "os                         object\n",
       "email_index               float64\n",
       "dtype: object"
      ]
     },
     "execution_count": 3,
     "metadata": {},
     "output_type": "execute_result"
    }
   ],
   "source": [
    "data.dtypes"
   ]
  },
  {
   "cell_type": "code",
   "execution_count": 4,
   "id": "63506978",
   "metadata": {},
   "outputs": [
    {
     "data": {
      "text/html": [
       "<div>\n",
       "<style scoped>\n",
       "    .dataframe tbody tr th:only-of-type {\n",
       "        vertical-align: middle;\n",
       "    }\n",
       "\n",
       "    .dataframe tbody tr th {\n",
       "        vertical-align: top;\n",
       "    }\n",
       "\n",
       "    .dataframe thead th {\n",
       "        text-align: right;\n",
       "    }\n",
       "</style>\n",
       "<table border=\"1\" class=\"dataframe\">\n",
       "  <thead>\n",
       "    <tr style=\"text-align: right;\">\n",
       "      <th></th>\n",
       "      <th>fpd5_flg</th>\n",
       "      <th>dt</th>\n",
       "      <th>gender</th>\n",
       "      <th>device_quaility_index</th>\n",
       "      <th>behavioral_index</th>\n",
       "      <th>type_of_document</th>\n",
       "      <th>age</th>\n",
       "      <th>email_domain_formatted</th>\n",
       "      <th>social_status</th>\n",
       "      <th>salary</th>\n",
       "      <th>disbursment_type</th>\n",
       "      <th>os</th>\n",
       "      <th>email_index</th>\n",
       "    </tr>\n",
       "  </thead>\n",
       "  <tbody>\n",
       "    <tr>\n",
       "      <th>0</th>\n",
       "      <td>0</td>\n",
       "      <td>2021-01-22</td>\n",
       "      <td>0</td>\n",
       "      <td>NaN</td>\n",
       "      <td>NaN</td>\n",
       "      <td>UMID</td>\n",
       "      <td>26</td>\n",
       "      <td>GMAIL.COM</td>\n",
       "      <td>Private Company Employee</td>\n",
       "      <td>20000.0</td>\n",
       "      <td>Bank</td>\n",
       "      <td>Android</td>\n",
       "      <td>0.0</td>\n",
       "    </tr>\n",
       "    <tr>\n",
       "      <th>1</th>\n",
       "      <td>0</td>\n",
       "      <td>2020-12-14</td>\n",
       "      <td>1</td>\n",
       "      <td>3.0</td>\n",
       "      <td>4.0</td>\n",
       "      <td>UMID</td>\n",
       "      <td>32</td>\n",
       "      <td>GMAIL.COM</td>\n",
       "      <td>Other</td>\n",
       "      <td>18000.0</td>\n",
       "      <td>E-wallet</td>\n",
       "      <td>Android</td>\n",
       "      <td>1.0</td>\n",
       "    </tr>\n",
       "    <tr>\n",
       "      <th>2</th>\n",
       "      <td>1</td>\n",
       "      <td>2021-01-26</td>\n",
       "      <td>0</td>\n",
       "      <td>0.0</td>\n",
       "      <td>3.0</td>\n",
       "      <td>SSS</td>\n",
       "      <td>41</td>\n",
       "      <td>YAHOO.COM</td>\n",
       "      <td>Private Company Employee</td>\n",
       "      <td>14000.0</td>\n",
       "      <td>Bank</td>\n",
       "      <td>Android</td>\n",
       "      <td>1.0</td>\n",
       "    </tr>\n",
       "    <tr>\n",
       "      <th>3</th>\n",
       "      <td>1</td>\n",
       "      <td>2020-12-10</td>\n",
       "      <td>1</td>\n",
       "      <td>0.0</td>\n",
       "      <td>5.0</td>\n",
       "      <td>TIN</td>\n",
       "      <td>28</td>\n",
       "      <td>GMAIL.COM</td>\n",
       "      <td>BPO Professionals</td>\n",
       "      <td>40000.0</td>\n",
       "      <td>E-wallet</td>\n",
       "      <td>Android</td>\n",
       "      <td>1.0</td>\n",
       "    </tr>\n",
       "    <tr>\n",
       "      <th>4</th>\n",
       "      <td>1</td>\n",
       "      <td>2021-01-17</td>\n",
       "      <td>0</td>\n",
       "      <td>3.0</td>\n",
       "      <td>3.0</td>\n",
       "      <td>UMID</td>\n",
       "      <td>31</td>\n",
       "      <td>GMAIL.COM</td>\n",
       "      <td>BPO Professionals</td>\n",
       "      <td>25000.0</td>\n",
       "      <td>Bank</td>\n",
       "      <td>Android</td>\n",
       "      <td>0.0</td>\n",
       "    </tr>\n",
       "  </tbody>\n",
       "</table>\n",
       "</div>"
      ],
      "text/plain": [
       "   fpd5_flg          dt  gender  device_quaility_index  behavioral_index  \\\n",
       "0         0  2021-01-22       0                    NaN               NaN   \n",
       "1         0  2020-12-14       1                    3.0               4.0   \n",
       "2         1  2021-01-26       0                    0.0               3.0   \n",
       "3         1  2020-12-10       1                    0.0               5.0   \n",
       "4         1  2021-01-17       0                    3.0               3.0   \n",
       "\n",
       "  type_of_document  age email_domain_formatted             social_status  \\\n",
       "0             UMID   26              GMAIL.COM  Private Company Employee   \n",
       "1             UMID   32              GMAIL.COM                     Other   \n",
       "2              SSS   41              YAHOO.COM  Private Company Employee   \n",
       "3              TIN   28              GMAIL.COM         BPO Professionals   \n",
       "4             UMID   31              GMAIL.COM         BPO Professionals   \n",
       "\n",
       "    salary disbursment_type       os  email_index  \n",
       "0  20000.0             Bank  Android          0.0  \n",
       "1  18000.0         E-wallet  Android          1.0  \n",
       "2  14000.0             Bank  Android          1.0  \n",
       "3  40000.0         E-wallet  Android          1.0  \n",
       "4  25000.0             Bank  Android          0.0  "
      ]
     },
     "execution_count": 4,
     "metadata": {},
     "output_type": "execute_result"
    }
   ],
   "source": [
    "data.head(5)"
   ]
  },
  {
   "cell_type": "code",
   "execution_count": 5,
   "id": "98af2b5c",
   "metadata": {},
   "outputs": [],
   "source": [
    "pd.set_option('display.float_format', lambda x: '%.3f' % x)"
   ]
  },
  {
   "cell_type": "code",
   "execution_count": 6,
   "id": "4e25a055",
   "metadata": {},
   "outputs": [
    {
     "data": {
      "text/html": [
       "<div>\n",
       "<style scoped>\n",
       "    .dataframe tbody tr th:only-of-type {\n",
       "        vertical-align: middle;\n",
       "    }\n",
       "\n",
       "    .dataframe tbody tr th {\n",
       "        vertical-align: top;\n",
       "    }\n",
       "\n",
       "    .dataframe thead th {\n",
       "        text-align: right;\n",
       "    }\n",
       "</style>\n",
       "<table border=\"1\" class=\"dataframe\">\n",
       "  <thead>\n",
       "    <tr style=\"text-align: right;\">\n",
       "      <th></th>\n",
       "      <th>fpd5_flg</th>\n",
       "      <th>gender</th>\n",
       "      <th>device_quaility_index</th>\n",
       "      <th>behavioral_index</th>\n",
       "      <th>age</th>\n",
       "      <th>salary</th>\n",
       "      <th>email_index</th>\n",
       "    </tr>\n",
       "  </thead>\n",
       "  <tbody>\n",
       "    <tr>\n",
       "      <th>count</th>\n",
       "      <td>15363.000</td>\n",
       "      <td>15363.000</td>\n",
       "      <td>14798.000</td>\n",
       "      <td>14798.000</td>\n",
       "      <td>15363.000</td>\n",
       "      <td>14649.000</td>\n",
       "      <td>15330.000</td>\n",
       "    </tr>\n",
       "    <tr>\n",
       "      <th>mean</th>\n",
       "      <td>0.273</td>\n",
       "      <td>0.629</td>\n",
       "      <td>2.370</td>\n",
       "      <td>4.051</td>\n",
       "      <td>35.136</td>\n",
       "      <td>126164.737</td>\n",
       "      <td>1.580</td>\n",
       "    </tr>\n",
       "    <tr>\n",
       "      <th>std</th>\n",
       "      <td>0.445</td>\n",
       "      <td>0.483</td>\n",
       "      <td>1.078</td>\n",
       "      <td>0.938</td>\n",
       "      <td>9.125</td>\n",
       "      <td>12393318.436</td>\n",
       "      <td>2.398</td>\n",
       "    </tr>\n",
       "    <tr>\n",
       "      <th>min</th>\n",
       "      <td>0.000</td>\n",
       "      <td>0.000</td>\n",
       "      <td>0.000</td>\n",
       "      <td>1.000</td>\n",
       "      <td>21.000</td>\n",
       "      <td>0.000</td>\n",
       "      <td>0.000</td>\n",
       "    </tr>\n",
       "    <tr>\n",
       "      <th>25%</th>\n",
       "      <td>0.000</td>\n",
       "      <td>0.000</td>\n",
       "      <td>2.000</td>\n",
       "      <td>3.000</td>\n",
       "      <td>28.000</td>\n",
       "      <td>15000.000</td>\n",
       "      <td>0.000</td>\n",
       "    </tr>\n",
       "    <tr>\n",
       "      <th>50%</th>\n",
       "      <td>0.000</td>\n",
       "      <td>1.000</td>\n",
       "      <td>3.000</td>\n",
       "      <td>4.000</td>\n",
       "      <td>34.000</td>\n",
       "      <td>20000.000</td>\n",
       "      <td>1.000</td>\n",
       "    </tr>\n",
       "    <tr>\n",
       "      <th>75%</th>\n",
       "      <td>1.000</td>\n",
       "      <td>1.000</td>\n",
       "      <td>3.000</td>\n",
       "      <td>5.000</td>\n",
       "      <td>41.000</td>\n",
       "      <td>26000.000</td>\n",
       "      <td>1.000</td>\n",
       "    </tr>\n",
       "    <tr>\n",
       "      <th>max</th>\n",
       "      <td>1.000</td>\n",
       "      <td>1.000</td>\n",
       "      <td>4.000</td>\n",
       "      <td>6.000</td>\n",
       "      <td>69.000</td>\n",
       "      <td>1500020000.000</td>\n",
       "      <td>12.000</td>\n",
       "    </tr>\n",
       "  </tbody>\n",
       "</table>\n",
       "</div>"
      ],
      "text/plain": [
       "       fpd5_flg    gender  device_quaility_index  behavioral_index       age  \\\n",
       "count 15363.000 15363.000              14798.000         14798.000 15363.000   \n",
       "mean      0.273     0.629                  2.370             4.051    35.136   \n",
       "std       0.445     0.483                  1.078             0.938     9.125   \n",
       "min       0.000     0.000                  0.000             1.000    21.000   \n",
       "25%       0.000     0.000                  2.000             3.000    28.000   \n",
       "50%       0.000     1.000                  3.000             4.000    34.000   \n",
       "75%       1.000     1.000                  3.000             5.000    41.000   \n",
       "max       1.000     1.000                  4.000             6.000    69.000   \n",
       "\n",
       "              salary  email_index  \n",
       "count      14649.000    15330.000  \n",
       "mean      126164.737        1.580  \n",
       "std     12393318.436        2.398  \n",
       "min            0.000        0.000  \n",
       "25%        15000.000        0.000  \n",
       "50%        20000.000        1.000  \n",
       "75%        26000.000        1.000  \n",
       "max   1500020000.000       12.000  "
      ]
     },
     "execution_count": 6,
     "metadata": {},
     "output_type": "execute_result"
    }
   ],
   "source": [
    "data.describe()"
   ]
  },
  {
   "cell_type": "code",
   "execution_count": 7,
   "id": "1d9a5603",
   "metadata": {},
   "outputs": [],
   "source": [
    "# В переменной Salary есть выбросы!"
   ]
  },
  {
   "cell_type": "code",
   "execution_count": 8,
   "id": "e795bdd5",
   "metadata": {},
   "outputs": [
    {
     "data": {
      "text/html": [
       "<div>\n",
       "<style scoped>\n",
       "    .dataframe tbody tr th:only-of-type {\n",
       "        vertical-align: middle;\n",
       "    }\n",
       "\n",
       "    .dataframe tbody tr th {\n",
       "        vertical-align: top;\n",
       "    }\n",
       "\n",
       "    .dataframe thead th {\n",
       "        text-align: right;\n",
       "    }\n",
       "</style>\n",
       "<table border=\"1\" class=\"dataframe\">\n",
       "  <thead>\n",
       "    <tr style=\"text-align: right;\">\n",
       "      <th></th>\n",
       "      <th>fpd5_flg</th>\n",
       "      <th>dt</th>\n",
       "      <th>gender</th>\n",
       "      <th>device_quaility_index</th>\n",
       "      <th>behavioral_index</th>\n",
       "      <th>type_of_document</th>\n",
       "      <th>age</th>\n",
       "      <th>email_domain_formatted</th>\n",
       "      <th>social_status</th>\n",
       "      <th>salary</th>\n",
       "      <th>disbursment_type</th>\n",
       "      <th>os</th>\n",
       "      <th>email_index</th>\n",
       "    </tr>\n",
       "  </thead>\n",
       "  <tbody>\n",
       "    <tr>\n",
       "      <th>1540</th>\n",
       "      <td>0</td>\n",
       "      <td>2020-12-21</td>\n",
       "      <td>1</td>\n",
       "      <td>1.000</td>\n",
       "      <td>5.000</td>\n",
       "      <td>SSS</td>\n",
       "      <td>41</td>\n",
       "      <td>GMAIL.COM</td>\n",
       "      <td>Business Owner</td>\n",
       "      <td>1500020000.000</td>\n",
       "      <td>Bank</td>\n",
       "      <td>Android</td>\n",
       "      <td>1.000</td>\n",
       "    </tr>\n",
       "    <tr>\n",
       "      <th>5082</th>\n",
       "      <td>0</td>\n",
       "      <td>2020-12-16</td>\n",
       "      <td>0</td>\n",
       "      <td>1.000</td>\n",
       "      <td>4.000</td>\n",
       "      <td>SSS</td>\n",
       "      <td>49</td>\n",
       "      <td>GMAIL.COM</td>\n",
       "      <td>Self-Employed</td>\n",
       "      <td>900000.000</td>\n",
       "      <td>Bank</td>\n",
       "      <td>Android</td>\n",
       "      <td>1.000</td>\n",
       "    </tr>\n",
       "    <tr>\n",
       "      <th>6826</th>\n",
       "      <td>0</td>\n",
       "      <td>2020-12-21</td>\n",
       "      <td>0</td>\n",
       "      <td>4.000</td>\n",
       "      <td>4.000</td>\n",
       "      <td>Passport</td>\n",
       "      <td>25</td>\n",
       "      <td>GMAIL.COM</td>\n",
       "      <td>Business Owner</td>\n",
       "      <td>800000.000</td>\n",
       "      <td>Bank</td>\n",
       "      <td>iOS</td>\n",
       "      <td>0.000</td>\n",
       "    </tr>\n",
       "    <tr>\n",
       "      <th>8811</th>\n",
       "      <td>0</td>\n",
       "      <td>2021-01-28</td>\n",
       "      <td>1</td>\n",
       "      <td>1.000</td>\n",
       "      <td>3.000</td>\n",
       "      <td>SSS</td>\n",
       "      <td>42</td>\n",
       "      <td>GMAIL.COM</td>\n",
       "      <td>Government Employee</td>\n",
       "      <td>2387700.000</td>\n",
       "      <td>E-wallet</td>\n",
       "      <td>Android</td>\n",
       "      <td>8.000</td>\n",
       "    </tr>\n",
       "    <tr>\n",
       "      <th>13821</th>\n",
       "      <td>0</td>\n",
       "      <td>2020-12-22</td>\n",
       "      <td>1</td>\n",
       "      <td>3.000</td>\n",
       "      <td>5.000</td>\n",
       "      <td>SSS</td>\n",
       "      <td>40</td>\n",
       "      <td>GMAIL.COM</td>\n",
       "      <td>Professional Worker (Doctors, Engineers, Accou...</td>\n",
       "      <td>780000.000</td>\n",
       "      <td>Bank</td>\n",
       "      <td>iOS</td>\n",
       "      <td>1.000</td>\n",
       "    </tr>\n",
       "  </tbody>\n",
       "</table>\n",
       "</div>"
      ],
      "text/plain": [
       "       fpd5_flg          dt  gender  device_quaility_index  behavioral_index  \\\n",
       "1540          0  2020-12-21       1                  1.000             5.000   \n",
       "5082          0  2020-12-16       0                  1.000             4.000   \n",
       "6826          0  2020-12-21       0                  4.000             4.000   \n",
       "8811          0  2021-01-28       1                  1.000             3.000   \n",
       "13821         0  2020-12-22       1                  3.000             5.000   \n",
       "\n",
       "      type_of_document  age email_domain_formatted  \\\n",
       "1540               SSS   41              GMAIL.COM   \n",
       "5082               SSS   49              GMAIL.COM   \n",
       "6826          Passport   25              GMAIL.COM   \n",
       "8811               SSS   42              GMAIL.COM   \n",
       "13821              SSS   40              GMAIL.COM   \n",
       "\n",
       "                                           social_status         salary  \\\n",
       "1540                                      Business Owner 1500020000.000   \n",
       "5082                                       Self-Employed     900000.000   \n",
       "6826                                      Business Owner     800000.000   \n",
       "8811                                 Government Employee    2387700.000   \n",
       "13821  Professional Worker (Doctors, Engineers, Accou...     780000.000   \n",
       "\n",
       "      disbursment_type       os  email_index  \n",
       "1540              Bank  Android        1.000  \n",
       "5082              Bank  Android        1.000  \n",
       "6826              Bank      iOS        0.000  \n",
       "8811          E-wallet  Android        8.000  \n",
       "13821             Bank      iOS        1.000  "
      ]
     },
     "execution_count": 8,
     "metadata": {},
     "output_type": "execute_result"
    }
   ],
   "source": [
    "median_salary = data['salary'].median()\n",
    "data[data['salary'] >= median_salary * 30]"
   ]
  },
  {
   "cell_type": "code",
   "execution_count": 9,
   "id": "d6e3619e",
   "metadata": {},
   "outputs": [
    {
     "data": {
      "text/plain": [
       "(15363, 13)"
      ]
     },
     "execution_count": 9,
     "metadata": {},
     "output_type": "execute_result"
    }
   ],
   "source": [
    "# размерность исходной выборки\n",
    "data.shape"
   ]
  },
  {
   "cell_type": "code",
   "execution_count": 10,
   "id": "7a1b3a52",
   "metadata": {},
   "outputs": [],
   "source": [
    "#data = data[data['salary'] != 1500020000]\n",
    "#data = data[data['salary'] != 2387700]"
   ]
  },
  {
   "cell_type": "code",
   "execution_count": 11,
   "id": "21821b5e",
   "metadata": {},
   "outputs": [
    {
     "data": {
      "text/html": [
       "<div>\n",
       "<style scoped>\n",
       "    .dataframe tbody tr th:only-of-type {\n",
       "        vertical-align: middle;\n",
       "    }\n",
       "\n",
       "    .dataframe tbody tr th {\n",
       "        vertical-align: top;\n",
       "    }\n",
       "\n",
       "    .dataframe thead th {\n",
       "        text-align: right;\n",
       "    }\n",
       "</style>\n",
       "<table border=\"1\" class=\"dataframe\">\n",
       "  <thead>\n",
       "    <tr style=\"text-align: right;\">\n",
       "      <th></th>\n",
       "      <th>fpd5_flg</th>\n",
       "      <th>gender</th>\n",
       "      <th>device_quaility_index</th>\n",
       "      <th>behavioral_index</th>\n",
       "      <th>age</th>\n",
       "      <th>salary</th>\n",
       "      <th>email_index</th>\n",
       "    </tr>\n",
       "  </thead>\n",
       "  <tbody>\n",
       "    <tr>\n",
       "      <th>count</th>\n",
       "      <td>15363.000</td>\n",
       "      <td>15363.000</td>\n",
       "      <td>14798.000</td>\n",
       "      <td>14798.000</td>\n",
       "      <td>15363.000</td>\n",
       "      <td>14649.000</td>\n",
       "      <td>15330.000</td>\n",
       "    </tr>\n",
       "    <tr>\n",
       "      <th>mean</th>\n",
       "      <td>0.273</td>\n",
       "      <td>0.629</td>\n",
       "      <td>2.370</td>\n",
       "      <td>4.051</td>\n",
       "      <td>35.136</td>\n",
       "      <td>126164.737</td>\n",
       "      <td>1.580</td>\n",
       "    </tr>\n",
       "    <tr>\n",
       "      <th>std</th>\n",
       "      <td>0.445</td>\n",
       "      <td>0.483</td>\n",
       "      <td>1.078</td>\n",
       "      <td>0.938</td>\n",
       "      <td>9.125</td>\n",
       "      <td>12393318.436</td>\n",
       "      <td>2.398</td>\n",
       "    </tr>\n",
       "    <tr>\n",
       "      <th>min</th>\n",
       "      <td>0.000</td>\n",
       "      <td>0.000</td>\n",
       "      <td>0.000</td>\n",
       "      <td>1.000</td>\n",
       "      <td>21.000</td>\n",
       "      <td>0.000</td>\n",
       "      <td>0.000</td>\n",
       "    </tr>\n",
       "    <tr>\n",
       "      <th>25%</th>\n",
       "      <td>0.000</td>\n",
       "      <td>0.000</td>\n",
       "      <td>2.000</td>\n",
       "      <td>3.000</td>\n",
       "      <td>28.000</td>\n",
       "      <td>15000.000</td>\n",
       "      <td>0.000</td>\n",
       "    </tr>\n",
       "    <tr>\n",
       "      <th>50%</th>\n",
       "      <td>0.000</td>\n",
       "      <td>1.000</td>\n",
       "      <td>3.000</td>\n",
       "      <td>4.000</td>\n",
       "      <td>34.000</td>\n",
       "      <td>20000.000</td>\n",
       "      <td>1.000</td>\n",
       "    </tr>\n",
       "    <tr>\n",
       "      <th>75%</th>\n",
       "      <td>1.000</td>\n",
       "      <td>1.000</td>\n",
       "      <td>3.000</td>\n",
       "      <td>5.000</td>\n",
       "      <td>41.000</td>\n",
       "      <td>26000.000</td>\n",
       "      <td>1.000</td>\n",
       "    </tr>\n",
       "    <tr>\n",
       "      <th>max</th>\n",
       "      <td>1.000</td>\n",
       "      <td>1.000</td>\n",
       "      <td>4.000</td>\n",
       "      <td>6.000</td>\n",
       "      <td>69.000</td>\n",
       "      <td>1500020000.000</td>\n",
       "      <td>12.000</td>\n",
       "    </tr>\n",
       "  </tbody>\n",
       "</table>\n",
       "</div>"
      ],
      "text/plain": [
       "       fpd5_flg    gender  device_quaility_index  behavioral_index       age  \\\n",
       "count 15363.000 15363.000              14798.000         14798.000 15363.000   \n",
       "mean      0.273     0.629                  2.370             4.051    35.136   \n",
       "std       0.445     0.483                  1.078             0.938     9.125   \n",
       "min       0.000     0.000                  0.000             1.000    21.000   \n",
       "25%       0.000     0.000                  2.000             3.000    28.000   \n",
       "50%       0.000     1.000                  3.000             4.000    34.000   \n",
       "75%       1.000     1.000                  3.000             5.000    41.000   \n",
       "max       1.000     1.000                  4.000             6.000    69.000   \n",
       "\n",
       "              salary  email_index  \n",
       "count      14649.000    15330.000  \n",
       "mean      126164.737        1.580  \n",
       "std     12393318.436        2.398  \n",
       "min            0.000        0.000  \n",
       "25%        15000.000        0.000  \n",
       "50%        20000.000        1.000  \n",
       "75%        26000.000        1.000  \n",
       "max   1500020000.000       12.000  "
      ]
     },
     "execution_count": 11,
     "metadata": {},
     "output_type": "execute_result"
    }
   ],
   "source": [
    "data.describe()"
   ]
  },
  {
   "cell_type": "code",
   "execution_count": 12,
   "id": "6f6b9802",
   "metadata": {},
   "outputs": [
    {
     "data": {
      "text/html": [
       "<div>\n",
       "<style scoped>\n",
       "    .dataframe tbody tr th:only-of-type {\n",
       "        vertical-align: middle;\n",
       "    }\n",
       "\n",
       "    .dataframe tbody tr th {\n",
       "        vertical-align: top;\n",
       "    }\n",
       "\n",
       "    .dataframe thead th {\n",
       "        text-align: right;\n",
       "    }\n",
       "</style>\n",
       "<table border=\"1\" class=\"dataframe\">\n",
       "  <thead>\n",
       "    <tr style=\"text-align: right;\">\n",
       "      <th></th>\n",
       "      <th>gender</th>\n",
       "      <th>device_quaility_index</th>\n",
       "      <th>behavioral_index</th>\n",
       "      <th>age</th>\n",
       "      <th>salary</th>\n",
       "      <th>email_index</th>\n",
       "    </tr>\n",
       "    <tr>\n",
       "      <th>fpd5_flg</th>\n",
       "      <th></th>\n",
       "      <th></th>\n",
       "      <th></th>\n",
       "      <th></th>\n",
       "      <th></th>\n",
       "      <th></th>\n",
       "    </tr>\n",
       "  </thead>\n",
       "  <tbody>\n",
       "    <tr>\n",
       "      <th>0</th>\n",
       "      <td>0.647</td>\n",
       "      <td>2.412</td>\n",
       "      <td>4.031</td>\n",
       "      <td>35.456</td>\n",
       "      <td>165375.890</td>\n",
       "      <td>1.517</td>\n",
       "    </tr>\n",
       "    <tr>\n",
       "      <th>1</th>\n",
       "      <td>0.582</td>\n",
       "      <td>2.258</td>\n",
       "      <td>4.107</td>\n",
       "      <td>34.282</td>\n",
       "      <td>21523.102</td>\n",
       "      <td>1.747</td>\n",
       "    </tr>\n",
       "  </tbody>\n",
       "</table>\n",
       "</div>"
      ],
      "text/plain": [
       "          gender  device_quaility_index  behavioral_index    age     salary  \\\n",
       "fpd5_flg                                                                      \n",
       "0          0.647                  2.412             4.031 35.456 165375.890   \n",
       "1          0.582                  2.258             4.107 34.282  21523.102   \n",
       "\n",
       "          email_index  \n",
       "fpd5_flg               \n",
       "0               1.517  \n",
       "1               1.747  "
      ]
     },
     "execution_count": 12,
     "metadata": {},
     "output_type": "execute_result"
    }
   ],
   "source": [
    "data.groupby('fpd5_flg').mean()"
   ]
  },
  {
   "cell_type": "markdown",
   "id": "7440801d",
   "metadata": {},
   "source": [
    "# Этап валидации входящих данных"
   ]
  },
  {
   "cell_type": "code",
   "execution_count": 13,
   "id": "a4674e67",
   "metadata": {},
   "outputs": [
    {
     "data": {
      "text/plain": [
       "(15363, 13)"
      ]
     },
     "execution_count": 13,
     "metadata": {},
     "output_type": "execute_result"
    }
   ],
   "source": [
    "data.shape"
   ]
  },
  {
   "cell_type": "code",
   "execution_count": 14,
   "id": "e2b40536",
   "metadata": {},
   "outputs": [
    {
     "data": {
      "text/plain": [
       "fpd5_flg                    0\n",
       "dt                          0\n",
       "gender                      0\n",
       "device_quaility_index     565\n",
       "behavioral_index          565\n",
       "type_of_document            0\n",
       "age                         0\n",
       "email_domain_formatted      0\n",
       "social_status               0\n",
       "salary                    714\n",
       "disbursment_type            0\n",
       "os                         16\n",
       "email_index                33\n",
       "dtype: int64"
      ]
     },
     "execution_count": 14,
     "metadata": {},
     "output_type": "execute_result"
    }
   ],
   "source": [
    "# Количетсво пропусков в данных\n",
    "data.isna().sum()"
   ]
  },
  {
   "cell_type": "code",
   "execution_count": 15,
   "id": "057dbb67",
   "metadata": {},
   "outputs": [
    {
     "name": "stdout",
     "output_type": "stream",
     "text": [
      "Доля пропущенных переменных\n"
     ]
    },
    {
     "data": {
      "text/plain": [
       "fpd5_flg                 0.000\n",
       "dt                       0.000\n",
       "gender                   0.000\n",
       "device_quaility_index    0.038\n",
       "behavioral_index         0.038\n",
       "type_of_document         0.000\n",
       "age                      0.000\n",
       "email_domain_formatted   0.000\n",
       "social_status            0.000\n",
       "salary                   0.049\n",
       "disbursment_type         0.000\n",
       "os                       0.001\n",
       "email_index              0.002\n",
       "dtype: float64"
      ]
     },
     "execution_count": 15,
     "metadata": {},
     "output_type": "execute_result"
    }
   ],
   "source": [
    "share_missing = round(data.isna().sum()/data.count(), 3)\n",
    "print('Доля пропущенных переменных')\n",
    "share_missing"
   ]
  },
  {
   "cell_type": "code",
   "execution_count": 16,
   "id": "1a5809d3",
   "metadata": {},
   "outputs": [
    {
     "data": {
      "text/plain": [
       "Index(['fpd5_flg', 'dt', 'gender', 'device_quaility_index', 'behavioral_index',\n",
       "       'type_of_document', 'age', 'email_domain_formatted', 'social_status',\n",
       "       'salary', 'disbursment_type', 'os', 'email_index'],\n",
       "      dtype='object')"
      ]
     },
     "execution_count": 16,
     "metadata": {},
     "output_type": "execute_result"
    }
   ],
   "source": [
    "# Уникальные значения\n",
    "data.columns"
   ]
  },
  {
   "cell_type": "code",
   "execution_count": 17,
   "id": "bfe9d389",
   "metadata": {},
   "outputs": [],
   "source": [
    "unique_col = ['fpd5_flg', 'gender', 'device_quaility_index', 'behavioral_index',\n",
    "       'type_of_document', 'age', 'email_domain_formatted', 'social_status', 'disbursment_type', 'os', 'email_index']"
   ]
  },
  {
   "cell_type": "code",
   "execution_count": 18,
   "id": "573bd39d",
   "metadata": {},
   "outputs": [],
   "source": [
    "# Удаляем пропуски\n",
    "data_not_nan = data.dropna()"
   ]
  },
  {
   "cell_type": "code",
   "execution_count": 19,
   "id": "9cff6267",
   "metadata": {},
   "outputs": [
    {
     "data": {
      "text/plain": [
       "(14073, 13)"
      ]
     },
     "execution_count": 19,
     "metadata": {},
     "output_type": "execute_result"
    }
   ],
   "source": [
    "data_not_nan.shape"
   ]
  },
  {
   "cell_type": "code",
   "execution_count": 20,
   "id": "ded53a26",
   "metadata": {},
   "outputs": [
    {
     "name": "stdout",
     "output_type": "stream",
     "text": [
      "fpd5_flg\n",
      "[0 1]\n",
      "gender\n",
      "[0 1]\n",
      "device_quaility_index\n",
      "[0. 1. 2. 3. 4.]\n",
      "behavioral_index\n",
      "[1. 2. 3. 4. 5. 6.]\n",
      "type_of_document\n",
      "['Driver license ID' 'PRC' 'Passport' 'SSS' 'TIN' 'UMID']\n",
      "age\n",
      "[21 22 23 24 25 26 27 28 29 30 31 32 33 34 35 36 37 38 39 40 41 42 43 44\n",
      " 45 46 47 48 49 50 51 52 53 54 55 56 57 58 59 60 61 62 63 64 65 66 67 68\n",
      " 69]\n",
      "email_domain_formatted\n",
      "['75GMAIL.COM' 'ABS-CBN.COM' 'ABSOLUTELYCANDO.COM' 'AMA.EDU.PH'\n",
      " 'AMSAMOA.EDU' 'ATENEO.EDU' 'BEROVAN.COM' 'BOLTONINTERNATIONAL.COM'\n",
      " 'BULSU.EDU.PH' 'BURGANDRILLING.COM' 'CAREMIN.COM' 'CIENCE.COM' 'CIIF.PH'\n",
      " 'CPSCTECH.ORG' 'DAVIESPAINTS.COM.PH' 'DENR.GOV.PH' 'DEPED.GOV.PH'\n",
      " 'DEPEDQC.PH' 'DEXCOM.COM' 'DLSL.EDU.PH' 'DLSU.EDU.PH' 'EMAIL.COM'\n",
      " 'EMAIL.COM.PH' 'EMAIL.PH' 'FRONTIER.COM' 'GLOBE.COM.PH'\n",
      " 'GLOBEPARTNERS.COM.PH' 'GMA.COM' 'GMAIL.COM' 'GOOGLE.COM.COM'\n",
      " 'GSIS.GOV.PH' 'GXII.COM.PH' 'HARADA.COM.PH' 'HELLOKITTY.COM'\n",
      " 'HOTMAIL.COM' 'HOTMAIL.PH' 'ICBBPRESCHOOL.COM' 'ICLOUD.COM' 'INFOR.COM'\n",
      " 'INNOVARETEKHNE.COM' 'IRVILENT.COM' 'JFC.COM.PH' 'LCSNEXPRESS.COM'\n",
      " 'LIVE.COM' 'LNU.EDU.PH' 'LYFT.COM' 'MADSQ.NET' 'MAIL.COM'\n",
      " 'MANILAWATER.COM' 'MAXIMINTEGRATED.COM' 'MAXSCHICKEN.COM' 'MCD.COM.PH'\n",
      " 'MDCI.EDU.PH' 'MDXSOLUTIONS-ME.COM' 'MEGAWORLD-PROCUREMENT.COM'\n",
      " 'MERALCO.COM.PH' 'MINTCOLLEGE.COM' 'MMG-CORP.COM' 'MORALESGROUPINC.COM'\n",
      " 'MSN.COM' 'NWTF.ORG.PH' 'OUTLOOK.COM' 'OUTLOOK.PH' 'PHILAMLIFE.COM.PH'\n",
      " 'PLASTIMERONLINE.COM' 'PNP.GOV.PH' 'PPCDS.EDU.PH' 'PPD.PH'\n",
      " 'REDRIBBONBAKESHOP.COM.PH' 'RGOC.COM.PH' 'ROCKETMAIL.COM' 'SECDEP.ORG'\n",
      " 'SFXC.EDU.PH' 'TELUS.COM' 'UAP.ASIA' 'UPHSL.EDU.PH' 'UZ.EDU.PH'\n",
      " 'WGROUP.COM.PH' 'WHITESHIELD.PH' 'YAHOO.CO.NZ' 'YAHOO.CO.UK' 'YAHOO.COM'\n",
      " 'YAHOO.COM.PH' 'YAHOO.COM.SG' 'YAHOOM.COM' 'YAJOO.COM' 'YANDEX.COM'\n",
      " 'YHAHOO.COM' 'YMAIL.COM']\n",
      "social_status\n",
      "['BPO Professionals' 'Business Owner' 'Financial Services' 'Freelance'\n",
      " 'Government Employee' 'Other' 'Private Company Employee'\n",
      " 'Professional Worker (Doctors, Engineers, Accountants, etc.)'\n",
      " 'Retail Worker' 'Self-Employed' 'Unemployed']\n",
      "disbursment_type\n",
      "['Bank' 'E-wallet']\n",
      "os\n",
      "['Android' 'Chrome OS' 'Linux' 'OS X' 'Windows' 'iOS' 'macOS']\n",
      "email_index\n",
      "[ 0.  1.  2.  3.  4.  6.  8. 10. 11. 12.]\n"
     ]
    }
   ],
   "source": [
    "for v in unique_col:\n",
    "    print(v)\n",
    "    print(np.unique(data_not_nan[v]))"
   ]
  },
  {
   "cell_type": "code",
   "execution_count": 21,
   "id": "722be65c",
   "metadata": {},
   "outputs": [
    {
     "data": {
      "text/plain": [
       "Index(['fpd5_flg', 'dt', 'gender', 'device_quaility_index', 'behavioral_index',\n",
       "       'type_of_document', 'age', 'email_domain_formatted', 'social_status',\n",
       "       'salary', 'disbursment_type', 'os', 'email_index'],\n",
       "      dtype='object')"
      ]
     },
     "execution_count": 21,
     "metadata": {},
     "output_type": "execute_result"
    }
   ],
   "source": [
    "data.columns"
   ]
  },
  {
   "cell_type": "markdown",
   "id": "4d9f65dd",
   "metadata": {},
   "source": [
    "# Графики"
   ]
  },
  {
   "cell_type": "code",
   "execution_count": 22,
   "id": "babec021",
   "metadata": {},
   "outputs": [],
   "source": [
    "def plt_dist(value_to_plot):\n",
    "    plt.hist(data[value_to_plot])\n",
    "    plt.title(value_to_plot)\n",
    "    plt.ylabel('Frequency')\n",
    "    plt.show()"
   ]
  },
  {
   "cell_type": "code",
   "execution_count": 23,
   "id": "e5fae03c",
   "metadata": {},
   "outputs": [],
   "source": [
    "def sns_dist(value_to_plot):\n",
    "    sns.countplot(x = value_to_plot, data = data, palette = 'hls').set(title=value_to_plot)\n",
    "    plt.show()"
   ]
  },
  {
   "cell_type": "code",
   "execution_count": 24,
   "id": "53f8b97c",
   "metadata": {},
   "outputs": [
    {
     "data": {
      "image/png": "[encoded data removed]",
      "text/plain": [
       "<Figure size 1440x1440 with 9 Axes>"
      ]
     },
     "metadata": {
      "needs_background": "light"
     },
     "output_type": "display_data"
    }
   ],
   "source": [
    "# Визуализируем данные - все сразу\n",
    "data.hist(figsize = (20, 20));"
   ]
  },
  {
   "cell_type": "code",
   "execution_count": 25,
   "id": "8514a2db",
   "metadata": {},
   "outputs": [
    {
     "data": {
      "image/png": "[encoded data removed]",
      "text/plain": [
       "<Figure size 432x288 with 1 Axes>"
      ]
     },
     "metadata": {
      "needs_background": "light"
     },
     "output_type": "display_data"
    }
   ],
   "source": [
    "sns_dist('fpd5_flg')"
   ]
  },
  {
   "cell_type": "code",
   "execution_count": 26,
   "id": "33348f22",
   "metadata": {},
   "outputs": [
    {
     "data": {
      "image/png": "[encoded data removed]",
      "text/plain": [
       "<Figure size 432x288 with 1 Axes>"
      ]
     },
     "metadata": {
      "needs_background": "light"
     },
     "output_type": "display_data"
    }
   ],
   "source": [
    "sns_dist('gender')"
   ]
  },
  {
   "cell_type": "code",
   "execution_count": 27,
   "id": "a9d7f27a",
   "metadata": {},
   "outputs": [
    {
     "data": {
      "image/png": "[encoded data removed]",
      "text/plain": [
       "<Figure size 432x288 with 1 Axes>"
      ]
     },
     "metadata": {
      "needs_background": "light"
     },
     "output_type": "display_data"
    }
   ],
   "source": [
    "sns_dist('device_quaility_index')"
   ]
  },
  {
   "cell_type": "code",
   "execution_count": 28,
   "id": "e4cfad85",
   "metadata": {},
   "outputs": [
    {
     "data": {
      "image/png": "[encoded data removed]",
      "text/plain": [
       "<Figure size 432x288 with 1 Axes>"
      ]
     },
     "metadata": {
      "needs_background": "light"
     },
     "output_type": "display_data"
    }
   ],
   "source": [
    "sns_dist('behavioral_index')"
   ]
  },
  {
   "cell_type": "code",
   "execution_count": 29,
   "id": "a5170641",
   "metadata": {},
   "outputs": [
    {
     "data": {
      "image/png": "[encoded data removed]",
      "text/plain": [
       "<Figure size 432x288 with 1 Axes>"
      ]
     },
     "metadata": {
      "needs_background": "light"
     },
     "output_type": "display_data"
    }
   ],
   "source": [
    "sns_dist('type_of_document')"
   ]
  },
  {
   "cell_type": "code",
   "execution_count": 30,
   "id": "5c04513a",
   "metadata": {},
   "outputs": [
    {
     "data": {
      "image/png": "[encoded data removed]",
      "text/plain": [
       "<Figure size 432x288 with 1 Axes>"
      ]
     },
     "metadata": {
      "needs_background": "light"
     },
     "output_type": "display_data"
    }
   ],
   "source": [
    "sns_dist('os')"
   ]
  },
  {
   "cell_type": "code",
   "execution_count": 31,
   "id": "6d8633a3",
   "metadata": {
    "scrolled": true
   },
   "outputs": [
    {
     "data": {
      "image/png": "[encoded data removed]",
      "text/plain": [
       "<Figure size 432x288 with 1 Axes>"
      ]
     },
     "metadata": {
      "needs_background": "light"
     },
     "output_type": "display_data"
    }
   ],
   "source": [
    "sns_dist('disbursment_type')"
   ]
  },
  {
   "cell_type": "code",
   "execution_count": 32,
   "id": "6a4d42d2",
   "metadata": {},
   "outputs": [
    {
     "data": {
      "image/png": "[encoded data removed]",
      "text/plain": [
       "<Figure size 432x288 with 1 Axes>"
      ]
     },
     "metadata": {
      "needs_background": "light"
     },
     "output_type": "display_data"
    }
   ],
   "source": [
    "sns.barplot(x = 'os',  y ='salary', hue = 'fpd5_flg', data = data).set(title='os')\n",
    "plt.show()"
   ]
  },
  {
   "cell_type": "code",
   "execution_count": 33,
   "id": "48aa310b",
   "metadata": {},
   "outputs": [
    {
     "data": {
      "image/png": "[encoded data removed]",
      "text/plain": [
       "<Figure size 432x288 with 1 Axes>"
      ]
     },
     "metadata": {
      "needs_background": "light"
     },
     "output_type": "display_data"
    }
   ],
   "source": [
    "sns.barplot(x = 'gender',  y ='salary', hue = 'fpd5_flg', data = data).set(title='os')\n",
    "plt.show()"
   ]
  },
  {
   "cell_type": "code",
   "execution_count": 34,
   "id": "cff3eb03",
   "metadata": {},
   "outputs": [
    {
     "data": {
      "text/plain": [
       "[<matplotlib.lines.Line2D at 0x1b8fe4d47f0>]"
      ]
     },
     "execution_count": 34,
     "metadata": {},
     "output_type": "execute_result"
    },
    {
     "data": {
      "image/png": "[encoded data removed]",
      "text/plain": [
       "<Figure size 432x288 with 1 Axes>"
      ]
     },
     "metadata": {
      "needs_background": "light"
     },
     "output_type": "display_data"
    }
   ],
   "source": [
    "plt.plot(data['salary'])"
   ]
  },
  {
   "cell_type": "code",
   "execution_count": 35,
   "id": "08bd5138",
   "metadata": {
    "scrolled": true
   },
   "outputs": [
    {
     "data": {
      "image/png": "[encoded data removed]",
      "text/plain": [
       "<Figure size 432x288 with 1 Axes>"
      ]
     },
     "metadata": {
      "needs_background": "light"
     },
     "output_type": "display_data"
    }
   ],
   "source": [
    "plt.hist(data['salary'], bins = 25, range = (0, data['salary'].median() * 5))\n",
    "plt.title('salary')\n",
    "plt.ylabel('Frequency')\n",
    "plt.show()"
   ]
  },
  {
   "cell_type": "code",
   "execution_count": 36,
   "id": "4febb3e7",
   "metadata": {},
   "outputs": [],
   "source": [
    "value_list = ['fpd5_flg', 'gender', 'device_quaility_index', 'behavioral_index',\n",
    "       'type_of_document', 'age', 'email_domain_formatted', 'social_status',\n",
    "       'salary', 'disbursment_type', 'os', 'email_index']"
   ]
  },
  {
   "cell_type": "markdown",
   "id": "1c2c48a6",
   "metadata": {},
   "source": [
    "# Распределение по кол-ву"
   ]
  },
  {
   "cell_type": "code",
   "execution_count": 37,
   "id": "f7cc79a9",
   "metadata": {},
   "outputs": [],
   "source": [
    "def dist_value_cnt(value):\n",
    "    x = data.groupby(value)[value].count().reset_index(name='counts').sort_values('counts', ascending = False)\n",
    "    return x"
   ]
  },
  {
   "cell_type": "code",
   "execution_count": 38,
   "id": "d577c562",
   "metadata": {},
   "outputs": [
    {
     "data": {
      "text/html": [
       "<div>\n",
       "<style scoped>\n",
       "    .dataframe tbody tr th:only-of-type {\n",
       "        vertical-align: middle;\n",
       "    }\n",
       "\n",
       "    .dataframe tbody tr th {\n",
       "        vertical-align: top;\n",
       "    }\n",
       "\n",
       "    .dataframe thead th {\n",
       "        text-align: right;\n",
       "    }\n",
       "</style>\n",
       "<table border=\"1\" class=\"dataframe\">\n",
       "  <thead>\n",
       "    <tr style=\"text-align: right;\">\n",
       "      <th></th>\n",
       "      <th>fpd5_flg</th>\n",
       "      <th>counts</th>\n",
       "    </tr>\n",
       "  </thead>\n",
       "  <tbody>\n",
       "    <tr>\n",
       "      <th>0</th>\n",
       "      <td>0</td>\n",
       "      <td>11172</td>\n",
       "    </tr>\n",
       "    <tr>\n",
       "      <th>1</th>\n",
       "      <td>1</td>\n",
       "      <td>4191</td>\n",
       "    </tr>\n",
       "  </tbody>\n",
       "</table>\n",
       "</div>"
      ],
      "text/plain": [
       "   fpd5_flg  counts\n",
       "0         0   11172\n",
       "1         1    4191"
      ]
     },
     "execution_count": 38,
     "metadata": {},
     "output_type": "execute_result"
    }
   ],
   "source": [
    "dist_value_cnt('fpd5_flg')"
   ]
  },
  {
   "cell_type": "code",
   "execution_count": 39,
   "id": "5416e78e",
   "metadata": {},
   "outputs": [
    {
     "data": {
      "text/html": [
       "<div>\n",
       "<style scoped>\n",
       "    .dataframe tbody tr th:only-of-type {\n",
       "        vertical-align: middle;\n",
       "    }\n",
       "\n",
       "    .dataframe tbody tr th {\n",
       "        vertical-align: top;\n",
       "    }\n",
       "\n",
       "    .dataframe thead th {\n",
       "        text-align: right;\n",
       "    }\n",
       "</style>\n",
       "<table border=\"1\" class=\"dataframe\">\n",
       "  <thead>\n",
       "    <tr style=\"text-align: right;\">\n",
       "      <th></th>\n",
       "      <th>gender</th>\n",
       "      <th>counts</th>\n",
       "    </tr>\n",
       "  </thead>\n",
       "  <tbody>\n",
       "    <tr>\n",
       "      <th>1</th>\n",
       "      <td>1</td>\n",
       "      <td>9665</td>\n",
       "    </tr>\n",
       "    <tr>\n",
       "      <th>0</th>\n",
       "      <td>0</td>\n",
       "      <td>5698</td>\n",
       "    </tr>\n",
       "  </tbody>\n",
       "</table>\n",
       "</div>"
      ],
      "text/plain": [
       "   gender  counts\n",
       "1       1    9665\n",
       "0       0    5698"
      ]
     },
     "execution_count": 39,
     "metadata": {},
     "output_type": "execute_result"
    }
   ],
   "source": [
    "dist_value_cnt('gender')"
   ]
  },
  {
   "cell_type": "code",
   "execution_count": 40,
   "id": "91ff47c6",
   "metadata": {},
   "outputs": [
    {
     "data": {
      "text/html": [
       "<div>\n",
       "<style scoped>\n",
       "    .dataframe tbody tr th:only-of-type {\n",
       "        vertical-align: middle;\n",
       "    }\n",
       "\n",
       "    .dataframe tbody tr th {\n",
       "        vertical-align: top;\n",
       "    }\n",
       "\n",
       "    .dataframe thead th {\n",
       "        text-align: right;\n",
       "    }\n",
       "</style>\n",
       "<table border=\"1\" class=\"dataframe\">\n",
       "  <thead>\n",
       "    <tr style=\"text-align: right;\">\n",
       "      <th></th>\n",
       "      <th>device_quaility_index</th>\n",
       "      <th>counts</th>\n",
       "    </tr>\n",
       "  </thead>\n",
       "  <tbody>\n",
       "    <tr>\n",
       "      <th>3</th>\n",
       "      <td>3.000</td>\n",
       "      <td>7837</td>\n",
       "    </tr>\n",
       "    <tr>\n",
       "      <th>1</th>\n",
       "      <td>1.000</td>\n",
       "      <td>2374</td>\n",
       "    </tr>\n",
       "    <tr>\n",
       "      <th>2</th>\n",
       "      <td>2.000</td>\n",
       "      <td>2337</td>\n",
       "    </tr>\n",
       "    <tr>\n",
       "      <th>4</th>\n",
       "      <td>4.000</td>\n",
       "      <td>1128</td>\n",
       "    </tr>\n",
       "    <tr>\n",
       "      <th>0</th>\n",
       "      <td>0.000</td>\n",
       "      <td>1122</td>\n",
       "    </tr>\n",
       "  </tbody>\n",
       "</table>\n",
       "</div>"
      ],
      "text/plain": [
       "   device_quaility_index  counts\n",
       "3                  3.000    7837\n",
       "1                  1.000    2374\n",
       "2                  2.000    2337\n",
       "4                  4.000    1128\n",
       "0                  0.000    1122"
      ]
     },
     "execution_count": 40,
     "metadata": {},
     "output_type": "execute_result"
    }
   ],
   "source": [
    "dist_value_cnt('device_quaility_index')"
   ]
  },
  {
   "cell_type": "code",
   "execution_count": 41,
   "id": "8c22e465",
   "metadata": {},
   "outputs": [
    {
     "data": {
      "text/html": [
       "<div>\n",
       "<style scoped>\n",
       "    .dataframe tbody tr th:only-of-type {\n",
       "        vertical-align: middle;\n",
       "    }\n",
       "\n",
       "    .dataframe tbody tr th {\n",
       "        vertical-align: top;\n",
       "    }\n",
       "\n",
       "    .dataframe thead th {\n",
       "        text-align: right;\n",
       "    }\n",
       "</style>\n",
       "<table border=\"1\" class=\"dataframe\">\n",
       "  <thead>\n",
       "    <tr style=\"text-align: right;\">\n",
       "      <th></th>\n",
       "      <th>behavioral_index</th>\n",
       "      <th>counts</th>\n",
       "    </tr>\n",
       "  </thead>\n",
       "  <tbody>\n",
       "    <tr>\n",
       "      <th>3</th>\n",
       "      <td>4.000</td>\n",
       "      <td>4721</td>\n",
       "    </tr>\n",
       "    <tr>\n",
       "      <th>2</th>\n",
       "      <td>3.000</td>\n",
       "      <td>4675</td>\n",
       "    </tr>\n",
       "    <tr>\n",
       "      <th>4</th>\n",
       "      <td>5.000</td>\n",
       "      <td>4447</td>\n",
       "    </tr>\n",
       "    <tr>\n",
       "      <th>5</th>\n",
       "      <td>6.000</td>\n",
       "      <td>730</td>\n",
       "    </tr>\n",
       "    <tr>\n",
       "      <th>1</th>\n",
       "      <td>2.000</td>\n",
       "      <td>202</td>\n",
       "    </tr>\n",
       "    <tr>\n",
       "      <th>0</th>\n",
       "      <td>1.000</td>\n",
       "      <td>23</td>\n",
       "    </tr>\n",
       "  </tbody>\n",
       "</table>\n",
       "</div>"
      ],
      "text/plain": [
       "   behavioral_index  counts\n",
       "3             4.000    4721\n",
       "2             3.000    4675\n",
       "4             5.000    4447\n",
       "5             6.000     730\n",
       "1             2.000     202\n",
       "0             1.000      23"
      ]
     },
     "execution_count": 41,
     "metadata": {},
     "output_type": "execute_result"
    }
   ],
   "source": [
    "dist_value_cnt('behavioral_index')"
   ]
  },
  {
   "cell_type": "code",
   "execution_count": 42,
   "id": "9adaba4e",
   "metadata": {},
   "outputs": [
    {
     "data": {
      "text/html": [
       "<div>\n",
       "<style scoped>\n",
       "    .dataframe tbody tr th:only-of-type {\n",
       "        vertical-align: middle;\n",
       "    }\n",
       "\n",
       "    .dataframe tbody tr th {\n",
       "        vertical-align: top;\n",
       "    }\n",
       "\n",
       "    .dataframe thead th {\n",
       "        text-align: right;\n",
       "    }\n",
       "</style>\n",
       "<table border=\"1\" class=\"dataframe\">\n",
       "  <thead>\n",
       "    <tr style=\"text-align: right;\">\n",
       "      <th></th>\n",
       "      <th>type_of_document</th>\n",
       "      <th>counts</th>\n",
       "    </tr>\n",
       "  </thead>\n",
       "  <tbody>\n",
       "    <tr>\n",
       "      <th>5</th>\n",
       "      <td>UMID</td>\n",
       "      <td>5419</td>\n",
       "    </tr>\n",
       "    <tr>\n",
       "      <th>0</th>\n",
       "      <td>Driver license ID</td>\n",
       "      <td>3073</td>\n",
       "    </tr>\n",
       "    <tr>\n",
       "      <th>4</th>\n",
       "      <td>TIN</td>\n",
       "      <td>3057</td>\n",
       "    </tr>\n",
       "    <tr>\n",
       "      <th>2</th>\n",
       "      <td>Passport</td>\n",
       "      <td>1867</td>\n",
       "    </tr>\n",
       "    <tr>\n",
       "      <th>3</th>\n",
       "      <td>SSS</td>\n",
       "      <td>1498</td>\n",
       "    </tr>\n",
       "    <tr>\n",
       "      <th>1</th>\n",
       "      <td>PRC</td>\n",
       "      <td>449</td>\n",
       "    </tr>\n",
       "  </tbody>\n",
       "</table>\n",
       "</div>"
      ],
      "text/plain": [
       "    type_of_document  counts\n",
       "5               UMID    5419\n",
       "0  Driver license ID    3073\n",
       "4                TIN    3057\n",
       "2           Passport    1867\n",
       "3                SSS    1498\n",
       "1                PRC     449"
      ]
     },
     "execution_count": 42,
     "metadata": {},
     "output_type": "execute_result"
    }
   ],
   "source": [
    "dist_value_cnt('type_of_document')"
   ]
  },
  {
   "cell_type": "code",
   "execution_count": 43,
   "id": "10ad0ca1",
   "metadata": {},
   "outputs": [
    {
     "data": {
      "text/html": [
       "<div>\n",
       "<style scoped>\n",
       "    .dataframe tbody tr th:only-of-type {\n",
       "        vertical-align: middle;\n",
       "    }\n",
       "\n",
       "    .dataframe tbody tr th {\n",
       "        vertical-align: top;\n",
       "    }\n",
       "\n",
       "    .dataframe thead th {\n",
       "        text-align: right;\n",
       "    }\n",
       "</style>\n",
       "<table border=\"1\" class=\"dataframe\">\n",
       "  <thead>\n",
       "    <tr style=\"text-align: right;\">\n",
       "      <th></th>\n",
       "      <th>social_status</th>\n",
       "      <th>counts</th>\n",
       "    </tr>\n",
       "  </thead>\n",
       "  <tbody>\n",
       "    <tr>\n",
       "      <th>6</th>\n",
       "      <td>Private Company Employee</td>\n",
       "      <td>3500</td>\n",
       "    </tr>\n",
       "    <tr>\n",
       "      <th>10</th>\n",
       "      <td>Self-Employed</td>\n",
       "      <td>2323</td>\n",
       "    </tr>\n",
       "    <tr>\n",
       "      <th>0</th>\n",
       "      <td>BPO Professionals</td>\n",
       "      <td>2295</td>\n",
       "    </tr>\n",
       "    <tr>\n",
       "      <th>5</th>\n",
       "      <td>Other</td>\n",
       "      <td>1703</td>\n",
       "    </tr>\n",
       "    <tr>\n",
       "      <th>1</th>\n",
       "      <td>Business Owner</td>\n",
       "      <td>1680</td>\n",
       "    </tr>\n",
       "    <tr>\n",
       "      <th>4</th>\n",
       "      <td>Government Employee</td>\n",
       "      <td>1061</td>\n",
       "    </tr>\n",
       "    <tr>\n",
       "      <th>3</th>\n",
       "      <td>Freelance</td>\n",
       "      <td>777</td>\n",
       "    </tr>\n",
       "    <tr>\n",
       "      <th>7</th>\n",
       "      <td>Professional Worker (Doctors, Engineers, Accou...</td>\n",
       "      <td>642</td>\n",
       "    </tr>\n",
       "    <tr>\n",
       "      <th>11</th>\n",
       "      <td>Unemployed</td>\n",
       "      <td>642</td>\n",
       "    </tr>\n",
       "    <tr>\n",
       "      <th>8</th>\n",
       "      <td>Retail Worker</td>\n",
       "      <td>402</td>\n",
       "    </tr>\n",
       "    <tr>\n",
       "      <th>2</th>\n",
       "      <td>Financial Services</td>\n",
       "      <td>247</td>\n",
       "    </tr>\n",
       "    <tr>\n",
       "      <th>9</th>\n",
       "      <td>Retired</td>\n",
       "      <td>91</td>\n",
       "    </tr>\n",
       "  </tbody>\n",
       "</table>\n",
       "</div>"
      ],
      "text/plain": [
       "                                        social_status  counts\n",
       "6                            Private Company Employee    3500\n",
       "10                                      Self-Employed    2323\n",
       "0                                   BPO Professionals    2295\n",
       "5                                               Other    1703\n",
       "1                                      Business Owner    1680\n",
       "4                                 Government Employee    1061\n",
       "3                                           Freelance     777\n",
       "7   Professional Worker (Doctors, Engineers, Accou...     642\n",
       "11                                         Unemployed     642\n",
       "8                                       Retail Worker     402\n",
       "2                                  Financial Services     247\n",
       "9                                             Retired      91"
      ]
     },
     "execution_count": 43,
     "metadata": {},
     "output_type": "execute_result"
    }
   ],
   "source": [
    "dist_value_cnt('social_status')"
   ]
  },
  {
   "cell_type": "code",
   "execution_count": 44,
   "id": "6f365dfe",
   "metadata": {},
   "outputs": [
    {
     "data": {
      "text/html": [
       "<div>\n",
       "<style scoped>\n",
       "    .dataframe tbody tr th:only-of-type {\n",
       "        vertical-align: middle;\n",
       "    }\n",
       "\n",
       "    .dataframe tbody tr th {\n",
       "        vertical-align: top;\n",
       "    }\n",
       "\n",
       "    .dataframe thead th {\n",
       "        text-align: right;\n",
       "    }\n",
       "</style>\n",
       "<table border=\"1\" class=\"dataframe\">\n",
       "  <thead>\n",
       "    <tr style=\"text-align: right;\">\n",
       "      <th></th>\n",
       "      <th>disbursment_type</th>\n",
       "      <th>counts</th>\n",
       "    </tr>\n",
       "  </thead>\n",
       "  <tbody>\n",
       "    <tr>\n",
       "      <th>0</th>\n",
       "      <td>Bank</td>\n",
       "      <td>8918</td>\n",
       "    </tr>\n",
       "    <tr>\n",
       "      <th>1</th>\n",
       "      <td>E-wallet</td>\n",
       "      <td>6445</td>\n",
       "    </tr>\n",
       "  </tbody>\n",
       "</table>\n",
       "</div>"
      ],
      "text/plain": [
       "  disbursment_type  counts\n",
       "0             Bank    8918\n",
       "1         E-wallet    6445"
      ]
     },
     "execution_count": 44,
     "metadata": {},
     "output_type": "execute_result"
    }
   ],
   "source": [
    "dist_value_cnt('disbursment_type')"
   ]
  },
  {
   "cell_type": "code",
   "execution_count": 45,
   "id": "d0b719d7",
   "metadata": {},
   "outputs": [
    {
     "data": {
      "text/html": [
       "<div>\n",
       "<style scoped>\n",
       "    .dataframe tbody tr th:only-of-type {\n",
       "        vertical-align: middle;\n",
       "    }\n",
       "\n",
       "    .dataframe tbody tr th {\n",
       "        vertical-align: top;\n",
       "    }\n",
       "\n",
       "    .dataframe thead th {\n",
       "        text-align: right;\n",
       "    }\n",
       "</style>\n",
       "<table border=\"1\" class=\"dataframe\">\n",
       "  <thead>\n",
       "    <tr style=\"text-align: right;\">\n",
       "      <th></th>\n",
       "      <th>os</th>\n",
       "      <th>counts</th>\n",
       "    </tr>\n",
       "  </thead>\n",
       "  <tbody>\n",
       "    <tr>\n",
       "      <th>0</th>\n",
       "      <td>Android</td>\n",
       "      <td>11499</td>\n",
       "    </tr>\n",
       "    <tr>\n",
       "      <th>5</th>\n",
       "      <td>iOS</td>\n",
       "      <td>2947</td>\n",
       "    </tr>\n",
       "    <tr>\n",
       "      <th>4</th>\n",
       "      <td>Windows</td>\n",
       "      <td>845</td>\n",
       "    </tr>\n",
       "    <tr>\n",
       "      <th>6</th>\n",
       "      <td>macOS</td>\n",
       "      <td>40</td>\n",
       "    </tr>\n",
       "    <tr>\n",
       "      <th>2</th>\n",
       "      <td>Linux</td>\n",
       "      <td>7</td>\n",
       "    </tr>\n",
       "    <tr>\n",
       "      <th>1</th>\n",
       "      <td>Chrome OS</td>\n",
       "      <td>5</td>\n",
       "    </tr>\n",
       "    <tr>\n",
       "      <th>3</th>\n",
       "      <td>OS X</td>\n",
       "      <td>4</td>\n",
       "    </tr>\n",
       "  </tbody>\n",
       "</table>\n",
       "</div>"
      ],
      "text/plain": [
       "          os  counts\n",
       "0    Android   11499\n",
       "5        iOS    2947\n",
       "4    Windows     845\n",
       "6      macOS      40\n",
       "2      Linux       7\n",
       "1  Chrome OS       5\n",
       "3       OS X       4"
      ]
     },
     "execution_count": 45,
     "metadata": {},
     "output_type": "execute_result"
    }
   ],
   "source": [
    "dist_value_cnt('os')"
   ]
  },
  {
   "cell_type": "code",
   "execution_count": 46,
   "id": "ec8ea304",
   "metadata": {},
   "outputs": [
    {
     "data": {
      "text/html": [
       "<div>\n",
       "<style scoped>\n",
       "    .dataframe tbody tr th:only-of-type {\n",
       "        vertical-align: middle;\n",
       "    }\n",
       "\n",
       "    .dataframe tbody tr th {\n",
       "        vertical-align: top;\n",
       "    }\n",
       "\n",
       "    .dataframe thead th {\n",
       "        text-align: right;\n",
       "    }\n",
       "</style>\n",
       "<table border=\"1\" class=\"dataframe\">\n",
       "  <thead>\n",
       "    <tr style=\"text-align: right;\">\n",
       "      <th></th>\n",
       "      <th>email_index</th>\n",
       "      <th>counts</th>\n",
       "    </tr>\n",
       "  </thead>\n",
       "  <tbody>\n",
       "    <tr>\n",
       "      <th>1</th>\n",
       "      <td>1.000</td>\n",
       "      <td>8926</td>\n",
       "    </tr>\n",
       "    <tr>\n",
       "      <th>0</th>\n",
       "      <td>0.000</td>\n",
       "      <td>4253</td>\n",
       "    </tr>\n",
       "    <tr>\n",
       "      <th>6</th>\n",
       "      <td>8.000</td>\n",
       "      <td>1329</td>\n",
       "    </tr>\n",
       "    <tr>\n",
       "      <th>5</th>\n",
       "      <td>6.000</td>\n",
       "      <td>273</td>\n",
       "    </tr>\n",
       "    <tr>\n",
       "      <th>4</th>\n",
       "      <td>4.000</td>\n",
       "      <td>232</td>\n",
       "    </tr>\n",
       "    <tr>\n",
       "      <th>7</th>\n",
       "      <td>10.000</td>\n",
       "      <td>176</td>\n",
       "    </tr>\n",
       "    <tr>\n",
       "      <th>2</th>\n",
       "      <td>2.000</td>\n",
       "      <td>129</td>\n",
       "    </tr>\n",
       "    <tr>\n",
       "      <th>3</th>\n",
       "      <td>3.000</td>\n",
       "      <td>7</td>\n",
       "    </tr>\n",
       "    <tr>\n",
       "      <th>9</th>\n",
       "      <td>12.000</td>\n",
       "      <td>4</td>\n",
       "    </tr>\n",
       "    <tr>\n",
       "      <th>8</th>\n",
       "      <td>11.000</td>\n",
       "      <td>1</td>\n",
       "    </tr>\n",
       "  </tbody>\n",
       "</table>\n",
       "</div>"
      ],
      "text/plain": [
       "   email_index  counts\n",
       "1        1.000    8926\n",
       "0        0.000    4253\n",
       "6        8.000    1329\n",
       "5        6.000     273\n",
       "4        4.000     232\n",
       "7       10.000     176\n",
       "2        2.000     129\n",
       "3        3.000       7\n",
       "9       12.000       4\n",
       "8       11.000       1"
      ]
     },
     "execution_count": 46,
     "metadata": {},
     "output_type": "execute_result"
    }
   ],
   "source": [
    "dist_value_cnt('email_index')"
   ]
  },
  {
   "cell_type": "code",
   "execution_count": 47,
   "id": "1e222e0d",
   "metadata": {},
   "outputs": [
    {
     "data": {
      "text/html": [
       "<div>\n",
       "<style scoped>\n",
       "    .dataframe tbody tr th:only-of-type {\n",
       "        vertical-align: middle;\n",
       "    }\n",
       "\n",
       "    .dataframe tbody tr th {\n",
       "        vertical-align: top;\n",
       "    }\n",
       "\n",
       "    .dataframe thead th {\n",
       "        text-align: right;\n",
       "    }\n",
       "</style>\n",
       "<table border=\"1\" class=\"dataframe\">\n",
       "  <thead>\n",
       "    <tr style=\"text-align: right;\">\n",
       "      <th></th>\n",
       "      <th>dt</th>\n",
       "      <th>counts</th>\n",
       "    </tr>\n",
       "  </thead>\n",
       "  <tbody>\n",
       "    <tr>\n",
       "      <th>0</th>\n",
       "      <td>2020-12-09</td>\n",
       "      <td>543</td>\n",
       "    </tr>\n",
       "    <tr>\n",
       "      <th>1</th>\n",
       "      <td>2020-12-10</td>\n",
       "      <td>297</td>\n",
       "    </tr>\n",
       "    <tr>\n",
       "      <th>2</th>\n",
       "      <td>2020-12-11</td>\n",
       "      <td>351</td>\n",
       "    </tr>\n",
       "    <tr>\n",
       "      <th>3</th>\n",
       "      <td>2020-12-12</td>\n",
       "      <td>151</td>\n",
       "    </tr>\n",
       "    <tr>\n",
       "      <th>4</th>\n",
       "      <td>2020-12-13</td>\n",
       "      <td>99</td>\n",
       "    </tr>\n",
       "    <tr>\n",
       "      <th>5</th>\n",
       "      <td>2020-12-14</td>\n",
       "      <td>510</td>\n",
       "    </tr>\n",
       "    <tr>\n",
       "      <th>6</th>\n",
       "      <td>2020-12-15</td>\n",
       "      <td>228</td>\n",
       "    </tr>\n",
       "    <tr>\n",
       "      <th>7</th>\n",
       "      <td>2020-12-16</td>\n",
       "      <td>206</td>\n",
       "    </tr>\n",
       "    <tr>\n",
       "      <th>8</th>\n",
       "      <td>2020-12-17</td>\n",
       "      <td>190</td>\n",
       "    </tr>\n",
       "    <tr>\n",
       "      <th>9</th>\n",
       "      <td>2020-12-18</td>\n",
       "      <td>154</td>\n",
       "    </tr>\n",
       "    <tr>\n",
       "      <th>10</th>\n",
       "      <td>2020-12-19</td>\n",
       "      <td>131</td>\n",
       "    </tr>\n",
       "    <tr>\n",
       "      <th>11</th>\n",
       "      <td>2020-12-20</td>\n",
       "      <td>118</td>\n",
       "    </tr>\n",
       "    <tr>\n",
       "      <th>12</th>\n",
       "      <td>2020-12-21</td>\n",
       "      <td>286</td>\n",
       "    </tr>\n",
       "    <tr>\n",
       "      <th>13</th>\n",
       "      <td>2020-12-22</td>\n",
       "      <td>234</td>\n",
       "    </tr>\n",
       "    <tr>\n",
       "      <th>14</th>\n",
       "      <td>2020-12-23</td>\n",
       "      <td>178</td>\n",
       "    </tr>\n",
       "    <tr>\n",
       "      <th>15</th>\n",
       "      <td>2020-12-24</td>\n",
       "      <td>99</td>\n",
       "    </tr>\n",
       "    <tr>\n",
       "      <th>16</th>\n",
       "      <td>2020-12-25</td>\n",
       "      <td>61</td>\n",
       "    </tr>\n",
       "    <tr>\n",
       "      <th>17</th>\n",
       "      <td>2020-12-26</td>\n",
       "      <td>129</td>\n",
       "    </tr>\n",
       "    <tr>\n",
       "      <th>18</th>\n",
       "      <td>2020-12-27</td>\n",
       "      <td>108</td>\n",
       "    </tr>\n",
       "    <tr>\n",
       "      <th>19</th>\n",
       "      <td>2020-12-28</td>\n",
       "      <td>444</td>\n",
       "    </tr>\n",
       "    <tr>\n",
       "      <th>20</th>\n",
       "      <td>2020-12-29</td>\n",
       "      <td>356</td>\n",
       "    </tr>\n",
       "    <tr>\n",
       "      <th>21</th>\n",
       "      <td>2020-12-30</td>\n",
       "      <td>319</td>\n",
       "    </tr>\n",
       "    <tr>\n",
       "      <th>22</th>\n",
       "      <td>2020-12-31</td>\n",
       "      <td>276</td>\n",
       "    </tr>\n",
       "    <tr>\n",
       "      <th>23</th>\n",
       "      <td>2021-01-01</td>\n",
       "      <td>51</td>\n",
       "    </tr>\n",
       "    <tr>\n",
       "      <th>24</th>\n",
       "      <td>2021-01-02</td>\n",
       "      <td>99</td>\n",
       "    </tr>\n",
       "    <tr>\n",
       "      <th>25</th>\n",
       "      <td>2021-01-03</td>\n",
       "      <td>112</td>\n",
       "    </tr>\n",
       "    <tr>\n",
       "      <th>26</th>\n",
       "      <td>2021-01-04</td>\n",
       "      <td>577</td>\n",
       "    </tr>\n",
       "    <tr>\n",
       "      <th>27</th>\n",
       "      <td>2021-01-05</td>\n",
       "      <td>485</td>\n",
       "    </tr>\n",
       "    <tr>\n",
       "      <th>28</th>\n",
       "      <td>2021-01-06</td>\n",
       "      <td>313</td>\n",
       "    </tr>\n",
       "    <tr>\n",
       "      <th>29</th>\n",
       "      <td>2021-01-07</td>\n",
       "      <td>259</td>\n",
       "    </tr>\n",
       "    <tr>\n",
       "      <th>30</th>\n",
       "      <td>2021-01-08</td>\n",
       "      <td>253</td>\n",
       "    </tr>\n",
       "    <tr>\n",
       "      <th>31</th>\n",
       "      <td>2021-01-09</td>\n",
       "      <td>214</td>\n",
       "    </tr>\n",
       "    <tr>\n",
       "      <th>32</th>\n",
       "      <td>2021-01-10</td>\n",
       "      <td>282</td>\n",
       "    </tr>\n",
       "    <tr>\n",
       "      <th>33</th>\n",
       "      <td>2021-01-11</td>\n",
       "      <td>531</td>\n",
       "    </tr>\n",
       "    <tr>\n",
       "      <th>34</th>\n",
       "      <td>2021-01-12</td>\n",
       "      <td>563</td>\n",
       "    </tr>\n",
       "    <tr>\n",
       "      <th>35</th>\n",
       "      <td>2021-01-13</td>\n",
       "      <td>432</td>\n",
       "    </tr>\n",
       "    <tr>\n",
       "      <th>36</th>\n",
       "      <td>2021-01-14</td>\n",
       "      <td>368</td>\n",
       "    </tr>\n",
       "    <tr>\n",
       "      <th>37</th>\n",
       "      <td>2021-01-15</td>\n",
       "      <td>316</td>\n",
       "    </tr>\n",
       "    <tr>\n",
       "      <th>38</th>\n",
       "      <td>2021-01-16</td>\n",
       "      <td>199</td>\n",
       "    </tr>\n",
       "    <tr>\n",
       "      <th>39</th>\n",
       "      <td>2021-01-17</td>\n",
       "      <td>164</td>\n",
       "    </tr>\n",
       "    <tr>\n",
       "      <th>40</th>\n",
       "      <td>2021-01-18</td>\n",
       "      <td>298</td>\n",
       "    </tr>\n",
       "    <tr>\n",
       "      <th>41</th>\n",
       "      <td>2021-01-19</td>\n",
       "      <td>514</td>\n",
       "    </tr>\n",
       "    <tr>\n",
       "      <th>42</th>\n",
       "      <td>2021-01-20</td>\n",
       "      <td>318</td>\n",
       "    </tr>\n",
       "    <tr>\n",
       "      <th>43</th>\n",
       "      <td>2021-01-21</td>\n",
       "      <td>255</td>\n",
       "    </tr>\n",
       "    <tr>\n",
       "      <th>44</th>\n",
       "      <td>2021-01-22</td>\n",
       "      <td>231</td>\n",
       "    </tr>\n",
       "    <tr>\n",
       "      <th>45</th>\n",
       "      <td>2021-01-23</td>\n",
       "      <td>233</td>\n",
       "    </tr>\n",
       "    <tr>\n",
       "      <th>46</th>\n",
       "      <td>2021-01-24</td>\n",
       "      <td>146</td>\n",
       "    </tr>\n",
       "    <tr>\n",
       "      <th>47</th>\n",
       "      <td>2021-01-25</td>\n",
       "      <td>413</td>\n",
       "    </tr>\n",
       "    <tr>\n",
       "      <th>48</th>\n",
       "      <td>2021-01-26</td>\n",
       "      <td>249</td>\n",
       "    </tr>\n",
       "    <tr>\n",
       "      <th>49</th>\n",
       "      <td>2021-01-27</td>\n",
       "      <td>210</td>\n",
       "    </tr>\n",
       "    <tr>\n",
       "      <th>50</th>\n",
       "      <td>2021-01-28</td>\n",
       "      <td>183</td>\n",
       "    </tr>\n",
       "    <tr>\n",
       "      <th>51</th>\n",
       "      <td>2021-01-29</td>\n",
       "      <td>241</td>\n",
       "    </tr>\n",
       "    <tr>\n",
       "      <th>52</th>\n",
       "      <td>2021-01-30</td>\n",
       "      <td>183</td>\n",
       "    </tr>\n",
       "    <tr>\n",
       "      <th>53</th>\n",
       "      <td>2021-01-31</td>\n",
       "      <td>160</td>\n",
       "    </tr>\n",
       "    <tr>\n",
       "      <th>54</th>\n",
       "      <td>2021-02-01</td>\n",
       "      <td>337</td>\n",
       "    </tr>\n",
       "    <tr>\n",
       "      <th>55</th>\n",
       "      <td>2021-02-02</td>\n",
       "      <td>420</td>\n",
       "    </tr>\n",
       "    <tr>\n",
       "      <th>56</th>\n",
       "      <td>2021-02-03</td>\n",
       "      <td>286</td>\n",
       "    </tr>\n",
       "  </tbody>\n",
       "</table>\n",
       "</div>"
      ],
      "text/plain": [
       "            dt  counts\n",
       "0   2020-12-09     543\n",
       "1   2020-12-10     297\n",
       "2   2020-12-11     351\n",
       "3   2020-12-12     151\n",
       "4   2020-12-13      99\n",
       "5   2020-12-14     510\n",
       "6   2020-12-15     228\n",
       "7   2020-12-16     206\n",
       "8   2020-12-17     190\n",
       "9   2020-12-18     154\n",
       "10  2020-12-19     131\n",
       "11  2020-12-20     118\n",
       "12  2020-12-21     286\n",
       "13  2020-12-22     234\n",
       "14  2020-12-23     178\n",
       "15  2020-12-24      99\n",
       "16  2020-12-25      61\n",
       "17  2020-12-26     129\n",
       "18  2020-12-27     108\n",
       "19  2020-12-28     444\n",
       "20  2020-12-29     356\n",
       "21  2020-12-30     319\n",
       "22  2020-12-31     276\n",
       "23  2021-01-01      51\n",
       "24  2021-01-02      99\n",
       "25  2021-01-03     112\n",
       "26  2021-01-04     577\n",
       "27  2021-01-05     485\n",
       "28  2021-01-06     313\n",
       "29  2021-01-07     259\n",
       "30  2021-01-08     253\n",
       "31  2021-01-09     214\n",
       "32  2021-01-10     282\n",
       "33  2021-01-11     531\n",
       "34  2021-01-12     563\n",
       "35  2021-01-13     432\n",
       "36  2021-01-14     368\n",
       "37  2021-01-15     316\n",
       "38  2021-01-16     199\n",
       "39  2021-01-17     164\n",
       "40  2021-01-18     298\n",
       "41  2021-01-19     514\n",
       "42  2021-01-20     318\n",
       "43  2021-01-21     255\n",
       "44  2021-01-22     231\n",
       "45  2021-01-23     233\n",
       "46  2021-01-24     146\n",
       "47  2021-01-25     413\n",
       "48  2021-01-26     249\n",
       "49  2021-01-27     210\n",
       "50  2021-01-28     183\n",
       "51  2021-01-29     241\n",
       "52  2021-01-30     183\n",
       "53  2021-01-31     160\n",
       "54  2021-02-01     337\n",
       "55  2021-02-02     420\n",
       "56  2021-02-03     286"
      ]
     },
     "execution_count": 47,
     "metadata": {},
     "output_type": "execute_result"
    }
   ],
   "source": [
    "data.groupby('dt')['dt'].count().reset_index(name='counts').sort_values('dt', ascending = True)"
   ]
  },
  {
   "cell_type": "markdown",
   "id": "718083b4",
   "metadata": {},
   "source": [
    "# Создаем новые переменные по age и salary"
   ]
  },
  {
   "cell_type": "code",
   "execution_count": 48,
   "id": "56e6180e",
   "metadata": {},
   "outputs": [
    {
     "data": {
      "text/html": [
       "<div>\n",
       "<style scoped>\n",
       "    .dataframe tbody tr th:only-of-type {\n",
       "        vertical-align: middle;\n",
       "    }\n",
       "\n",
       "    .dataframe tbody tr th {\n",
       "        vertical-align: top;\n",
       "    }\n",
       "\n",
       "    .dataframe thead th {\n",
       "        text-align: right;\n",
       "    }\n",
       "</style>\n",
       "<table border=\"1\" class=\"dataframe\">\n",
       "  <thead>\n",
       "    <tr style=\"text-align: right;\">\n",
       "      <th></th>\n",
       "      <th>fpd5_flg</th>\n",
       "      <th>gender</th>\n",
       "      <th>device_quaility_index</th>\n",
       "      <th>behavioral_index</th>\n",
       "      <th>age</th>\n",
       "      <th>salary</th>\n",
       "      <th>email_index</th>\n",
       "    </tr>\n",
       "  </thead>\n",
       "  <tbody>\n",
       "    <tr>\n",
       "      <th>count</th>\n",
       "      <td>15363.000</td>\n",
       "      <td>15363.000</td>\n",
       "      <td>14798.000</td>\n",
       "      <td>14798.000</td>\n",
       "      <td>15363.000</td>\n",
       "      <td>14649.000</td>\n",
       "      <td>15330.000</td>\n",
       "    </tr>\n",
       "    <tr>\n",
       "      <th>mean</th>\n",
       "      <td>0.273</td>\n",
       "      <td>0.629</td>\n",
       "      <td>2.370</td>\n",
       "      <td>4.051</td>\n",
       "      <td>35.136</td>\n",
       "      <td>126164.737</td>\n",
       "      <td>1.580</td>\n",
       "    </tr>\n",
       "    <tr>\n",
       "      <th>std</th>\n",
       "      <td>0.445</td>\n",
       "      <td>0.483</td>\n",
       "      <td>1.078</td>\n",
       "      <td>0.938</td>\n",
       "      <td>9.125</td>\n",
       "      <td>12393318.436</td>\n",
       "      <td>2.398</td>\n",
       "    </tr>\n",
       "    <tr>\n",
       "      <th>min</th>\n",
       "      <td>0.000</td>\n",
       "      <td>0.000</td>\n",
       "      <td>0.000</td>\n",
       "      <td>1.000</td>\n",
       "      <td>21.000</td>\n",
       "      <td>0.000</td>\n",
       "      <td>0.000</td>\n",
       "    </tr>\n",
       "    <tr>\n",
       "      <th>25%</th>\n",
       "      <td>0.000</td>\n",
       "      <td>0.000</td>\n",
       "      <td>2.000</td>\n",
       "      <td>3.000</td>\n",
       "      <td>28.000</td>\n",
       "      <td>15000.000</td>\n",
       "      <td>0.000</td>\n",
       "    </tr>\n",
       "    <tr>\n",
       "      <th>50%</th>\n",
       "      <td>0.000</td>\n",
       "      <td>1.000</td>\n",
       "      <td>3.000</td>\n",
       "      <td>4.000</td>\n",
       "      <td>34.000</td>\n",
       "      <td>20000.000</td>\n",
       "      <td>1.000</td>\n",
       "    </tr>\n",
       "    <tr>\n",
       "      <th>75%</th>\n",
       "      <td>1.000</td>\n",
       "      <td>1.000</td>\n",
       "      <td>3.000</td>\n",
       "      <td>5.000</td>\n",
       "      <td>41.000</td>\n",
       "      <td>26000.000</td>\n",
       "      <td>1.000</td>\n",
       "    </tr>\n",
       "    <tr>\n",
       "      <th>max</th>\n",
       "      <td>1.000</td>\n",
       "      <td>1.000</td>\n",
       "      <td>4.000</td>\n",
       "      <td>6.000</td>\n",
       "      <td>69.000</td>\n",
       "      <td>1500020000.000</td>\n",
       "      <td>12.000</td>\n",
       "    </tr>\n",
       "  </tbody>\n",
       "</table>\n",
       "</div>"
      ],
      "text/plain": [
       "       fpd5_flg    gender  device_quaility_index  behavioral_index       age  \\\n",
       "count 15363.000 15363.000              14798.000         14798.000 15363.000   \n",
       "mean      0.273     0.629                  2.370             4.051    35.136   \n",
       "std       0.445     0.483                  1.078             0.938     9.125   \n",
       "min       0.000     0.000                  0.000             1.000    21.000   \n",
       "25%       0.000     0.000                  2.000             3.000    28.000   \n",
       "50%       0.000     1.000                  3.000             4.000    34.000   \n",
       "75%       1.000     1.000                  3.000             5.000    41.000   \n",
       "max       1.000     1.000                  4.000             6.000    69.000   \n",
       "\n",
       "              salary  email_index  \n",
       "count      14649.000    15330.000  \n",
       "mean      126164.737        1.580  \n",
       "std     12393318.436        2.398  \n",
       "min            0.000        0.000  \n",
       "25%        15000.000        0.000  \n",
       "50%        20000.000        1.000  \n",
       "75%        26000.000        1.000  \n",
       "max   1500020000.000       12.000  "
      ]
     },
     "execution_count": 48,
     "metadata": {},
     "output_type": "execute_result"
    }
   ],
   "source": [
    "data.describe()"
   ]
  },
  {
   "cell_type": "code",
   "execution_count": 49,
   "id": "c45192a1",
   "metadata": {},
   "outputs": [],
   "source": [
    "data['salary_cat'] = 0\n",
    "data['age_cat'] = 0"
   ]
  },
  {
   "cell_type": "code",
   "execution_count": 50,
   "id": "7938ad21",
   "metadata": {},
   "outputs": [
    {
     "name": "stderr",
     "output_type": "stream",
     "text": [
      "C:\\Users\\75BD~1\\AppData\\Local\\Temp/ipykernel_4904/1396096759.py:1: SettingWithCopyWarning: \n",
      "A value is trying to be set on a copy of a slice from a DataFrame\n",
      "\n",
      "See the caveats in the documentation: https://pandas.pydata.org/pandas-docs/stable/user_guide/indexing.html#returning-a-view-versus-a-copy\n",
      "  data['salary_cat'][(data['salary'] >= 0) & (data['salary'] < 15000)] = 1\n",
      "C:\\Users\\75BD~1\\AppData\\Local\\Temp/ipykernel_4904/1396096759.py:2: SettingWithCopyWarning: \n",
      "A value is trying to be set on a copy of a slice from a DataFrame\n",
      "\n",
      "See the caveats in the documentation: https://pandas.pydata.org/pandas-docs/stable/user_guide/indexing.html#returning-a-view-versus-a-copy\n",
      "  data['salary_cat'][(data['salary'] >= 15000) & (data['salary'] < 20000)] = 2\n",
      "C:\\Users\\75BD~1\\AppData\\Local\\Temp/ipykernel_4904/1396096759.py:3: SettingWithCopyWarning: \n",
      "A value is trying to be set on a copy of a slice from a DataFrame\n",
      "\n",
      "See the caveats in the documentation: https://pandas.pydata.org/pandas-docs/stable/user_guide/indexing.html#returning-a-view-versus-a-copy\n",
      "  data['salary_cat'][(data['salary'] >= 20000) & (data['salary'] < 26000)] = 3\n",
      "C:\\Users\\75BD~1\\AppData\\Local\\Temp/ipykernel_4904/1396096759.py:4: SettingWithCopyWarning: \n",
      "A value is trying to be set on a copy of a slice from a DataFrame\n",
      "\n",
      "See the caveats in the documentation: https://pandas.pydata.org/pandas-docs/stable/user_guide/indexing.html#returning-a-view-versus-a-copy\n",
      "  data['salary_cat'][(data['salary'] >= 26000) & (data['salary'] < 400000)] = 5\n",
      "C:\\Users\\75BD~1\\AppData\\Local\\Temp/ipykernel_4904/1396096759.py:5: SettingWithCopyWarning: \n",
      "A value is trying to be set on a copy of a slice from a DataFrame\n",
      "\n",
      "See the caveats in the documentation: https://pandas.pydata.org/pandas-docs/stable/user_guide/indexing.html#returning-a-view-versus-a-copy\n",
      "  data['salary_cat'][(data['salary'] >= 400000) | (data['salary'].isna())] = 4\n"
     ]
    }
   ],
   "source": [
    "data['salary_cat'][(data['salary'] >= 0) & (data['salary'] < 15000)] = 1\n",
    "data['salary_cat'][(data['salary'] >= 15000) & (data['salary'] < 20000)] = 2\n",
    "data['salary_cat'][(data['salary'] >= 20000) & (data['salary'] < 26000)] = 3\n",
    "data['salary_cat'][(data['salary'] >= 26000) & (data['salary'] < 400000)] = 5\n",
    "data['salary_cat'][(data['salary'] >= 400000) | (data['salary'].isna())] = 4"
   ]
  },
  {
   "cell_type": "code",
   "execution_count": 51,
   "id": "f1b6b107",
   "metadata": {},
   "outputs": [
    {
     "name": "stderr",
     "output_type": "stream",
     "text": [
      "C:\\Users\\75BD~1\\AppData\\Local\\Temp/ipykernel_4904/1334996085.py:1: SettingWithCopyWarning: \n",
      "A value is trying to be set on a copy of a slice from a DataFrame\n",
      "\n",
      "See the caveats in the documentation: https://pandas.pydata.org/pandas-docs/stable/user_guide/indexing.html#returning-a-view-versus-a-copy\n",
      "  data['age_cat'][(data['age'] >= 21) & (data['age'] < 28)] = 1\n",
      "C:\\Users\\75BD~1\\AppData\\Local\\Temp/ipykernel_4904/1334996085.py:2: SettingWithCopyWarning: \n",
      "A value is trying to be set on a copy of a slice from a DataFrame\n",
      "\n",
      "See the caveats in the documentation: https://pandas.pydata.org/pandas-docs/stable/user_guide/indexing.html#returning-a-view-versus-a-copy\n",
      "  data['age_cat'][(data['age'] >= 28) & (data['age'] < 34)] = 2\n",
      "C:\\Users\\75BD~1\\AppData\\Local\\Temp/ipykernel_4904/1334996085.py:3: SettingWithCopyWarning: \n",
      "A value is trying to be set on a copy of a slice from a DataFrame\n",
      "\n",
      "See the caveats in the documentation: https://pandas.pydata.org/pandas-docs/stable/user_guide/indexing.html#returning-a-view-versus-a-copy\n",
      "  data['age_cat'][(data['age'] >= 34) & (data['age'] < 41)] = 3\n",
      "C:\\Users\\75BD~1\\AppData\\Local\\Temp/ipykernel_4904/1334996085.py:4: SettingWithCopyWarning: \n",
      "A value is trying to be set on a copy of a slice from a DataFrame\n",
      "\n",
      "See the caveats in the documentation: https://pandas.pydata.org/pandas-docs/stable/user_guide/indexing.html#returning-a-view-versus-a-copy\n",
      "  data['age_cat'][(data['age'] >= 41) & (data['age'] <= 69)] = 4\n",
      "C:\\Users\\75BD~1\\AppData\\Local\\Temp/ipykernel_4904/1334996085.py:5: SettingWithCopyWarning: \n",
      "A value is trying to be set on a copy of a slice from a DataFrame\n",
      "\n",
      "See the caveats in the documentation: https://pandas.pydata.org/pandas-docs/stable/user_guide/indexing.html#returning-a-view-versus-a-copy\n",
      "  data['age_cat'][(data['age'] >= 70) | (data['age'].isna())] = 5\n"
     ]
    }
   ],
   "source": [
    "data['age_cat'][(data['age'] >= 21) & (data['age'] < 28)] = 1\n",
    "data['age_cat'][(data['age'] >= 28) & (data['age'] < 34)] = 2\n",
    "data['age_cat'][(data['age'] >= 34) & (data['age'] < 41)] = 3\n",
    "data['age_cat'][(data['age'] >= 41) & (data['age'] <= 69)] = 4\n",
    "data['age_cat'][(data['age'] >= 70) | (data['age'].isna())] = 5"
   ]
  },
  {
   "cell_type": "code",
   "execution_count": 52,
   "id": "4b0a0b11",
   "metadata": {},
   "outputs": [
    {
     "data": {
      "text/html": [
       "<div>\n",
       "<style scoped>\n",
       "    .dataframe tbody tr th:only-of-type {\n",
       "        vertical-align: middle;\n",
       "    }\n",
       "\n",
       "    .dataframe tbody tr th {\n",
       "        vertical-align: top;\n",
       "    }\n",
       "\n",
       "    .dataframe thead th {\n",
       "        text-align: right;\n",
       "    }\n",
       "</style>\n",
       "<table border=\"1\" class=\"dataframe\">\n",
       "  <thead>\n",
       "    <tr style=\"text-align: right;\">\n",
       "      <th></th>\n",
       "      <th>fpd5_flg</th>\n",
       "      <th>dt</th>\n",
       "      <th>gender</th>\n",
       "      <th>device_quaility_index</th>\n",
       "      <th>behavioral_index</th>\n",
       "      <th>type_of_document</th>\n",
       "      <th>age</th>\n",
       "      <th>email_domain_formatted</th>\n",
       "      <th>social_status</th>\n",
       "      <th>salary</th>\n",
       "      <th>disbursment_type</th>\n",
       "      <th>os</th>\n",
       "      <th>email_index</th>\n",
       "      <th>salary_cat</th>\n",
       "      <th>age_cat</th>\n",
       "    </tr>\n",
       "  </thead>\n",
       "  <tbody>\n",
       "  </tbody>\n",
       "</table>\n",
       "</div>"
      ],
      "text/plain": [
       "Empty DataFrame\n",
       "Columns: [fpd5_flg, dt, gender, device_quaility_index, behavioral_index, type_of_document, age, email_domain_formatted, social_status, salary, disbursment_type, os, email_index, salary_cat, age_cat]\n",
       "Index: []"
      ]
     },
     "execution_count": 52,
     "metadata": {},
     "output_type": "execute_result"
    }
   ],
   "source": [
    "data[data['age_cat'] == 5]"
   ]
  },
  {
   "cell_type": "markdown",
   "id": "28fa460c",
   "metadata": {},
   "source": [
    "# WOE и IV"
   ]
  },
  {
   "cell_type": "code",
   "execution_count": 53,
   "id": "756edd2c",
   "metadata": {},
   "outputs": [
    {
     "data": {
      "text/plain": [
       "fpd5_flg                    int64\n",
       "dt                         object\n",
       "gender                      int64\n",
       "device_quaility_index     float64\n",
       "behavioral_index          float64\n",
       "type_of_document           object\n",
       "age                         int64\n",
       "email_domain_formatted     object\n",
       "social_status              object\n",
       "salary                    float64\n",
       "disbursment_type           object\n",
       "os                         object\n",
       "email_index               float64\n",
       "salary_cat                  int64\n",
       "age_cat                     int64\n",
       "dtype: object"
      ]
     },
     "execution_count": 53,
     "metadata": {},
     "output_type": "execute_result"
    }
   ],
   "source": [
    "data.dtypes"
   ]
  },
  {
   "cell_type": "code",
   "execution_count": 54,
   "id": "4be7c4dd",
   "metadata": {},
   "outputs": [
    {
     "data": {
      "text/html": [
       "<div>\n",
       "<style scoped>\n",
       "    .dataframe tbody tr th:only-of-type {\n",
       "        vertical-align: middle;\n",
       "    }\n",
       "\n",
       "    .dataframe tbody tr th {\n",
       "        vertical-align: top;\n",
       "    }\n",
       "\n",
       "    .dataframe thead th {\n",
       "        text-align: right;\n",
       "    }\n",
       "</style>\n",
       "<table border=\"1\" class=\"dataframe\">\n",
       "  <thead>\n",
       "    <tr style=\"text-align: right;\">\n",
       "      <th></th>\n",
       "      <th>fpd5_flg</th>\n",
       "      <th>dt</th>\n",
       "      <th>gender</th>\n",
       "      <th>device_quaility_index</th>\n",
       "      <th>behavioral_index</th>\n",
       "      <th>type_of_document</th>\n",
       "      <th>age</th>\n",
       "      <th>email_domain_formatted</th>\n",
       "      <th>social_status</th>\n",
       "      <th>salary</th>\n",
       "      <th>disbursment_type</th>\n",
       "      <th>os</th>\n",
       "      <th>email_index</th>\n",
       "      <th>salary_cat</th>\n",
       "      <th>age_cat</th>\n",
       "    </tr>\n",
       "  </thead>\n",
       "  <tbody>\n",
       "    <tr>\n",
       "      <th>0</th>\n",
       "      <td>0</td>\n",
       "      <td>2021-01-22</td>\n",
       "      <td>0</td>\n",
       "      <td>NaN</td>\n",
       "      <td>NaN</td>\n",
       "      <td>UMID</td>\n",
       "      <td>26</td>\n",
       "      <td>GMAIL.COM</td>\n",
       "      <td>Private Company Employee</td>\n",
       "      <td>20000.000</td>\n",
       "      <td>Bank</td>\n",
       "      <td>Android</td>\n",
       "      <td>0.000</td>\n",
       "      <td>3</td>\n",
       "      <td>1</td>\n",
       "    </tr>\n",
       "    <tr>\n",
       "      <th>1</th>\n",
       "      <td>0</td>\n",
       "      <td>2020-12-14</td>\n",
       "      <td>1</td>\n",
       "      <td>3.000</td>\n",
       "      <td>4.000</td>\n",
       "      <td>UMID</td>\n",
       "      <td>32</td>\n",
       "      <td>GMAIL.COM</td>\n",
       "      <td>Other</td>\n",
       "      <td>18000.000</td>\n",
       "      <td>E-wallet</td>\n",
       "      <td>Android</td>\n",
       "      <td>1.000</td>\n",
       "      <td>2</td>\n",
       "      <td>2</td>\n",
       "    </tr>\n",
       "  </tbody>\n",
       "</table>\n",
       "</div>"
      ],
      "text/plain": [
       "   fpd5_flg          dt  gender  device_quaility_index  behavioral_index  \\\n",
       "0         0  2021-01-22       0                    NaN               NaN   \n",
       "1         0  2020-12-14       1                  3.000             4.000   \n",
       "\n",
       "  type_of_document  age email_domain_formatted             social_status  \\\n",
       "0             UMID   26              GMAIL.COM  Private Company Employee   \n",
       "1             UMID   32              GMAIL.COM                     Other   \n",
       "\n",
       "     salary disbursment_type       os  email_index  salary_cat  age_cat  \n",
       "0 20000.000             Bank  Android        0.000           3        1  \n",
       "1 18000.000         E-wallet  Android        1.000           2        2  "
      ]
     },
     "execution_count": 54,
     "metadata": {},
     "output_type": "execute_result"
    }
   ],
   "source": [
    "data.head(2)"
   ]
  },
  {
   "cell_type": "code",
   "execution_count": 55,
   "id": "4bfb8105",
   "metadata": {},
   "outputs": [],
   "source": [
    "# категориальные переменные:\n",
    "# gender, device_quaility_index, behavioral_index, type_of_document, social_status, 'disbursment_type', 'os', 'email_index'"
   ]
  },
  {
   "cell_type": "code",
   "execution_count": 56,
   "id": "42a17d04",
   "metadata": {},
   "outputs": [],
   "source": [
    "nominal_inputs = ['gender', 'device_quaility_index', 'behavioral_index', 'type_of_document', 'social_status',\n",
    "                  'disbursment_type', 'os', 'email_index']\n",
    "cont_inputs = ['age', 'salary']\n",
    "target = 'target'"
   ]
  },
  {
   "cell_type": "code",
   "execution_count": 57,
   "id": "396f450c",
   "metadata": {},
   "outputs": [],
   "source": [
    "def WoE_categorial(data, categorial_value):\n",
    "    WoE = pd.crosstab(data[categorial_value].fillna('missing'), data['fpd5_flg'])\n",
    "    WoE.columns = ('Not-event', 'Event')\n",
    "    WoE['% Not-event'] = round(WoE['Not-event']/WoE['Not-event'].sum(), 3)\n",
    "    WoE['% Event'] = round(WoE['Event']/WoE_gender['Event'].sum(), 3)\n",
    "    WoE['WoE'] = round(np.log(WoE['% Not-event']/WoE['% Event']), 3)\n",
    "    WoE['IV'] = round((WoE['% Not-event'] - WoE['% Event']) * WoE['WoE'], 3)\n",
    "    WoE['IV'] = WoE['IV'].replace([np.inf, -np.inf], 0) # Заменяем inf на 0\n",
    "    WoE['share_bin'] = round((WoE['Not-event'] + WoE['Event']) / len(data), 3)\n",
    "    return WoE.sort_values('WoE')"
   ]
  },
  {
   "cell_type": "code",
   "execution_count": 58,
   "id": "9c4e6cf9",
   "metadata": {},
   "outputs": [
    {
     "data": {
      "text/html": [
       "<div>\n",
       "<style scoped>\n",
       "    .dataframe tbody tr th:only-of-type {\n",
       "        vertical-align: middle;\n",
       "    }\n",
       "\n",
       "    .dataframe tbody tr th {\n",
       "        vertical-align: top;\n",
       "    }\n",
       "\n",
       "    .dataframe thead th {\n",
       "        text-align: right;\n",
       "    }\n",
       "</style>\n",
       "<table border=\"1\" class=\"dataframe\">\n",
       "  <thead>\n",
       "    <tr style=\"text-align: right;\">\n",
       "      <th></th>\n",
       "      <th>Not-event</th>\n",
       "      <th>Event</th>\n",
       "      <th>% Not-event</th>\n",
       "      <th>% Event</th>\n",
       "      <th>WoE</th>\n",
       "      <th>IV</th>\n",
       "    </tr>\n",
       "    <tr>\n",
       "      <th>gender</th>\n",
       "      <th></th>\n",
       "      <th></th>\n",
       "      <th></th>\n",
       "      <th></th>\n",
       "      <th></th>\n",
       "      <th></th>\n",
       "    </tr>\n",
       "  </thead>\n",
       "  <tbody>\n",
       "    <tr>\n",
       "      <th>0</th>\n",
       "      <td>3948</td>\n",
       "      <td>1750</td>\n",
       "      <td>0.353</td>\n",
       "      <td>0.418</td>\n",
       "      <td>-0.167</td>\n",
       "      <td>0.011</td>\n",
       "    </tr>\n",
       "    <tr>\n",
       "      <th>1</th>\n",
       "      <td>7224</td>\n",
       "      <td>2441</td>\n",
       "      <td>0.647</td>\n",
       "      <td>0.582</td>\n",
       "      <td>0.105</td>\n",
       "      <td>0.007</td>\n",
       "    </tr>\n",
       "  </tbody>\n",
       "</table>\n",
       "</div>"
      ],
      "text/plain": [
       "        Not-event  Event  % Not-event  % Event    WoE    IV\n",
       "gender                                                     \n",
       "0            3948   1750        0.353    0.418 -0.167 0.011\n",
       "1            7224   2441        0.647    0.582  0.105 0.007"
      ]
     },
     "execution_count": 58,
     "metadata": {},
     "output_type": "execute_result"
    }
   ],
   "source": [
    "WoE_gender = pd.crosstab(data[\"gender\"], data[\"fpd5_flg\"])\n",
    "WoE_gender.columns = ('Not-event', 'Event')\n",
    "WoE_gender['% Not-event'] = WoE_gender['Not-event']/WoE_gender['Not-event'].sum()\n",
    "WoE_gender['% Event'] = WoE_gender['Event']/WoE_gender['Event'].sum()\n",
    "WoE_gender['WoE'] = np.log(WoE_gender['% Not-event']/WoE_gender['% Event'])\n",
    "WoE_gender['IV'] = (WoE_gender['% Not-event'] - WoE_gender['% Event']) * WoE_gender['WoE']\n",
    "WoE_gender"
   ]
  },
  {
   "cell_type": "code",
   "execution_count": 59,
   "id": "e360a3e2",
   "metadata": {},
   "outputs": [
    {
     "data": {
      "text/html": [
       "<div>\n",
       "<style scoped>\n",
       "    .dataframe tbody tr th:only-of-type {\n",
       "        vertical-align: middle;\n",
       "    }\n",
       "\n",
       "    .dataframe tbody tr th {\n",
       "        vertical-align: top;\n",
       "    }\n",
       "\n",
       "    .dataframe thead th {\n",
       "        text-align: right;\n",
       "    }\n",
       "</style>\n",
       "<table border=\"1\" class=\"dataframe\">\n",
       "  <thead>\n",
       "    <tr style=\"text-align: right;\">\n",
       "      <th></th>\n",
       "      <th>Not-event</th>\n",
       "      <th>Event</th>\n",
       "      <th>% Not-event</th>\n",
       "      <th>% Event</th>\n",
       "      <th>WoE</th>\n",
       "      <th>IV</th>\n",
       "      <th>share_bin</th>\n",
       "    </tr>\n",
       "    <tr>\n",
       "      <th>gender</th>\n",
       "      <th></th>\n",
       "      <th></th>\n",
       "      <th></th>\n",
       "      <th></th>\n",
       "      <th></th>\n",
       "      <th></th>\n",
       "      <th></th>\n",
       "    </tr>\n",
       "  </thead>\n",
       "  <tbody>\n",
       "    <tr>\n",
       "      <th>0</th>\n",
       "      <td>3948</td>\n",
       "      <td>1750</td>\n",
       "      <td>0.353</td>\n",
       "      <td>0.418</td>\n",
       "      <td>-0.169</td>\n",
       "      <td>0.011</td>\n",
       "      <td>0.371</td>\n",
       "    </tr>\n",
       "    <tr>\n",
       "      <th>1</th>\n",
       "      <td>7224</td>\n",
       "      <td>2441</td>\n",
       "      <td>0.647</td>\n",
       "      <td>0.582</td>\n",
       "      <td>0.106</td>\n",
       "      <td>0.007</td>\n",
       "      <td>0.629</td>\n",
       "    </tr>\n",
       "  </tbody>\n",
       "</table>\n",
       "</div>"
      ],
      "text/plain": [
       "        Not-event  Event  % Not-event  % Event    WoE    IV  share_bin\n",
       "gender                                                                \n",
       "0            3948   1750        0.353    0.418 -0.169 0.011      0.371\n",
       "1            7224   2441        0.647    0.582  0.106 0.007      0.629"
      ]
     },
     "execution_count": 59,
     "metadata": {},
     "output_type": "execute_result"
    }
   ],
   "source": [
    "WoE_categorial(data, 'gender')"
   ]
  },
  {
   "cell_type": "code",
   "execution_count": 60,
   "id": "c9eff826",
   "metadata": {},
   "outputs": [
    {
     "data": {
      "text/plain": [
       "0.018"
      ]
     },
     "execution_count": 60,
     "metadata": {},
     "output_type": "execute_result"
    }
   ],
   "source": [
    "WoE_categorial(data, 'gender')['IV'].sum()"
   ]
  },
  {
   "cell_type": "code",
   "execution_count": 61,
   "id": "2c56a945",
   "metadata": {},
   "outputs": [
    {
     "data": {
      "text/html": [
       "<div>\n",
       "<style scoped>\n",
       "    .dataframe tbody tr th:only-of-type {\n",
       "        vertical-align: middle;\n",
       "    }\n",
       "\n",
       "    .dataframe tbody tr th {\n",
       "        vertical-align: top;\n",
       "    }\n",
       "\n",
       "    .dataframe thead th {\n",
       "        text-align: right;\n",
       "    }\n",
       "</style>\n",
       "<table border=\"1\" class=\"dataframe\">\n",
       "  <thead>\n",
       "    <tr style=\"text-align: right;\">\n",
       "      <th></th>\n",
       "      <th>Not-event</th>\n",
       "      <th>Event</th>\n",
       "      <th>% Not-event</th>\n",
       "      <th>% Event</th>\n",
       "      <th>WoE</th>\n",
       "      <th>IV</th>\n",
       "      <th>share_bin</th>\n",
       "    </tr>\n",
       "    <tr>\n",
       "      <th>device_quaility_index</th>\n",
       "      <th></th>\n",
       "      <th></th>\n",
       "      <th></th>\n",
       "      <th></th>\n",
       "      <th></th>\n",
       "      <th></th>\n",
       "      <th></th>\n",
       "    </tr>\n",
       "  </thead>\n",
       "  <tbody>\n",
       "    <tr>\n",
       "      <th>0.0</th>\n",
       "      <td>751</td>\n",
       "      <td>371</td>\n",
       "      <td>0.067</td>\n",
       "      <td>0.089</td>\n",
       "      <td>-0.284</td>\n",
       "      <td>0.006</td>\n",
       "      <td>0.073</td>\n",
       "    </tr>\n",
       "    <tr>\n",
       "      <th>2.0</th>\n",
       "      <td>1618</td>\n",
       "      <td>719</td>\n",
       "      <td>0.145</td>\n",
       "      <td>0.172</td>\n",
       "      <td>-0.171</td>\n",
       "      <td>0.005</td>\n",
       "      <td>0.152</td>\n",
       "    </tr>\n",
       "    <tr>\n",
       "      <th>missing</th>\n",
       "      <td>399</td>\n",
       "      <td>166</td>\n",
       "      <td>0.036</td>\n",
       "      <td>0.040</td>\n",
       "      <td>-0.105</td>\n",
       "      <td>0.000</td>\n",
       "      <td>0.037</td>\n",
       "    </tr>\n",
       "    <tr>\n",
       "      <th>1.0</th>\n",
       "      <td>1683</td>\n",
       "      <td>691</td>\n",
       "      <td>0.151</td>\n",
       "      <td>0.165</td>\n",
       "      <td>-0.089</td>\n",
       "      <td>0.001</td>\n",
       "      <td>0.155</td>\n",
       "    </tr>\n",
       "    <tr>\n",
       "      <th>3.0</th>\n",
       "      <td>5819</td>\n",
       "      <td>2018</td>\n",
       "      <td>0.521</td>\n",
       "      <td>0.482</td>\n",
       "      <td>0.078</td>\n",
       "      <td>0.003</td>\n",
       "      <td>0.510</td>\n",
       "    </tr>\n",
       "    <tr>\n",
       "      <th>4.0</th>\n",
       "      <td>902</td>\n",
       "      <td>226</td>\n",
       "      <td>0.081</td>\n",
       "      <td>0.054</td>\n",
       "      <td>0.405</td>\n",
       "      <td>0.011</td>\n",
       "      <td>0.073</td>\n",
       "    </tr>\n",
       "  </tbody>\n",
       "</table>\n",
       "</div>"
      ],
      "text/plain": [
       "                       Not-event  Event  % Not-event  % Event    WoE    IV  \\\n",
       "device_quaility_index                                                        \n",
       "0.0                          751    371        0.067    0.089 -0.284 0.006   \n",
       "2.0                         1618    719        0.145    0.172 -0.171 0.005   \n",
       "missing                      399    166        0.036    0.040 -0.105 0.000   \n",
       "1.0                         1683    691        0.151    0.165 -0.089 0.001   \n",
       "3.0                         5819   2018        0.521    0.482  0.078 0.003   \n",
       "4.0                          902    226        0.081    0.054  0.405 0.011   \n",
       "\n",
       "                       share_bin  \n",
       "device_quaility_index             \n",
       "0.0                        0.073  \n",
       "2.0                        0.152  \n",
       "missing                    0.037  \n",
       "1.0                        0.155  \n",
       "3.0                        0.510  \n",
       "4.0                        0.073  "
      ]
     },
     "execution_count": 61,
     "metadata": {},
     "output_type": "execute_result"
    }
   ],
   "source": [
    "WoE_categorial(data, 'device_quaility_index')"
   ]
  },
  {
   "cell_type": "code",
   "execution_count": 62,
   "id": "21760491",
   "metadata": {},
   "outputs": [
    {
     "data": {
      "text/plain": [
       "0.026"
      ]
     },
     "execution_count": 62,
     "metadata": {},
     "output_type": "execute_result"
    }
   ],
   "source": [
    "WoE_categorial(data, 'device_quaility_index')['IV'].sum()"
   ]
  },
  {
   "cell_type": "code",
   "execution_count": 63,
   "id": "459681c8",
   "metadata": {},
   "outputs": [
    {
     "name": "stderr",
     "output_type": "stream",
     "text": [
      "C:\\Users\\75BD~1\\AppData\\Local\\Temp/ipykernel_4904/2369583151.py:3: SettingWithCopyWarning: \n",
      "A value is trying to be set on a copy of a slice from a DataFrame\n",
      "\n",
      "See the caveats in the documentation: https://pandas.pydata.org/pandas-docs/stable/user_guide/indexing.html#returning-a-view-versus-a-copy\n",
      "  data['device_cat'][(data['device_quaility_index'] == 0)] = 1\n",
      "C:\\Users\\75BD~1\\AppData\\Local\\Temp/ipykernel_4904/2369583151.py:4: SettingWithCopyWarning: \n",
      "A value is trying to be set on a copy of a slice from a DataFrame\n",
      "\n",
      "See the caveats in the documentation: https://pandas.pydata.org/pandas-docs/stable/user_guide/indexing.html#returning-a-view-versus-a-copy\n",
      "  data['device_cat'][(data['device_quaility_index'] == 2) | (data['device_quaility_index'].isna())] = 2\n",
      "C:\\Users\\75BD~1\\AppData\\Local\\Temp/ipykernel_4904/2369583151.py:5: SettingWithCopyWarning: \n",
      "A value is trying to be set on a copy of a slice from a DataFrame\n",
      "\n",
      "See the caveats in the documentation: https://pandas.pydata.org/pandas-docs/stable/user_guide/indexing.html#returning-a-view-versus-a-copy\n",
      "  data['device_cat'][(data['device_quaility_index'] == 1)] = 3\n",
      "C:\\Users\\75BD~1\\AppData\\Local\\Temp/ipykernel_4904/2369583151.py:6: SettingWithCopyWarning: \n",
      "A value is trying to be set on a copy of a slice from a DataFrame\n",
      "\n",
      "See the caveats in the documentation: https://pandas.pydata.org/pandas-docs/stable/user_guide/indexing.html#returning-a-view-versus-a-copy\n",
      "  data['device_cat'][(data['device_quaility_index'] == 3)] = 4\n",
      "C:\\Users\\75BD~1\\AppData\\Local\\Temp/ipykernel_4904/2369583151.py:7: SettingWithCopyWarning: \n",
      "A value is trying to be set on a copy of a slice from a DataFrame\n",
      "\n",
      "See the caveats in the documentation: https://pandas.pydata.org/pandas-docs/stable/user_guide/indexing.html#returning-a-view-versus-a-copy\n",
      "  data['device_cat'][(data['device_quaility_index'] == 4)] = 5\n"
     ]
    }
   ],
   "source": [
    "data['device_cat'] = 0\n",
    "\n",
    "data['device_cat'][(data['device_quaility_index'] == 0)] = 1\n",
    "data['device_cat'][(data['device_quaility_index'] == 2) | (data['device_quaility_index'].isna())] = 2\n",
    "data['device_cat'][(data['device_quaility_index'] == 1)] = 3\n",
    "data['device_cat'][(data['device_quaility_index'] == 3)] = 4\n",
    "data['device_cat'][(data['device_quaility_index'] == 4)] = 5"
   ]
  },
  {
   "cell_type": "code",
   "execution_count": 64,
   "id": "32f92c0e",
   "metadata": {
    "scrolled": true
   },
   "outputs": [
    {
     "data": {
      "text/html": [
       "<div>\n",
       "<style scoped>\n",
       "    .dataframe tbody tr th:only-of-type {\n",
       "        vertical-align: middle;\n",
       "    }\n",
       "\n",
       "    .dataframe tbody tr th {\n",
       "        vertical-align: top;\n",
       "    }\n",
       "\n",
       "    .dataframe thead th {\n",
       "        text-align: right;\n",
       "    }\n",
       "</style>\n",
       "<table border=\"1\" class=\"dataframe\">\n",
       "  <thead>\n",
       "    <tr style=\"text-align: right;\">\n",
       "      <th></th>\n",
       "      <th>Not-event</th>\n",
       "      <th>Event</th>\n",
       "      <th>% Not-event</th>\n",
       "      <th>% Event</th>\n",
       "      <th>WoE</th>\n",
       "      <th>IV</th>\n",
       "      <th>share_bin</th>\n",
       "    </tr>\n",
       "    <tr>\n",
       "      <th>device_cat</th>\n",
       "      <th></th>\n",
       "      <th></th>\n",
       "      <th></th>\n",
       "      <th></th>\n",
       "      <th></th>\n",
       "      <th></th>\n",
       "      <th></th>\n",
       "    </tr>\n",
       "  </thead>\n",
       "  <tbody>\n",
       "    <tr>\n",
       "      <th>1</th>\n",
       "      <td>751</td>\n",
       "      <td>371</td>\n",
       "      <td>0.067</td>\n",
       "      <td>0.089</td>\n",
       "      <td>-0.284</td>\n",
       "      <td>0.006</td>\n",
       "      <td>0.073</td>\n",
       "    </tr>\n",
       "    <tr>\n",
       "      <th>2</th>\n",
       "      <td>2017</td>\n",
       "      <td>885</td>\n",
       "      <td>0.181</td>\n",
       "      <td>0.211</td>\n",
       "      <td>-0.153</td>\n",
       "      <td>0.005</td>\n",
       "      <td>0.189</td>\n",
       "    </tr>\n",
       "    <tr>\n",
       "      <th>3</th>\n",
       "      <td>1683</td>\n",
       "      <td>691</td>\n",
       "      <td>0.151</td>\n",
       "      <td>0.165</td>\n",
       "      <td>-0.089</td>\n",
       "      <td>0.001</td>\n",
       "      <td>0.155</td>\n",
       "    </tr>\n",
       "    <tr>\n",
       "      <th>4</th>\n",
       "      <td>5819</td>\n",
       "      <td>2018</td>\n",
       "      <td>0.521</td>\n",
       "      <td>0.482</td>\n",
       "      <td>0.078</td>\n",
       "      <td>0.003</td>\n",
       "      <td>0.510</td>\n",
       "    </tr>\n",
       "    <tr>\n",
       "      <th>5</th>\n",
       "      <td>902</td>\n",
       "      <td>226</td>\n",
       "      <td>0.081</td>\n",
       "      <td>0.054</td>\n",
       "      <td>0.405</td>\n",
       "      <td>0.011</td>\n",
       "      <td>0.073</td>\n",
       "    </tr>\n",
       "  </tbody>\n",
       "</table>\n",
       "</div>"
      ],
      "text/plain": [
       "            Not-event  Event  % Not-event  % Event    WoE    IV  share_bin\n",
       "device_cat                                                                \n",
       "1                 751    371        0.067    0.089 -0.284 0.006      0.073\n",
       "2                2017    885        0.181    0.211 -0.153 0.005      0.189\n",
       "3                1683    691        0.151    0.165 -0.089 0.001      0.155\n",
       "4                5819   2018        0.521    0.482  0.078 0.003      0.510\n",
       "5                 902    226        0.081    0.054  0.405 0.011      0.073"
      ]
     },
     "execution_count": 64,
     "metadata": {},
     "output_type": "execute_result"
    }
   ],
   "source": [
    "WoE_categorial(data, 'device_cat')"
   ]
  },
  {
   "cell_type": "code",
   "execution_count": 65,
   "id": "2ae8adca",
   "metadata": {},
   "outputs": [
    {
     "data": {
      "text/plain": [
       "0.026"
      ]
     },
     "execution_count": 65,
     "metadata": {},
     "output_type": "execute_result"
    }
   ],
   "source": [
    "WoE_categorial(data, 'device_cat')['IV'].sum()"
   ]
  },
  {
   "cell_type": "code",
   "execution_count": 66,
   "id": "2db06bf9",
   "metadata": {},
   "outputs": [
    {
     "data": {
      "text/html": [
       "<div>\n",
       "<style scoped>\n",
       "    .dataframe tbody tr th:only-of-type {\n",
       "        vertical-align: middle;\n",
       "    }\n",
       "\n",
       "    .dataframe tbody tr th {\n",
       "        vertical-align: top;\n",
       "    }\n",
       "\n",
       "    .dataframe thead th {\n",
       "        text-align: right;\n",
       "    }\n",
       "</style>\n",
       "<table border=\"1\" class=\"dataframe\">\n",
       "  <thead>\n",
       "    <tr style=\"text-align: right;\">\n",
       "      <th></th>\n",
       "      <th>Not-event</th>\n",
       "      <th>Event</th>\n",
       "      <th>% Not-event</th>\n",
       "      <th>% Event</th>\n",
       "      <th>WoE</th>\n",
       "      <th>IV</th>\n",
       "      <th>share_bin</th>\n",
       "    </tr>\n",
       "    <tr>\n",
       "      <th>behavioral_index</th>\n",
       "      <th></th>\n",
       "      <th></th>\n",
       "      <th></th>\n",
       "      <th></th>\n",
       "      <th></th>\n",
       "      <th></th>\n",
       "      <th></th>\n",
       "    </tr>\n",
       "  </thead>\n",
       "  <tbody>\n",
       "    <tr>\n",
       "      <th>6.0</th>\n",
       "      <td>493</td>\n",
       "      <td>237</td>\n",
       "      <td>0.044</td>\n",
       "      <td>0.057</td>\n",
       "      <td>-0.259</td>\n",
       "      <td>0.003</td>\n",
       "      <td>0.048</td>\n",
       "    </tr>\n",
       "    <tr>\n",
       "      <th>missing</th>\n",
       "      <td>399</td>\n",
       "      <td>166</td>\n",
       "      <td>0.036</td>\n",
       "      <td>0.040</td>\n",
       "      <td>-0.105</td>\n",
       "      <td>0.000</td>\n",
       "      <td>0.037</td>\n",
       "    </tr>\n",
       "    <tr>\n",
       "      <th>5.0</th>\n",
       "      <td>3169</td>\n",
       "      <td>1278</td>\n",
       "      <td>0.284</td>\n",
       "      <td>0.305</td>\n",
       "      <td>-0.071</td>\n",
       "      <td>0.001</td>\n",
       "      <td>0.289</td>\n",
       "    </tr>\n",
       "    <tr>\n",
       "      <th>3.0</th>\n",
       "      <td>3436</td>\n",
       "      <td>1239</td>\n",
       "      <td>0.308</td>\n",
       "      <td>0.296</td>\n",
       "      <td>0.040</td>\n",
       "      <td>0.000</td>\n",
       "      <td>0.304</td>\n",
       "    </tr>\n",
       "    <tr>\n",
       "      <th>4.0</th>\n",
       "      <td>3491</td>\n",
       "      <td>1230</td>\n",
       "      <td>0.312</td>\n",
       "      <td>0.293</td>\n",
       "      <td>0.063</td>\n",
       "      <td>0.001</td>\n",
       "      <td>0.307</td>\n",
       "    </tr>\n",
       "    <tr>\n",
       "      <th>2.0</th>\n",
       "      <td>162</td>\n",
       "      <td>40</td>\n",
       "      <td>0.015</td>\n",
       "      <td>0.010</td>\n",
       "      <td>0.405</td>\n",
       "      <td>0.002</td>\n",
       "      <td>0.013</td>\n",
       "    </tr>\n",
       "    <tr>\n",
       "      <th>1.0</th>\n",
       "      <td>22</td>\n",
       "      <td>1</td>\n",
       "      <td>0.002</td>\n",
       "      <td>0.000</td>\n",
       "      <td>inf</td>\n",
       "      <td>0.000</td>\n",
       "      <td>0.001</td>\n",
       "    </tr>\n",
       "  </tbody>\n",
       "</table>\n",
       "</div>"
      ],
      "text/plain": [
       "                  Not-event  Event  % Not-event  % Event    WoE    IV  \\\n",
       "behavioral_index                                                        \n",
       "6.0                     493    237        0.044    0.057 -0.259 0.003   \n",
       "missing                 399    166        0.036    0.040 -0.105 0.000   \n",
       "5.0                    3169   1278        0.284    0.305 -0.071 0.001   \n",
       "3.0                    3436   1239        0.308    0.296  0.040 0.000   \n",
       "4.0                    3491   1230        0.312    0.293  0.063 0.001   \n",
       "2.0                     162     40        0.015    0.010  0.405 0.002   \n",
       "1.0                      22      1        0.002    0.000    inf 0.000   \n",
       "\n",
       "                  share_bin  \n",
       "behavioral_index             \n",
       "6.0                   0.048  \n",
       "missing               0.037  \n",
       "5.0                   0.289  \n",
       "3.0                   0.304  \n",
       "4.0                   0.307  \n",
       "2.0                   0.013  \n",
       "1.0                   0.001  "
      ]
     },
     "execution_count": 66,
     "metadata": {},
     "output_type": "execute_result"
    }
   ],
   "source": [
    "WoE_categorial(data, 'behavioral_index')"
   ]
  },
  {
   "cell_type": "code",
   "execution_count": 67,
   "id": "4351ecd8",
   "metadata": {},
   "outputs": [
    {
     "data": {
      "text/plain": [
       "0.007"
      ]
     },
     "execution_count": 67,
     "metadata": {},
     "output_type": "execute_result"
    }
   ],
   "source": [
    "WoE_categorial(data, 'behavioral_index')['IV'].sum()"
   ]
  },
  {
   "cell_type": "code",
   "execution_count": 68,
   "id": "4015371c",
   "metadata": {},
   "outputs": [
    {
     "data": {
      "text/html": [
       "<div>\n",
       "<style scoped>\n",
       "    .dataframe tbody tr th:only-of-type {\n",
       "        vertical-align: middle;\n",
       "    }\n",
       "\n",
       "    .dataframe tbody tr th {\n",
       "        vertical-align: top;\n",
       "    }\n",
       "\n",
       "    .dataframe thead th {\n",
       "        text-align: right;\n",
       "    }\n",
       "</style>\n",
       "<table border=\"1\" class=\"dataframe\">\n",
       "  <thead>\n",
       "    <tr style=\"text-align: right;\">\n",
       "      <th></th>\n",
       "      <th>Not-event</th>\n",
       "      <th>Event</th>\n",
       "      <th>% Not-event</th>\n",
       "      <th>% Event</th>\n",
       "      <th>WoE</th>\n",
       "      <th>IV</th>\n",
       "      <th>share_bin</th>\n",
       "    </tr>\n",
       "    <tr>\n",
       "      <th>type_of_document</th>\n",
       "      <th></th>\n",
       "      <th></th>\n",
       "      <th></th>\n",
       "      <th></th>\n",
       "      <th></th>\n",
       "      <th></th>\n",
       "      <th></th>\n",
       "    </tr>\n",
       "  </thead>\n",
       "  <tbody>\n",
       "    <tr>\n",
       "      <th>TIN</th>\n",
       "      <td>2118</td>\n",
       "      <td>939</td>\n",
       "      <td>0.190</td>\n",
       "      <td>0.224</td>\n",
       "      <td>-0.165</td>\n",
       "      <td>0.006</td>\n",
       "      <td>0.199</td>\n",
       "    </tr>\n",
       "    <tr>\n",
       "      <th>Driver license ID</th>\n",
       "      <td>2219</td>\n",
       "      <td>854</td>\n",
       "      <td>0.199</td>\n",
       "      <td>0.204</td>\n",
       "      <td>-0.025</td>\n",
       "      <td>0.000</td>\n",
       "      <td>0.200</td>\n",
       "    </tr>\n",
       "    <tr>\n",
       "      <th>Passport</th>\n",
       "      <td>1354</td>\n",
       "      <td>513</td>\n",
       "      <td>0.121</td>\n",
       "      <td>0.122</td>\n",
       "      <td>-0.008</td>\n",
       "      <td>0.000</td>\n",
       "      <td>0.122</td>\n",
       "    </tr>\n",
       "    <tr>\n",
       "      <th>UMID</th>\n",
       "      <td>3982</td>\n",
       "      <td>1437</td>\n",
       "      <td>0.356</td>\n",
       "      <td>0.343</td>\n",
       "      <td>0.037</td>\n",
       "      <td>0.000</td>\n",
       "      <td>0.353</td>\n",
       "    </tr>\n",
       "    <tr>\n",
       "      <th>SSS</th>\n",
       "      <td>1134</td>\n",
       "      <td>364</td>\n",
       "      <td>0.102</td>\n",
       "      <td>0.087</td>\n",
       "      <td>0.159</td>\n",
       "      <td>0.002</td>\n",
       "      <td>0.098</td>\n",
       "    </tr>\n",
       "    <tr>\n",
       "      <th>PRC</th>\n",
       "      <td>365</td>\n",
       "      <td>84</td>\n",
       "      <td>0.033</td>\n",
       "      <td>0.020</td>\n",
       "      <td>0.501</td>\n",
       "      <td>0.007</td>\n",
       "      <td>0.029</td>\n",
       "    </tr>\n",
       "  </tbody>\n",
       "</table>\n",
       "</div>"
      ],
      "text/plain": [
       "                   Not-event  Event  % Not-event  % Event    WoE    IV  \\\n",
       "type_of_document                                                         \n",
       "TIN                     2118    939        0.190    0.224 -0.165 0.006   \n",
       "Driver license ID       2219    854        0.199    0.204 -0.025 0.000   \n",
       "Passport                1354    513        0.121    0.122 -0.008 0.000   \n",
       "UMID                    3982   1437        0.356    0.343  0.037 0.000   \n",
       "SSS                     1134    364        0.102    0.087  0.159 0.002   \n",
       "PRC                      365     84        0.033    0.020  0.501 0.007   \n",
       "\n",
       "                   share_bin  \n",
       "type_of_document              \n",
       "TIN                    0.199  \n",
       "Driver license ID      0.200  \n",
       "Passport               0.122  \n",
       "UMID                   0.353  \n",
       "SSS                    0.098  \n",
       "PRC                    0.029  "
      ]
     },
     "execution_count": 68,
     "metadata": {},
     "output_type": "execute_result"
    }
   ],
   "source": [
    "WoE_categorial(data, 'type_of_document')"
   ]
  },
  {
   "cell_type": "code",
   "execution_count": 69,
   "id": "03e3a306",
   "metadata": {},
   "outputs": [
    {
     "data": {
      "text/plain": [
       "0.015"
      ]
     },
     "execution_count": 69,
     "metadata": {},
     "output_type": "execute_result"
    }
   ],
   "source": [
    "WoE_categorial(data, 'type_of_document')['IV'].sum()"
   ]
  },
  {
   "cell_type": "code",
   "execution_count": 70,
   "id": "770392e8",
   "metadata": {},
   "outputs": [
    {
     "data": {
      "text/html": [
       "<div>\n",
       "<style scoped>\n",
       "    .dataframe tbody tr th:only-of-type {\n",
       "        vertical-align: middle;\n",
       "    }\n",
       "\n",
       "    .dataframe tbody tr th {\n",
       "        vertical-align: top;\n",
       "    }\n",
       "\n",
       "    .dataframe thead th {\n",
       "        text-align: right;\n",
       "    }\n",
       "</style>\n",
       "<table border=\"1\" class=\"dataframe\">\n",
       "  <thead>\n",
       "    <tr style=\"text-align: right;\">\n",
       "      <th></th>\n",
       "      <th>Not-event</th>\n",
       "      <th>Event</th>\n",
       "      <th>% Not-event</th>\n",
       "      <th>% Event</th>\n",
       "      <th>WoE</th>\n",
       "      <th>IV</th>\n",
       "      <th>share_bin</th>\n",
       "    </tr>\n",
       "    <tr>\n",
       "      <th>social_status</th>\n",
       "      <th></th>\n",
       "      <th></th>\n",
       "      <th></th>\n",
       "      <th></th>\n",
       "      <th></th>\n",
       "      <th></th>\n",
       "      <th></th>\n",
       "    </tr>\n",
       "  </thead>\n",
       "  <tbody>\n",
       "    <tr>\n",
       "      <th>Retail Worker</th>\n",
       "      <td>282</td>\n",
       "      <td>120</td>\n",
       "      <td>0.025</td>\n",
       "      <td>0.029</td>\n",
       "      <td>-0.148</td>\n",
       "      <td>0.001</td>\n",
       "      <td>0.026</td>\n",
       "    </tr>\n",
       "    <tr>\n",
       "      <th>Self-Employed</th>\n",
       "      <td>1621</td>\n",
       "      <td>702</td>\n",
       "      <td>0.145</td>\n",
       "      <td>0.168</td>\n",
       "      <td>-0.147</td>\n",
       "      <td>0.003</td>\n",
       "      <td>0.151</td>\n",
       "    </tr>\n",
       "    <tr>\n",
       "      <th>Unemployed</th>\n",
       "      <td>457</td>\n",
       "      <td>185</td>\n",
       "      <td>0.041</td>\n",
       "      <td>0.044</td>\n",
       "      <td>-0.071</td>\n",
       "      <td>0.000</td>\n",
       "      <td>0.042</td>\n",
       "    </tr>\n",
       "    <tr>\n",
       "      <th>Business Owner</th>\n",
       "      <td>1202</td>\n",
       "      <td>478</td>\n",
       "      <td>0.108</td>\n",
       "      <td>0.114</td>\n",
       "      <td>-0.054</td>\n",
       "      <td>0.000</td>\n",
       "      <td>0.109</td>\n",
       "    </tr>\n",
       "    <tr>\n",
       "      <th>Freelance</th>\n",
       "      <td>559</td>\n",
       "      <td>218</td>\n",
       "      <td>0.050</td>\n",
       "      <td>0.052</td>\n",
       "      <td>-0.039</td>\n",
       "      <td>0.000</td>\n",
       "      <td>0.051</td>\n",
       "    </tr>\n",
       "    <tr>\n",
       "      <th>Other</th>\n",
       "      <td>1232</td>\n",
       "      <td>471</td>\n",
       "      <td>0.110</td>\n",
       "      <td>0.112</td>\n",
       "      <td>-0.018</td>\n",
       "      <td>0.000</td>\n",
       "      <td>0.111</td>\n",
       "    </tr>\n",
       "    <tr>\n",
       "      <th>BPO Professionals</th>\n",
       "      <td>1669</td>\n",
       "      <td>626</td>\n",
       "      <td>0.149</td>\n",
       "      <td>0.149</td>\n",
       "      <td>0.000</td>\n",
       "      <td>0.000</td>\n",
       "      <td>0.149</td>\n",
       "    </tr>\n",
       "    <tr>\n",
       "      <th>Private Company Employee</th>\n",
       "      <td>2575</td>\n",
       "      <td>925</td>\n",
       "      <td>0.230</td>\n",
       "      <td>0.221</td>\n",
       "      <td>0.040</td>\n",
       "      <td>0.000</td>\n",
       "      <td>0.228</td>\n",
       "    </tr>\n",
       "    <tr>\n",
       "      <th>Government Employee</th>\n",
       "      <td>787</td>\n",
       "      <td>274</td>\n",
       "      <td>0.070</td>\n",
       "      <td>0.065</td>\n",
       "      <td>0.074</td>\n",
       "      <td>0.000</td>\n",
       "      <td>0.069</td>\n",
       "    </tr>\n",
       "    <tr>\n",
       "      <th>Retired</th>\n",
       "      <td>69</td>\n",
       "      <td>22</td>\n",
       "      <td>0.006</td>\n",
       "      <td>0.005</td>\n",
       "      <td>0.182</td>\n",
       "      <td>0.000</td>\n",
       "      <td>0.006</td>\n",
       "    </tr>\n",
       "    <tr>\n",
       "      <th>Professional Worker (Doctors, Engineers, Accountants, etc.)</th>\n",
       "      <td>517</td>\n",
       "      <td>125</td>\n",
       "      <td>0.046</td>\n",
       "      <td>0.030</td>\n",
       "      <td>0.427</td>\n",
       "      <td>0.007</td>\n",
       "      <td>0.042</td>\n",
       "    </tr>\n",
       "    <tr>\n",
       "      <th>Financial Services</th>\n",
       "      <td>202</td>\n",
       "      <td>45</td>\n",
       "      <td>0.018</td>\n",
       "      <td>0.011</td>\n",
       "      <td>0.492</td>\n",
       "      <td>0.003</td>\n",
       "      <td>0.016</td>\n",
       "    </tr>\n",
       "  </tbody>\n",
       "</table>\n",
       "</div>"
      ],
      "text/plain": [
       "                                                    Not-event  Event  \\\n",
       "social_status                                                          \n",
       "Retail Worker                                             282    120   \n",
       "Self-Employed                                            1621    702   \n",
       "Unemployed                                                457    185   \n",
       "Business Owner                                           1202    478   \n",
       "Freelance                                                 559    218   \n",
       "Other                                                    1232    471   \n",
       "BPO Professionals                                        1669    626   \n",
       "Private Company Employee                                 2575    925   \n",
       "Government Employee                                       787    274   \n",
       "Retired                                                    69     22   \n",
       "Professional Worker (Doctors, Engineers, Accoun...        517    125   \n",
       "Financial Services                                        202     45   \n",
       "\n",
       "                                                    % Not-event  % Event  \\\n",
       "social_status                                                              \n",
       "Retail Worker                                             0.025    0.029   \n",
       "Self-Employed                                             0.145    0.168   \n",
       "Unemployed                                                0.041    0.044   \n",
       "Business Owner                                            0.108    0.114   \n",
       "Freelance                                                 0.050    0.052   \n",
       "Other                                                     0.110    0.112   \n",
       "BPO Professionals                                         0.149    0.149   \n",
       "Private Company Employee                                  0.230    0.221   \n",
       "Government Employee                                       0.070    0.065   \n",
       "Retired                                                   0.006    0.005   \n",
       "Professional Worker (Doctors, Engineers, Accoun...        0.046    0.030   \n",
       "Financial Services                                        0.018    0.011   \n",
       "\n",
       "                                                      WoE    IV  share_bin  \n",
       "social_status                                                               \n",
       "Retail Worker                                      -0.148 0.001      0.026  \n",
       "Self-Employed                                      -0.147 0.003      0.151  \n",
       "Unemployed                                         -0.071 0.000      0.042  \n",
       "Business Owner                                     -0.054 0.000      0.109  \n",
       "Freelance                                          -0.039 0.000      0.051  \n",
       "Other                                              -0.018 0.000      0.111  \n",
       "BPO Professionals                                   0.000 0.000      0.149  \n",
       "Private Company Employee                            0.040 0.000      0.228  \n",
       "Government Employee                                 0.074 0.000      0.069  \n",
       "Retired                                             0.182 0.000      0.006  \n",
       "Professional Worker (Doctors, Engineers, Accoun...  0.427 0.007      0.042  \n",
       "Financial Services                                  0.492 0.003      0.016  "
      ]
     },
     "execution_count": 70,
     "metadata": {},
     "output_type": "execute_result"
    }
   ],
   "source": [
    "WoE_categorial(data, 'social_status')"
   ]
  },
  {
   "cell_type": "code",
   "execution_count": 71,
   "id": "c84248e8",
   "metadata": {},
   "outputs": [
    {
     "data": {
      "text/plain": [
       "0.013999999999999999"
      ]
     },
     "execution_count": 71,
     "metadata": {},
     "output_type": "execute_result"
    }
   ],
   "source": [
    "WoE_categorial(data, 'social_status')['IV'].sum()"
   ]
  },
  {
   "cell_type": "code",
   "execution_count": 72,
   "id": "4228f483",
   "metadata": {},
   "outputs": [
    {
     "data": {
      "text/html": [
       "<div>\n",
       "<style scoped>\n",
       "    .dataframe tbody tr th:only-of-type {\n",
       "        vertical-align: middle;\n",
       "    }\n",
       "\n",
       "    .dataframe tbody tr th {\n",
       "        vertical-align: top;\n",
       "    }\n",
       "\n",
       "    .dataframe thead th {\n",
       "        text-align: right;\n",
       "    }\n",
       "</style>\n",
       "<table border=\"1\" class=\"dataframe\">\n",
       "  <thead>\n",
       "    <tr style=\"text-align: right;\">\n",
       "      <th></th>\n",
       "      <th>Not-event</th>\n",
       "      <th>Event</th>\n",
       "      <th>% Not-event</th>\n",
       "      <th>% Event</th>\n",
       "      <th>WoE</th>\n",
       "      <th>IV</th>\n",
       "      <th>share_bin</th>\n",
       "    </tr>\n",
       "    <tr>\n",
       "      <th>disbursment_type</th>\n",
       "      <th></th>\n",
       "      <th></th>\n",
       "      <th></th>\n",
       "      <th></th>\n",
       "      <th></th>\n",
       "      <th></th>\n",
       "      <th></th>\n",
       "    </tr>\n",
       "  </thead>\n",
       "  <tbody>\n",
       "    <tr>\n",
       "      <th>E-wallet</th>\n",
       "      <td>4182</td>\n",
       "      <td>2263</td>\n",
       "      <td>0.374</td>\n",
       "      <td>0.540</td>\n",
       "      <td>-0.367</td>\n",
       "      <td>0.061</td>\n",
       "      <td>0.420</td>\n",
       "    </tr>\n",
       "    <tr>\n",
       "      <th>Bank</th>\n",
       "      <td>6990</td>\n",
       "      <td>1928</td>\n",
       "      <td>0.626</td>\n",
       "      <td>0.460</td>\n",
       "      <td>0.308</td>\n",
       "      <td>0.051</td>\n",
       "      <td>0.580</td>\n",
       "    </tr>\n",
       "  </tbody>\n",
       "</table>\n",
       "</div>"
      ],
      "text/plain": [
       "                  Not-event  Event  % Not-event  % Event    WoE    IV  \\\n",
       "disbursment_type                                                        \n",
       "E-wallet               4182   2263        0.374    0.540 -0.367 0.061   \n",
       "Bank                   6990   1928        0.626    0.460  0.308 0.051   \n",
       "\n",
       "                  share_bin  \n",
       "disbursment_type             \n",
       "E-wallet              0.420  \n",
       "Bank                  0.580  "
      ]
     },
     "execution_count": 72,
     "metadata": {},
     "output_type": "execute_result"
    }
   ],
   "source": [
    "WoE_categorial(data, 'disbursment_type')"
   ]
  },
  {
   "cell_type": "code",
   "execution_count": 73,
   "id": "da0f5cf1",
   "metadata": {},
   "outputs": [
    {
     "data": {
      "text/plain": [
       "0.11199999999999999"
      ]
     },
     "execution_count": 73,
     "metadata": {},
     "output_type": "execute_result"
    }
   ],
   "source": [
    "WoE_categorial(data, 'disbursment_type')['IV'].sum()"
   ]
  },
  {
   "cell_type": "code",
   "execution_count": 74,
   "id": "47a2d81b",
   "metadata": {},
   "outputs": [
    {
     "name": "stderr",
     "output_type": "stream",
     "text": [
      "C:\\Users\\75BD~1\\AppData\\Local\\Temp/ipykernel_4904/3869197063.py:3: SettingWithCopyWarning: \n",
      "A value is trying to be set on a copy of a slice from a DataFrame\n",
      "\n",
      "See the caveats in the documentation: https://pandas.pydata.org/pandas-docs/stable/user_guide/indexing.html#returning-a-view-versus-a-copy\n",
      "  data['disbursment_type_cat'][(data['disbursment_type'] == 'E-wallet')] = 1\n",
      "C:\\Users\\75BD~1\\AppData\\Local\\Temp/ipykernel_4904/3869197063.py:4: SettingWithCopyWarning: \n",
      "A value is trying to be set on a copy of a slice from a DataFrame\n",
      "\n",
      "See the caveats in the documentation: https://pandas.pydata.org/pandas-docs/stable/user_guide/indexing.html#returning-a-view-versus-a-copy\n",
      "  data['disbursment_type_cat'][(data['disbursment_type'] == 'Bank')] = 2\n"
     ]
    }
   ],
   "source": [
    "data['disbursment_type_cat'] = 0\n",
    "\n",
    "data['disbursment_type_cat'][(data['disbursment_type'] == 'E-wallet')] = 1\n",
    "data['disbursment_type_cat'][(data['disbursment_type'] == 'Bank')] = 2"
   ]
  },
  {
   "cell_type": "code",
   "execution_count": 75,
   "id": "c357e54d",
   "metadata": {},
   "outputs": [
    {
     "data": {
      "text/html": [
       "<div>\n",
       "<style scoped>\n",
       "    .dataframe tbody tr th:only-of-type {\n",
       "        vertical-align: middle;\n",
       "    }\n",
       "\n",
       "    .dataframe tbody tr th {\n",
       "        vertical-align: top;\n",
       "    }\n",
       "\n",
       "    .dataframe thead th {\n",
       "        text-align: right;\n",
       "    }\n",
       "</style>\n",
       "<table border=\"1\" class=\"dataframe\">\n",
       "  <thead>\n",
       "    <tr style=\"text-align: right;\">\n",
       "      <th></th>\n",
       "      <th>Not-event</th>\n",
       "      <th>Event</th>\n",
       "      <th>% Not-event</th>\n",
       "      <th>% Event</th>\n",
       "      <th>WoE</th>\n",
       "      <th>IV</th>\n",
       "      <th>share_bin</th>\n",
       "    </tr>\n",
       "    <tr>\n",
       "      <th>disbursment_type_cat</th>\n",
       "      <th></th>\n",
       "      <th></th>\n",
       "      <th></th>\n",
       "      <th></th>\n",
       "      <th></th>\n",
       "      <th></th>\n",
       "      <th></th>\n",
       "    </tr>\n",
       "  </thead>\n",
       "  <tbody>\n",
       "    <tr>\n",
       "      <th>1</th>\n",
       "      <td>4182</td>\n",
       "      <td>2263</td>\n",
       "      <td>0.374</td>\n",
       "      <td>0.540</td>\n",
       "      <td>-0.367</td>\n",
       "      <td>0.061</td>\n",
       "      <td>0.420</td>\n",
       "    </tr>\n",
       "    <tr>\n",
       "      <th>2</th>\n",
       "      <td>6990</td>\n",
       "      <td>1928</td>\n",
       "      <td>0.626</td>\n",
       "      <td>0.460</td>\n",
       "      <td>0.308</td>\n",
       "      <td>0.051</td>\n",
       "      <td>0.580</td>\n",
       "    </tr>\n",
       "  </tbody>\n",
       "</table>\n",
       "</div>"
      ],
      "text/plain": [
       "                      Not-event  Event  % Not-event  % Event    WoE    IV  \\\n",
       "disbursment_type_cat                                                        \n",
       "1                          4182   2263        0.374    0.540 -0.367 0.061   \n",
       "2                          6990   1928        0.626    0.460  0.308 0.051   \n",
       "\n",
       "                      share_bin  \n",
       "disbursment_type_cat             \n",
       "1                         0.420  \n",
       "2                         0.580  "
      ]
     },
     "execution_count": 75,
     "metadata": {},
     "output_type": "execute_result"
    }
   ],
   "source": [
    "WoE_categorial(data, 'disbursment_type_cat')"
   ]
  },
  {
   "cell_type": "code",
   "execution_count": 76,
   "id": "dfdd3708",
   "metadata": {},
   "outputs": [
    {
     "data": {
      "text/plain": [
       "0.11199999999999999"
      ]
     },
     "execution_count": 76,
     "metadata": {},
     "output_type": "execute_result"
    }
   ],
   "source": [
    "WoE_categorial(data, 'disbursment_type_cat')['IV'].sum()"
   ]
  },
  {
   "cell_type": "code",
   "execution_count": 77,
   "id": "9e365804",
   "metadata": {},
   "outputs": [
    {
     "name": "stderr",
     "output_type": "stream",
     "text": [
      "C:\\ProgramData\\Anaconda3\\lib\\site-packages\\pandas\\core\\arraylike.py:364: RuntimeWarning: divide by zero encountered in log\n",
      "  result = getattr(ufunc, method)(*inputs, **kwargs)\n"
     ]
    },
    {
     "data": {
      "text/html": [
       "<div>\n",
       "<style scoped>\n",
       "    .dataframe tbody tr th:only-of-type {\n",
       "        vertical-align: middle;\n",
       "    }\n",
       "\n",
       "    .dataframe tbody tr th {\n",
       "        vertical-align: top;\n",
       "    }\n",
       "\n",
       "    .dataframe thead th {\n",
       "        text-align: right;\n",
       "    }\n",
       "</style>\n",
       "<table border=\"1\" class=\"dataframe\">\n",
       "  <thead>\n",
       "    <tr style=\"text-align: right;\">\n",
       "      <th></th>\n",
       "      <th>Not-event</th>\n",
       "      <th>Event</th>\n",
       "      <th>% Not-event</th>\n",
       "      <th>% Event</th>\n",
       "      <th>WoE</th>\n",
       "      <th>IV</th>\n",
       "      <th>share_bin</th>\n",
       "    </tr>\n",
       "    <tr>\n",
       "      <th>os</th>\n",
       "      <th></th>\n",
       "      <th></th>\n",
       "      <th></th>\n",
       "      <th></th>\n",
       "      <th></th>\n",
       "      <th></th>\n",
       "      <th></th>\n",
       "    </tr>\n",
       "  </thead>\n",
       "  <tbody>\n",
       "    <tr>\n",
       "      <th>Chrome OS</th>\n",
       "      <td>2</td>\n",
       "      <td>3</td>\n",
       "      <td>0.000</td>\n",
       "      <td>0.001</td>\n",
       "      <td>-inf</td>\n",
       "      <td>0.000</td>\n",
       "      <td>0.000</td>\n",
       "    </tr>\n",
       "    <tr>\n",
       "      <th>Linux</th>\n",
       "      <td>3</td>\n",
       "      <td>4</td>\n",
       "      <td>0.000</td>\n",
       "      <td>0.001</td>\n",
       "      <td>-inf</td>\n",
       "      <td>0.000</td>\n",
       "      <td>0.000</td>\n",
       "    </tr>\n",
       "    <tr>\n",
       "      <th>Android</th>\n",
       "      <td>8228</td>\n",
       "      <td>3271</td>\n",
       "      <td>0.736</td>\n",
       "      <td>0.780</td>\n",
       "      <td>-0.058</td>\n",
       "      <td>0.003</td>\n",
       "      <td>0.748</td>\n",
       "    </tr>\n",
       "    <tr>\n",
       "      <th>missing</th>\n",
       "      <td>12</td>\n",
       "      <td>4</td>\n",
       "      <td>0.001</td>\n",
       "      <td>0.001</td>\n",
       "      <td>0.000</td>\n",
       "      <td>0.000</td>\n",
       "      <td>0.001</td>\n",
       "    </tr>\n",
       "    <tr>\n",
       "      <th>Windows</th>\n",
       "      <td>624</td>\n",
       "      <td>221</td>\n",
       "      <td>0.056</td>\n",
       "      <td>0.053</td>\n",
       "      <td>0.055</td>\n",
       "      <td>0.000</td>\n",
       "      <td>0.055</td>\n",
       "    </tr>\n",
       "    <tr>\n",
       "      <th>iOS</th>\n",
       "      <td>2267</td>\n",
       "      <td>680</td>\n",
       "      <td>0.203</td>\n",
       "      <td>0.162</td>\n",
       "      <td>0.226</td>\n",
       "      <td>0.009</td>\n",
       "      <td>0.192</td>\n",
       "    </tr>\n",
       "    <tr>\n",
       "      <th>macOS</th>\n",
       "      <td>34</td>\n",
       "      <td>6</td>\n",
       "      <td>0.003</td>\n",
       "      <td>0.001</td>\n",
       "      <td>1.099</td>\n",
       "      <td>0.002</td>\n",
       "      <td>0.003</td>\n",
       "    </tr>\n",
       "    <tr>\n",
       "      <th>OS X</th>\n",
       "      <td>2</td>\n",
       "      <td>2</td>\n",
       "      <td>0.000</td>\n",
       "      <td>0.000</td>\n",
       "      <td>NaN</td>\n",
       "      <td>NaN</td>\n",
       "      <td>0.000</td>\n",
       "    </tr>\n",
       "  </tbody>\n",
       "</table>\n",
       "</div>"
      ],
      "text/plain": [
       "           Not-event  Event  % Not-event  % Event    WoE    IV  share_bin\n",
       "os                                                                       \n",
       "Chrome OS          2      3        0.000    0.001   -inf 0.000      0.000\n",
       "Linux              3      4        0.000    0.001   -inf 0.000      0.000\n",
       "Android         8228   3271        0.736    0.780 -0.058 0.003      0.748\n",
       "missing           12      4        0.001    0.001  0.000 0.000      0.001\n",
       "Windows          624    221        0.056    0.053  0.055 0.000      0.055\n",
       "iOS             2267    680        0.203    0.162  0.226 0.009      0.192\n",
       "macOS             34      6        0.003    0.001  1.099 0.002      0.003\n",
       "OS X               2      2        0.000    0.000    NaN   NaN      0.000"
      ]
     },
     "execution_count": 77,
     "metadata": {},
     "output_type": "execute_result"
    }
   ],
   "source": [
    "WoE_categorial(data, 'os')"
   ]
  },
  {
   "cell_type": "code",
   "execution_count": 78,
   "id": "78378816",
   "metadata": {},
   "outputs": [
    {
     "name": "stderr",
     "output_type": "stream",
     "text": [
      "C:\\ProgramData\\Anaconda3\\lib\\site-packages\\pandas\\core\\arraylike.py:364: RuntimeWarning: divide by zero encountered in log\n",
      "  result = getattr(ufunc, method)(*inputs, **kwargs)\n"
     ]
    },
    {
     "data": {
      "text/plain": [
       "0.013999999999999999"
      ]
     },
     "execution_count": 78,
     "metadata": {},
     "output_type": "execute_result"
    }
   ],
   "source": [
    "WoE_categorial(data, 'os')['IV'].sum()"
   ]
  },
  {
   "cell_type": "code",
   "execution_count": 79,
   "id": "3e5de7e6",
   "metadata": {},
   "outputs": [
    {
     "data": {
      "text/html": [
       "<div>\n",
       "<style scoped>\n",
       "    .dataframe tbody tr th:only-of-type {\n",
       "        vertical-align: middle;\n",
       "    }\n",
       "\n",
       "    .dataframe tbody tr th {\n",
       "        vertical-align: top;\n",
       "    }\n",
       "\n",
       "    .dataframe thead th {\n",
       "        text-align: right;\n",
       "    }\n",
       "</style>\n",
       "<table border=\"1\" class=\"dataframe\">\n",
       "  <thead>\n",
       "    <tr style=\"text-align: right;\">\n",
       "      <th></th>\n",
       "      <th>Not-event</th>\n",
       "      <th>Event</th>\n",
       "      <th>% Not-event</th>\n",
       "      <th>% Event</th>\n",
       "      <th>WoE</th>\n",
       "      <th>IV</th>\n",
       "      <th>share_bin</th>\n",
       "    </tr>\n",
       "    <tr>\n",
       "      <th>email_index</th>\n",
       "      <th></th>\n",
       "      <th></th>\n",
       "      <th></th>\n",
       "      <th></th>\n",
       "      <th></th>\n",
       "      <th></th>\n",
       "      <th></th>\n",
       "    </tr>\n",
       "  </thead>\n",
       "  <tbody>\n",
       "    <tr>\n",
       "      <th>12.0</th>\n",
       "      <td>1</td>\n",
       "      <td>3</td>\n",
       "      <td>0.000</td>\n",
       "      <td>0.001</td>\n",
       "      <td>-inf</td>\n",
       "      <td>0.000</td>\n",
       "      <td>0.000</td>\n",
       "    </tr>\n",
       "    <tr>\n",
       "      <th>4.0</th>\n",
       "      <td>155</td>\n",
       "      <td>77</td>\n",
       "      <td>0.014</td>\n",
       "      <td>0.018</td>\n",
       "      <td>-0.251</td>\n",
       "      <td>0.001</td>\n",
       "      <td>0.015</td>\n",
       "    </tr>\n",
       "    <tr>\n",
       "      <th>8.0</th>\n",
       "      <td>911</td>\n",
       "      <td>418</td>\n",
       "      <td>0.082</td>\n",
       "      <td>0.100</td>\n",
       "      <td>-0.198</td>\n",
       "      <td>0.004</td>\n",
       "      <td>0.087</td>\n",
       "    </tr>\n",
       "    <tr>\n",
       "      <th>10.0</th>\n",
       "      <td>120</td>\n",
       "      <td>56</td>\n",
       "      <td>0.011</td>\n",
       "      <td>0.013</td>\n",
       "      <td>-0.167</td>\n",
       "      <td>0.000</td>\n",
       "      <td>0.011</td>\n",
       "    </tr>\n",
       "    <tr>\n",
       "      <th>6.0</th>\n",
       "      <td>192</td>\n",
       "      <td>81</td>\n",
       "      <td>0.017</td>\n",
       "      <td>0.019</td>\n",
       "      <td>-0.111</td>\n",
       "      <td>0.000</td>\n",
       "      <td>0.018</td>\n",
       "    </tr>\n",
       "    <tr>\n",
       "      <th>1.0</th>\n",
       "      <td>6416</td>\n",
       "      <td>2510</td>\n",
       "      <td>0.574</td>\n",
       "      <td>0.599</td>\n",
       "      <td>-0.043</td>\n",
       "      <td>0.001</td>\n",
       "      <td>0.581</td>\n",
       "    </tr>\n",
       "    <tr>\n",
       "      <th>missing</th>\n",
       "      <td>23</td>\n",
       "      <td>10</td>\n",
       "      <td>0.002</td>\n",
       "      <td>0.002</td>\n",
       "      <td>0.000</td>\n",
       "      <td>0.000</td>\n",
       "      <td>0.002</td>\n",
       "    </tr>\n",
       "    <tr>\n",
       "      <th>0.0</th>\n",
       "      <td>3247</td>\n",
       "      <td>1006</td>\n",
       "      <td>0.291</td>\n",
       "      <td>0.240</td>\n",
       "      <td>0.193</td>\n",
       "      <td>0.010</td>\n",
       "      <td>0.277</td>\n",
       "    </tr>\n",
       "    <tr>\n",
       "      <th>2.0</th>\n",
       "      <td>101</td>\n",
       "      <td>28</td>\n",
       "      <td>0.009</td>\n",
       "      <td>0.007</td>\n",
       "      <td>0.251</td>\n",
       "      <td>0.001</td>\n",
       "      <td>0.008</td>\n",
       "    </tr>\n",
       "    <tr>\n",
       "      <th>3.0</th>\n",
       "      <td>5</td>\n",
       "      <td>2</td>\n",
       "      <td>0.000</td>\n",
       "      <td>0.000</td>\n",
       "      <td>NaN</td>\n",
       "      <td>NaN</td>\n",
       "      <td>0.000</td>\n",
       "    </tr>\n",
       "    <tr>\n",
       "      <th>11.0</th>\n",
       "      <td>1</td>\n",
       "      <td>0</td>\n",
       "      <td>0.000</td>\n",
       "      <td>0.000</td>\n",
       "      <td>NaN</td>\n",
       "      <td>NaN</td>\n",
       "      <td>0.000</td>\n",
       "    </tr>\n",
       "  </tbody>\n",
       "</table>\n",
       "</div>"
      ],
      "text/plain": [
       "             Not-event  Event  % Not-event  % Event    WoE    IV  share_bin\n",
       "email_index                                                                \n",
       "12.0                 1      3        0.000    0.001   -inf 0.000      0.000\n",
       "4.0                155     77        0.014    0.018 -0.251 0.001      0.015\n",
       "8.0                911    418        0.082    0.100 -0.198 0.004      0.087\n",
       "10.0               120     56        0.011    0.013 -0.167 0.000      0.011\n",
       "6.0                192     81        0.017    0.019 -0.111 0.000      0.018\n",
       "1.0               6416   2510        0.574    0.599 -0.043 0.001      0.581\n",
       "missing             23     10        0.002    0.002  0.000 0.000      0.002\n",
       "0.0               3247   1006        0.291    0.240  0.193 0.010      0.277\n",
       "2.0                101     28        0.009    0.007  0.251 0.001      0.008\n",
       "3.0                  5      2        0.000    0.000    NaN   NaN      0.000\n",
       "11.0                 1      0        0.000    0.000    NaN   NaN      0.000"
      ]
     },
     "execution_count": 79,
     "metadata": {},
     "output_type": "execute_result"
    }
   ],
   "source": [
    "WoE_categorial(data, 'email_index')"
   ]
  },
  {
   "cell_type": "code",
   "execution_count": 80,
   "id": "4c97bfe4",
   "metadata": {},
   "outputs": [
    {
     "name": "stderr",
     "output_type": "stream",
     "text": [
      "C:\\ProgramData\\Anaconda3\\lib\\site-packages\\pandas\\core\\arraylike.py:364: RuntimeWarning: divide by zero encountered in log\n",
      "  result = getattr(ufunc, method)(*inputs, **kwargs)\n"
     ]
    },
    {
     "data": {
      "text/plain": [
       "0.017"
      ]
     },
     "execution_count": 80,
     "metadata": {},
     "output_type": "execute_result"
    }
   ],
   "source": [
    "WoE_categorial(data, 'email_index')['IV'].sum()"
   ]
  },
  {
   "cell_type": "code",
   "execution_count": 81,
   "id": "cc03027b",
   "metadata": {},
   "outputs": [
    {
     "data": {
      "text/html": [
       "<div>\n",
       "<style scoped>\n",
       "    .dataframe tbody tr th:only-of-type {\n",
       "        vertical-align: middle;\n",
       "    }\n",
       "\n",
       "    .dataframe tbody tr th {\n",
       "        vertical-align: top;\n",
       "    }\n",
       "\n",
       "    .dataframe thead th {\n",
       "        text-align: right;\n",
       "    }\n",
       "</style>\n",
       "<table border=\"1\" class=\"dataframe\">\n",
       "  <thead>\n",
       "    <tr style=\"text-align: right;\">\n",
       "      <th></th>\n",
       "      <th>Not-event</th>\n",
       "      <th>Event</th>\n",
       "      <th>% Not-event</th>\n",
       "      <th>% Event</th>\n",
       "      <th>WoE</th>\n",
       "      <th>IV</th>\n",
       "      <th>share_bin</th>\n",
       "    </tr>\n",
       "    <tr>\n",
       "      <th>salary_cat</th>\n",
       "      <th></th>\n",
       "      <th></th>\n",
       "      <th></th>\n",
       "      <th></th>\n",
       "      <th></th>\n",
       "      <th></th>\n",
       "      <th></th>\n",
       "    </tr>\n",
       "  </thead>\n",
       "  <tbody>\n",
       "    <tr>\n",
       "      <th>1</th>\n",
       "      <td>2151</td>\n",
       "      <td>911</td>\n",
       "      <td>0.193</td>\n",
       "      <td>0.217</td>\n",
       "      <td>-0.117</td>\n",
       "      <td>0.003</td>\n",
       "      <td>0.199</td>\n",
       "    </tr>\n",
       "    <tr>\n",
       "      <th>2</th>\n",
       "      <td>2276</td>\n",
       "      <td>923</td>\n",
       "      <td>0.204</td>\n",
       "      <td>0.220</td>\n",
       "      <td>-0.076</td>\n",
       "      <td>0.001</td>\n",
       "      <td>0.208</td>\n",
       "    </tr>\n",
       "    <tr>\n",
       "      <th>3</th>\n",
       "      <td>3389</td>\n",
       "      <td>1331</td>\n",
       "      <td>0.303</td>\n",
       "      <td>0.318</td>\n",
       "      <td>-0.048</td>\n",
       "      <td>0.001</td>\n",
       "      <td>0.307</td>\n",
       "    </tr>\n",
       "    <tr>\n",
       "      <th>4</th>\n",
       "      <td>525</td>\n",
       "      <td>200</td>\n",
       "      <td>0.047</td>\n",
       "      <td>0.048</td>\n",
       "      <td>-0.021</td>\n",
       "      <td>0.000</td>\n",
       "      <td>0.047</td>\n",
       "    </tr>\n",
       "    <tr>\n",
       "      <th>5</th>\n",
       "      <td>2831</td>\n",
       "      <td>826</td>\n",
       "      <td>0.253</td>\n",
       "      <td>0.197</td>\n",
       "      <td>0.250</td>\n",
       "      <td>0.014</td>\n",
       "      <td>0.238</td>\n",
       "    </tr>\n",
       "  </tbody>\n",
       "</table>\n",
       "</div>"
      ],
      "text/plain": [
       "            Not-event  Event  % Not-event  % Event    WoE    IV  share_bin\n",
       "salary_cat                                                                \n",
       "1                2151    911        0.193    0.217 -0.117 0.003      0.199\n",
       "2                2276    923        0.204    0.220 -0.076 0.001      0.208\n",
       "3                3389   1331        0.303    0.318 -0.048 0.001      0.307\n",
       "4                 525    200        0.047    0.048 -0.021 0.000      0.047\n",
       "5                2831    826        0.253    0.197  0.250 0.014      0.238"
      ]
     },
     "execution_count": 81,
     "metadata": {},
     "output_type": "execute_result"
    }
   ],
   "source": [
    "WoE_categorial(data, 'salary_cat')"
   ]
  },
  {
   "cell_type": "code",
   "execution_count": 82,
   "id": "bbea6577",
   "metadata": {},
   "outputs": [
    {
     "data": {
      "text/plain": [
       "0.019"
      ]
     },
     "execution_count": 82,
     "metadata": {},
     "output_type": "execute_result"
    }
   ],
   "source": [
    "WoE_categorial(data, 'salary_cat')['IV'].sum()"
   ]
  },
  {
   "cell_type": "code",
   "execution_count": 83,
   "id": "87a8a93c",
   "metadata": {},
   "outputs": [
    {
     "data": {
      "text/html": [
       "<div>\n",
       "<style scoped>\n",
       "    .dataframe tbody tr th:only-of-type {\n",
       "        vertical-align: middle;\n",
       "    }\n",
       "\n",
       "    .dataframe tbody tr th {\n",
       "        vertical-align: top;\n",
       "    }\n",
       "\n",
       "    .dataframe thead th {\n",
       "        text-align: right;\n",
       "    }\n",
       "</style>\n",
       "<table border=\"1\" class=\"dataframe\">\n",
       "  <thead>\n",
       "    <tr style=\"text-align: right;\">\n",
       "      <th></th>\n",
       "      <th>Not-event</th>\n",
       "      <th>Event</th>\n",
       "      <th>% Not-event</th>\n",
       "      <th>% Event</th>\n",
       "      <th>WoE</th>\n",
       "      <th>IV</th>\n",
       "      <th>share_bin</th>\n",
       "    </tr>\n",
       "    <tr>\n",
       "      <th>age_cat</th>\n",
       "      <th></th>\n",
       "      <th></th>\n",
       "      <th></th>\n",
       "      <th></th>\n",
       "      <th></th>\n",
       "      <th></th>\n",
       "      <th></th>\n",
       "    </tr>\n",
       "  </thead>\n",
       "  <tbody>\n",
       "    <tr>\n",
       "      <th>1</th>\n",
       "      <td>2551</td>\n",
       "      <td>1084</td>\n",
       "      <td>0.228</td>\n",
       "      <td>0.259</td>\n",
       "      <td>-0.127</td>\n",
       "      <td>0.004</td>\n",
       "      <td>0.237</td>\n",
       "    </tr>\n",
       "    <tr>\n",
       "      <th>2</th>\n",
       "      <td>2828</td>\n",
       "      <td>1140</td>\n",
       "      <td>0.253</td>\n",
       "      <td>0.272</td>\n",
       "      <td>-0.072</td>\n",
       "      <td>0.001</td>\n",
       "      <td>0.258</td>\n",
       "    </tr>\n",
       "    <tr>\n",
       "      <th>3</th>\n",
       "      <td>2710</td>\n",
       "      <td>989</td>\n",
       "      <td>0.243</td>\n",
       "      <td>0.236</td>\n",
       "      <td>0.029</td>\n",
       "      <td>0.000</td>\n",
       "      <td>0.241</td>\n",
       "    </tr>\n",
       "    <tr>\n",
       "      <th>4</th>\n",
       "      <td>3083</td>\n",
       "      <td>978</td>\n",
       "      <td>0.276</td>\n",
       "      <td>0.233</td>\n",
       "      <td>0.169</td>\n",
       "      <td>0.007</td>\n",
       "      <td>0.264</td>\n",
       "    </tr>\n",
       "  </tbody>\n",
       "</table>\n",
       "</div>"
      ],
      "text/plain": [
       "         Not-event  Event  % Not-event  % Event    WoE    IV  share_bin\n",
       "age_cat                                                                \n",
       "1             2551   1084        0.228    0.259 -0.127 0.004      0.237\n",
       "2             2828   1140        0.253    0.272 -0.072 0.001      0.258\n",
       "3             2710    989        0.243    0.236  0.029 0.000      0.241\n",
       "4             3083    978        0.276    0.233  0.169 0.007      0.264"
      ]
     },
     "execution_count": 83,
     "metadata": {},
     "output_type": "execute_result"
    }
   ],
   "source": [
    "WoE_categorial(data, 'age_cat')"
   ]
  },
  {
   "cell_type": "code",
   "execution_count": 84,
   "id": "3d57c88a",
   "metadata": {},
   "outputs": [
    {
     "data": {
      "text/plain": [
       "0.012"
      ]
     },
     "execution_count": 84,
     "metadata": {},
     "output_type": "execute_result"
    }
   ],
   "source": [
    "WoE_categorial(data, 'age_cat')['IV'].sum()"
   ]
  },
  {
   "cell_type": "markdown",
   "id": "cb4d4f05",
   "metadata": {},
   "source": [
    "# Глобальные переменные"
   ]
  },
  {
   "cell_type": "code",
   "execution_count": 85,
   "id": "0b1d87f2",
   "metadata": {},
   "outputs": [],
   "source": [
    "dt_sample = '2021-01-29'"
   ]
  },
  {
   "cell_type": "code",
   "execution_count": 86,
   "id": "6ea3b3dc",
   "metadata": {},
   "outputs": [],
   "source": [
    "target = 'fpd5_flg'"
   ]
  },
  {
   "cell_type": "code",
   "execution_count": 87,
   "id": "31620dac",
   "metadata": {},
   "outputs": [],
   "source": [
    "X_list = ['gender', 'device_cat', 'salary_cat', 'disbursment_type_cat']"
   ]
  },
  {
   "cell_type": "code",
   "execution_count": 88,
   "id": "d1153f7d",
   "metadata": {},
   "outputs": [
    {
     "data": {
      "text/plain": [
       "Index(['fpd5_flg', 'dt', 'gender', 'device_quaility_index', 'behavioral_index',\n",
       "       'type_of_document', 'age', 'email_domain_formatted', 'social_status',\n",
       "       'salary', 'disbursment_type', 'os', 'email_index', 'salary_cat',\n",
       "       'age_cat', 'device_cat', 'disbursment_type_cat'],\n",
       "      dtype='object')"
      ]
     },
     "execution_count": 88,
     "metadata": {},
     "output_type": "execute_result"
    }
   ],
   "source": [
    "data.columns"
   ]
  },
  {
   "cell_type": "code",
   "execution_count": 89,
   "id": "4edb0c29",
   "metadata": {},
   "outputs": [],
   "source": [
    "# Удаляем пропуски\n",
    "# data = data.dropna()"
   ]
  },
  {
   "cell_type": "markdown",
   "id": "ef815fd6",
   "metadata": {},
   "source": [
    "# Корреляция"
   ]
  },
  {
   "cell_type": "code",
   "execution_count": 90,
   "id": "fe73c08c",
   "metadata": {},
   "outputs": [
    {
     "data": {
      "text/html": [
       "<div>\n",
       "<style scoped>\n",
       "    .dataframe tbody tr th:only-of-type {\n",
       "        vertical-align: middle;\n",
       "    }\n",
       "\n",
       "    .dataframe tbody tr th {\n",
       "        vertical-align: top;\n",
       "    }\n",
       "\n",
       "    .dataframe thead th {\n",
       "        text-align: right;\n",
       "    }\n",
       "</style>\n",
       "<table border=\"1\" class=\"dataframe\">\n",
       "  <thead>\n",
       "    <tr style=\"text-align: right;\">\n",
       "      <th></th>\n",
       "      <th>gender</th>\n",
       "      <th>device_cat</th>\n",
       "      <th>salary_cat</th>\n",
       "      <th>disbursment_type_cat</th>\n",
       "    </tr>\n",
       "  </thead>\n",
       "  <tbody>\n",
       "    <tr>\n",
       "      <th>gender</th>\n",
       "      <td>1.000</td>\n",
       "      <td>-0.049</td>\n",
       "      <td>-0.070</td>\n",
       "      <td>-0.042</td>\n",
       "    </tr>\n",
       "    <tr>\n",
       "      <th>device_cat</th>\n",
       "      <td>-0.049</td>\n",
       "      <td>1.000</td>\n",
       "      <td>0.179</td>\n",
       "      <td>0.188</td>\n",
       "    </tr>\n",
       "    <tr>\n",
       "      <th>salary_cat</th>\n",
       "      <td>-0.070</td>\n",
       "      <td>0.179</td>\n",
       "      <td>1.000</td>\n",
       "      <td>0.161</td>\n",
       "    </tr>\n",
       "    <tr>\n",
       "      <th>disbursment_type_cat</th>\n",
       "      <td>-0.042</td>\n",
       "      <td>0.188</td>\n",
       "      <td>0.161</td>\n",
       "      <td>1.000</td>\n",
       "    </tr>\n",
       "  </tbody>\n",
       "</table>\n",
       "</div>"
      ],
      "text/plain": [
       "                      gender  device_cat  salary_cat  disbursment_type_cat\n",
       "gender                 1.000      -0.049      -0.070                -0.042\n",
       "device_cat            -0.049       1.000       0.179                 0.188\n",
       "salary_cat            -0.070       0.179       1.000                 0.161\n",
       "disbursment_type_cat  -0.042       0.188       0.161                 1.000"
      ]
     },
     "execution_count": 90,
     "metadata": {},
     "output_type": "execute_result"
    }
   ],
   "source": [
    "data[X_list].corr()"
   ]
  },
  {
   "cell_type": "code",
   "execution_count": 91,
   "id": "18a4c547",
   "metadata": {},
   "outputs": [],
   "source": [
    "# Корреляция между переменными минимальна!"
   ]
  },
  {
   "cell_type": "markdown",
   "id": "5756dcea",
   "metadata": {},
   "source": [
    "# Разбиваем на in-sample / out-sample"
   ]
  },
  {
   "cell_type": "code",
   "execution_count": 92,
   "id": "504ebafb",
   "metadata": {},
   "outputs": [],
   "source": [
    "data_in_sample = data[data['dt'] <= dt_sample]\n",
    "data_out_sample = data[data['dt'] > dt_sample]"
   ]
  },
  {
   "cell_type": "code",
   "execution_count": 93,
   "id": "4226a054",
   "metadata": {},
   "outputs": [
    {
     "data": {
      "text/plain": [
       "(13977, 17)"
      ]
     },
     "execution_count": 93,
     "metadata": {},
     "output_type": "execute_result"
    }
   ],
   "source": [
    "data_in_sample.shape"
   ]
  },
  {
   "cell_type": "code",
   "execution_count": 94,
   "id": "aec66060",
   "metadata": {},
   "outputs": [
    {
     "data": {
      "text/plain": [
       "(1386, 17)"
      ]
     },
     "execution_count": 94,
     "metadata": {},
     "output_type": "execute_result"
    }
   ],
   "source": [
    "data_out_sample.shape"
   ]
  },
  {
   "cell_type": "code",
   "execution_count": 95,
   "id": "783fce97",
   "metadata": {},
   "outputs": [],
   "source": [
    "X_out = data_out_sample[X_list]\n",
    "Y_out = data_out_sample[target]"
   ]
  },
  {
   "cell_type": "markdown",
   "id": "51ccbb66",
   "metadata": {},
   "source": [
    "# Разбиваем на train/test"
   ]
  },
  {
   "cell_type": "code",
   "execution_count": 96,
   "id": "f3d99b5f",
   "metadata": {},
   "outputs": [],
   "source": [
    "X = data_in_sample[X_list]\n",
    "Y = data_in_sample[target]"
   ]
  },
  {
   "cell_type": "code",
   "execution_count": 97,
   "id": "d7bbb650",
   "metadata": {},
   "outputs": [],
   "source": [
    "X_train, X_test, Y_train, Y_test = train_test_split(X, Y, test_size=0.2, random_state=42)"
   ]
  },
  {
   "cell_type": "markdown",
   "id": "21cfbc2c",
   "metadata": {},
   "source": [
    "# Создаем модель"
   ]
  },
  {
   "cell_type": "code",
   "execution_count": 98,
   "id": "81b3bd6f",
   "metadata": {},
   "outputs": [],
   "source": [
    "import statsmodels.api as sm\n",
    "model=sm.Logit(Y_train , X_train)"
   ]
  },
  {
   "cell_type": "code",
   "execution_count": 99,
   "id": "a8d42303",
   "metadata": {},
   "outputs": [
    {
     "name": "stdout",
     "output_type": "stream",
     "text": [
      "Optimization terminated successfully.\n",
      "         Current function value: 0.571988\n",
      "         Iterations 5\n",
      "                           Results: Logit\n",
      "=====================================================================\n",
      "Model:                Logit             Pseudo R-squared:  0.022     \n",
      "Dependent Variable:   fpd5_flg          AIC:               12798.7935\n",
      "Date:                 2022-03-13 22:21  BIC:               12828.0813\n",
      "No. Observations:     11181             Log-Likelihood:    -6395.4   \n",
      "Df Model:             3                 LL-Null:           -6537.4   \n",
      "Df Residuals:         11177             LLR p-value:       2.8727e-61\n",
      "Converged:            1.0000            Scale:             1.0000    \n",
      "No. Iterations:       5.0000                                         \n",
      "---------------------------------------------------------------------\n",
      "                      Coef.  Std.Err.    z     P>|z|   [0.025  0.975]\n",
      "---------------------------------------------------------------------\n",
      "gender               -0.2126   0.0415  -5.1205 0.0000 -0.2939 -0.1312\n",
      "device_cat           -0.0185   0.0174  -1.0626 0.2880 -0.0526  0.0156\n",
      "salary_cat           -0.0162   0.0150  -1.0781 0.2810 -0.0457  0.0133\n",
      "disbursment_type_cat -0.4983   0.0375 -13.2710 0.0000 -0.5719 -0.4247\n",
      "=====================================================================\n",
      "\n"
     ]
    }
   ],
   "source": [
    "result=model.fit()\n",
    "print(result.summary2())"
   ]
  },
  {
   "cell_type": "code",
   "execution_count": 100,
   "id": "3ac1ec36",
   "metadata": {},
   "outputs": [
    {
     "data": {
      "text/plain": [
       "LogisticRegression(C=10.0, solver='liblinear')"
      ]
     },
     "execution_count": 100,
     "metadata": {},
     "output_type": "execute_result"
    }
   ],
   "source": [
    "logreg = LogisticRegression(solver='liblinear', C=10.0)\n",
    "logreg.fit(X_train, Y_train)"
   ]
  },
  {
   "cell_type": "markdown",
   "id": "43763a9d",
   "metadata": {},
   "source": [
    "# Метрики качества модели"
   ]
  },
  {
   "cell_type": "code",
   "execution_count": 101,
   "id": "173df121",
   "metadata": {},
   "outputs": [],
   "source": [
    "y_pred_proba_test = logreg.predict_proba(X_test) # прогноз на тесте\n",
    "y_pred_proba_train = logreg.predict_proba(X_train) # прогноз на train\n",
    "y_pred_proba_out = logreg.predict_proba(X_out) # прогноз на out_sample"
   ]
  },
  {
   "cell_type": "code",
   "execution_count": 102,
   "id": "c53f5597",
   "metadata": {},
   "outputs": [],
   "source": [
    "# Функция для получения предсказаний модели по заданному порогу\n",
    "def pred_cutoff(tr, pred_proba):\n",
    "    y_pred = np.zeros(shape = (len(pred_proba)))\n",
    "    for i in range(len(pred_proba)):\n",
    "        if pred_proba[i][1] >= tr:\n",
    "            y_pred[i] = 1\n",
    "        else:\n",
    "            y_pred[i] = 0\n",
    "    return y_pred"
   ]
  },
  {
   "cell_type": "code",
   "execution_count": 103,
   "id": "fde4d461",
   "metadata": {},
   "outputs": [
    {
     "name": "stdout",
     "output_type": "stream",
     "text": [
      "      Тестовая выборка\n",
      "Threshold: 0.05 AUC: 0.5\n",
      "Threshold: 0.1 AUC: 0.5\n",
      "Threshold: 0.15 AUC: 0.5\n",
      "Threshold: 0.2 AUC: 0.548\n",
      "Threshold: 0.25 AUC: 0.599\n",
      "Threshold: 0.3 AUC: 0.581\n",
      "Threshold: 0.35 AUC: 0.565\n",
      "Threshold: 0.4 AUC: 0.523\n",
      "Threshold: 0.45 AUC: 0.5\n",
      "Threshold: 0.5 AUC: 0.5\n"
     ]
    }
   ],
   "source": [
    "print(5 * ' ', 'Тестовая выборка')\n",
    "for t in (0.05, 0.1, 0.15, 0.2, 0.25, 0.3, 0.35, 0.4, 0.45, 0.5):\n",
    "    y_pred_test = pred_cutoff(t, y_pred_proba_test)\n",
    "    print('Threshold:', t , 'AUC:', round(roc_auc_score(Y_test, y_pred_test), 3))"
   ]
  },
  {
   "cell_type": "code",
   "execution_count": 104,
   "id": "411c8198",
   "metadata": {},
   "outputs": [
    {
     "name": "stdout",
     "output_type": "stream",
     "text": [
      "Threshold: 0.05 AUC: 0.5\n",
      "Threshold: 0.1 AUC: 0.5\n",
      "Threshold: 0.15 AUC: 0.5\n",
      "Threshold: 0.2 AUC: 0.557\n",
      "Threshold: 0.25 AUC: 0.576\n",
      "Threshold: 0.3 AUC: 0.567\n",
      "Threshold: 0.35 AUC: 0.553\n",
      "Threshold: 0.4 AUC: 0.52\n",
      "Threshold: 0.45 AUC: 0.498\n",
      "Threshold: 0.5 AUC: 0.5\n"
     ]
    }
   ],
   "source": [
    "for t in (0.05, 0.1, 0.15, 0.2, 0.25, 0.3, 0.35, 0.4, 0.45, 0.5):\n",
    "    y_pred_out = pred_cutoff(t, y_pred_proba_out)\n",
    "    print('Threshold:', t , 'AUC:', round(roc_auc_score(Y_out, y_pred_out), 3))"
   ]
  },
  {
   "cell_type": "code",
   "execution_count": 105,
   "id": "1bc90853",
   "metadata": {},
   "outputs": [
    {
     "name": "stdout",
     "output_type": "stream",
     "text": [
      "Threshold: 0.05 AUC: 0.5\n",
      "Threshold: 0.1 AUC: 0.5\n",
      "Threshold: 0.15 AUC: 0.5\n",
      "Threshold: 0.2 AUC: 0.545\n",
      "Threshold: 0.25 AUC: 0.579\n",
      "Threshold: 0.3 AUC: 0.582\n",
      "Threshold: 0.35 AUC: 0.562\n",
      "Threshold: 0.4 AUC: 0.516\n",
      "Threshold: 0.45 AUC: 0.501\n",
      "Threshold: 0.5 AUC: 0.5\n"
     ]
    }
   ],
   "source": [
    "for t in (0.05, 0.1, 0.15, 0.2, 0.25, 0.3, 0.35, 0.4, 0.45, 0.5):\n",
    "    y_pred_train = pred_cutoff(t, y_pred_proba_train)\n",
    "    print('Threshold:', t , 'AUC:', round(roc_auc_score(Y_train, y_pred_train), 3))"
   ]
  },
  {
   "cell_type": "code",
   "execution_count": 106,
   "id": "8f18b99b",
   "metadata": {},
   "outputs": [],
   "source": [
    "# precision/recall. Threshold - 0.25"
   ]
  },
  {
   "cell_type": "code",
   "execution_count": 107,
   "id": "545789b7",
   "metadata": {},
   "outputs": [],
   "source": [
    "y_pred_train = pred_cutoff(0.25, y_pred_proba_train)\n",
    "y_pred_test = pred_cutoff(0.25, y_pred_proba_test)\n",
    "y_pred_out = pred_cutoff(0.25, y_pred_proba_out)"
   ]
  },
  {
   "cell_type": "code",
   "execution_count": 116,
   "id": "2fd58ba5",
   "metadata": {},
   "outputs": [
    {
     "name": "stdout",
     "output_type": "stream",
     "text": [
      "                     Обучающая выборка\n",
      "              precision    recall  f1-score   support\n",
      "\n",
      "           0       0.79      0.54      0.65      8146\n",
      "           1       0.33      0.61      0.43      3035\n",
      "\n",
      "    accuracy                           0.56     11181\n",
      "   macro avg       0.56      0.58      0.54     11181\n",
      "weighted avg       0.67      0.56      0.59     11181\n",
      "\n"
     ]
    }
   ],
   "source": [
    "print(20 * ' ', 'Обучающая выборка')\n",
    "print(classification_report(Y_train, y_pred_train))"
   ]
  },
  {
   "cell_type": "code",
   "execution_count": 117,
   "id": "800a812e",
   "metadata": {},
   "outputs": [
    {
     "name": "stdout",
     "output_type": "stream",
     "text": [
      "                     Тестовая выборка\n",
      "              precision    recall  f1-score   support\n",
      "\n",
      "           0       0.81      0.56      0.66      2039\n",
      "           1       0.35      0.64      0.45       757\n",
      "\n",
      "    accuracy                           0.58      2796\n",
      "   macro avg       0.58      0.60      0.56      2796\n",
      "weighted avg       0.68      0.58      0.60      2796\n",
      "\n"
     ]
    }
   ],
   "source": [
    "print(20 * ' ', 'Тестовая выборка')\n",
    "print(classification_report(Y_test, y_pred_test))"
   ]
  },
  {
   "cell_type": "code",
   "execution_count": 110,
   "id": "3498768d",
   "metadata": {
    "scrolled": true
   },
   "outputs": [
    {
     "name": "stdout",
     "output_type": "stream",
     "text": [
      "              precision    recall  f1-score   support\n",
      "\n",
      "           0       0.78      0.51      0.62       987\n",
      "           1       0.35      0.64      0.45       399\n",
      "\n",
      "    accuracy                           0.55      1386\n",
      "   macro avg       0.56      0.58      0.53      1386\n",
      "weighted avg       0.65      0.55      0.57      1386\n",
      "\n"
     ]
    }
   ],
   "source": [
    "print(classification_report(Y_out, y_pred_out))"
   ]
  },
  {
   "cell_type": "code",
   "execution_count": 111,
   "id": "4660a5b4",
   "metadata": {},
   "outputs": [],
   "source": [
    "# Вывод: Модель стабильна и не деградирует на test и на out-sample"
   ]
  },
  {
   "cell_type": "code",
   "execution_count": 112,
   "id": "c8822fca",
   "metadata": {},
   "outputs": [
    {
     "data": {
      "text/plain": [
       "0.5990616919864492"
      ]
     },
     "execution_count": 112,
     "metadata": {},
     "output_type": "execute_result"
    }
   ],
   "source": [
    "model_roc_auc = roc_auc_score(Y_test, y_pred_test)\n",
    "model_roc_auc"
   ]
  },
  {
   "cell_type": "code",
   "execution_count": 113,
   "id": "57c73eea",
   "metadata": {},
   "outputs": [
    {
     "data": {
      "text/plain": [
       "0.5761211539487016"
      ]
     },
     "execution_count": 113,
     "metadata": {},
     "output_type": "execute_result"
    }
   ],
   "source": [
    "model_roc_auc = roc_auc_score(Y_out, y_pred_out)\n",
    "model_roc_auc"
   ]
  },
  {
   "cell_type": "code",
   "execution_count": 114,
   "id": "f098bf11",
   "metadata": {},
   "outputs": [
    {
     "name": "stdout",
     "output_type": "stream",
     "text": [
      "[[1142  897]\n",
      " [ 274  483]]\n"
     ]
    }
   ],
   "source": [
    "confusion_matrix = confusion_matrix(Y_test, y_pred_test)\n",
    "print(confusion_matrix)"
   ]
  },
  {
   "cell_type": "code",
   "execution_count": 115,
   "id": "7e9346eb",
   "metadata": {},
   "outputs": [
    {
     "data": {
      "image/png": "[encoded data removed]",
      "text/plain": [
       "<Figure size 432x288 with 1 Axes>"
      ]
     },
     "metadata": {
      "needs_background": "light"
     },
     "output_type": "display_data"
    }
   ],
   "source": [
    "logit_roc_auc = roc_auc_score(Y_test, y_pred_test)\n",
    "fpr, tpr, thresholds = roc_curve(Y_test, logreg.predict_proba(X_test)[:,1])\n",
    "plt.figure()\n",
    "plt.plot(fpr, tpr, label='Logistic Regression (area = %0.2f)' % logit_roc_auc)\n",
    "plt.plot([0, 1], [0, 1],'r--')\n",
    "plt.xlim([0.0, 1.0])\n",
    "plt.ylim([0.0, 1.05])\n",
    "plt.xlabel('False Positive Rate')\n",
    "plt.ylabel('True Positive Rate')\n",
    "plt.title('Receiver operating characteristic')\n",
    "plt.legend(loc=\"lower right\")\n",
    "plt.savefig('Log_ROC')\n",
    "plt.show()"
   ]
  },
  {
   "cell_type": "markdown",
   "id": "780bd86b",
   "metadata": {},
   "source": [
    "# Предсказываю вероятности дефолта для всего файла"
   ]
  },
  {
   "cell_type": "code",
   "execution_count": 126,
   "id": "fa1271c9",
   "metadata": {},
   "outputs": [],
   "source": [
    "predict_proba_all = logreg.predict_proba(data[X_list])"
   ]
  },
  {
   "cell_type": "code",
   "execution_count": 127,
   "id": "9c96e91d",
   "metadata": {},
   "outputs": [],
   "source": [
    "predict_all = pred_cutoff(0.25, predict_proba_all)"
   ]
  },
  {
   "cell_type": "code",
   "execution_count": 128,
   "id": "38c8622a",
   "metadata": {
    "scrolled": true
   },
   "outputs": [],
   "source": [
    "data['predict_proba'] = predict_proba_all[:, 1]\n",
    "data['predict'] = predict_all"
   ]
  },
  {
   "cell_type": "code",
   "execution_count": 129,
   "id": "d2095227",
   "metadata": {},
   "outputs": [
    {
     "data": {
      "text/html": [
       "<div>\n",
       "<style scoped>\n",
       "    .dataframe tbody tr th:only-of-type {\n",
       "        vertical-align: middle;\n",
       "    }\n",
       "\n",
       "    .dataframe tbody tr th {\n",
       "        vertical-align: top;\n",
       "    }\n",
       "\n",
       "    .dataframe thead th {\n",
       "        text-align: right;\n",
       "    }\n",
       "</style>\n",
       "<table border=\"1\" class=\"dataframe\">\n",
       "  <thead>\n",
       "    <tr style=\"text-align: right;\">\n",
       "      <th></th>\n",
       "      <th>fpd5_flg</th>\n",
       "      <th>dt</th>\n",
       "      <th>gender</th>\n",
       "      <th>device_quaility_index</th>\n",
       "      <th>behavioral_index</th>\n",
       "      <th>type_of_document</th>\n",
       "      <th>age</th>\n",
       "      <th>email_domain_formatted</th>\n",
       "      <th>social_status</th>\n",
       "      <th>salary</th>\n",
       "      <th>disbursment_type</th>\n",
       "      <th>os</th>\n",
       "      <th>email_index</th>\n",
       "      <th>salary_cat</th>\n",
       "      <th>age_cat</th>\n",
       "      <th>device_cat</th>\n",
       "      <th>disbursment_type_cat</th>\n",
       "      <th>predict_proba</th>\n",
       "      <th>predict</th>\n",
       "    </tr>\n",
       "  </thead>\n",
       "  <tbody>\n",
       "    <tr>\n",
       "      <th>0</th>\n",
       "      <td>0</td>\n",
       "      <td>2021-01-22</td>\n",
       "      <td>0</td>\n",
       "      <td>NaN</td>\n",
       "      <td>NaN</td>\n",
       "      <td>UMID</td>\n",
       "      <td>26</td>\n",
       "      <td>GMAIL.COM</td>\n",
       "      <td>Private Company Employee</td>\n",
       "      <td>20000.000</td>\n",
       "      <td>Bank</td>\n",
       "      <td>Android</td>\n",
       "      <td>0.000</td>\n",
       "      <td>3</td>\n",
       "      <td>1</td>\n",
       "      <td>2</td>\n",
       "      <td>2</td>\n",
       "      <td>0.272</td>\n",
       "      <td>1.000</td>\n",
       "    </tr>\n",
       "    <tr>\n",
       "      <th>1</th>\n",
       "      <td>0</td>\n",
       "      <td>2020-12-14</td>\n",
       "      <td>1</td>\n",
       "      <td>3.000</td>\n",
       "      <td>4.000</td>\n",
       "      <td>UMID</td>\n",
       "      <td>32</td>\n",
       "      <td>GMAIL.COM</td>\n",
       "      <td>Other</td>\n",
       "      <td>18000.000</td>\n",
       "      <td>E-wallet</td>\n",
       "      <td>Android</td>\n",
       "      <td>1.000</td>\n",
       "      <td>2</td>\n",
       "      <td>2</td>\n",
       "      <td>4</td>\n",
       "      <td>1</td>\n",
       "      <td>0.316</td>\n",
       "      <td>1.000</td>\n",
       "    </tr>\n",
       "    <tr>\n",
       "      <th>2</th>\n",
       "      <td>1</td>\n",
       "      <td>2021-01-26</td>\n",
       "      <td>0</td>\n",
       "      <td>0.000</td>\n",
       "      <td>3.000</td>\n",
       "      <td>SSS</td>\n",
       "      <td>41</td>\n",
       "      <td>YAHOO.COM</td>\n",
       "      <td>Private Company Employee</td>\n",
       "      <td>14000.000</td>\n",
       "      <td>Bank</td>\n",
       "      <td>Android</td>\n",
       "      <td>1.000</td>\n",
       "      <td>1</td>\n",
       "      <td>4</td>\n",
       "      <td>1</td>\n",
       "      <td>2</td>\n",
       "      <td>0.306</td>\n",
       "      <td>1.000</td>\n",
       "    </tr>\n",
       "    <tr>\n",
       "      <th>3</th>\n",
       "      <td>1</td>\n",
       "      <td>2020-12-10</td>\n",
       "      <td>1</td>\n",
       "      <td>0.000</td>\n",
       "      <td>5.000</td>\n",
       "      <td>TIN</td>\n",
       "      <td>28</td>\n",
       "      <td>GMAIL.COM</td>\n",
       "      <td>BPO Professionals</td>\n",
       "      <td>40000.000</td>\n",
       "      <td>E-wallet</td>\n",
       "      <td>Android</td>\n",
       "      <td>1.000</td>\n",
       "      <td>5</td>\n",
       "      <td>2</td>\n",
       "      <td>1</td>\n",
       "      <td>1</td>\n",
       "      <td>0.342</td>\n",
       "      <td>1.000</td>\n",
       "    </tr>\n",
       "    <tr>\n",
       "      <th>4</th>\n",
       "      <td>1</td>\n",
       "      <td>2021-01-17</td>\n",
       "      <td>0</td>\n",
       "      <td>3.000</td>\n",
       "      <td>3.000</td>\n",
       "      <td>UMID</td>\n",
       "      <td>31</td>\n",
       "      <td>GMAIL.COM</td>\n",
       "      <td>BPO Professionals</td>\n",
       "      <td>25000.000</td>\n",
       "      <td>Bank</td>\n",
       "      <td>Android</td>\n",
       "      <td>0.000</td>\n",
       "      <td>3</td>\n",
       "      <td>2</td>\n",
       "      <td>4</td>\n",
       "      <td>2</td>\n",
       "      <td>0.240</td>\n",
       "      <td>0.000</td>\n",
       "    </tr>\n",
       "  </tbody>\n",
       "</table>\n",
       "</div>"
      ],
      "text/plain": [
       "   fpd5_flg          dt  gender  device_quaility_index  behavioral_index  \\\n",
       "0         0  2021-01-22       0                    NaN               NaN   \n",
       "1         0  2020-12-14       1                  3.000             4.000   \n",
       "2         1  2021-01-26       0                  0.000             3.000   \n",
       "3         1  2020-12-10       1                  0.000             5.000   \n",
       "4         1  2021-01-17       0                  3.000             3.000   \n",
       "\n",
       "  type_of_document  age email_domain_formatted             social_status  \\\n",
       "0             UMID   26              GMAIL.COM  Private Company Employee   \n",
       "1             UMID   32              GMAIL.COM                     Other   \n",
       "2              SSS   41              YAHOO.COM  Private Company Employee   \n",
       "3              TIN   28              GMAIL.COM         BPO Professionals   \n",
       "4             UMID   31              GMAIL.COM         BPO Professionals   \n",
       "\n",
       "     salary disbursment_type       os  email_index  salary_cat  age_cat  \\\n",
       "0 20000.000             Bank  Android        0.000           3        1   \n",
       "1 18000.000         E-wallet  Android        1.000           2        2   \n",
       "2 14000.000             Bank  Android        1.000           1        4   \n",
       "3 40000.000         E-wallet  Android        1.000           5        2   \n",
       "4 25000.000             Bank  Android        0.000           3        2   \n",
       "\n",
       "   device_cat  disbursment_type_cat  predict_proba  predict  \n",
       "0           2                     2          0.272    1.000  \n",
       "1           4                     1          0.316    1.000  \n",
       "2           1                     2          0.306    1.000  \n",
       "3           1                     1          0.342    1.000  \n",
       "4           4                     2          0.240    0.000  "
      ]
     },
     "execution_count": 129,
     "metadata": {},
     "output_type": "execute_result"
    }
   ],
   "source": [
    "data.head()"
   ]
  },
  {
   "cell_type": "code",
   "execution_count": 130,
   "id": "41381082",
   "metadata": {},
   "outputs": [],
   "source": [
    "# сохраняю результат\n",
    "data.to_excel('result.xlsx', index = False)"
   ]
  },
  {
   "cell_type": "code",
   "execution_count": 131,
   "id": "cb4854bf",
   "metadata": {},
   "outputs": [
    {
     "data": {
      "image/png": "[encoded data removed]",
      "text/plain": [
       "<Figure size 432x288 with 1 Axes>"
      ]
     },
     "metadata": {
      "needs_background": "light"
     },
     "output_type": "display_data"
    }
   ],
   "source": [
    "plt.hist(data['predict_proba'], bins = 50, range = (0, 0.6))\n",
    "plt.title('predict_proba')\n",
    "plt.ylabel('Frequency')\n",
    "plt.show()"
   ]
  },
  {
   "cell_type": "code",
   "execution_count": null,
   "id": "863e140e",
   "metadata": {},
   "outputs": [],
   "source": []
  }
 ],
 "metadata": {
  "kernelspec": {
   "display_name": "Python 3 (ipykernel)",
   "language": "python",
   "name": "python3"
  },
  "language_info": {
   "codemirror_mode": {
    "name": "ipython",
    "version": 3
   },
   "file_extension": ".py",
   "mimetype": "text/x-python",
   "name": "python",
   "nbconvert_exporter": "python",
   "pygments_lexer": "ipython3",
   "version": "3.9.7"
  },
  "toc": {
   "base_numbering": 1,
   "nav_menu": {},
   "number_sections": true,
   "sideBar": true,
   "skip_h1_title": false,
   "title_cell": "Table of Contents",
   "title_sidebar": "Contents",
   "toc_cell": false,
   "toc_position": {},
   "toc_section_display": true,
   "toc_window_display": true
  },
  "varInspector": {
   "cols": {
    "lenName": 16,
    "lenType": 16,
    "lenVar": 40
   },
   "kernels_config": {
    "python": {
     "delete_cmd_postfix": "",
     "delete_cmd_prefix": "del ",
     "library": "var_list.py",
     "varRefreshCmd": "print(var_dic_list())"
    },
    "r": {
     "delete_cmd_postfix": ") ",
     "delete_cmd_prefix": "rm(",
     "library": "var_list.r",
     "varRefreshCmd": "cat(var_dic_list()) "
    }
   },
   "types_to_exclude": [
    "module",
    "function",
    "builtin_function_or_method",
    "instance",
    "_Feature"
   ],
   "window_display": false
  }
 },
 "nbformat": 4,
 "nbformat_minor": 5
}
